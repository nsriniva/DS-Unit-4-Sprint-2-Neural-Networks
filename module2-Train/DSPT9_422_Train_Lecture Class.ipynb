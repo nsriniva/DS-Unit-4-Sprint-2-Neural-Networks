{
 "cells": [
  {
   "cell_type": "markdown",
   "metadata": {
    "id": "aS4GZ37Wgcjr"
   },
   "source": [
    "Lambda School Data Science\n",
    "\n",
    "*Unit 4, Sprint 2, Module 2*\n",
    "\n",
    "---"
   ]
  },
  {
   "cell_type": "markdown",
   "metadata": {
    "id": "etFf1WLWgcjt"
   },
   "source": [
    "# Train (Prepare)\n",
    "__*Neural Network Foundations*__"
   ]
  },
  {
   "cell_type": "markdown",
   "metadata": {
    "id": "hXB80QOhgcju"
   },
   "source": [
    "## Learning Objectives\n",
    "* <a href=\"#p1\">Part 1</a>: Student should be able to explain the intuition behind backpropagation and gradient descent\n",
    "* <a href=\"#p2\">Part 2</a>: Student should be able to discuss the importance of batch size\n",
    "* <a href=\"#p3\">Part 3</a>: Student should be able to discuss the importance of learning rate"
   ]
  },
  {
   "cell_type": "markdown",
   "metadata": {
    "id": "8YuQu2lfgcju"
   },
   "source": [
    "## Recap of Previous Episode\n",
    "\n",
    "Last lecture, we learned about some of the principal components of Neural Networks: Neurons, Weights, Activation Functions, and layers (input, output, & hidden). Today, we will reinforce our understanding of those components and introduce the mechanics of training a neural network. Feed-forward neural networks, such as multi-layer perceptrons (MLPs), are almost always trained using some variation of gradient descent where the gradient has been calculated by backpropagation.\n",
    "\n",
    "  <center><img src=\"https://raw.githubusercontent.com/LambdaSchool/DS-Unit-4-Sprint-2-Neural-Networks/main/module1-Architect/IMG_0167.jpeg\" width=400></center>\n",
    "\n",
    "- There are three kinds of layers: input, hidden, and output layers.\n",
    "- Each layer is made up of **n** individual neurons (aka activation units) which have a corresponding weight and bias.\n",
    "- Signal is passed from layer to layer through a network by:\n",
    " - Taking in inputs from the training data (or previous layer)\n",
    " - Multiplying each input by its corresponding weight (think arrow/connecting line)\n",
    " - Adding a bias to this weighted some of inputs and weights\n",
    " - Activating this weighted sum + bias by squishifying it with sigmoid or some other activation function. With a single perceptron with three inputs, calculating the output from the node is done like so:\n",
    "\\begin{align}\n",
    " y = sigmoid(\\sum(weight_{1}input_{1} + weight_{2}input_{2} + weight_{3}input_{3}) + bias)\n",
    "\\end{align}\n",
    " - this final activated value is the signal that gets passed onto the next layer of the network.\n",
    " "
   ]
  },
  {
   "cell_type": "markdown",
   "metadata": {
    "id": "I0tbFOnLkVj8"
   },
   "source": [
    "#### *Record of the price guess game*:\n",
    "\n"
   ]
  },
  {
   "cell_type": "markdown",
   "metadata": {
    "id": "bpi4R03rgcjv"
   },
   "source": [
    "# Training a Neural Network: **Trial and Error**\n",
    "*Formal Summary*\n",
    "\n",
    "0. Pick a network architecture\n",
    "   - No. of input units = No. of features\n",
    "   - No. of output units = Number of Classes (or expected targets)\n",
    "   - Select the number of hidden layers and number of neurons within each hidden layer\n",
    "1. Randomly **initialize weights**\n",
    "2. Implement **forward propagation** to get $h_{\\theta}(x^{(i)})$ for any $x^{(i)}$\n",
    "3. Implement code to compute a **cost function** $J(\\theta)$\n",
    "4. Implement **backpropagation** to compute partial derivatives $\\frac{\\delta}{\\delta\\theta_{jk}^{l}}{J(\\theta)}$\n",
    "5. Use **gradient descent** (or other advanced optimizer) with backpropagation to minimize $J(\\theta)$ as a function of parameters $\\theta\\$\n",
    "6. Repeat steps 2 - 5 until cost function is 'minimized' or some other stopping criteria is met. One pass over steps 2 - 5 is called an iteration or epoch."
   ]
  },
  {
   "cell_type": "markdown",
   "metadata": {
    "id": "aM4CK1IarId4"
   },
   "source": [
    "# Backpropagation & Gradient Descent (Learn)\n",
    "<a id=\"p1\"></a>"
   ]
  },
  {
   "cell_type": "markdown",
   "metadata": {
    "id": "Ktm8Fmoagcjy"
   },
   "source": [
    "## What is Backpropagation\n",
    "\n",
    "Backpropagation is short for [\"Backwards Propagation of errors\"](https://en.wikipedia.org/wiki/Backpropagation) and refers to a specific (rather calculus intensive) algorithm for how weights in a neural network are updated in reverse order at the end of each training epoch. Our purpose today is to demonstrate the backpropagation algorithm on a simple Feedforward Neural Network and in so doing help you get a grasp on the main process. If you want to understand all of the underlying calculus of how the gradients are calculated then you'll need to dive into it yourself, [3Blue1Brown's video is a great starting place](https://www.youtube.com/watch?v=tIeHLnjs5U8). I also highly recommend this Welch Labs series [Neural Networks Demystified](https://www.youtube.com/watch?v=bxe2T-V8XRs) if you want a rapid yet orderly walk through of the main intuitions and math behind the backpropagation algorithm. "
   ]
  },
  {
   "cell_type": "markdown",
   "metadata": {
    "id": "NXI2tEO9gcjy"
   },
   "source": [
    "### What is a Gradient?\n",
    "\n",
    "> In vector calculus, the gradient is a multi-variable generalization of the derivative. \n",
    "\n",
    "The gradients that we will deal with today will be vector representations of the derivative of the activation function. "
   ]
  },
  {
   "cell_type": "markdown",
   "metadata": {
    "id": "viPEB9f1OpZo"
   },
   "source": [
    "### Gradient Descent Formula \n",
    "This is a general formula for standard Gradient Descent. \n",
    "![](https://media.geeksforgeeks.org/wp-content/uploads/20200611183120/1406-7.png)\n",
    "\n",
    "There are more sophisticated versions of gradient descent commonly referred to as [**Adaptive Gradient Descent**](https://ruder.io/optimizing-gradient-descent/). \n",
    "\n",
    "\n",
    "These adaptive models all build off of this simple equation, so it's best to first understand the standard form of Gradient Descent, then move on to more sophisticated versions. "
   ]
  },
  {
   "cell_type": "markdown",
   "metadata": {
    "id": "IejSNgcBOpZq"
   },
   "source": [
    "### Geometry of Gradient Descent \n",
    "\n",
    "\n",
    "\n",
    "<center><img src=\"https://i.stack.imgur.com/yk1mk.png\" width=600></center>"
   ]
  },
  {
   "cell_type": "markdown",
   "metadata": {
    "id": "Ss12RN2OOpZq"
   },
   "source": [
    "## Convex vs. Non-Convex\n",
    "\n",
    "Loss curves won't always have a single minimum point for gradient descent to converge towards. Sometimes there are multiple minimums. \n",
    "\n",
    "**Global Minimum:** The absolute minimum location of a curve (or surface). \n",
    "\n",
    "**Local Minimum:** The local minimum location of a curve (or surface). \n",
    "\n",
    "### In 2-Dimensions\n",
    "![](https://lh3.googleusercontent.com/o0J1qW2PhvrgsPbYzKgnuNGDyjZF7wug3OBwDPwY5LXD0Vjg3t3otN6ecZ64K8J62sNonpvZxzKTs0pMr9YniDUmQC5J-IFXmSNvRJTbxr9kyAfNP-_A7HdC8hEa9x1dDgnf9jSp)\n",
    "\n",
    "\n",
    "### In 3-Dimensions \n",
    "In Calculus, those ambiguous points that take on the form of both local mins and local maxs are known as [**Saddle points**](https://en.wikipedia.org/wiki/Saddle_point). It's not necessary to dive into the mathematics, the key take away is that non-convex error curves (and surfaces) have this global/local minimum issue. \n",
    "\n",
    "![](https://www.oreilly.com/radar/wp-content/uploads/sites/3/2019/06/convex-non-convex-9c8cb9320d4b0392c5f67004e8832e85.jpg)\n",
    "\n",
    "\n",
    "**Take Away:** The issue is that you might think that gradient descent has converged toward a global minimum but it might actually be stuck in a local minimum. \n",
    "\n",
    "There are at least 2 possible solutions to this problem: \n",
    "\n",
    "1) Use different appraoches to randomly initalizing your model weights\n",
    "For this check out [Keras's docs on Weight Initializers](https://keras.io/api/layers/initializers/). Treat these weight initializers as just another hyper-parameter to include in your gridsearch. It's a good idea to get into the practice of including these in your gridsearches. \n",
    "\n",
    "\n",
    "2) Use non-gradient descent optimizers such as [Particle Swarm](https://en.wikipedia.org/wiki/Particle_swarm_optimization) or [Genetic Algorithms](https://en.wikipedia.org/wiki/Genetic_algorithm). Feel free to read up on these appraoches but know that **you are not expected to know these appraoches** and they are outside the scope of this course. "
   ]
  },
  {
   "cell_type": "markdown",
   "metadata": {
    "id": "UZY66kiUgcjz"
   },
   "source": [
    "## Follow Along\n",
    "\n",
    "In this section, we will again a simple neural network using base TensorFlow. We'll focus on using a __Feed Forward Neural Network__ to predict test scores. "
   ]
  },
  {
   "cell_type": "markdown",
   "metadata": {
    "id": "4d4tzpwO6B47"
   },
   "source": [
    "### Generate some Fake Data (**For Experimenting the process**)"
   ]
  },
  {
   "cell_type": "code",
   "execution_count": 1,
   "metadata": {
    "executionInfo": {
     "elapsed": 7019,
     "status": "ok",
     "timestamp": 1616722256083,
     "user": {
      "displayName": "Brian Hu",
      "photoUrl": "https://lh3.googleusercontent.com/a-/AOh14Gg9C2hp-ML87Vme0BJw6zcKYZK-PtGb0Cpg1J1S=s64",
      "userId": "16141489273393480079"
     },
     "user_tz": 300
    },
    "id": "ERyVgeO_IWyV"
   },
   "outputs": [],
   "source": [
    "import tensorflow as tf\n",
    "\n",
    "# Imagine that our data is drawn from a linear function\n",
    "# y = 3.5*hours_studying + 50\n",
    "\n",
    "TRUE_W = 3.5\n",
    "TRUE_b = 50.0\n",
    "NUM_EXAMPLES = 1000\n",
    "\n",
    "inputs = tf.random.normal(shape=[NUM_EXAMPLES])\n",
    "noise = tf.random.normal(shape=[NUM_EXAMPLES])\n",
    "\n",
    "outputs = inputs * TRUE_W + TRUE_b + noise"
   ]
  },
  {
   "cell_type": "markdown",
   "metadata": {
    "id": "bCJesGEUgcj4"
   },
   "source": [
    "### Loss Function\n",
    "Here we will use Mean Squared Error (MSE), because this is a regression problem. We are trying to predict a continuous target."
   ]
  },
  {
   "cell_type": "code",
   "execution_count": 2,
   "metadata": {
    "executionInfo": {
     "elapsed": 7018,
     "status": "ok",
     "timestamp": 1616722256086,
     "user": {
      "displayName": "Brian Hu",
      "photoUrl": "https://lh3.googleusercontent.com/a-/AOh14Gg9C2hp-ML87Vme0BJw6zcKYZK-PtGb0Cpg1J1S=s64",
      "userId": "16141489273393480079"
     },
     "user_tz": 300
    },
    "id": "cDeUBW6k4Ri4"
   },
   "outputs": [],
   "source": [
    "def loss(target_y, predicted_y):\n",
    "  \"MSE\"\n",
    "  return tf.reduce_mean(tf.square(target_y - predicted_y))"
   ]
  },
  {
   "cell_type": "markdown",
   "metadata": {
    "id": "bgTf6vTS69Sw"
   },
   "source": [
    "### Neural Network Architecture\n",
    "Lets create a Neural Network class called \"Model\" to contain this functionality. Note: This is essentially a linear regression whose coefficients are trained by gradient descent. In practice, gradient descent works on much more complex function like the multi-layer networks we constructed yesterday."
   ]
  },
  {
   "cell_type": "code",
   "execution_count": 3,
   "metadata": {
    "executionInfo": {
     "elapsed": 7016,
     "status": "ok",
     "timestamp": 1616722256086,
     "user": {
      "displayName": "Brian Hu",
      "photoUrl": "https://lh3.googleusercontent.com/a-/AOh14Gg9C2hp-ML87Vme0BJw6zcKYZK-PtGb0Cpg1J1S=s64",
      "userId": "16141489273393480079"
     },
     "user_tz": 300
    },
    "id": "RUI8VSR5zyBv"
   },
   "outputs": [],
   "source": [
    "class Model(object):\n",
    "\n",
    "  def __init__(self):\n",
    "    self.W = tf.Variable(8.0)\n",
    "    self.b = tf.Variable(40.0)\n",
    "\n",
    "  def __call__(self, x):\n",
    "    return self.W * x + self.b\n",
    "\n",
    "model = Model()\n",
    "\n",
    "assert model(3.0).numpy() == 64.0"
   ]
  },
  {
   "cell_type": "markdown",
   "metadata": {
    "id": "gbyT_FJ88IlK"
   },
   "source": [
    "### Initial Weights\n",
    "The initial weights in our model were arbitrary. In practice, weights are initialized randomly. "
   ]
  },
  {
   "cell_type": "code",
   "execution_count": 4,
   "metadata": {
    "colab": {
     "base_uri": "https://localhost:8080/",
     "height": 282
    },
    "executionInfo": {
     "elapsed": 7217,
     "status": "ok",
     "timestamp": 1616722256294,
     "user": {
      "displayName": "Brian Hu",
      "photoUrl": "https://lh3.googleusercontent.com/a-/AOh14Gg9C2hp-ML87Vme0BJw6zcKYZK-PtGb0Cpg1J1S=s64",
      "userId": "16141489273393480079"
     },
     "user_tz": 300
    },
    "id": "IreIDe6P8H0H",
    "outputId": "aed37eb8-da21-4fa8-c771-84d74be3505c"
   },
   "outputs": [
    {
     "data": {
      "image/png": "[encoded data removed]",
      "text/plain": [
       "<Figure size 432x288 with 1 Axes>"
      ]
     },
     "metadata": {
      "needs_background": "light"
     },
     "output_type": "display_data"
    },
    {
     "name": "stdout",
     "output_type": "stream",
     "text": [
      "Current loss: 122.563576\n"
     ]
    }
   ],
   "source": [
    "import matplotlib.pyplot as plt\n",
    "\n",
    "plt.scatter(inputs, outputs, c='b', label = 'actual')\n",
    "plt.scatter(inputs, model(inputs), c='r', label = 'model')\n",
    "plt.legend()\n",
    "plt.show()\n",
    "\n",
    "print('Current loss: %1.6f' % loss(model(inputs), outputs).numpy())"
   ]
  },
  {
   "cell_type": "markdown",
   "metadata": {
    "id": "16Ujj6vNYQyX"
   },
   "source": [
    "### Update Weights Based on Gradient\n",
    "\n",
    "> *Assigning blame for bad predictions and delivering justice - repeatedly and a little bit at a time*\n",
    "\n"
   ]
  },
  {
   "cell_type": "code",
   "execution_count": 5,
   "metadata": {
    "executionInfo": {
     "elapsed": 7216,
     "status": "ok",
     "timestamp": 1616722256295,
     "user": {
      "displayName": "Brian Hu",
      "photoUrl": "https://lh3.googleusercontent.com/a-/AOh14Gg9C2hp-ML87Vme0BJw6zcKYZK-PtGb0Cpg1J1S=s64",
      "userId": "16141489273393480079"
     },
     "user_tz": 300
    },
    "id": "ZgaGD6YlHoid"
   },
   "outputs": [],
   "source": [
    " def train(model, inputs, outputs, learning_rate):\n",
    "  with tf.GradientTape() as t: \n",
    "     current_loss = loss(outputs, model(inputs))\n",
    "  dW, db = t.gradient(current_loss, [model.W, model.b])\n",
    "  model.W.assign_sub(learning_rate * dW)\n",
    "  model.b.assign_sub(learning_rate * db)"
   ]
  },
  {
   "cell_type": "markdown",
   "metadata": {
    "id": "7iziWWURgck8"
   },
   "source": [
    "### Train the Network"
   ]
  },
  {
   "cell_type": "code",
   "execution_count": 6,
   "metadata": {
    "colab": {
     "base_uri": "https://localhost:8080/"
    },
    "executionInfo": {
     "elapsed": 7365,
     "status": "ok",
     "timestamp": 1616722256449,
     "user": {
      "displayName": "Brian Hu",
      "photoUrl": "https://lh3.googleusercontent.com/a-/AOh14Gg9C2hp-ML87Vme0BJw6zcKYZK-PtGb0Cpg1J1S=s64",
      "userId": "16141489273393480079"
     },
     "user_tz": 300
    },
    "id": "4zn_HgFuHhTr",
    "outputId": "677a7fba-0aaa-4c17-fcbe-5b87ba5b6c77"
   },
   "outputs": [
    {
     "name": "stdout",
     "output_type": "stream",
     "text": [
      "Epoch  0: W=8.00 b=40.00 loss=122.56358\n",
      "Epoch  1: W=7.04 b=42.00 loss=78.41153\n",
      "Epoch  2: W=6.29 b=43.60 loss=50.30076\n",
      "Epoch  3: W=5.69 b=44.88 loss=32.40061\n",
      "Epoch  4: W=5.22 b=45.90 loss=21.00067\n",
      "Epoch  5: W=4.85 b=46.72 loss=13.73947\n",
      "Epoch  6: W=4.56 b=47.37 loss=9.11382\n",
      "Epoch  7: W=4.33 b=47.90 loss=6.16672\n",
      "Epoch  8: W=4.15 b=48.32 loss=4.28882\n",
      "Epoch  9: W=4.01 b=48.65 loss=3.09207\n",
      "Epoch 10: W=3.90 b=48.92 loss=2.32931\n",
      "Epoch 11: W=3.81 b=49.14 loss=1.84310\n",
      "Epoch 12: W=3.74 b=49.31 loss=1.53313\n",
      "Epoch 13: W=3.68 b=49.45 loss=1.33550\n",
      "Epoch 14: W=3.64 b=49.56 loss=1.20948\n",
      "Epoch 15: W=3.61 b=49.65 loss=1.12912\n",
      "Epoch 16: W=3.58 b=49.72 loss=1.07786\n",
      "Epoch 17: W=3.56 b=49.77 loss=1.04516\n",
      "Epoch 18: W=3.54 b=49.82 loss=1.02431\n",
      "Epoch 19: W=3.53 b=49.86 loss=1.01100\n"
     ]
    }
   ],
   "source": [
    "model = Model()\n",
    "\n",
    "# Store Some history of weights\n",
    "Ws, bs = [], []\n",
    "epochs = range(20)\n",
    "for epoch in epochs:\n",
    "  Ws.append(model.W.numpy())\n",
    "  bs.append(model.b.numpy())\n",
    "  current_loss = loss(outputs, model(inputs))\n",
    "\n",
    "  train(model, inputs, outputs, learning_rate=0.1)\n",
    "  print('Epoch %2d: W=%1.2f b=%1.2f loss=%2.5f' % (epoch, Ws[-1], bs[-1], current_loss))"
   ]
  },
  {
   "cell_type": "code",
   "execution_count": 7,
   "metadata": {
    "colab": {
     "base_uri": "https://localhost:8080/",
     "height": 265
    },
    "executionInfo": {
     "elapsed": 7469,
     "status": "ok",
     "timestamp": 1616722256559,
     "user": {
      "displayName": "Brian Hu",
      "photoUrl": "https://lh3.googleusercontent.com/a-/AOh14Gg9C2hp-ML87Vme0BJw6zcKYZK-PtGb0Cpg1J1S=s64",
      "userId": "16141489273393480079"
     },
     "user_tz": 300
    },
    "id": "FSEt07wdHvi2",
    "outputId": "bcc43cb4-69c0-471f-ba5c-78007265fe76"
   },
   "outputs": [
    {
     "data": {
      "image/png": "[encoded data removed]",
      "text/plain": [
       "<Figure size 432x288 with 1 Axes>"
      ]
     },
     "metadata": {
      "needs_background": "light"
     },
     "output_type": "display_data"
    }
   ],
   "source": [
    "import matplotlib.pyplot as plt\n",
    "\n",
    "plt.plot(epochs, Ws, 'r', epochs, bs, 'b')\n",
    "plt.plot([TRUE_W] * len(epochs), 'r--',\n",
    "         [TRUE_b] * len(epochs), 'b--')\n",
    "plt.legend(['W', 'b', 'True W', 'True b'])\n",
    "plt.show()"
   ]
  },
  {
   "cell_type": "code",
   "execution_count": 8,
   "metadata": {
    "colab": {
     "base_uri": "https://localhost:8080/",
     "height": 282
    },
    "executionInfo": {
     "elapsed": 7781,
     "status": "ok",
     "timestamp": 1616722256876,
     "user": {
      "displayName": "Brian Hu",
      "photoUrl": "https://lh3.googleusercontent.com/a-/AOh14Gg9C2hp-ML87Vme0BJw6zcKYZK-PtGb0Cpg1J1S=s64",
      "userId": "16141489273393480079"
     },
     "user_tz": 300
    },
    "id": "nh5Sw20PQxT6",
    "outputId": "2f21dfd1-eb2c-40cf-ce5a-3d509be8ca69"
   },
   "outputs": [
    {
     "data": {
      "image/png": "[encoded data removed]",
      "text/plain": [
       "<Figure size 432x288 with 1 Axes>"
      ]
     },
     "metadata": {
      "needs_background": "light"
     },
     "output_type": "display_data"
    },
    {
     "name": "stdout",
     "output_type": "stream",
     "text": [
      "Current loss: 1.002513\n"
     ]
    }
   ],
   "source": [
    "import matplotlib.pyplot as plt\n",
    "\n",
    "plt.scatter(inputs, outputs, c='b', label = 'actual')\n",
    "plt.scatter(inputs, model(inputs), c='r', label = 'model')\n",
    "plt.legend()\n",
    "plt.show()\n",
    "\n",
    "print('Current loss: %1.6f' % loss(model(inputs), outputs).numpy())"
   ]
  },
  {
   "cell_type": "markdown",
   "metadata": {
    "id": "iKUVGoRxgck_"
   },
   "source": [
    "## Challenge\n",
    "\n",
    "In the module project, you will be asked to explain the logic of backpropagation and gradient descent."
   ]
  },
  {
   "cell_type": "markdown",
   "metadata": {
    "id": "O8zRvscnQipe"
   },
   "source": [
    "## In the following two sections we'll look at batch size and learning rate hyperparameters in isolation. \n",
    "You should also know that with neural networks it is common to have gradients that are not convex (like what we saw when we applied gradient descent to linear regression). \n",
    "\n",
    "Due to the high complexity of these models and their nonlinearity, it is common for gradient descent to get stuck in a local minimum, but there are ways to combat this:\n",
    "\n",
    "1) Stochastic Gradient Descent\n",
    "\n",
    "2) More advanced Gradient-Descent-based \"Optimizers\" - See Stretch Goals on assignment.\n",
    "\n",
    "However, it's important to know that recent research found some interesting relationships between batch sizes and learning rates. The best available suggestion today is to scale batch size proportionally to a learning rate:\n",
    "- https://openreview.net/pdf?id=B1Yy1BxCZ\n",
    "- https://papers.nips.cc/paper/8398-control-batch-size-and-learning-rate-to-generalize-well-theoretical-and-empirical-evidence.pdf"
   ]
  },
  {
   "cell_type": "markdown",
   "metadata": {
    "id": "vTqZg-6igclA"
   },
   "source": [
    "# Batch Size (Learn)"
   ]
  },
  {
   "cell_type": "markdown",
   "metadata": {
    "id": "0nrm-racgclA"
   },
   "source": [
    "## Overview\n",
    "\n",
    "The What - Stochastic Gradient Descent calculates an approximation of the gradient over the entire dataset by reviewing the predictions of a random sample. \n",
    "\n",
    "The Why - *Speed*. Calculating the gradient over the entire dataset is extremely expensive computationally. \n",
    "\n",
    "### Batch Size\n",
    "Batches are the number of observations our model is shown to make predictions and update the weights. Batches are selected randomly during epoch. All observations are considered when passing thru an epoch at some point."
   ]
  },
  {
   "cell_type": "markdown",
   "metadata": {
    "id": "oNQ2ZCi7I4i6"
   },
   "source": [
    "### Baseline Model"
   ]
  },
  {
   "cell_type": "code",
   "execution_count": 9,
   "metadata": {
    "colab": {
     "base_uri": "https://localhost:8080/"
    },
    "executionInfo": {
     "elapsed": 8418,
     "status": "ok",
     "timestamp": 1616722257515,
     "user": {
      "displayName": "Brian Hu",
      "photoUrl": "https://lh3.googleusercontent.com/a-/AOh14Gg9C2hp-ML87Vme0BJw6zcKYZK-PtGb0Cpg1J1S=s64",
      "userId": "16141489273393480079"
     },
     "user_tz": 300
    },
    "id": "mZjW2lYVI9Q2",
    "outputId": "f4c11e22-3d95-4ea8-ce97-d08fb9661a8f"
   },
   "outputs": [],
   "source": [
    "from tensorflow.keras.datasets import mnist\n",
    "\n",
    "(X_train, y_train), (X_test, y_test) = mnist.load_data()\n",
    "\n",
    "X_train = X_train / 255.\n",
    "X_test = X_test / 255.\n",
    "\n",
    "X_train = X_train.reshape((60000, 784))\n",
    "X_test = X_test.reshape((10000, 784))"
   ]
  },
  {
   "cell_type": "code",
   "execution_count": 10,
   "metadata": {
    "executionInfo": {
     "elapsed": 8417,
     "status": "ok",
     "timestamp": 1616722257516,
     "user": {
      "displayName": "Brian Hu",
      "photoUrl": "https://lh3.googleusercontent.com/a-/AOh14Gg9C2hp-ML87Vme0BJw6zcKYZK-PtGb0Cpg1J1S=s64",
      "userId": "16141489273393480079"
     },
     "user_tz": 300
    },
    "id": "o7x17kDKJSy5"
   },
   "outputs": [],
   "source": [
    "# Our Model\n",
    "from tensorflow.keras import Sequential\n",
    "from tensorflow.keras.layers import Dense\n",
    "from tensorflow.keras.optimizers import Adam, SGD\n",
    "\n",
    "def create_model(learning_rate=0.01):\n",
    "  opt = SGD(lr=learning_rate)\n",
    "  model = Sequential([\n",
    "    Dense(64, input_dim=784, activation='relu'),\n",
    "    Dense(32, activation='relu'),\n",
    "    Dense(10, activation='softmax')\n",
    "  ])\n",
    "  model.compile(optimizer=opt, \n",
    "                loss='sparse_categorical_crossentropy',\n",
    "                metrics=['accuracy'])\n",
    "  return model"
   ]
  },
  {
   "cell_type": "markdown",
   "metadata": {
    "id": "ZF7UE-KluPsX"
   },
   "source": [
    "## Follow Along\n",
    "Let's run a series of experiments for a default, small, and large batch size."
   ]
  },
  {
   "cell_type": "markdown",
   "metadata": {
    "id": "VhpDaVFRJl3U"
   },
   "source": [
    "### Default\n",
    "Batch Size is 32"
   ]
  },
  {
   "cell_type": "code",
   "execution_count": 11,
   "metadata": {
    "colab": {
     "base_uri": "https://localhost:8080/"
    },
    "executionInfo": {
     "elapsed": 8413,
     "status": "ok",
     "timestamp": 1616722257516,
     "user": {
      "displayName": "Brian Hu",
      "photoUrl": "https://lh3.googleusercontent.com/a-/AOh14Gg9C2hp-ML87Vme0BJw6zcKYZK-PtGb0Cpg1J1S=s64",
      "userId": "16141489273393480079"
     },
     "user_tz": 300
    },
    "id": "P-ChVGikgclD",
    "outputId": "25bac097-8051-4418-9ba9-5758cfd99975"
   },
   "outputs": [
    {
     "name": "stdout",
     "output_type": "stream",
     "text": [
      "Model: \"sequential\"\n",
      "_________________________________________________________________\n",
      "Layer (type)                 Output Shape              Param #   \n",
      "=================================================================\n",
      "dense (Dense)                (None, 64)                50240     \n",
      "_________________________________________________________________\n",
      "dense_1 (Dense)              (None, 32)                2080      \n",
      "_________________________________________________________________\n",
      "dense_2 (Dense)              (None, 10)                330       \n",
      "=================================================================\n",
      "Total params: 52,650\n",
      "Trainable params: 52,650\n",
      "Non-trainable params: 0\n",
      "_________________________________________________________________\n"
     ]
    }
   ],
   "source": [
    "model = create_model()\n",
    "model.summary()"
   ]
  },
  {
   "cell_type": "code",
   "execution_count": 12,
   "metadata": {
    "colab": {
     "base_uri": "https://localhost:8080/"
    },
    "executionInfo": {
     "elapsed": 81431,
     "status": "ok",
     "timestamp": 1616722330540,
     "user": {
      "displayName": "Brian Hu",
      "photoUrl": "https://lh3.googleusercontent.com/a-/AOh14Gg9C2hp-ML87Vme0BJw6zcKYZK-PtGb0Cpg1J1S=s64",
      "userId": "16141489273393480079"
     },
     "user_tz": 300
    },
    "id": "AGiJZztJWNRg",
    "outputId": "21eaba6f-85d3-47b7-fb94-47434e8e88bb"
   },
   "outputs": [
    {
     "name": "stdout",
     "output_type": "stream",
     "text": [
      "Epoch 1/20\n",
      "1875/1875 [==============================] - 2s 953us/step - loss: 1.1541 - accuracy: 0.6739 - val_loss: 0.3329 - val_accuracy: 0.9072\n",
      "Epoch 2/20\n",
      "1875/1875 [==============================] - 1s 676us/step - loss: 0.3346 - accuracy: 0.9035 - val_loss: 0.2711 - val_accuracy: 0.9223\n",
      "Epoch 3/20\n",
      "1875/1875 [==============================] - 1s 671us/step - loss: 0.2725 - accuracy: 0.9212 - val_loss: 0.2396 - val_accuracy: 0.9303\n",
      "Epoch 4/20\n",
      "1875/1875 [==============================] - 1s 674us/step - loss: 0.2411 - accuracy: 0.9311 - val_loss: 0.2117 - val_accuracy: 0.9398\n",
      "Epoch 5/20\n",
      "1875/1875 [==============================] - 1s 670us/step - loss: 0.2093 - accuracy: 0.9393 - val_loss: 0.2010 - val_accuracy: 0.9424\n",
      "Epoch 6/20\n",
      "1875/1875 [==============================] - 1s 671us/step - loss: 0.1905 - accuracy: 0.9454 - val_loss: 0.1747 - val_accuracy: 0.9497\n",
      "Epoch 7/20\n",
      "1875/1875 [==============================] - 1s 671us/step - loss: 0.1743 - accuracy: 0.9503 - val_loss: 0.1655 - val_accuracy: 0.9514\n",
      "Epoch 8/20\n",
      "1875/1875 [==============================] - 1s 669us/step - loss: 0.1599 - accuracy: 0.9545 - val_loss: 0.1561 - val_accuracy: 0.9536\n",
      "Epoch 9/20\n",
      "1875/1875 [==============================] - 1s 667us/step - loss: 0.1454 - accuracy: 0.9575 - val_loss: 0.1462 - val_accuracy: 0.9561\n",
      "Epoch 10/20\n",
      "1875/1875 [==============================] - 1s 669us/step - loss: 0.1346 - accuracy: 0.9618 - val_loss: 0.1407 - val_accuracy: 0.9582\n",
      "Epoch 11/20\n",
      "1875/1875 [==============================] - 1s 666us/step - loss: 0.1296 - accuracy: 0.9620 - val_loss: 0.1289 - val_accuracy: 0.9610\n",
      "Epoch 12/20\n",
      "1875/1875 [==============================] - 1s 667us/step - loss: 0.1145 - accuracy: 0.9672 - val_loss: 0.1273 - val_accuracy: 0.9607\n",
      "Epoch 13/20\n",
      "1875/1875 [==============================] - 1s 668us/step - loss: 0.1111 - accuracy: 0.9691 - val_loss: 0.1227 - val_accuracy: 0.9637\n",
      "Epoch 14/20\n",
      "1875/1875 [==============================] - 1s 671us/step - loss: 0.1043 - accuracy: 0.9701 - val_loss: 0.1169 - val_accuracy: 0.9636\n",
      "Epoch 15/20\n",
      "1875/1875 [==============================] - 1s 670us/step - loss: 0.0976 - accuracy: 0.9727 - val_loss: 0.1149 - val_accuracy: 0.9650\n",
      "Epoch 16/20\n",
      "1875/1875 [==============================] - 1s 676us/step - loss: 0.0922 - accuracy: 0.9734 - val_loss: 0.1102 - val_accuracy: 0.9668\n",
      "Epoch 17/20\n",
      "1875/1875 [==============================] - 1s 674us/step - loss: 0.0919 - accuracy: 0.9731 - val_loss: 0.1053 - val_accuracy: 0.9680\n",
      "Epoch 18/20\n",
      "1875/1875 [==============================] - 1s 684us/step - loss: 0.0809 - accuracy: 0.9770 - val_loss: 0.1029 - val_accuracy: 0.9688\n",
      "Epoch 19/20\n",
      "1875/1875 [==============================] - 1s 682us/step - loss: 0.0779 - accuracy: 0.9786 - val_loss: 0.1017 - val_accuracy: 0.9692\n",
      "Epoch 20/20\n",
      "1875/1875 [==============================] - 1s 688us/step - loss: 0.0739 - accuracy: 0.9797 - val_loss: 0.1042 - val_accuracy: 0.9672\n"
     ]
    }
   ],
   "source": [
    "bt_default = model.fit(X_train, y_train,\n",
    "                       epochs=20,\n",
    "                        batch_size=32,\n",
    "                       validation_data=(X_test, y_test))"
   ]
  },
  {
   "cell_type": "markdown",
   "metadata": {
    "id": "KvsbOFnDJuG0"
   },
   "source": [
    "### Small Batch Size\n",
    "Batch Size is 8"
   ]
  },
  {
   "cell_type": "code",
   "execution_count": 13,
   "metadata": {
    "colab": {
     "background_save": true,
     "base_uri": "https://localhost:8080/"
    },
    "id": "diDzvb-UJ1je"
   },
   "outputs": [
    {
     "name": "stdout",
     "output_type": "stream",
     "text": [
      "Epoch 1/20\n",
      "7500/7500 [==============================] - 5s 632us/step - loss: 0.6451 - accuracy: 0.8113 - val_loss: 0.2127 - val_accuracy: 0.9369\n",
      "Epoch 2/20\n",
      "7500/7500 [==============================] - 5s 618us/step - loss: 0.2002 - accuracy: 0.9406 - val_loss: 0.1542 - val_accuracy: 0.9510\n",
      "Epoch 3/20\n",
      "7500/7500 [==============================] - 5s 616us/step - loss: 0.1433 - accuracy: 0.9581 - val_loss: 0.1366 - val_accuracy: 0.9593\n",
      "Epoch 4/20\n",
      "7500/7500 [==============================] - 5s 620us/step - loss: 0.1187 - accuracy: 0.9642 - val_loss: 0.1259 - val_accuracy: 0.9634\n",
      "Epoch 5/20\n",
      "7500/7500 [==============================] - 5s 618us/step - loss: 0.0967 - accuracy: 0.9711 - val_loss: 0.1183 - val_accuracy: 0.9658\n",
      "Epoch 6/20\n",
      "7500/7500 [==============================] - 5s 616us/step - loss: 0.0795 - accuracy: 0.9762 - val_loss: 0.0995 - val_accuracy: 0.9722\n",
      "Epoch 7/20\n",
      "7500/7500 [==============================] - 5s 614us/step - loss: 0.0692 - accuracy: 0.9795 - val_loss: 0.0962 - val_accuracy: 0.9722\n",
      "Epoch 8/20\n",
      "7500/7500 [==============================] - 5s 618us/step - loss: 0.0625 - accuracy: 0.9817 - val_loss: 0.0915 - val_accuracy: 0.9745\n",
      "Epoch 9/20\n",
      "7500/7500 [==============================] - 5s 617us/step - loss: 0.0549 - accuracy: 0.9837 - val_loss: 0.0952 - val_accuracy: 0.9743\n",
      "Epoch 10/20\n",
      "7500/7500 [==============================] - 5s 619us/step - loss: 0.0487 - accuracy: 0.9847 - val_loss: 0.0955 - val_accuracy: 0.9721\n",
      "Epoch 11/20\n",
      "7500/7500 [==============================] - 5s 619us/step - loss: 0.0453 - accuracy: 0.9864 - val_loss: 0.0901 - val_accuracy: 0.9742\n",
      "Epoch 12/20\n",
      "7500/7500 [==============================] - 5s 612us/step - loss: 0.0438 - accuracy: 0.9864 - val_loss: 0.0896 - val_accuracy: 0.9752\n",
      "Epoch 13/20\n",
      "7500/7500 [==============================] - 5s 618us/step - loss: 0.0371 - accuracy: 0.9883 - val_loss: 0.1005 - val_accuracy: 0.9712\n",
      "Epoch 14/20\n",
      "7500/7500 [==============================] - 5s 615us/step - loss: 0.0328 - accuracy: 0.9905 - val_loss: 0.1036 - val_accuracy: 0.9718\n",
      "Epoch 15/20\n",
      "7500/7500 [==============================] - 5s 619us/step - loss: 0.0294 - accuracy: 0.9915 - val_loss: 0.0923 - val_accuracy: 0.9752\n",
      "Epoch 16/20\n",
      "7500/7500 [==============================] - 5s 618us/step - loss: 0.0241 - accuracy: 0.9929 - val_loss: 0.0887 - val_accuracy: 0.9765\n",
      "Epoch 17/20\n",
      "7500/7500 [==============================] - 5s 631us/step - loss: 0.0236 - accuracy: 0.9932 - val_loss: 0.0909 - val_accuracy: 0.9758\n",
      "Epoch 18/20\n",
      "7500/7500 [==============================] - 5s 619us/step - loss: 0.0206 - accuracy: 0.9947 - val_loss: 0.0929 - val_accuracy: 0.9761\n",
      "Epoch 19/20\n",
      "7500/7500 [==============================] - 5s 621us/step - loss: 0.0182 - accuracy: 0.9952 - val_loss: 0.0968 - val_accuracy: 0.9741\n",
      "Epoch 20/20\n",
      "7500/7500 [==============================] - 5s 622us/step - loss: 0.0171 - accuracy: 0.9955 - val_loss: 0.1024 - val_accuracy: 0.9742\n"
     ]
    }
   ],
   "source": [
    "model = create_model()\n",
    "bt_small = model.fit(X_train, y_train,\n",
    "                     epochs=20,\n",
    "                     batch_size=8,\n",
    "                     validation_data=(X_test, y_test))"
   ]
  },
  {
   "cell_type": "markdown",
   "metadata": {
    "id": "_iPvvvt5J2Xl"
   },
   "source": [
    "### Large Batch Size\n",
    "Batch Size is 512"
   ]
  },
  {
   "cell_type": "code",
   "execution_count": 14,
   "metadata": {
    "colab": {
     "background_save": true
    },
    "id": "7h8Z5293KABT"
   },
   "outputs": [
    {
     "name": "stdout",
     "output_type": "stream",
     "text": [
      "Epoch 1/20\n",
      "118/118 [==============================] - 1s 3ms/step - loss: 2.2262 - accuracy: 0.2074 - val_loss: 1.7713 - val_accuracy: 0.5829\n",
      "Epoch 2/20\n",
      "118/118 [==============================] - 0s 2ms/step - loss: 1.6166 - accuracy: 0.6469 - val_loss: 1.1266 - val_accuracy: 0.7859\n",
      "Epoch 3/20\n",
      "118/118 [==============================] - 0s 2ms/step - loss: 1.0324 - accuracy: 0.7928 - val_loss: 0.7656 - val_accuracy: 0.8286\n",
      "Epoch 4/20\n",
      "118/118 [==============================] - 0s 2ms/step - loss: 0.7333 - accuracy: 0.8286 - val_loss: 0.6046 - val_accuracy: 0.8511\n",
      "Epoch 5/20\n",
      "118/118 [==============================] - 0s 2ms/step - loss: 0.6009 - accuracy: 0.8478 - val_loss: 0.5216 - val_accuracy: 0.8669\n",
      "Epoch 6/20\n",
      "118/118 [==============================] - 0s 2ms/step - loss: 0.5282 - accuracy: 0.8603 - val_loss: 0.4689 - val_accuracy: 0.8759\n",
      "Epoch 7/20\n",
      "118/118 [==============================] - 0s 2ms/step - loss: 0.4782 - accuracy: 0.8705 - val_loss: 0.4330 - val_accuracy: 0.8842\n",
      "Epoch 8/20\n",
      "118/118 [==============================] - 0s 3ms/step - loss: 0.4462 - accuracy: 0.8780 - val_loss: 0.4077 - val_accuracy: 0.8900\n",
      "Epoch 9/20\n",
      "118/118 [==============================] - 0s 3ms/step - loss: 0.4167 - accuracy: 0.8863 - val_loss: 0.3870 - val_accuracy: 0.8946\n",
      "Epoch 10/20\n",
      "118/118 [==============================] - 0s 3ms/step - loss: 0.3916 - accuracy: 0.8904 - val_loss: 0.3711 - val_accuracy: 0.8991\n",
      "Epoch 11/20\n",
      "118/118 [==============================] - 0s 3ms/step - loss: 0.3841 - accuracy: 0.8918 - val_loss: 0.3581 - val_accuracy: 0.9027\n",
      "Epoch 12/20\n",
      "118/118 [==============================] - 0s 3ms/step - loss: 0.3679 - accuracy: 0.8968 - val_loss: 0.3471 - val_accuracy: 0.9039\n",
      "Epoch 13/20\n",
      "118/118 [==============================] - 0s 3ms/step - loss: 0.3540 - accuracy: 0.8992 - val_loss: 0.3375 - val_accuracy: 0.9062\n",
      "Epoch 14/20\n",
      "118/118 [==============================] - 0s 3ms/step - loss: 0.3501 - accuracy: 0.9019 - val_loss: 0.3293 - val_accuracy: 0.9081\n",
      "Epoch 15/20\n",
      "118/118 [==============================] - 0s 3ms/step - loss: 0.3420 - accuracy: 0.9010 - val_loss: 0.3215 - val_accuracy: 0.9101\n",
      "Epoch 16/20\n",
      "118/118 [==============================] - 0s 3ms/step - loss: 0.3348 - accuracy: 0.9039 - val_loss: 0.3149 - val_accuracy: 0.9116\n",
      "Epoch 17/20\n",
      "118/118 [==============================] - 0s 3ms/step - loss: 0.3282 - accuracy: 0.9039 - val_loss: 0.3099 - val_accuracy: 0.9126\n",
      "Epoch 18/20\n",
      "118/118 [==============================] - 0s 3ms/step - loss: 0.3195 - accuracy: 0.9089 - val_loss: 0.3046 - val_accuracy: 0.9131\n",
      "Epoch 19/20\n",
      "118/118 [==============================] - 0s 3ms/step - loss: 0.3127 - accuracy: 0.9089 - val_loss: 0.2997 - val_accuracy: 0.9130\n",
      "Epoch 20/20\n",
      "118/118 [==============================] - 0s 3ms/step - loss: 0.3086 - accuracy: 0.9114 - val_loss: 0.2938 - val_accuracy: 0.9159\n"
     ]
    }
   ],
   "source": [
    "model = create_model()\n",
    "bt_large = model.fit(X_train, y_train,\n",
    "                     epochs=20,\n",
    "                     batch_size=512,\n",
    "                     validation_data=(X_test, y_test))"
   ]
  },
  {
   "cell_type": "markdown",
   "metadata": {
    "id": "B0ujUz6BKUGz"
   },
   "source": [
    "### Visualization of Results"
   ]
  },
  {
   "cell_type": "code",
   "execution_count": 15,
   "metadata": {
    "colab": {
     "background_save": true
    },
    "id": "ta37XVuGfm2K"
   },
   "outputs": [
    {
     "name": "stdout",
     "output_type": "stream",
     "text": [
      "{'loss': [0.6817631721496582, 0.3139718174934387, 0.2657153904438019, 0.23288945853710175, 0.20764435827732086, 0.18719998002052307, 0.16989736258983612, 0.1561090350151062, 0.14446163177490234, 0.13395510613918304, 0.1250411719083786, 0.11731339246034622, 0.11001735925674438, 0.10404026508331299, 0.09806931018829346, 0.09323589503765106, 0.088544562458992, 0.08418519049882889, 0.08026927709579468, 0.07674095034599304], 'accuracy': [0.8137999773025513, 0.909600019454956, 0.9235166907310486, 0.9330666661262512, 0.9398833513259888, 0.9459999799728394, 0.9508166909217834, 0.9547333121299744, 0.9581999778747559, 0.961483359336853, 0.9638333320617676, 0.9664499759674072, 0.9686333537101746, 0.970216691493988, 0.9720666408538818, 0.9729499816894531, 0.974566638469696, 0.9757500290870667, 0.977316677570343, 0.9783333539962769], 'val_loss': [0.3329009413719177, 0.27112406492233276, 0.23960624635219574, 0.2116979956626892, 0.20102877914905548, 0.17467959225177765, 0.1655397266149521, 0.15607711672782898, 0.14617934823036194, 0.14071837067604065, 0.12893588840961456, 0.1273457109928131, 0.12268446385860443, 0.11694364994764328, 0.11487673223018646, 0.11019953340291977, 0.10529111325740814, 0.10293357819318771, 0.1016569659113884, 0.10423766076564789], 'val_accuracy': [0.9071999788284302, 0.9222999811172485, 0.9302999973297119, 0.9398000240325928, 0.9423999786376953, 0.9496999979019165, 0.9513999819755554, 0.9535999894142151, 0.9560999870300293, 0.9581999778747559, 0.9610000252723694, 0.9606999754905701, 0.963699996471405, 0.9635999798774719, 0.9649999737739563, 0.9667999744415283, 0.9679999947547913, 0.9688000082969666, 0.9692000150680542, 0.967199981212616]}\n"
     ]
    }
   ],
   "source": [
    "print(bt_default.history)"
   ]
  },
  {
   "cell_type": "code",
   "execution_count": 16,
   "metadata": {
    "colab": {
     "background_save": true
    },
    "id": "o-5DOZNMKYt-"
   },
   "outputs": [
    {
     "data": {
      "text/html": [
       "<div>\n",
       "<style scoped>\n",
       "    .dataframe tbody tr th:only-of-type {\n",
       "        vertical-align: middle;\n",
       "    }\n",
       "\n",
       "    .dataframe tbody tr th {\n",
       "        vertical-align: top;\n",
       "    }\n",
       "\n",
       "    .dataframe thead th {\n",
       "        text-align: right;\n",
       "    }\n",
       "</style>\n",
       "<table border=\"1\" class=\"dataframe\">\n",
       "  <thead>\n",
       "    <tr style=\"text-align: right;\">\n",
       "      <th></th>\n",
       "      <th>loss</th>\n",
       "      <th>accuracy</th>\n",
       "      <th>val_loss</th>\n",
       "      <th>val_accuracy</th>\n",
       "      <th>epoch</th>\n",
       "      <th>Batch Size</th>\n",
       "    </tr>\n",
       "  </thead>\n",
       "  <tbody>\n",
       "    <tr>\n",
       "      <th>0</th>\n",
       "      <td>0.681763</td>\n",
       "      <td>0.813800</td>\n",
       "      <td>0.332901</td>\n",
       "      <td>0.9072</td>\n",
       "      <td>0</td>\n",
       "      <td>32_</td>\n",
       "    </tr>\n",
       "    <tr>\n",
       "      <th>1</th>\n",
       "      <td>0.313972</td>\n",
       "      <td>0.909600</td>\n",
       "      <td>0.271124</td>\n",
       "      <td>0.9223</td>\n",
       "      <td>1</td>\n",
       "      <td>32_</td>\n",
       "    </tr>\n",
       "    <tr>\n",
       "      <th>2</th>\n",
       "      <td>0.265715</td>\n",
       "      <td>0.923517</td>\n",
       "      <td>0.239606</td>\n",
       "      <td>0.9303</td>\n",
       "      <td>2</td>\n",
       "      <td>32_</td>\n",
       "    </tr>\n",
       "    <tr>\n",
       "      <th>3</th>\n",
       "      <td>0.232889</td>\n",
       "      <td>0.933067</td>\n",
       "      <td>0.211698</td>\n",
       "      <td>0.9398</td>\n",
       "      <td>3</td>\n",
       "      <td>32_</td>\n",
       "    </tr>\n",
       "    <tr>\n",
       "      <th>4</th>\n",
       "      <td>0.207644</td>\n",
       "      <td>0.939883</td>\n",
       "      <td>0.201029</td>\n",
       "      <td>0.9424</td>\n",
       "      <td>4</td>\n",
       "      <td>32_</td>\n",
       "    </tr>\n",
       "  </tbody>\n",
       "</table>\n",
       "</div>"
      ],
      "text/plain": [
       "       loss  accuracy  val_loss  val_accuracy  epoch Batch Size\n",
       "0  0.681763  0.813800  0.332901        0.9072      0        32_\n",
       "1  0.313972  0.909600  0.271124        0.9223      1        32_\n",
       "2  0.265715  0.923517  0.239606        0.9303      2        32_\n",
       "3  0.232889  0.933067  0.211698        0.9398      3        32_\n",
       "4  0.207644  0.939883  0.201029        0.9424      4        32_"
      ]
     },
     "execution_count": 16,
     "metadata": {},
     "output_type": "execute_result"
    }
   ],
   "source": [
    "import seaborn as sns\n",
    "import pandas as pd\n",
    "\n",
    "batch_sizes = []\n",
    "\n",
    "for exp, result in zip([bt_default, bt_small, bt_large], [\"32_\", \"8_\", \"512_\"]):\n",
    "    df = pd.DataFrame.from_dict(exp.history)\n",
    "    df['epoch'] = df.index.values\n",
    "    df['Batch Size'] = result\n",
    "    batch_sizes.append(df)\n",
    "\n",
    "df = pd.concat(batch_sizes)\n",
    "df['Batch Size'] = df['Batch Size'].astype('str')\n",
    "df.head()"
   ]
  },
  {
   "cell_type": "code",
   "execution_count": 17,
   "metadata": {
    "colab": {
     "background_save": true
    },
    "id": "kHqqeoC_ZTer"
   },
   "outputs": [
    {
     "data": {
      "image/png": "[encoded data removed]",
      "text/plain": [
       "<Figure size 432x288 with 1 Axes>"
      ]
     },
     "metadata": {
      "needs_background": "light"
     },
     "output_type": "display_data"
    }
   ],
   "source": [
    "sns.lineplot(x='epoch', y='val_accuracy', hue='Batch Size', data=df);"
   ]
  },
  {
   "cell_type": "markdown",
   "metadata": {
    "id": "4kZ2vUYYgclS"
   },
   "source": [
    "## Challenge\n",
    "\n",
    "You will be expected to experiment with batch size on today's assignment."
   ]
  },
  {
   "cell_type": "markdown",
   "metadata": {
    "id": "46cP9Pm_gclS"
   },
   "source": [
    "# Learning Rate (Learn)"
   ]
  },
  {
   "cell_type": "markdown",
   "metadata": {
    "id": "Bna67ADZgclT"
   },
   "source": [
    "## Overview\n",
    "\n",
    "Learning Rate controls the size of the update to our weights that the optimization algorithm makes. VERY IMPORTANT hyperparameter.\n",
    "\n",
    "* Too high of a learning rate causes unstable results\n",
    "* Too Low of a learning rate the model will underfit\n",
    "* Goldy Locks parameters - it needs be \"just right\"\n",
    "* Scale of 0-1"
   ]
  },
  {
   "cell_type": "markdown",
   "metadata": {
    "id": "gsVYOn7bgcle"
   },
   "source": [
    "## Follow Along\n",
    "\n",
    "Same experiment with Batch but different learning rates:\n",
    "* High Learning = .75\n",
    "* Default Learning = .01\n",
    "* Low Learning Rate = .0001"
   ]
  },
  {
   "cell_type": "markdown",
   "metadata": {
    "id": "CI_H8Em1NOii"
   },
   "source": [
    "### Default Learning Rate"
   ]
  },
  {
   "cell_type": "code",
   "execution_count": 18,
   "metadata": {
    "colab": {
     "background_save": true
    },
    "id": "Se8cb_ZUNVtL"
   },
   "outputs": [
    {
     "name": "stdout",
     "output_type": "stream",
     "text": [
      "Epoch 1/20\n",
      "1875/1875 [==============================] - 2s 769us/step - loss: 1.1246 - accuracy: 0.6718 - val_loss: 0.3272 - val_accuracy: 0.9062\n",
      "Epoch 2/20\n",
      "1875/1875 [==============================] - 1s 694us/step - loss: 0.3249 - accuracy: 0.9072 - val_loss: 0.2641 - val_accuracy: 0.9231\n",
      "Epoch 3/20\n",
      "1875/1875 [==============================] - 1s 685us/step - loss: 0.2656 - accuracy: 0.9224 - val_loss: 0.2310 - val_accuracy: 0.9330\n",
      "Epoch 4/20\n",
      "1875/1875 [==============================] - 1s 694us/step - loss: 0.2280 - accuracy: 0.9332 - val_loss: 0.2129 - val_accuracy: 0.9377\n",
      "Epoch 5/20\n",
      "1875/1875 [==============================] - 1s 696us/step - loss: 0.2108 - accuracy: 0.9395 - val_loss: 0.1912 - val_accuracy: 0.9440\n",
      "Epoch 6/20\n",
      "1875/1875 [==============================] - 1s 690us/step - loss: 0.1881 - accuracy: 0.9456 - val_loss: 0.1835 - val_accuracy: 0.9461\n",
      "Epoch 7/20\n",
      "1875/1875 [==============================] - 1s 695us/step - loss: 0.1727 - accuracy: 0.9505 - val_loss: 0.1713 - val_accuracy: 0.9491\n",
      "Epoch 8/20\n",
      "1875/1875 [==============================] - 1s 696us/step - loss: 0.1549 - accuracy: 0.9543 - val_loss: 0.1583 - val_accuracy: 0.9539\n",
      "Epoch 9/20\n",
      "1875/1875 [==============================] - 1s 688us/step - loss: 0.1497 - accuracy: 0.9572 - val_loss: 0.1563 - val_accuracy: 0.9528\n",
      "Epoch 10/20\n",
      "1875/1875 [==============================] - 1s 684us/step - loss: 0.1361 - accuracy: 0.9606 - val_loss: 0.1380 - val_accuracy: 0.9562\n",
      "Epoch 11/20\n",
      "1875/1875 [==============================] - 1s 698us/step - loss: 0.1245 - accuracy: 0.9657 - val_loss: 0.1323 - val_accuracy: 0.9607\n",
      "Epoch 12/20\n",
      "1875/1875 [==============================] - 1s 698us/step - loss: 0.1229 - accuracy: 0.9643 - val_loss: 0.1299 - val_accuracy: 0.9610\n",
      "Epoch 13/20\n",
      "1875/1875 [==============================] - 1s 698us/step - loss: 0.1069 - accuracy: 0.9684 - val_loss: 0.1235 - val_accuracy: 0.9621\n",
      "Epoch 14/20\n",
      "1875/1875 [==============================] - 1s 698us/step - loss: 0.1049 - accuracy: 0.9695 - val_loss: 0.1197 - val_accuracy: 0.9642\n",
      "Epoch 15/20\n",
      "1875/1875 [==============================] - 1s 699us/step - loss: 0.0960 - accuracy: 0.9715 - val_loss: 0.1178 - val_accuracy: 0.9642\n",
      "Epoch 16/20\n",
      "1875/1875 [==============================] - 1s 699us/step - loss: 0.0937 - accuracy: 0.9723 - val_loss: 0.1161 - val_accuracy: 0.9627\n",
      "Epoch 17/20\n",
      "1875/1875 [==============================] - 1s 698us/step - loss: 0.0892 - accuracy: 0.9751 - val_loss: 0.1131 - val_accuracy: 0.9638\n",
      "Epoch 18/20\n",
      "1875/1875 [==============================] - 1s 703us/step - loss: 0.0859 - accuracy: 0.9754 - val_loss: 0.1098 - val_accuracy: 0.9657\n",
      "Epoch 19/20\n",
      "1875/1875 [==============================] - 1s 699us/step - loss: 0.0795 - accuracy: 0.9768 - val_loss: 0.1076 - val_accuracy: 0.9656\n",
      "Epoch 20/20\n",
      "1875/1875 [==============================] - 1s 698us/step - loss: 0.0768 - accuracy: 0.9774 - val_loss: 0.1035 - val_accuracy: 0.9683\n"
     ]
    }
   ],
   "source": [
    "model = create_model(learning_rate=0.01)\n",
    "lr_default = model.fit(X_train, y_train,\n",
    "                       epochs=20,\n",
    "                       batch_size=32,\n",
    "                       validation_data=(X_test, y_test))"
   ]
  },
  {
   "cell_type": "markdown",
   "metadata": {
    "id": "IQZ4SZdKNMRO"
   },
   "source": [
    "### High Learning Rate"
   ]
  },
  {
   "cell_type": "code",
   "execution_count": 19,
   "metadata": {
    "id": "Ny72mU_dNWMR"
   },
   "outputs": [
    {
     "name": "stdout",
     "output_type": "stream",
     "text": [
      "Epoch 1/20\n",
      "1875/1875 [==============================] - 2s 757us/step - loss: 0.8757 - accuracy: 0.7146 - val_loss: 0.2885 - val_accuracy: 0.9246\n",
      "Epoch 2/20\n",
      "1875/1875 [==============================] - 1s 702us/step - loss: 0.2985 - accuracy: 0.9178 - val_loss: 0.2857 - val_accuracy: 0.9277\n",
      "Epoch 3/20\n",
      "1875/1875 [==============================] - 1s 698us/step - loss: 0.2591 - accuracy: 0.9312 - val_loss: 0.3873 - val_accuracy: 0.8992\n",
      "Epoch 4/20\n",
      "1875/1875 [==============================] - 1s 699us/step - loss: 0.2462 - accuracy: 0.9354 - val_loss: 0.2535 - val_accuracy: 0.9408\n",
      "Epoch 5/20\n",
      "1875/1875 [==============================] - 1s 742us/step - loss: 0.2322 - accuracy: 0.9407 - val_loss: 0.2469 - val_accuracy: 0.9379\n",
      "Epoch 6/20\n",
      "1875/1875 [==============================] - 1s 697us/step - loss: 0.2069 - accuracy: 0.9464 - val_loss: 0.2428 - val_accuracy: 0.9430\n",
      "Epoch 7/20\n",
      "1875/1875 [==============================] - 1s 697us/step - loss: 0.1918 - accuracy: 0.9513 - val_loss: 0.1964 - val_accuracy: 0.9506\n",
      "Epoch 8/20\n",
      "1875/1875 [==============================] - 1s 703us/step - loss: 0.1789 - accuracy: 0.9532 - val_loss: 0.2273 - val_accuracy: 0.9467\n",
      "Epoch 9/20\n",
      "1875/1875 [==============================] - 1s 692us/step - loss: 0.1760 - accuracy: 0.9544 - val_loss: 0.2117 - val_accuracy: 0.9483\n",
      "Epoch 10/20\n",
      "1875/1875 [==============================] - 1s 690us/step - loss: 0.1784 - accuracy: 0.9546 - val_loss: 0.1998 - val_accuracy: 0.9546\n",
      "Epoch 11/20\n",
      "1875/1875 [==============================] - 1s 686us/step - loss: 0.1692 - accuracy: 0.9569 - val_loss: 0.2562 - val_accuracy: 0.9477\n",
      "Epoch 12/20\n",
      "1875/1875 [==============================] - 1s 691us/step - loss: 0.1814 - accuracy: 0.9550 - val_loss: 0.2202 - val_accuracy: 0.9489\n",
      "Epoch 13/20\n",
      "1875/1875 [==============================] - 1s 701us/step - loss: 0.1754 - accuracy: 0.9577 - val_loss: 0.2058 - val_accuracy: 0.9527\n",
      "Epoch 14/20\n",
      "1875/1875 [==============================] - 1s 696us/step - loss: 0.1558 - accuracy: 0.9609 - val_loss: 0.2499 - val_accuracy: 0.9523\n",
      "Epoch 15/20\n",
      "1875/1875 [==============================] - 1s 699us/step - loss: 0.1713 - accuracy: 0.9571 - val_loss: 0.2492 - val_accuracy: 0.9512\n",
      "Epoch 16/20\n",
      "1875/1875 [==============================] - 1s 704us/step - loss: 0.1559 - accuracy: 0.9616 - val_loss: 0.2286 - val_accuracy: 0.9516\n",
      "Epoch 17/20\n",
      "1875/1875 [==============================] - 1s 708us/step - loss: 0.1607 - accuracy: 0.9609 - val_loss: 0.2121 - val_accuracy: 0.9579\n",
      "Epoch 18/20\n",
      "1875/1875 [==============================] - 1s 698us/step - loss: 0.1579 - accuracy: 0.9615 - val_loss: 0.2578 - val_accuracy: 0.9399\n",
      "Epoch 19/20\n",
      "1875/1875 [==============================] - 1s 696us/step - loss: 0.1662 - accuracy: 0.9596 - val_loss: 0.2717 - val_accuracy: 0.9529\n",
      "Epoch 20/20\n",
      "1875/1875 [==============================] - 1s 699us/step - loss: 0.2099 - accuracy: 0.9516 - val_loss: 0.2586 - val_accuracy: 0.9489\n"
     ]
    }
   ],
   "source": [
    "model = create_model(learning_rate=0.75)\n",
    "lr_high = model.fit(X_train, y_train,\n",
    "                    epochs=20,\n",
    "                    batch_size=32,\n",
    "                    validation_data=(X_test, y_test))"
   ]
  },
  {
   "cell_type": "markdown",
   "metadata": {
    "id": "kAqDmTVBNSMR"
   },
   "source": [
    "### Low Learning Rate"
   ]
  },
  {
   "cell_type": "code",
   "execution_count": 20,
   "metadata": {
    "id": "Ech1ER64NXBn"
   },
   "outputs": [
    {
     "name": "stdout",
     "output_type": "stream",
     "text": [
      "Epoch 1/20\n",
      "1875/1875 [==============================] - 2s 751us/step - loss: 2.3224 - accuracy: 0.0981 - val_loss: 2.2559 - val_accuracy: 0.1361\n",
      "Epoch 2/20\n",
      "1875/1875 [==============================] - 1s 688us/step - loss: 2.2357 - accuracy: 0.1517 - val_loss: 2.1793 - val_accuracy: 0.2227\n",
      "Epoch 3/20\n",
      "1875/1875 [==============================] - 1s 682us/step - loss: 2.1637 - accuracy: 0.2416 - val_loss: 2.1048 - val_accuracy: 0.3173\n",
      "Epoch 4/20\n",
      "1875/1875 [==============================] - 1s 685us/step - loss: 2.0920 - accuracy: 0.3243 - val_loss: 2.0275 - val_accuracy: 0.3883\n",
      "Epoch 5/20\n",
      "1875/1875 [==============================] - 1s 685us/step - loss: 2.0145 - accuracy: 0.3907 - val_loss: 1.9449 - val_accuracy: 0.4446\n",
      "Epoch 6/20\n",
      "1875/1875 [==============================] - 1s 683us/step - loss: 1.9311 - accuracy: 0.4421 - val_loss: 1.8565 - val_accuracy: 0.4934\n",
      "Epoch 7/20\n",
      "1875/1875 [==============================] - 1s 686us/step - loss: 1.8459 - accuracy: 0.4978 - val_loss: 1.7640 - val_accuracy: 0.5471\n",
      "Epoch 8/20\n",
      "1875/1875 [==============================] - 1s 687us/step - loss: 1.7501 - accuracy: 0.5518 - val_loss: 1.6692 - val_accuracy: 0.5925\n",
      "Epoch 9/20\n",
      "1875/1875 [==============================] - 1s 683us/step - loss: 1.6566 - accuracy: 0.5943 - val_loss: 1.5729 - val_accuracy: 0.6312\n",
      "Epoch 10/20\n",
      "1875/1875 [==============================] - 1s 679us/step - loss: 1.5614 - accuracy: 0.6324 - val_loss: 1.4768 - val_accuracy: 0.6674\n",
      "Epoch 11/20\n",
      "1875/1875 [==============================] - 1s 682us/step - loss: 1.4666 - accuracy: 0.6674 - val_loss: 1.3831 - val_accuracy: 0.6946\n",
      "Epoch 12/20\n",
      "1875/1875 [==============================] - 1s 683us/step - loss: 1.3753 - accuracy: 0.6922 - val_loss: 1.2939 - val_accuracy: 0.7196\n",
      "Epoch 13/20\n",
      "1875/1875 [==============================] - 1s 679us/step - loss: 1.2928 - accuracy: 0.7078 - val_loss: 1.2108 - val_accuracy: 0.7385\n",
      "Epoch 14/20\n",
      "1875/1875 [==============================] - 1s 730us/step - loss: 1.2064 - accuracy: 0.7304 - val_loss: 1.1345 - val_accuracy: 0.7522\n",
      "Epoch 15/20\n",
      "1875/1875 [==============================] - 1s 679us/step - loss: 1.1389 - accuracy: 0.7428 - val_loss: 1.0657 - val_accuracy: 0.7640\n",
      "Epoch 16/20\n",
      "1875/1875 [==============================] - 1s 681us/step - loss: 1.0677 - accuracy: 0.7576 - val_loss: 1.0040 - val_accuracy: 0.7767\n",
      "Epoch 17/20\n",
      "1875/1875 [==============================] - 1s 677us/step - loss: 1.0056 - accuracy: 0.7715 - val_loss: 0.9490 - val_accuracy: 0.7872\n",
      "Epoch 18/20\n",
      "1875/1875 [==============================] - 1s 681us/step - loss: 0.9565 - accuracy: 0.7822 - val_loss: 0.9004 - val_accuracy: 0.7959\n",
      "Epoch 19/20\n",
      "1875/1875 [==============================] - 1s 676us/step - loss: 0.9055 - accuracy: 0.7922 - val_loss: 0.8573 - val_accuracy: 0.8047\n",
      "Epoch 20/20\n",
      "1875/1875 [==============================] - 1s 679us/step - loss: 0.8692 - accuracy: 0.7954 - val_loss: 0.8190 - val_accuracy: 0.8128\n"
     ]
    }
   ],
   "source": [
    "model = create_model(learning_rate=0.0001)\n",
    "lr_low = model.fit(X_train, y_train,\n",
    "                   epochs=20,\n",
    "                   batch_size=32,\n",
    "                   validation_data=(X_test, y_test))"
   ]
  },
  {
   "cell_type": "markdown",
   "metadata": {
    "id": "sZe6DyhANXdU"
   },
   "source": [
    "### Visualization of Results"
   ]
  },
  {
   "cell_type": "code",
   "execution_count": 21,
   "metadata": {
    "id": "Bn-BdFdMNph-"
   },
   "outputs": [
    {
     "data": {
      "text/html": [
       "<div>\n",
       "<style scoped>\n",
       "    .dataframe tbody tr th:only-of-type {\n",
       "        vertical-align: middle;\n",
       "    }\n",
       "\n",
       "    .dataframe tbody tr th {\n",
       "        vertical-align: top;\n",
       "    }\n",
       "\n",
       "    .dataframe thead th {\n",
       "        text-align: right;\n",
       "    }\n",
       "</style>\n",
       "<table border=\"1\" class=\"dataframe\">\n",
       "  <thead>\n",
       "    <tr style=\"text-align: right;\">\n",
       "      <th></th>\n",
       "      <th>loss</th>\n",
       "      <th>accuracy</th>\n",
       "      <th>val_loss</th>\n",
       "      <th>val_accuracy</th>\n",
       "      <th>epoch</th>\n",
       "      <th>Learning Rate</th>\n",
       "    </tr>\n",
       "  </thead>\n",
       "  <tbody>\n",
       "    <tr>\n",
       "      <th>0</th>\n",
       "      <td>0.676717</td>\n",
       "      <td>0.813200</td>\n",
       "      <td>0.327177</td>\n",
       "      <td>0.9062</td>\n",
       "      <td>0</td>\n",
       "      <td>0.01_</td>\n",
       "    </tr>\n",
       "    <tr>\n",
       "      <th>1</th>\n",
       "      <td>0.307877</td>\n",
       "      <td>0.911817</td>\n",
       "      <td>0.264109</td>\n",
       "      <td>0.9231</td>\n",
       "      <td>1</td>\n",
       "      <td>0.01_</td>\n",
       "    </tr>\n",
       "    <tr>\n",
       "      <th>2</th>\n",
       "      <td>0.257831</td>\n",
       "      <td>0.925050</td>\n",
       "      <td>0.230975</td>\n",
       "      <td>0.9330</td>\n",
       "      <td>2</td>\n",
       "      <td>0.01_</td>\n",
       "    </tr>\n",
       "    <tr>\n",
       "      <th>3</th>\n",
       "      <td>0.226841</td>\n",
       "      <td>0.934433</td>\n",
       "      <td>0.212935</td>\n",
       "      <td>0.9377</td>\n",
       "      <td>3</td>\n",
       "      <td>0.01_</td>\n",
       "    </tr>\n",
       "    <tr>\n",
       "      <th>4</th>\n",
       "      <td>0.203484</td>\n",
       "      <td>0.940833</td>\n",
       "      <td>0.191159</td>\n",
       "      <td>0.9440</td>\n",
       "      <td>4</td>\n",
       "      <td>0.01_</td>\n",
       "    </tr>\n",
       "  </tbody>\n",
       "</table>\n",
       "</div>"
      ],
      "text/plain": [
       "       loss  accuracy  val_loss  val_accuracy  epoch Learning Rate\n",
       "0  0.676717  0.813200  0.327177        0.9062      0         0.01_\n",
       "1  0.307877  0.911817  0.264109        0.9231      1         0.01_\n",
       "2  0.257831  0.925050  0.230975        0.9330      2         0.01_\n",
       "3  0.226841  0.934433  0.212935        0.9377      3         0.01_\n",
       "4  0.203484  0.940833  0.191159        0.9440      4         0.01_"
      ]
     },
     "execution_count": 21,
     "metadata": {},
     "output_type": "execute_result"
    }
   ],
   "source": [
    "import seaborn as sns\n",
    "import pandas as pd\n",
    "\n",
    "learning_rates = []\n",
    "\n",
    "for exp, result in zip([lr_default, lr_low, lr_high], [\"0.01_\", \"0.0001_\", \"0.75_\"]):\n",
    "    df = pd.DataFrame.from_dict(exp.history)\n",
    "    df['epoch'] = df.index.values\n",
    "    df['Learning Rate'] = result\n",
    "    learning_rates.append(df)\n",
    "\n",
    "df = pd.concat(learning_rates)\n",
    "df['Learning Rate'] = df['Learning Rate'].astype('str')\n",
    "df.head()"
   ]
  },
  {
   "cell_type": "code",
   "execution_count": 22,
   "metadata": {
    "id": "FMw9RzoLe2OS"
   },
   "outputs": [
    {
     "data": {
      "image/png": "[encoded data removed]",
      "text/plain": [
       "<Figure size 432x288 with 1 Axes>"
      ]
     },
     "metadata": {
      "needs_background": "light"
     },
     "output_type": "display_data"
    }
   ],
   "source": [
    "sns.lineplot(x='epoch', y='val_accuracy', hue='Learning Rate', data=df);"
   ]
  },
  {
   "cell_type": "markdown",
   "metadata": {
    "id": "Kb2aiw_Sgcl7"
   },
   "source": [
    "## Challenge\n",
    "\n",
    "You will be expected to experiment with different learning rates today.\n",
    "\n",
    "---"
   ]
  }
 ],
 "metadata": {
  "accelerator": "GPU",
  "colab": {
   "collapsed_sections": [
    "KvsbOFnDJuG0",
    "_iPvvvt5J2Xl"
   ],
   "name": "DSPT9_422_Train_Lecture Class.ipynb",
   "toc_visible": true,
   "version": ""
  },
  "kernelspec": {
   "display_name": "U4-S2-NN (Python3)",
   "language": "python",
   "name": "u4-s2-nn"
  },
  "language_info": {
   "codemirror_mode": {
    "name": "ipython",
    "version": 3
   },
   "file_extension": ".py",
   "mimetype": "text/x-python",
   "name": "python",
   "nbconvert_exporter": "python",
   "pygments_lexer": "ipython3",
   "version": "3.7.0"
  }
 },
 "nbformat": 4,
 "nbformat_minor": 1
}
