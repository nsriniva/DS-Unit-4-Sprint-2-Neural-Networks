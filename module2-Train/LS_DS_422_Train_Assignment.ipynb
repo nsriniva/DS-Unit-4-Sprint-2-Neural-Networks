{
 "cells": [
  {
   "cell_type": "markdown",
   "metadata": {
    "colab_type": "text",
    "id": "NGGrt9EYlCqY"
   },
   "source": [
    "\n",
    "\n",
    "# Train Practice\n",
    "\n",
    "## *Data Science Unit 4 Sprint 2 Assignment 2*\n",
    "\n",
    "Continue to use TensorFlow Keras & a sample of the [Quickdraw dataset](https://github.com/googlecreativelab/quickdraw-dataset) to build a sketch classification model. The dataset has been sampled to only 10 classes and 10000 observations per class. Please build a baseline classification model then run a few experiments with different optimizers and learning rates. \n",
    "\n",
    "*Don't forgot to switch to GPU on Colab!*\n",
    "\n",
    "\n",
    "------\n",
    "\n",
    "# Objective \n",
    "\n",
    "We are going to run a few experiments today\n",
    "\n",
    "- Train a model with and without normalized data and investigate the weight values and learning outcomes\n",
    "- Train a model with varying values for batch_size, learning_rate, and optimizers\n",
    "\n",
    "We are essentially running mannual gridsearches on our models. In module 3, we'll learn a few different ways to automate gridseach for deep learning. "
   ]
  },
  {
   "cell_type": "code",
   "execution_count": 1,
   "metadata": {},
   "outputs": [],
   "source": [
    "import os\n",
    "import datetime\n",
    "import random\n",
    "\n",
    "import numpy as np\n",
    "import pandas as pd\n",
    "import matplotlib.pyplot as plt\n",
    "\n",
    "import tensorflow as tf\n",
    "from tensorflow.keras import Sequential\n",
    "from tensorflow.keras.layers import Dense, ReLU, Input\n",
    "from sklearn.model_selection import train_test_split\n",
    "\n",
    "from keras.optimizers import Adam, SGD\n",
    "from keras.activations import relu\n",
    "from tensorflow.keras.callbacks import TensorBoard"
   ]
  },
  {
   "cell_type": "code",
   "execution_count": 2,
   "metadata": {},
   "outputs": [],
   "source": [
    "%matplotlib inline\n",
    "%load_ext tensorboard"
   ]
  },
  {
   "cell_type": "markdown",
   "metadata": {},
   "source": [
    "### Load data\n",
    "\n",
    "- Don't normalize your data just yet!"
   ]
  },
  {
   "cell_type": "code",
   "execution_count": 3,
   "metadata": {
    "colab": {},
    "colab_type": "code",
    "id": "nJsIsrvp7O3e"
   },
   "outputs": [],
   "source": [
    "def load_quickdraw10():\n",
    "    \"\"\"\n",
    "    Fill out this doc string, and comment the code, for practice in writing the kind of code that will get you hired. \n",
    "    \"\"\"\n",
    "    \n",
    "    URL_ = \"https://github.com/LambdaSchool/DS-Unit-4-Sprint-2-Neural-Networks/blob/main/quickdraw10.npz?raw=true\"\n",
    "    \n",
    "    path_to_zip = tf.keras.utils.get_file('./quickdraw10.npz', origin=URL_, extract=False)\n",
    "\n",
    "    data = np.load(path_to_zip)\n",
    "\n",
    "    X = data['arr_0']\n",
    "    Y = data['arr_1']\n",
    "        \n",
    "    return train_test_split(X, Y, shuffle=True)"
   ]
  },
  {
   "cell_type": "code",
   "execution_count": 4,
   "metadata": {},
   "outputs": [],
   "source": [
    "X_train, X_test, y_train, y_test = load_quickdraw10()"
   ]
  },
  {
   "cell_type": "code",
   "execution_count": 5,
   "metadata": {},
   "outputs": [],
   "source": [
    "n_labels = len(np.unique(y_train))"
   ]
  },
  {
   "cell_type": "markdown",
   "metadata": {
    "colab_type": "text",
    "id": "l-6PxI6H5__2"
   },
   "source": [
    "----\n",
    "### Write a Model Function\n",
    "- Write a function called `create_model` which returns a compiled TensorFlow Keras Sequential Model suitable for classifying the QuickDraw-10 dataset. \n",
    "\n",
    "Your function `create_model` should accept the following parameters\n",
    "\n",
    "- Learning Rate `lr`\n",
    "- Optimizer `opt`\n",
    "\n",
    "\n",
    "Build a model with the following architecture and parameter values\n",
    "\n",
    "- Use `1 hidden layer` \n",
    "- Use `sigmoid` activation function in hidden layer\n",
    "- Use `250 nodes` in hidden layer \n",
    "- Use `10 nodes` in output layer\n",
    "- Use `softmax` activation fucntion in output layer\n",
    "- Use `sparse_categorical_crossentropy` loss function\n",
    "- Use `accuracy` as your metric \n",
    "\n",
    "We will use this function to build all the models that we'll need to run our experiments. "
   ]
  },
  {
   "cell_type": "code",
   "execution_count": 6,
   "metadata": {
    "colab": {},
    "colab_type": "code",
    "deletable": false,
    "id": "nEREYT-3wI1f",
    "nbgrader": {
     "cell_type": "code",
     "checksum": "6692fdabca8804cd50380fd4b9a56169",
     "grade": false,
     "grade_id": "cell-355125ca910bfedb",
     "locked": false,
     "schema_version": 3,
     "solution": true,
     "task": false
    }
   },
   "outputs": [],
   "source": [
    "def create_model(lr=.01, opt=\"adam\"):\n",
    "    \"\"\"\n",
    "    \n",
    "    Build and returns a complies Keras model.  \n",
    "    \n",
    "    Parameters\n",
    "    ----------\n",
    "    lr: float\n",
    "        Learing rate parameter used for Stocastic Gradient Descent \n",
    "        \n",
    "    opt: string\n",
    "        Name of optimizer to use\n",
    "        Valid options are \"adam\" and \"sgd\"\n",
    "        \n",
    "    Returns\n",
    "    -------\n",
    "    model: keras object \n",
    "        A complied keras model \n",
    "    \"\"\"\n",
    "\n",
    "    if opt == \"adam\":\n",
    "        opt = Adam(learning_rate=lr)\n",
    "    elif opt == 'sgd':\n",
    "        opt = SGD(learning_rate=lr)\n",
    "    else:\n",
    "        print (\"{} is not a valid option. Defaulting to Adam optimizer\".format(opt))\n",
    "        opt = Adam(learning_rate=lr)\n",
    "\n",
    "    # build model here\n",
    "# YOUR CODE HERE\n",
    "    model = Sequential([\n",
    "    Input(shape=(784,)),\n",
    "    Dense(250, activation='sigmoid'),\n",
    "    Dense(10, activation='softmax')\n",
    "  ])\n",
    "    model.compile(optimizer=opt, \n",
    "                loss='sparse_categorical_crossentropy',\n",
    "                metrics=['accuracy'])\n",
    "    return model\n"
   ]
  },
  {
   "cell_type": "code",
   "execution_count": 7,
   "metadata": {},
   "outputs": [
    {
     "name": "stdout",
     "output_type": "stream",
     "text": [
      "[   <tensorflow.python.keras.layers.core.Dense object at 0x7fa550305358>,\n",
      "    <tensorflow.python.keras.layers.core.Dense object at 0x7fa550305710>]\n",
      "[   {   'class_name': 'InputLayer',\n",
      "        'config': {   'batch_input_shape': (None, 784),\n",
      "                      'dtype': 'float32',\n",
      "                      'name': 'input_1',\n",
      "                      'ragged': False,\n",
      "                      'sparse': False}},\n",
      "    {   'class_name': 'Dense',\n",
      "        'config': {   'activation': 'sigmoid',\n",
      "                      'activity_regularizer': None,\n",
      "                      'bias_constraint': None,\n",
      "                      'bias_initializer': {'class_name': 'Zeros', 'config': {}},\n",
      "                      'bias_regularizer': None,\n",
      "                      'dtype': 'float32',\n",
      "                      'kernel_constraint': None,\n",
      "                      'kernel_initializer': {   'class_name': 'GlorotUniform',\n",
      "                                                'config': {'seed': None}},\n",
      "                      'kernel_regularizer': None,\n",
      "                      'name': 'dense',\n",
      "                      'trainable': True,\n",
      "                      'units': 250,\n",
      "                      'use_bias': True}},\n",
      "    {   'class_name': 'Dense',\n",
      "        'config': {   'activation': 'softmax',\n",
      "                      'activity_regularizer': None,\n",
      "                      'bias_constraint': None,\n",
      "                      'bias_initializer': {'class_name': 'Zeros', 'config': {}},\n",
      "                      'bias_regularizer': None,\n",
      "                      'dtype': 'float32',\n",
      "                      'kernel_constraint': None,\n",
      "                      'kernel_initializer': {   'class_name': 'GlorotUniform',\n",
      "                                                'config': {'seed': None}},\n",
      "                      'kernel_regularizer': None,\n",
      "                      'name': 'dense_1',\n",
      "                      'trainable': True,\n",
      "                      'units': 10,\n",
      "                      'use_bias': True}}]\n",
      "3 softmax\n"
     ]
    }
   ],
   "source": [
    "from pprint import PrettyPrinter\n",
    "\n",
    "pp = PrettyPrinter(indent=4)\n",
    "# a check on model architecture\n",
    "model = create_model()\n",
    "\n",
    "pp.pprint(model.layers)\n",
    "pp.pprint(model.get_config()['layers'])\n",
    "\n",
    "n_layers = len(model.get_config()[\"layers\"])\n",
    "output_act_funct =  model.get_config()[\"layers\"][-1][\"config\"][\"activation\"]\n",
    "print(n_layers, output_act_funct)\n",
    "\n",
    "assert n_layers == 3, \"You should have an input, one hidden, and an output layer\"\n",
    "assert output_act_funct == \"softmax\", \"Output act funct should be softmax\""
   ]
  },
  {
   "cell_type": "code",
   "execution_count": null,
   "metadata": {},
   "outputs": [],
   "source": []
  },
  {
   "cell_type": "markdown",
   "metadata": {},
   "source": [
    "------\n",
    "\n",
    "# Experiment #1: How does normalized input data affect our model's learning outcome?\n",
    "\n",
    "In this experiment we are going to answer the above question by training identifical models on a normalized data set and on a non-normalized data set. \n",
    "\n",
    "Then we will \n",
    "\n",
    "- Analyze the trained weight values of our model \n",
    "- Plot"
   ]
  },
  {
   "cell_type": "code",
   "execution_count": 8,
   "metadata": {},
   "outputs": [],
   "source": [
    "# Clear any logs from previous runs\n",
    "!rm -rf ./logs/"
   ]
  },
  {
   "cell_type": "markdown",
   "metadata": {},
   "source": [
    "### Fit Model on Non-Normalized data"
   ]
  },
  {
   "cell_type": "code",
   "execution_count": 9,
   "metadata": {},
   "outputs": [
    {
     "name": "stdout",
     "output_type": "stream",
     "text": [
      "Epoch 1/10\n",
      "2344/2344 [==============================] - 3s 1ms/step - loss: 1.1153 - accuracy: 0.6504 - val_loss: 0.8538 - val_accuracy: 0.7369\n",
      "Epoch 2/10\n",
      "2344/2344 [==============================] - 2s 970us/step - loss: 0.8320 - accuracy: 0.7408 - val_loss: 0.7859 - val_accuracy: 0.7549\n",
      "Epoch 3/10\n",
      "2344/2344 [==============================] - 2s 961us/step - loss: 0.7859 - accuracy: 0.7568 - val_loss: 0.7659 - val_accuracy: 0.7560\n",
      "Epoch 4/10\n",
      "2344/2344 [==============================] - 2s 973us/step - loss: 0.7626 - accuracy: 0.7641 - val_loss: 0.7641 - val_accuracy: 0.7646\n",
      "Epoch 5/10\n",
      "2344/2344 [==============================] - 2s 958us/step - loss: 0.7355 - accuracy: 0.7751 - val_loss: 0.7517 - val_accuracy: 0.7625\n",
      "Epoch 6/10\n",
      "2344/2344 [==============================] - 2s 963us/step - loss: 0.7263 - accuracy: 0.7779 - val_loss: 0.7287 - val_accuracy: 0.7744\n",
      "Epoch 7/10\n",
      "2344/2344 [==============================] - 2s 973us/step - loss: 0.7107 - accuracy: 0.7792 - val_loss: 0.7040 - val_accuracy: 0.7822\n",
      "Epoch 8/10\n",
      "2344/2344 [==============================] - 2s 979us/step - loss: 0.7165 - accuracy: 0.7761 - val_loss: 0.7252 - val_accuracy: 0.7764\n",
      "Epoch 9/10\n",
      "2344/2344 [==============================] - 2s 987us/step - loss: 0.6941 - accuracy: 0.7862 - val_loss: 0.6853 - val_accuracy: 0.7886\n",
      "Epoch 10/10\n",
      "2344/2344 [==============================] - 2s 978us/step - loss: 0.6882 - accuracy: 0.7870 - val_loss: 0.6930 - val_accuracy: 0.7867\n"
     ]
    },
    {
     "data": {
      "text/plain": [
       "<tensorflow.python.keras.callbacks.History at 0x7fa574bd2c50>"
      ]
     },
     "execution_count": 9,
     "metadata": {},
     "output_type": "execute_result"
    }
   ],
   "source": [
    "# fit model on non-normalized data\n",
    "\n",
    "now = datetime.datetime.now().strftime(\"%Y%m%d-%H%M%S\")\n",
    "logdir = os.path.join(\"logs\", f\"No_Normalization-{now}\")\n",
    "tensorboard = TensorBoard(log_dir=logdir,  histogram_freq=1)\n",
    "\n",
    "model = create_model(lr=.001, opt=\"adam\")\n",
    "\n",
    "model.fit(X_train, y_train, \n",
    "          validation_data=(X_test, y_test),\n",
    "          workers=-2, \n",
    "          epochs=10, \n",
    "          batch_size=32, \n",
    "          verbose=1, \n",
    "          callbacks=[tensorboard])"
   ]
  },
  {
   "cell_type": "markdown",
   "metadata": {},
   "source": [
    "---------\n",
    "\n",
    "### Fit Model on Normalized data"
   ]
  },
  {
   "cell_type": "code",
   "execution_count": 10,
   "metadata": {
    "deletable": false,
    "nbgrader": {
     "cell_type": "code",
     "checksum": "ccc6ed9c1e2c04f77eac26d557236dad",
     "grade": false,
     "grade_id": "cell-2792e5f1fbf02c67",
     "locked": false,
     "schema_version": 3,
     "solution": true,
     "task": false
    }
   },
   "outputs": [],
   "source": [
    "# Normalize your training and test sets \n",
    "# save normalized data to X_train_scaled and X_test_scaled\n",
    "\n",
    "# YOUR CODE HERE\n",
    "X_train_scaled = X_train/255\n",
    "X_test_scaled = X_test/255\n",
    "\n",
    "#print(X_train[0], X_train_scaled[0], X_test[0], X_test_scaled[0])"
   ]
  },
  {
   "cell_type": "code",
   "execution_count": 11,
   "metadata": {},
   "outputs": [
    {
     "name": "stdout",
     "output_type": "stream",
     "text": [
      "Epoch 1/10\n",
      "2344/2344 [==============================] - 3s 1ms/step - loss: 0.9549 - accuracy: 0.7155 - val_loss: 0.6139 - val_accuracy: 0.8157\n",
      "Epoch 2/10\n",
      "2344/2344 [==============================] - 2s 971us/step - loss: 0.5694 - accuracy: 0.8330 - val_loss: 0.5115 - val_accuracy: 0.8477\n",
      "Epoch 3/10\n",
      "2344/2344 [==============================] - 2s 979us/step - loss: 0.4760 - accuracy: 0.8583 - val_loss: 0.4843 - val_accuracy: 0.8555\n",
      "Epoch 4/10\n",
      "2344/2344 [==============================] - 2s 977us/step - loss: 0.4166 - accuracy: 0.8781 - val_loss: 0.4555 - val_accuracy: 0.8638\n",
      "Epoch 5/10\n",
      "2344/2344 [==============================] - 2s 978us/step - loss: 0.3701 - accuracy: 0.8913 - val_loss: 0.4504 - val_accuracy: 0.8666\n",
      "Epoch 6/10\n",
      "2344/2344 [==============================] - 2s 980us/step - loss: 0.3328 - accuracy: 0.9026 - val_loss: 0.4315 - val_accuracy: 0.8722\n",
      "Epoch 7/10\n",
      "2344/2344 [==============================] - 2s 984us/step - loss: 0.3064 - accuracy: 0.9105 - val_loss: 0.4262 - val_accuracy: 0.8738\n",
      "Epoch 8/10\n",
      "2344/2344 [==============================] - 2s 976us/step - loss: 0.2752 - accuracy: 0.9202 - val_loss: 0.4323 - val_accuracy: 0.8732\n",
      "Epoch 9/10\n",
      "2344/2344 [==============================] - 2s 1ms/step - loss: 0.2536 - accuracy: 0.9282 - val_loss: 0.4316 - val_accuracy: 0.8745\n",
      "Epoch 10/10\n",
      "2344/2344 [==============================] - 2s 979us/step - loss: 0.2281 - accuracy: 0.9351 - val_loss: 0.4380 - val_accuracy: 0.8714\n"
     ]
    },
    {
     "data": {
      "text/plain": [
       "<tensorflow.python.keras.callbacks.History at 0x7fa5809bce80>"
      ]
     },
     "execution_count": 11,
     "metadata": {},
     "output_type": "execute_result"
    }
   ],
   "source": [
    "# train model on normalized data\n",
    "\n",
    "now = datetime.datetime.now().strftime(\"%Y%m%d-%H%M%S\")\n",
    "logdir = os.path.join(\"logs\", f\"Normalization-{now}\")\n",
    "tensorboard = TensorBoard(log_dir=logdir,  histogram_freq=1)\n",
    "\n",
    "norm_model = create_model(lr=.001, opt=\"adam\")\n",
    "\n",
    "norm_model.fit(X_train_scaled, y_train, \n",
    "          validation_data=(X_test_scaled, y_test),\n",
    "          workers=-2, \n",
    "          epochs=10, \n",
    "          batch_size=32, \n",
    "          verbose=1, \n",
    "          callbacks=[tensorboard])"
   ]
  },
  {
   "cell_type": "markdown",
   "metadata": {},
   "source": [
    "### Each layer is labeled\n",
    "\n",
    "Take note of the label for each layer in the network. It is these labels that will help you identify the corresponding bias and weight distribtuions on tensorboard. \n",
    "\n",
    "Assuming that you've ran `create_model` 3 times: once for the model check, once to create `model`, and once to create `norm_model`:\n",
    "\n",
    "The name of the layers for `model` should be \n",
    "- dense_2\n",
    "- dense_3\n",
    "\n",
    "The name of the layers for `norm_model` should be \n",
    "- dense_4\n",
    "- dense_5\n",
    "\n",
    "\n",
    "If you keep retraining one or both of these models, tensorflow will increment the integer used in the layer names.  But that doesn't really matter, just take notice of the layer names so you can find their corresponding bias and weight distribtuions in tensorboard.\n",
    "\n",
    "**Protip:** If you want to reset the integer incrementation that tensorflow uses, you'll need to restart your notebook's kernal. "
   ]
  },
  {
   "cell_type": "code",
   "execution_count": 12,
   "metadata": {},
   "outputs": [
    {
     "name": "stdout",
     "output_type": "stream",
     "text": [
      "Model: \"sequential_1\"\n",
      "_________________________________________________________________\n",
      "Layer (type)                 Output Shape              Param #   \n",
      "=================================================================\n",
      "dense_2 (Dense)              (None, 250)               196250    \n",
      "_________________________________________________________________\n",
      "dense_3 (Dense)              (None, 10)                2510      \n",
      "=================================================================\n",
      "Total params: 198,760\n",
      "Trainable params: 198,760\n",
      "Non-trainable params: 0\n",
      "_________________________________________________________________\n"
     ]
    }
   ],
   "source": [
    "model.summary()"
   ]
  },
  {
   "cell_type": "code",
   "execution_count": 13,
   "metadata": {},
   "outputs": [
    {
     "name": "stdout",
     "output_type": "stream",
     "text": [
      "Model: \"sequential_2\"\n",
      "_________________________________________________________________\n",
      "Layer (type)                 Output Shape              Param #   \n",
      "=================================================================\n",
      "dense_4 (Dense)              (None, 250)               196250    \n",
      "_________________________________________________________________\n",
      "dense_5 (Dense)              (None, 10)                2510      \n",
      "=================================================================\n",
      "Total params: 198,760\n",
      "Trainable params: 198,760\n",
      "Non-trainable params: 0\n",
      "_________________________________________________________________\n"
     ]
    }
   ],
   "source": [
    "norm_model.summary()"
   ]
  },
  {
   "cell_type": "markdown",
   "metadata": {},
   "source": [
    "### Tensorboard \n",
    "\n",
    "- Run the cell below to launch tensorboard \n",
    "- Click on the `SCALARS` tab to see plots that compare the loss and accuracy between the two models\n",
    "- Cick on the `HISTOGRAMS` tab to see the distribution of the learned weights "
   ]
  },
  {
   "cell_type": "code",
   "execution_count": 14,
   "metadata": {},
   "outputs": [
    {
     "data": {
      "text/html": [
       "\n",
       "      <iframe id=\"tensorboard-frame-27a68330f361e453\" width=\"100%\" height=\"800\" frameborder=\"0\">\n",
       "      </iframe>\n",
       "      <script>\n",
       "        (function() {\n",
       "          const frame = document.getElementById(\"tensorboard-frame-27a68330f361e453\");\n",
       "          const url = new URL(\"/\", window.location);\n",
       "          const port = 6007;\n",
       "          if (port) {\n",
       "            url.port = port;\n",
       "          }\n",
       "          frame.src = url;\n",
       "        })();\n",
       "      </script>\n",
       "    "
      ],
      "text/plain": [
       "<IPython.core.display.HTML object>"
      ]
     },
     "metadata": {},
     "output_type": "display_data"
    }
   ],
   "source": [
    "%tensorboard --logdir logs"
   ]
  },
  {
   "cell_type": "markdown",
   "metadata": {},
   "source": [
    "### Tensorboard \n",
    "\n",
    "Check out the loss and accuracy plots on the `SCALARS` tab. \n",
    "\n",
    "What you should see is that the accuracy is much higher for the model that was given normalized data; conversely, the loss is much lower for the model that was given normalized data. \n",
    "\n",
    "Recall that what we are doing whenever training a model is adjusting the value of the bias and weights in each layer. For simplicity of analysis, we only trained two layers: a hidden layer and the output layer. \n",
    "\n",
    "Now click on the `HISTOGRAM` tab. \n",
    "\n",
    "You should see both of your model's layer names. \n",
    "\n",
    "### Hidden Layer Distributions\n",
    "\n",
    "Collapse the charts that correspond to the output layer so only the distributions for the weights and bias in the hidden layer are showing. (i.e. Only expand `dense_2` and `dense_4`). \n",
    "\n",
    "Also don't be confused by the word `kernel`, that's just the word that Tensorflow uses instead of weights. So, to be clear, **the kernal distributions are the weight values.** \n",
    "\n",
    "The `bias` distributions are the bias values. \n",
    "\n",
    "You should see 10 distributions stacked next to each other, **one distribution per epoch.**\n",
    "\n",
    "The distribuion in the far back corresponds to the weight values at epoch 1 (tensorflow starts the count at 0, like the index for a list). The distribution at the very front corresponds to the weight values at the 10th epoch (tensorflow indexing show 9 instead of 10).\n",
    "\n",
    "Notice how the shape of the distribution changes accross epochs? That's because their **values are being updated via Gradient Descent.** \n",
    "\n",
    "The distributions that you see are direclty responsible for the validation accuracy of our models. The reason why they look different between the two models is because one model was given normalize data and one wasn't. So you can conclude that the weight distributions in `dense_4` produce a higher validation accuracy than the weight distributions in `dense_2`. \n",
    "\n",
    "Now it's time to analyze those weight values more closely. "
   ]
  },
  {
   "cell_type": "markdown",
   "metadata": {},
   "source": [
    "----------\n",
    "### Analyze Weights in Each Layer"
   ]
  },
  {
   "cell_type": "code",
   "execution_count": 15,
   "metadata": {},
   "outputs": [],
   "source": [
    "# get the final bias and weight matrices for model\n",
    "layer = model.get_layer(name=\"dense_2\")\n",
    "bias, weights = layer.get_weights()"
   ]
  },
  {
   "cell_type": "code",
   "execution_count": 16,
   "metadata": {},
   "outputs": [],
   "source": [
    "# get the final  value bias and weight magrices for norm_moel\n",
    "layer = norm_model.get_layer(name=\"dense_4\")\n",
    "bias_norm, weights_norm = layer.get_weights()"
   ]
  },
  {
   "cell_type": "code",
   "execution_count": 17,
   "metadata": {},
   "outputs": [],
   "source": [
    "# this line of code should not throw an error if the number of weights is the same for the hidden layer of both models\n",
    "# this line of code is known as a Unit Test \n",
    "assert weights.shape[0] == weights_norm.shape[0]"
   ]
  },
  {
   "cell_type": "markdown",
   "metadata": {},
   "source": [
    "### Initial Weight Values\n",
    "\n",
    "By default, Keras dense layers randomly initialize the weight values using [**GlorotUniform**](https://keras.io/api/layers/initializers/). \n",
    "\n",
    "The cell below is sampling values from the GlorotUniform distribution. Let's sample from the GlorotUniform distribution and plot it in order to get a sense of the initial distribution of our weights - before Gradient Descent starts upading their values at training time. "
   ]
  },
  {
   "cell_type": "code",
   "execution_count": 18,
   "metadata": {},
   "outputs": [],
   "source": [
    "# let's take 250 random samples form the GlorotUniform\n",
    "# because they are random samples their exact values might have been a little different for model and norm_model - but we will assume that they were not statistically different \n",
    "# 250 because that's how many weights are in the hidden layer for both of our models\n",
    "initializer = tf.keras.initializers.GlorotUniform(seed=1234)\n",
    "initial_weight_values = initializer(shape=(1, 250))"
   ]
  },
  {
   "cell_type": "code",
   "execution_count": 19,
   "metadata": {},
   "outputs": [
    {
     "data": {
      "image/png": "[encoded data removed]",
      "text/plain": [
       "<Figure size 1440x432 with 1 Axes>"
      ]
     },
     "metadata": {
      "needs_background": "light"
     },
     "output_type": "display_data"
    }
   ],
   "source": [
    "plt.figure(figsize=(20,6))\n",
    "plt.title(\"Learned Weights in Hidden Layers\")\n",
    "plt.xlabel(\"Weight Values\")\n",
    "plt.grid()\n",
    "\n",
    "# by setting density=True, we are transforming our plots into probability distributions \n",
    "plt.hist(weights, bins=20, alpha=0.5, label=\"weights from model\", density=True);\n",
    "plt.hist(weights_norm, bins=20, alpha=0.5, label=\"weights from norm_model\", density=True);\n",
    "plt.hist(initial_weight_values, bins=20, alpha=0.5, label=\"initial weight values\", density=True);\n",
    "plt.legend(fontsize=\"x-large\");"
   ]
  },
  {
   "cell_type": "markdown",
   "metadata": {},
   "source": [
    "### Observations\n",
    "\n",
    "Your plot should have 3 distributions\n",
    "\n",
    "- weights from model trained on non-normalized data\n",
    "- weights from model trained on normalized data\n",
    "- initial weight values sampled from a Glorot Uniform distributions \n",
    "\n",
    "Use the plot to answer the following questions."
   ]
  },
  {
   "cell_type": "markdown",
   "metadata": {},
   "source": [
    "**Comparing the initial weights with weights_from_model, what was the effect of not using normalized data?**"
   ]
  },
  {
   "cell_type": "markdown",
   "metadata": {
    "deletable": false,
    "nbgrader": {
     "cell_type": "markdown",
     "checksum": "500ff9c3902f635e0a9aafa64e2cc95d",
     "grade": true,
     "grade_id": "cell-4d6c92df9d105c46",
     "locked": false,
     "points": 0,
     "schema_version": 3,
     "solution": true,
     "task": false
    }
   },
   "source": [
    "YOUR ANSWER HERE"
   ]
  },
  {
   "cell_type": "markdown",
   "metadata": {},
   "source": [
    "**Comparing the initial weights with weights_from_norm_model, what was the effect of using normalized data?**"
   ]
  },
  {
   "cell_type": "markdown",
   "metadata": {
    "deletable": false,
    "nbgrader": {
     "cell_type": "markdown",
     "checksum": "23d7012c3d7ce759e5389a0dfee1892a",
     "grade": true,
     "grade_id": "cell-614992ba50bf54c4",
     "locked": false,
     "points": 0,
     "schema_version": 3,
     "solution": true,
     "task": false
    }
   },
   "source": [
    "YOUR ANSWER HERE"
   ]
  },
  {
   "cell_type": "markdown",
   "metadata": {},
   "source": [
    "**Using your understand of how Gradient Descent works, why do you think that the distributions between weights_from_model and weights_from_norm_model look so different?**"
   ]
  },
  {
   "cell_type": "markdown",
   "metadata": {
    "deletable": false,
    "nbgrader": {
     "cell_type": "markdown",
     "checksum": "52e82163ac0a8d8b47bc613199650fe2",
     "grade": true,
     "grade_id": "cell-598a597c991950f8",
     "locked": false,
     "points": 0,
     "schema_version": 3,
     "solution": true,
     "task": false
    }
   },
   "source": [
    "YOUR ANSWER HERE"
   ]
  },
  {
   "cell_type": "markdown",
   "metadata": {},
   "source": [
    "----\n",
    "\n",
    "# Additional Experiments\n",
    "\n",
    "The previous experiment demonstrated the importance of normalizing our data in order to maximize model accuracy. In the next few experiments, we are going to explore the effect that certain values for Batch Size, Learning Rate, and different Optimizers have on model accuracy. \n",
    "\n",
    "Using our **create_model** model building function, conduct the following experiments. "
   ]
  },
  {
   "cell_type": "markdown",
   "metadata": {
    "colab_type": "text",
    "id": "f0pCkh8C7eGL"
   },
   "source": [
    "### Experiment with Batch Size\n",
    "* Run 5 experiments with various batch sizes of your choice. \n",
    "* Visualize the results\n",
    "* Write up an analysis of the experiments and select the \"best\" performing model among your experiments. Make sure to compare against your model's performance yesterday. "
   ]
  },
  {
   "cell_type": "code",
   "execution_count": null,
   "metadata": {
    "colab": {},
    "colab_type": "code",
    "id": "USXjs7Hk71Hy"
   },
   "outputs": [],
   "source": []
  },
  {
   "cell_type": "markdown",
   "metadata": {
    "colab_type": "text",
    "id": "8b-r70o8p2Dm"
   },
   "source": [
    "### Experiment with Learning Rate\n",
    "* Run 5 experiments with various learning rate magnitudes: 1, .1, .01, .001, .0001.\n",
    "* Use the \"best\" batch size from the previous experiment\n",
    "* Visualize the results\n",
    "* Write up an analysis of the experiments and select the \"best\" performing model among your experiments. Make sure to compare against the previous experiments and your model's performance yesterday. "
   ]
  },
  {
   "cell_type": "code",
   "execution_count": null,
   "metadata": {
    "colab": {},
    "colab_type": "code",
    "id": "_SA144xx8Luf"
   },
   "outputs": [],
   "source": []
  },
  {
   "cell_type": "markdown",
   "metadata": {
    "colab_type": "text",
    "id": "gxMtSRhV9Q7I"
   },
   "source": [
    "### Experiment with different Optimizers\n",
    "* Run 5 experiments with various optimizers available in TensorFlow. See list [here](https://www.tensorflow.org/api_docs/python/tf/keras/optimizers)\n",
    "* Visualize the results\n",
    "* Write up an analysis of the experiments and select the \"best\" performing model among your experiments. Make sure to compare against the previous experiments and your model's performance yesterday.\n",
    "* Repeat the experiment combining Learning Rate and different optimizers. Does the best performing model change? "
   ]
  },
  {
   "cell_type": "code",
   "execution_count": null,
   "metadata": {
    "colab": {},
    "colab_type": "code",
    "id": "ujLuzdNA91ip"
   },
   "outputs": [],
   "source": []
  },
  {
   "cell_type": "markdown",
   "metadata": {
    "colab_type": "text",
    "id": "FwlRJSfBlCvy"
   },
   "source": [
    "------\n",
    "\n",
    "## Stretch Goals: \n",
    "\n",
    "- On the learning rate experiments, implement [EarlyStopping](https://keras.io/api/callbacks/early_stopping/)\n",
    "- Review the math of Gradient Descent. "
   ]
  }
 ],
 "metadata": {
  "colab": {
   "collapsed_sections": [],
   "name": "LS_DS_432_Train_Assignment.ipynb",
   "provenance": []
  },
  "kernelspec": {
   "display_name": "U4-S2-NN (Python3)",
   "language": "python",
   "name": "u4-s2-nn"
  },
  "language_info": {
   "codemirror_mode": {
    "name": "ipython",
    "version": 3
   },
   "file_extension": ".py",
   "mimetype": "text/x-python",
   "name": "python",
   "nbconvert_exporter": "python",
   "pygments_lexer": "ipython3",
   "version": "3.7.0"
  },
  "nteract": {
   "version": "0.22.4"
  }
 },
 "nbformat": 4,
 "nbformat_minor": 4
}
