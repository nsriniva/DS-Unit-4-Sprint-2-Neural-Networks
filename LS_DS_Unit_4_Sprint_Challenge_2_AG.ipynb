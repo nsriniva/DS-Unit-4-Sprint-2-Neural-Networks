{
 "cells": [
  {
   "cell_type": "markdown",
   "metadata": {},
   "source": [
    "\n",
    "## Autograded Notebook (Canvas & CodeGrade)\n",
    "\n",
    "This notebook will be automatically graded. It is designed to test your answers and award points for the correct answers. Following the instructions for each Task carefully.\n",
    "Instructions\n",
    "\n",
    "- **Download** this notebook as you would any other ipynb file \n",
    "- **Upload** to Google Colab or work locally (if you have that set-up)\n",
    "- **Delete** `raise NotImplementedError()`\n",
    "\n",
    "- **Write** your code in the `# YOUR CODE HERE` space\n",
    "\n",
    "\n",
    "- **Execute** the Test cells that contain assert statements - these help you check your work (others contain hidden tests that will be checked when you submit through Canvas)\n",
    "\n",
    "- **Save** your notebook when you are finished\n",
    "- **Download** as a ipynb file (if working in Colab)\n",
    "- **Upload** your complete notebook to Canvas (there will be additional instructions in Slack and/or Canvas)\n",
    "\n"
   ]
  },
  {
   "cell_type": "markdown",
   "metadata": {},
   "source": [
    "\n",
    "## *Data Science Unit 4 Sprint 2*\n",
    "\n",
    "# Sprint Challenge - Neural Network Foundations\n",
    "\n",
    "Table of Problems\n",
    "\n",
    "1. [Defining Neural Networks](#Q1)\n",
    "2. [Simple Perceptron](#Q2)\n",
    "    - Perceptron\n",
    "    - Multilayer Perceptron (i.e. Neural Network)\n",
    "    - Analyze and Compare\n",
    "4. [Keras MMP](#Q3)\n",
    "\n",
    "\n",
    "____\n",
    "\n",
    "# Before you submit your notebook you must first\n",
    "\n",
    "1) Restart your notebook's Kernel\n",
    "\n",
    "2) Run all cells sequentially, from top to bottom, so that cell numbers are sequential numbers (i.e. 1,2,3,4,5...)\n",
    "- Easiest way to do this is to click on the **Cell** tab at the top of your notebook and select **Run All** from the drop down menu. \n",
    "\n",
    "____"
   ]
  },
  {
   "cell_type": "markdown",
   "metadata": {
    "deletable": false,
    "editable": false,
    "nbgrader": {
     "cell_type": "markdown",
     "checksum": "a2d017ba3200be3890c0b67eda283c48",
     "grade": false,
     "grade_id": "cell-621a8b86bacf295a",
     "locked": true,
     "points": 0,
     "schema_version": 3,
     "solution": false,
     "task": true
    }
   },
   "source": [
    "<a id=\"Q1\"></a>\n",
    "## 1. Defining Neural Networks \n",
    "\n",
    "Write *your own* definitions for the following terms:\n",
    "\n",
    "- **Neuron:**\n",
    "\n",
    "- **Input Layer:** \n",
    "\n",
    "- **Hidden Layer:** \n",
    "\n",
    "- **Output Layer:**\n",
    "\n",
    "- **Activation:** "
   ]
  },
  {
   "cell_type": "markdown",
   "metadata": {
    "deletable": false,
    "nbgrader": {
     "cell_type": "markdown",
     "checksum": "7233c31461609b21a7fc2651afb12632",
     "grade": true,
     "grade_id": "cell-6adae65226f09553",
     "locked": false,
     "points": 0,
     "schema_version": 3,
     "solution": true,
     "task": false
    }
   },
   "source": [
    "- A **Neuron** is an element, in a **Neural Network**, containing 4 components:\n",
    "    1. A constant valued **Bias** input\n",
    "    - Multiple variable valued **Data** inputs, each of which has an associated weight\n",
    "    - A non-linear **Activation** function\n",
    "    - A single output \n",
    "  It adds the **bias input** to the **weighted sum of the data inputs**, applies the **activation function** to the resultant sum and **outputs** the return value.\n",
    "  \n",
    "- The **Input Layer** is a simple passthrough layer through which data enters a neural network.\n",
    "\n",
    "- A **Hidden Layer** is any layer of neurons between the **Input** and **Output** layers. \n",
    "\n",
    "- The **Output Layer** is the outermost layer of a neural network which provides the output for the given inputs into the neural network. \n",
    "\n",
    "- **Activation** is the result of applying an **activation function** to the sum of the bias and the weighted sum of the inputs.  "
   ]
  },
  {
   "cell_type": "markdown",
   "metadata": {
    "deletable": false,
    "editable": false,
    "nbgrader": {
     "cell_type": "markdown",
     "checksum": "10aa095d3db59bfe47f9823cfd62f1ef",
     "grade": false,
     "grade_id": "cell-d64f1de9e9458dc7",
     "locked": true,
     "points": 0,
     "schema_version": 3,
     "solution": false,
     "task": true
    }
   },
   "source": [
    "- `Explain` how Back-propagation works \n",
    "- `Explain` how Gradient Descent works (mention the learning rate)\n",
    "- `Explain` how Back-propagation and Gradient Descent are related   \n",
    "\n",
    "Use your own words, but feel free to reference external materials for this question. "
   ]
  },
  {
   "cell_type": "markdown",
   "metadata": {
    "deletable": false,
    "nbgrader": {
     "cell_type": "markdown",
     "checksum": "ceb3f64a4b1b18346decf75c8f5567d2",
     "grade": true,
     "grade_id": "cell-cef20b23d4e0b056",
     "locked": false,
     "points": 0,
     "schema_version": 3,
     "solution": true,
     "task": false
    }
   },
   "source": [
    "- **Back-propogation** is the process of adjusting weights and biases in a neural network, after a training run, to minimize the loss/cost function. The adjustment, to be subtracted from the current weight/bias, is computed by determining the gradient of the loss/cost function wrt the weight/bias being adjusted and multiplying that by a learning rate.\n",
    "\n",
    "- The process of adjusting weights and biases by subtracting the product of the learning rate and gradient of the loss/cost function wrt to the weight/bias being adjusted is known as **Gradient Descent**\n",
    "\n",
    "- **Back-propagation** uses **Gradient Descent** to adjust weights and biases in the neural network so as to minimize the loss/cost function."
   ]
  },
  {
   "cell_type": "markdown",
   "metadata": {
    "deletable": false,
    "editable": false,
    "nbgrader": {
     "cell_type": "markdown",
     "checksum": "e040f3ddce6eb34b017f0eb685b202e6",
     "grade": false,
     "grade_id": "cell-e013d19857352d79",
     "locked": true,
     "points": 0,
     "schema_version": 3,
     "solution": false,
     "task": true
    }
   },
   "source": [
    "Remember our Simple Perceptron Class from Monday. \n",
    "\n",
    "- Describe the process of making a prediction, i.e. how do you go from inputs to outputs?"
   ]
  },
  {
   "cell_type": "markdown",
   "metadata": {
    "deletable": false,
    "nbgrader": {
     "cell_type": "markdown",
     "checksum": "d746de6391012340f8548821850a621c",
     "grade": true,
     "grade_id": "cell-53c7cc36db9d7983",
     "locked": false,
     "points": 0,
     "schema_version": 3,
     "solution": true,
     "task": false
    }
   },
   "source": [
    "The output is computed by applying the **activation function** to the sum of the **bias** and **weighted sum of inputs*."
   ]
  },
  {
   "cell_type": "markdown",
   "metadata": {},
   "source": [
    "<a id=\"Q2\"></a>\n",
    "## 2. Simple Perceptron\n",
    "\n",
    "In this question, you will build two neural networks using `Keras`. After you build these two models, compare the results of the model."
   ]
  },
  {
   "cell_type": "code",
   "execution_count": 1,
   "metadata": {},
   "outputs": [],
   "source": [
    "\"\"\"\n",
    "Our Dataset\n",
    "\"\"\"\n",
    "import numpy as np\n",
    "\n",
    "\n",
    "rng = np.random.RandomState(0)\n",
    "\n",
    "\"Use this X & y in the following 2 models\"\n",
    "X = rng.randn(300, 2)\n",
    "y = np.array(np.logical_xor(X[:, 0] > 0, X[:, 1] > 0), \n",
    "             dtype=int)"
   ]
  },
  {
   "cell_type": "code",
   "execution_count": 6,
   "metadata": {},
   "outputs": [
    {
     "data": {
      "text/plain": [
       "((300, 2), (300,))"
      ]
     },
     "execution_count": 6,
     "metadata": {},
     "output_type": "execute_result"
    }
   ],
   "source": [
    "X.shape, y.shape"
   ]
  },
  {
   "cell_type": "code",
   "execution_count": 3,
   "metadata": {},
   "outputs": [
    {
     "data": {
      "text/plain": [
       "array([0, 0, 1, 1, 1, 0, 0, 0, 1, 1, 1, 1, 1, 1, 0, 0, 0, 1, 0, 0, 0, 1,\n",
       "       0, 1, 0, 1, 0, 1, 0, 0, 0, 0, 1, 1, 1, 0, 1, 1, 0, 1, 1, 1, 0, 1,\n",
       "       1, 1, 0, 0, 0, 0, 1, 1, 1, 0, 0, 0, 1, 1, 1, 0, 1, 0, 0, 1, 0, 1,\n",
       "       1, 1, 1, 1, 1, 0, 0, 1, 0, 1, 0, 0, 1, 0, 1, 0, 1, 0, 0, 0, 1, 1,\n",
       "       0, 1, 0, 0, 1, 1, 1, 1, 0, 1, 0, 0, 0, 0, 1, 0, 1, 0, 1, 0, 1, 1,\n",
       "       0, 1, 1, 0, 0, 0, 1, 1, 1, 0, 0, 0, 0, 0, 0, 1, 1, 0, 0, 1, 0, 0,\n",
       "       1, 0, 1, 1, 0, 0, 1, 1, 1, 1, 0, 1, 0, 0, 1, 1, 0, 1, 1, 0, 1, 0,\n",
       "       1, 1, 0, 1, 0, 0, 0, 1, 0, 1, 1, 1, 1, 1, 1, 1, 1, 0, 0, 1, 0, 0,\n",
       "       1, 0, 0, 1, 0, 0, 1, 0, 0, 1, 1, 0, 1, 1, 1, 0, 1, 0, 0, 1, 0, 0,\n",
       "       0, 0, 0, 0, 1, 0, 0, 1, 0, 0, 0, 0, 0, 1, 1, 1, 1, 0, 0, 1, 0, 0,\n",
       "       0, 1, 1, 1, 0, 1, 0, 0, 0, 1, 0, 1, 1, 0, 1, 0, 0, 0, 1, 0, 0, 0,\n",
       "       1, 0, 1, 0, 0, 1, 0, 0, 1, 1, 0, 0, 1, 0, 0, 1, 0, 0, 0, 0, 1, 0,\n",
       "       1, 1, 0, 0, 0, 0, 1, 1, 0, 1, 1, 0, 1, 1, 1, 0, 1, 1, 1, 0, 0, 1,\n",
       "       0, 1, 0, 1, 0, 1, 0, 1, 0, 0, 0, 0, 0, 0])"
      ]
     },
     "execution_count": 3,
     "metadata": {},
     "output_type": "execute_result"
    }
   ],
   "source": [
    "y"
   ]
  },
  {
   "cell_type": "code",
   "execution_count": 4,
   "metadata": {},
   "outputs": [
    {
     "data": {
      "text/plain": [
       "4"
      ]
     },
     "execution_count": 4,
     "metadata": {},
     "output_type": "execute_result"
    }
   ],
   "source": [
    "2**2"
   ]
  },
  {
   "cell_type": "code",
   "execution_count": 5,
   "metadata": {},
   "outputs": [
    {
     "data": {
      "text/plain": [
       "256"
      ]
     },
     "execution_count": 5,
     "metadata": {},
     "output_type": "execute_result"
    }
   ],
   "source": [
    "4**4"
   ]
  },
  {
   "cell_type": "code",
   "execution_count": null,
   "metadata": {},
   "outputs": [],
   "source": []
  },
  {
   "cell_type": "code",
   "execution_count": null,
   "metadata": {},
   "outputs": [],
   "source": []
  },
  {
   "cell_type": "markdown",
   "metadata": {},
   "source": [
    "### Simple Perceptron\n",
    "Construct a simple perceptron using Keras. \n",
    "\n",
    "Make sure to include the following in your model:\n",
    "- Add `1 dense layer` with a `single neuron` \n",
    "- Use a `sigmoid activation function`\n",
    "- Set `epochs` to 10 \n",
    "- Use the version of `crossentropy loss` that is appropriate for this data.\n",
    "\n",
    "Your model should be called `model1` and make sure to save the results of your fit statement to a variable called `h1`. \n"
   ]
  },
  {
   "cell_type": "code",
   "execution_count": 19,
   "metadata": {
    "deletable": false,
    "nbgrader": {
     "cell_type": "code",
     "checksum": "67e9f7297eb22a79437494d713d74b71",
     "grade": false,
     "grade_id": "cell-427690628f9c900b",
     "locked": false,
     "schema_version": 3,
     "solution": true,
     "task": false
    }
   },
   "outputs": [
    {
     "name": "stdout",
     "output_type": "stream",
     "text": [
      "Epoch 1/10\n",
      "10/10 [==============================] - 0s 682us/step - loss: 0.7231 - accuracy: 0.5063\n",
      "Epoch 2/10\n",
      "10/10 [==============================] - 0s 628us/step - loss: 0.7249 - accuracy: 0.5014\n",
      "Epoch 3/10\n",
      "10/10 [==============================] - 0s 647us/step - loss: 0.7110 - accuracy: 0.5105\n",
      "Epoch 4/10\n",
      "10/10 [==============================] - 0s 678us/step - loss: 0.7148 - accuracy: 0.5004\n",
      "Epoch 5/10\n",
      "10/10 [==============================] - 0s 651us/step - loss: 0.7205 - accuracy: 0.5082\n",
      "Epoch 6/10\n",
      "10/10 [==============================] - 0s 655us/step - loss: 0.7148 - accuracy: 0.5062\n",
      "Epoch 7/10\n",
      "10/10 [==============================] - 0s 655us/step - loss: 0.7034 - accuracy: 0.5257\n",
      "Epoch 8/10\n",
      "10/10 [==============================] - 0s 636us/step - loss: 0.7010 - accuracy: 0.5608\n",
      "Epoch 9/10\n",
      "10/10 [==============================] - 0s 614us/step - loss: 0.7114 - accuracy: 0.5039\n",
      "Epoch 10/10\n",
      "10/10 [==============================] - 0s 613us/step - loss: 0.7166 - accuracy: 0.5094\n"
     ]
    }
   ],
   "source": [
    "import tensorflow\n",
    "from tensorflow.keras.models import Sequential\n",
    "from tensorflow.keras.layers import Dense\n",
    "\n",
    "# build and fit model\n",
    "\n",
    "# YOUR CODE HERE\n",
    "\n",
    "model1 = Sequential([\n",
    "        Dense(1, input_dim=2,activation='sigmoid')\n",
    "        ])\n",
    "model1.compile(loss=\"binary_crossentropy\", metrics=['accuracy'])\n",
    "\n",
    "h1 = model1.fit(X, y, epochs=10)\n"
   ]
  },
  {
   "cell_type": "code",
   "execution_count": 20,
   "metadata": {
    "deletable": false,
    "editable": false,
    "nbgrader": {
     "cell_type": "code",
     "checksum": "36f7f830036d0443ca8e8ba0f17b2a4e",
     "grade": true,
     "grade_id": "cell-bf2ae566afacde8c",
     "locked": true,
     "points": 1,
     "schema_version": 3,
     "solution": false,
     "task": false
    }
   },
   "outputs": [],
   "source": [
    "# Visible test\n",
    "assert len(model1.get_config()[\"layers\"]) == 2, \"Make sure you only create 1 Dense layer.\"\n",
    "assert len(h1.epoch) <=10, \"Did you make sure to set epochs to 10 or less?\""
   ]
  },
  {
   "cell_type": "code",
   "execution_count": 21,
   "metadata": {},
   "outputs": [
    {
     "data": {
      "text/plain": [
       "[{'class_name': 'InputLayer',\n",
       "  'config': {'batch_input_shape': (None, 2),\n",
       "   'dtype': 'float32',\n",
       "   'sparse': False,\n",
       "   'ragged': False,\n",
       "   'name': 'dense_11_input'}},\n",
       " {'class_name': 'Dense',\n",
       "  'config': {'name': 'dense_11',\n",
       "   'trainable': True,\n",
       "   'batch_input_shape': (None, 2),\n",
       "   'dtype': 'float32',\n",
       "   'units': 1,\n",
       "   'activation': 'sigmoid',\n",
       "   'use_bias': True,\n",
       "   'kernel_initializer': {'class_name': 'GlorotUniform',\n",
       "    'config': {'seed': None}},\n",
       "   'bias_initializer': {'class_name': 'Zeros', 'config': {}},\n",
       "   'kernel_regularizer': None,\n",
       "   'bias_regularizer': None,\n",
       "   'activity_regularizer': None,\n",
       "   'kernel_constraint': None,\n",
       "   'bias_constraint': None}}]"
      ]
     },
     "execution_count": 21,
     "metadata": {},
     "output_type": "execute_result"
    }
   ],
   "source": [
    "model1.get_config()[\"layers\"]"
   ]
  },
  {
   "cell_type": "code",
   "execution_count": 22,
   "metadata": {
    "deletable": false,
    "editable": false,
    "nbgrader": {
     "cell_type": "code",
     "checksum": "95d3ee2935a0de64f2a5a22460520e69",
     "grade": true,
     "grade_id": "cell-a957e14380b2f508",
     "locked": true,
     "points": 1,
     "schema_version": 3,
     "solution": false,
     "task": false
    }
   },
   "outputs": [],
   "source": [
    "# Hidden tests - you will see the results when you submit to Canvas"
   ]
  },
  {
   "cell_type": "markdown",
   "metadata": {},
   "source": [
    "### Multi-Layer Perceptron\n",
    "Now construct a multi-layer perceptron model (also known as a neural network). \n",
    "\n",
    "Your neural network `must` have: \n",
    "- `2` Hidden Layers\n",
    "- Select any number between `5-32` for the number of neurons in each hidden layers\n",
    "- Your pick of activation function and optimizer\n",
    "- Incorporate the `Callback function` below into your model\n",
    "- Set epochs to `100`\n",
    "- Your model should be called `model2` \n",
    "- Save the results of your fit statement to a variable called `h2`. \n",
    "- Use the version of `crossentropy loss` that is appropriate for this data."
   ]
  },
  {
   "cell_type": "code",
   "execution_count": 25,
   "metadata": {},
   "outputs": [],
   "source": [
    "import tensorflow as tf\n",
    "\n",
    "class myCallback(tf.keras.callbacks.Callback): \n",
    "   def on_epoch_end(self, epoch, logs={}): \n",
    "        # if model reaches 99% accuracy, training is terminated \n",
    "        acc_threshold = 0.99\n",
    "        if(logs.get('accuracy') > acc_threshold):   \n",
    "            self.model.stop_training = True\n",
    "            self.model.callback_used = True"
   ]
  },
  {
   "cell_type": "code",
   "execution_count": 50,
   "metadata": {
    "deletable": false,
    "nbgrader": {
     "cell_type": "code",
     "checksum": "314337f29c8cd7f38224a31687a86b12",
     "grade": false,
     "grade_id": "cell-77523c4c64743f16",
     "locked": false,
     "schema_version": 3,
     "solution": true,
     "task": false
    }
   },
   "outputs": [
    {
     "name": "stdout",
     "output_type": "stream",
     "text": [
      "Epoch 1/100\n",
      "10/10 [==============================] - 0s 1ms/step - loss: 0.7317 - accuracy: 0.5434\n",
      "Epoch 2/100\n",
      "10/10 [==============================] - 0s 726us/step - loss: 0.7058 - accuracy: 0.5297\n",
      "Epoch 3/100\n",
      "10/10 [==============================] - 0s 741us/step - loss: 0.6837 - accuracy: 0.6045\n",
      "Epoch 4/100\n",
      "10/10 [==============================] - 0s 731us/step - loss: 0.6920 - accuracy: 0.5920\n",
      "Epoch 5/100\n",
      "10/10 [==============================] - 0s 679us/step - loss: 0.6847 - accuracy: 0.6279\n",
      "Epoch 6/100\n",
      "10/10 [==============================] - 0s 675us/step - loss: 0.6753 - accuracy: 0.6687\n",
      "Epoch 7/100\n",
      "10/10 [==============================] - 0s 654us/step - loss: 0.6892 - accuracy: 0.6369\n",
      "Epoch 8/100\n",
      "10/10 [==============================] - 0s 676us/step - loss: 0.6968 - accuracy: 0.6111\n",
      "Epoch 9/100\n",
      "10/10 [==============================] - 0s 664us/step - loss: 0.6896 - accuracy: 0.6354\n",
      "Epoch 10/100\n",
      "10/10 [==============================] - 0s 707us/step - loss: 0.6831 - accuracy: 0.6545\n",
      "Epoch 11/100\n",
      "10/10 [==============================] - 0s 620us/step - loss: 0.6865 - accuracy: 0.6823\n",
      "Epoch 12/100\n",
      "10/10 [==============================] - 0s 693us/step - loss: 0.6852 - accuracy: 0.6772\n",
      "Epoch 13/100\n",
      "10/10 [==============================] - 0s 679us/step - loss: 0.6835 - accuracy: 0.6986\n",
      "Epoch 14/100\n",
      "10/10 [==============================] - 0s 685us/step - loss: 0.6830 - accuracy: 0.7041\n",
      "Epoch 15/100\n",
      "10/10 [==============================] - 0s 653us/step - loss: 0.6940 - accuracy: 0.6536\n",
      "Epoch 16/100\n",
      "10/10 [==============================] - 0s 698us/step - loss: 0.6877 - accuracy: 0.6808\n",
      "Epoch 17/100\n",
      "10/10 [==============================] - 0s 677us/step - loss: 0.6853 - accuracy: 0.6628\n",
      "Epoch 18/100\n",
      "10/10 [==============================] - 0s 689us/step - loss: 0.6876 - accuracy: 0.6865\n",
      "Epoch 19/100\n",
      "10/10 [==============================] - 0s 646us/step - loss: 0.6863 - accuracy: 0.6765\n",
      "Epoch 20/100\n",
      "10/10 [==============================] - 0s 685us/step - loss: 0.6855 - accuracy: 0.6931\n",
      "Epoch 21/100\n",
      "10/10 [==============================] - 0s 653us/step - loss: 0.6889 - accuracy: 0.6685\n",
      "Epoch 22/100\n",
      "10/10 [==============================] - 0s 661us/step - loss: 0.6826 - accuracy: 0.7092\n",
      "Epoch 23/100\n",
      "10/10 [==============================] - 0s 627us/step - loss: 0.6804 - accuracy: 0.6979\n",
      "Epoch 24/100\n",
      "10/10 [==============================] - 0s 722us/step - loss: 0.6861 - accuracy: 0.6895\n",
      "Epoch 25/100\n",
      "10/10 [==============================] - 0s 669us/step - loss: 0.6929 - accuracy: 0.6634\n",
      "Epoch 26/100\n",
      "10/10 [==============================] - 0s 700us/step - loss: 0.6834 - accuracy: 0.6863\n",
      "Epoch 27/100\n",
      "10/10 [==============================] - 0s 646us/step - loss: 0.6838 - accuracy: 0.6854\n",
      "Epoch 28/100\n",
      "10/10 [==============================] - 0s 678us/step - loss: 0.6818 - accuracy: 0.6888\n",
      "Epoch 29/100\n",
      "10/10 [==============================] - 0s 701us/step - loss: 0.6938 - accuracy: 0.6687\n",
      "Epoch 30/100\n",
      "10/10 [==============================] - 0s 664us/step - loss: 0.6899 - accuracy: 0.6841\n",
      "Epoch 31/100\n",
      "10/10 [==============================] - 0s 635us/step - loss: 0.6788 - accuracy: 0.7132\n",
      "Epoch 32/100\n",
      "10/10 [==============================] - 0s 691us/step - loss: 0.6795 - accuracy: 0.7144\n",
      "Epoch 33/100\n",
      "10/10 [==============================] - 0s 639us/step - loss: 0.6975 - accuracy: 0.6663\n",
      "Epoch 34/100\n",
      "10/10 [==============================] - 0s 713us/step - loss: 0.6834 - accuracy: 0.6819\n",
      "Epoch 35/100\n",
      "10/10 [==============================] - 0s 674us/step - loss: 0.6797 - accuracy: 0.7041\n",
      "Epoch 36/100\n",
      "10/10 [==============================] - 0s 700us/step - loss: 0.6835 - accuracy: 0.6721\n",
      "Epoch 37/100\n",
      "10/10 [==============================] - 0s 693us/step - loss: 0.6833 - accuracy: 0.6775\n",
      "Epoch 38/100\n",
      "10/10 [==============================] - 0s 736us/step - loss: 0.6877 - accuracy: 0.6642\n",
      "Epoch 39/100\n",
      "10/10 [==============================] - 0s 622us/step - loss: 0.6878 - accuracy: 0.6820\n",
      "Epoch 40/100\n",
      "10/10 [==============================] - 0s 687us/step - loss: 0.6844 - accuracy: 0.6947\n",
      "Epoch 41/100\n",
      "10/10 [==============================] - 0s 679us/step - loss: 0.6843 - accuracy: 0.6864\n",
      "Epoch 42/100\n",
      "10/10 [==============================] - 0s 665us/step - loss: 0.6825 - accuracy: 0.6863\n",
      "Epoch 43/100\n",
      "10/10 [==============================] - 0s 630us/step - loss: 0.6822 - accuracy: 0.6769\n",
      "Epoch 44/100\n",
      "10/10 [==============================] - 0s 683us/step - loss: 0.6922 - accuracy: 0.6795\n",
      "Epoch 45/100\n",
      "10/10 [==============================] - 0s 691us/step - loss: 0.6832 - accuracy: 0.6817\n",
      "Epoch 46/100\n",
      "10/10 [==============================] - 0s 690us/step - loss: 0.6802 - accuracy: 0.7025\n",
      "Epoch 47/100\n",
      "10/10 [==============================] - 0s 678us/step - loss: 0.6774 - accuracy: 0.6855\n",
      "Epoch 48/100\n",
      "10/10 [==============================] - 0s 695us/step - loss: 0.6841 - accuracy: 0.6730\n",
      "Epoch 49/100\n",
      "10/10 [==============================] - 0s 610us/step - loss: 0.6876 - accuracy: 0.6744\n",
      "Epoch 50/100\n",
      "10/10 [==============================] - 0s 691us/step - loss: 0.6876 - accuracy: 0.6713\n",
      "Epoch 51/100\n",
      "10/10 [==============================] - 0s 706us/step - loss: 0.6840 - accuracy: 0.6750\n",
      "Epoch 52/100\n",
      "10/10 [==============================] - 0s 709us/step - loss: 0.6766 - accuracy: 0.7195\n",
      "Epoch 53/100\n",
      "10/10 [==============================] - 0s 662us/step - loss: 0.6850 - accuracy: 0.6455\n",
      "Epoch 54/100\n",
      "10/10 [==============================] - 0s 653us/step - loss: 0.6782 - accuracy: 0.7023\n",
      "Epoch 55/100\n",
      "10/10 [==============================] - 0s 692us/step - loss: 0.6921 - accuracy: 0.6463\n",
      "Epoch 56/100\n",
      "10/10 [==============================] - 0s 644us/step - loss: 0.6861 - accuracy: 0.6634\n",
      "Epoch 57/100\n",
      "10/10 [==============================] - 0s 682us/step - loss: 0.6906 - accuracy: 0.6665\n",
      "Epoch 58/100\n",
      "10/10 [==============================] - 0s 654us/step - loss: 0.6914 - accuracy: 0.6816\n",
      "Epoch 59/100\n",
      "10/10 [==============================] - 0s 657us/step - loss: 0.6883 - accuracy: 0.6705\n",
      "Epoch 60/100\n",
      "10/10 [==============================] - 0s 675us/step - loss: 0.6875 - accuracy: 0.6736\n",
      "Epoch 61/100\n",
      "10/10 [==============================] - 0s 706us/step - loss: 0.6844 - accuracy: 0.6743\n",
      "Epoch 62/100\n",
      "10/10 [==============================] - 0s 680us/step - loss: 0.6845 - accuracy: 0.6744\n",
      "Epoch 63/100\n",
      "10/10 [==============================] - 0s 636us/step - loss: 0.6841 - accuracy: 0.7017\n",
      "Epoch 64/100\n",
      "10/10 [==============================] - 0s 647us/step - loss: 0.6915 - accuracy: 0.6561\n",
      "Epoch 65/100\n",
      "10/10 [==============================] - 0s 665us/step - loss: 0.6848 - accuracy: 0.6954\n",
      "Epoch 66/100\n",
      "10/10 [==============================] - 0s 683us/step - loss: 0.6777 - accuracy: 0.7025\n",
      "Epoch 67/100\n",
      "10/10 [==============================] - 0s 671us/step - loss: 0.6859 - accuracy: 0.6727\n",
      "Epoch 68/100\n",
      "10/10 [==============================] - 0s 665us/step - loss: 0.6868 - accuracy: 0.6907\n",
      "Epoch 69/100\n",
      "10/10 [==============================] - 0s 628us/step - loss: 0.6915 - accuracy: 0.6761\n",
      "Epoch 70/100\n",
      "10/10 [==============================] - 0s 665us/step - loss: 0.6905 - accuracy: 0.6289\n",
      "Epoch 71/100\n",
      "10/10 [==============================] - 0s 630us/step - loss: 0.6869 - accuracy: 0.6727\n",
      "Epoch 72/100\n",
      "10/10 [==============================] - 0s 668us/step - loss: 0.6983 - accuracy: 0.6550\n",
      "Epoch 73/100\n",
      "10/10 [==============================] - 0s 634us/step - loss: 0.6858 - accuracy: 0.6980\n",
      "Epoch 74/100\n",
      "10/10 [==============================] - 0s 695us/step - loss: 0.6923 - accuracy: 0.6685\n",
      "Epoch 75/100\n",
      "10/10 [==============================] - 0s 660us/step - loss: 0.6837 - accuracy: 0.6850\n",
      "Epoch 76/100\n",
      "10/10 [==============================] - 0s 672us/step - loss: 0.6800 - accuracy: 0.7024\n",
      "Epoch 77/100\n",
      "10/10 [==============================] - 0s 637us/step - loss: 0.6913 - accuracy: 0.6955\n",
      "Epoch 78/100\n",
      "10/10 [==============================] - 0s 664us/step - loss: 0.6826 - accuracy: 0.7023\n",
      "Epoch 79/100\n",
      "10/10 [==============================] - 0s 673us/step - loss: 0.6911 - accuracy: 0.6495\n",
      "Epoch 80/100\n",
      "10/10 [==============================] - 0s 674us/step - loss: 0.6777 - accuracy: 0.6901\n",
      "Epoch 81/100\n"
     ]
    },
    {
     "name": "stdout",
     "output_type": "stream",
     "text": [
      "10/10 [==============================] - 0s 659us/step - loss: 0.6895 - accuracy: 0.6914\n",
      "Epoch 82/100\n",
      "10/10 [==============================] - 0s 631us/step - loss: 0.6765 - accuracy: 0.7043\n",
      "Epoch 83/100\n",
      "10/10 [==============================] - 0s 636us/step - loss: 0.6816 - accuracy: 0.6942\n",
      "Epoch 84/100\n",
      "10/10 [==============================] - 0s 675us/step - loss: 0.6977 - accuracy: 0.6223\n",
      "Epoch 85/100\n",
      "10/10 [==============================] - 0s 626us/step - loss: 0.6840 - accuracy: 0.6532\n",
      "Epoch 86/100\n",
      "10/10 [==============================] - 0s 653us/step - loss: 0.6768 - accuracy: 0.7010\n",
      "Epoch 87/100\n",
      "10/10 [==============================] - 0s 636us/step - loss: 0.6763 - accuracy: 0.6909\n",
      "Epoch 88/100\n",
      "10/10 [==============================] - 0s 651us/step - loss: 0.6946 - accuracy: 0.6768\n",
      "Epoch 89/100\n",
      "10/10 [==============================] - 0s 623us/step - loss: 0.6814 - accuracy: 0.7185\n",
      "Epoch 90/100\n",
      "10/10 [==============================] - 0s 652us/step - loss: 0.6852 - accuracy: 0.6714\n",
      "Epoch 91/100\n",
      "10/10 [==============================] - 0s 633us/step - loss: 0.6829 - accuracy: 0.7121\n",
      "Epoch 92/100\n",
      "10/10 [==============================] - 0s 657us/step - loss: 0.6893 - accuracy: 0.6672\n",
      "Epoch 93/100\n",
      "10/10 [==============================] - 0s 651us/step - loss: 0.6844 - accuracy: 0.6682\n",
      "Epoch 94/100\n",
      "10/10 [==============================] - 0s 669us/step - loss: 0.6881 - accuracy: 0.6646\n",
      "Epoch 95/100\n",
      "10/10 [==============================] - 0s 652us/step - loss: 0.6812 - accuracy: 0.6946\n",
      "Epoch 96/100\n",
      "10/10 [==============================] - 0s 629us/step - loss: 0.6816 - accuracy: 0.7007\n",
      "Epoch 97/100\n",
      "10/10 [==============================] - 0s 650us/step - loss: 0.6832 - accuracy: 0.7035\n",
      "Epoch 98/100\n",
      "10/10 [==============================] - 0s 675us/step - loss: 0.6859 - accuracy: 0.6761\n",
      "Epoch 99/100\n",
      "10/10 [==============================] - 0s 648us/step - loss: 0.6850 - accuracy: 0.6795\n",
      "Epoch 100/100\n",
      "10/10 [==============================] - 0s 637us/step - loss: 0.6748 - accuracy: 0.7448\n"
     ]
    }
   ],
   "source": [
    "# build and fit model\n",
    "\n",
    "# YOUR CODE HERE\n",
    "from tensorflow.keras.optimizers import Adadelta, Adamax\n",
    "\n",
    "opt = Adamax()\n",
    "model2 = Sequential([\n",
    "            Dense(32, input_dim=2 ),\n",
    "            Dense(16),\n",
    "            Dense(1, activation='sigmoid')\n",
    "        ])\n",
    "model2.compile(loss=\"binary_crossentropy\", metrics=['accuracy'], optimizer=opt)\n",
    "\n",
    "h2 = model2.fit(X, y, epochs=100, callbacks=[myCallback()])"
   ]
  },
  {
   "cell_type": "code",
   "execution_count": 51,
   "metadata": {
    "deletable": false,
    "editable": false,
    "nbgrader": {
     "cell_type": "code",
     "checksum": "4a5f575f46f151f97f1cebc19a484bae",
     "grade": true,
     "grade_id": "cell-770612ca24334d8a",
     "locked": true,
     "points": 1,
     "schema_version": 3,
     "solution": false,
     "task": false
    }
   },
   "outputs": [],
   "source": [
    "# Visible test\n",
    "assert len(model2.get_config()[\"layers\"]) == 4, \"You should have 4 layers: Input, hidden 1, hidden 2, output.\"\n",
    "assert 5 <= model2.get_config()[\"layers\"][1][\"config\"][\"units\"] <= 32, \"You should have 5 - 32 units in hidden layer 1, but don't.\"\n",
    "assert 5 <= model2.get_config()[\"layers\"][2][\"config\"][\"units\"] <= 32, \"You should have 5 - 32 units in hidden layer 2, but don't.\"\n",
    "assert h2.params[\"epochs\"] == 100, \"You didn't set epochs to 100.\""
   ]
  },
  {
   "cell_type": "code",
   "execution_count": null,
   "metadata": {
    "deletable": false,
    "editable": false,
    "nbgrader": {
     "cell_type": "code",
     "checksum": "3ca73d4d3d17897a570e19a8a97c050f",
     "grade": true,
     "grade_id": "cell-49b1bf7cce22b5b9",
     "locked": true,
     "points": 1,
     "schema_version": 3,
     "solution": false,
     "task": false
    }
   },
   "outputs": [],
   "source": [
    "# Hidden tests - you will see the results when you submit to Canvas"
   ]
  },
  {
   "cell_type": "markdown",
   "metadata": {},
   "source": [
    "### Analyze and Compare\n",
    "\n",
    "**Before you Start**: You will need to install an additional library for this next segment. \n",
    "\n",
    "Install the package `mlxtend` into the environment you are using for the sprint challenge.\n",
    "\n",
    "You can install this package using the following statement in the terminal\n",
    "\n",
    "```python\n",
    "pip install mlxtend\n",
    "```\n",
    "\n",
    "Or you can install this package using the following statement in your notebook\n",
    "\n",
    "```python\n",
    "!pip install mlxtend\n",
    "```\n",
    "\n",
    "If you choose to install this package from within your notebook, be sure to delete the install statement afterwards so that CodeGrade doesn't try to install it and potentially crash. \n",
    "\n",
    "\n",
    "The cells below generate decision boundary plots of your models (`model1` & `model2`). Review the plots."
   ]
  },
  {
   "cell_type": "code",
   "execution_count": 42,
   "metadata": {},
   "outputs": [
    {
     "data": {
      "text/plain": [
       "((300, 2), (300,))"
      ]
     },
     "execution_count": 42,
     "metadata": {},
     "output_type": "execute_result"
    }
   ],
   "source": [
    "X.shape, y.shape"
   ]
  },
  {
   "cell_type": "code",
   "execution_count": 52,
   "metadata": {},
   "outputs": [
    {
     "data": {
      "image/png": "[encoded data removed]",
      "text/plain": [
       "<Figure size 864x432 with 2 Axes>"
      ]
     },
     "metadata": {
      "needs_background": "light"
     },
     "output_type": "display_data"
    }
   ],
   "source": [
    "import matplotlib.pyplot as plt\n",
    "from mlxtend.plotting import plot_decision_regions\n",
    "\n",
    "\n",
    "fig = plt.figure(figsize=(12,6))\n",
    "\n",
    "for clf, hist, name, grd in zip([model1,model2], [h1, h2],['Perceptron', 'Multi-Layer Perceptron'],[1,2]):\n",
    "\n",
    "    ax = plt.subplot(1,2, grd)\n",
    "    fig = plot_decision_regions(X=X, y=y, clf=clf, legend=2)\n",
    "    title = f\"{name} with {hist.history['accuracy'][-1]:,.2f} Accuracy\"\n",
    "    plt.title(title)\n",
    "\n",
    "plt.show()"
   ]
  },
  {
   "cell_type": "markdown",
   "metadata": {
    "deletable": false,
    "editable": false,
    "nbgrader": {
     "cell_type": "markdown",
     "checksum": "40c30e638b6defe125180b9832a675e2",
     "grade": false,
     "grade_id": "cell-b1bde9222e35b3fc",
     "locked": true,
     "points": 0,
     "schema_version": 3,
     "solution": false,
     "task": true
    }
   },
   "source": [
    "1) Why does the Perceptron (`model1`) only achieve about 50% accuracy? \n",
    "\n",
    "2) What is the architectural property of the Multi-Layer Perceptron that allows it to more accurately learn the relationship between X and y? \n",
    "- Hint: recall that each layer represents a vector space and they usually have a different number of dimensions, $\\mathbb{R}^N$.\n",
    "   "
   ]
  },
  {
   "cell_type": "markdown",
   "metadata": {
    "deletable": false,
    "nbgrader": {
     "cell_type": "markdown",
     "checksum": "e01b50ff508342b905c5a4cdbd7d2dc4",
     "grade": true,
     "grade_id": "cell-302694c508c8da0e",
     "locked": false,
     "points": 0,
     "schema_version": 3,
     "solution": true,
     "task": false
    }
   },
   "source": [
    "YOUR ANSWER HERE"
   ]
  },
  {
   "cell_type": "markdown",
   "metadata": {},
   "source": [
    "## 3. Keras MMP <a id=\"Q3\"></a>\n",
    "\n",
    "- Implement a Multilayer Perceptron architecture of your choosing using the Keras library. \n",
    "- Train your model and report its baseline accuracy. \n",
    "- Then `hyper-parameters tune two parameters each with no more than 2 values each`\n",
    "    - Due to limited computational resources on CodeGrade `DO NOT INCLUDE ADDITIONAL PARAMETERS OR VALUES PLEASE`\n",
    "- Report your optimized model's accuracy\n",
    "- Use the Heart Disease Dataset provided (binary classification)\n",
    "- Use an appropriate loss function for a binary classification task\n",
    "- Use an appropriate activation function on the final layer of your network.\n",
    "- Train your model using verbose output for ease of grading.\n",
    "- Use GridSearchCV to hyper-parameters tune your model. \n",
    "    - **Use `n_jobs` = 1**\n",
    "- When hyper-parameters tuning, show you work by adding code cells for each new experiment.\n",
    "- Report the accuracy for each combination of hyper-parameters as you test them so that we can easily see which resulted in the highest accuracy."
   ]
  },
  {
   "cell_type": "code",
   "execution_count": 53,
   "metadata": {
    "inputHidden": false,
    "jupyter": {
     "outputs_hidden": false
    },
    "outputHidden": false
   },
   "outputs": [
    {
     "name": "stdout",
     "output_type": "stream",
     "text": [
      "(303, 14)\n"
     ]
    },
    {
     "data": {
      "text/html": [
       "<div>\n",
       "<style scoped>\n",
       "    .dataframe tbody tr th:only-of-type {\n",
       "        vertical-align: middle;\n",
       "    }\n",
       "\n",
       "    .dataframe tbody tr th {\n",
       "        vertical-align: top;\n",
       "    }\n",
       "\n",
       "    .dataframe thead th {\n",
       "        text-align: right;\n",
       "    }\n",
       "</style>\n",
       "<table border=\"1\" class=\"dataframe\">\n",
       "  <thead>\n",
       "    <tr style=\"text-align: right;\">\n",
       "      <th></th>\n",
       "      <th>age</th>\n",
       "      <th>sex</th>\n",
       "      <th>cp</th>\n",
       "      <th>trestbps</th>\n",
       "      <th>chol</th>\n",
       "      <th>fbs</th>\n",
       "      <th>restecg</th>\n",
       "      <th>thalach</th>\n",
       "      <th>exang</th>\n",
       "      <th>oldpeak</th>\n",
       "      <th>slope</th>\n",
       "      <th>ca</th>\n",
       "      <th>thal</th>\n",
       "      <th>target</th>\n",
       "    </tr>\n",
       "  </thead>\n",
       "  <tbody>\n",
       "    <tr>\n",
       "      <th>51</th>\n",
       "      <td>66</td>\n",
       "      <td>1</td>\n",
       "      <td>0</td>\n",
       "      <td>120</td>\n",
       "      <td>302</td>\n",
       "      <td>0</td>\n",
       "      <td>0</td>\n",
       "      <td>151</td>\n",
       "      <td>0</td>\n",
       "      <td>0.4</td>\n",
       "      <td>1</td>\n",
       "      <td>0</td>\n",
       "      <td>2</td>\n",
       "      <td>1</td>\n",
       "    </tr>\n",
       "    <tr>\n",
       "      <th>108</th>\n",
       "      <td>50</td>\n",
       "      <td>0</td>\n",
       "      <td>1</td>\n",
       "      <td>120</td>\n",
       "      <td>244</td>\n",
       "      <td>0</td>\n",
       "      <td>1</td>\n",
       "      <td>162</td>\n",
       "      <td>0</td>\n",
       "      <td>1.1</td>\n",
       "      <td>2</td>\n",
       "      <td>0</td>\n",
       "      <td>2</td>\n",
       "      <td>1</td>\n",
       "    </tr>\n",
       "    <tr>\n",
       "      <th>242</th>\n",
       "      <td>64</td>\n",
       "      <td>1</td>\n",
       "      <td>0</td>\n",
       "      <td>145</td>\n",
       "      <td>212</td>\n",
       "      <td>0</td>\n",
       "      <td>0</td>\n",
       "      <td>132</td>\n",
       "      <td>0</td>\n",
       "      <td>2.0</td>\n",
       "      <td>1</td>\n",
       "      <td>2</td>\n",
       "      <td>1</td>\n",
       "      <td>0</td>\n",
       "    </tr>\n",
       "    <tr>\n",
       "      <th>301</th>\n",
       "      <td>57</td>\n",
       "      <td>1</td>\n",
       "      <td>0</td>\n",
       "      <td>130</td>\n",
       "      <td>131</td>\n",
       "      <td>0</td>\n",
       "      <td>1</td>\n",
       "      <td>115</td>\n",
       "      <td>1</td>\n",
       "      <td>1.2</td>\n",
       "      <td>1</td>\n",
       "      <td>1</td>\n",
       "      <td>3</td>\n",
       "      <td>0</td>\n",
       "    </tr>\n",
       "    <tr>\n",
       "      <th>83</th>\n",
       "      <td>52</td>\n",
       "      <td>1</td>\n",
       "      <td>3</td>\n",
       "      <td>152</td>\n",
       "      <td>298</td>\n",
       "      <td>1</td>\n",
       "      <td>1</td>\n",
       "      <td>178</td>\n",
       "      <td>0</td>\n",
       "      <td>1.2</td>\n",
       "      <td>1</td>\n",
       "      <td>0</td>\n",
       "      <td>3</td>\n",
       "      <td>1</td>\n",
       "    </tr>\n",
       "  </tbody>\n",
       "</table>\n",
       "</div>"
      ],
      "text/plain": [
       "     age  sex  cp  trestbps  chol  fbs  restecg  thalach  exang  oldpeak  \\\n",
       "51    66    1   0       120   302    0        0      151      0      0.4   \n",
       "108   50    0   1       120   244    0        1      162      0      1.1   \n",
       "242   64    1   0       145   212    0        0      132      0      2.0   \n",
       "301   57    1   0       130   131    0        1      115      1      1.2   \n",
       "83    52    1   3       152   298    1        1      178      0      1.2   \n",
       "\n",
       "     slope  ca  thal  target  \n",
       "51       1   0     2       1  \n",
       "108      2   0     2       1  \n",
       "242      1   2     1       0  \n",
       "301      1   1     3       0  \n",
       "83       1   0     3       1  "
      ]
     },
     "execution_count": 53,
     "metadata": {},
     "output_type": "execute_result"
    }
   ],
   "source": [
    "import pandas as pd\n",
    "from sklearn.preprocessing import StandardScaler\n",
    "\n",
    "# load data\n",
    "data_path = 'https://raw.githubusercontent.com/ryanleeallred/datasets/master/heart.csv'\n",
    "df = pd.read_csv(data_path)\n",
    "df = df.sample(frac=1)\n",
    "print(df.shape)\n",
    "df.head()"
   ]
  },
  {
   "cell_type": "code",
   "execution_count": 57,
   "metadata": {
    "deletable": false,
    "nbgrader": {
     "cell_type": "code",
     "checksum": "22de1dc5d17d7a0bc674d082c33e8b65",
     "grade": false,
     "grade_id": "cell-85dc40f19f5a1d6b",
     "locked": false,
     "schema_version": 3,
     "solution": true,
     "task": false
    }
   },
   "outputs": [],
   "source": [
    "# Create an input matrix named 'X' store it in a 2D numpy array\n",
    "\n",
    "# Create an output vector for the labels named 'Y', store it in 1D numpy array\n",
    "\n",
    "# YOUR CODE HERE\n",
    "X = df.drop(columns='target')\n",
    "Y = df.target"
   ]
  },
  {
   "cell_type": "code",
   "execution_count": 58,
   "metadata": {},
   "outputs": [
    {
     "data": {
      "text/plain": [
       "(303, 13)"
      ]
     },
     "execution_count": 58,
     "metadata": {},
     "output_type": "execute_result"
    }
   ],
   "source": [
    "X.shape"
   ]
  },
  {
   "cell_type": "code",
   "execution_count": 59,
   "metadata": {
    "deletable": false,
    "editable": false,
    "nbgrader": {
     "cell_type": "code",
     "checksum": "825d4f808810a2a8d6301d7453afe478",
     "grade": true,
     "grade_id": "cell-c17c686c974edc2e",
     "locked": true,
     "points": 1,
     "schema_version": 3,
     "solution": false,
     "task": false
    }
   },
   "outputs": [],
   "source": [
    "# Visible Testing\n",
    "assert X.shape[0] == 303, \"Did you drop/lose some rows in X? Did you properly load and split the data?\"\n",
    "assert X.shape[1] == 13, \"Did you drop/lose some columns in X? Did you properly load and split the data?\"\n",
    "assert len(Y)== 303, \"Did you drop/lose some rows in Y? Did you properly load and split the data?\""
   ]
  },
  {
   "cell_type": "code",
   "execution_count": 60,
   "metadata": {},
   "outputs": [],
   "source": [
    "import tensorflow.keras\n",
    "from tensorflow.keras.models import Sequential\n",
    "from tensorflow.keras.layers import Dense\n",
    "from sklearn.model_selection import GridSearchCV\n",
    "from tensorflow.keras.wrappers.scikit_learn import KerasClassifier"
   ]
  },
  {
   "cell_type": "code",
   "execution_count": null,
   "metadata": {
    "deletable": false,
    "nbgrader": {
     "cell_type": "code",
     "checksum": "475835631ff6a34028443dbf604bd922",
     "grade": false,
     "grade_id": "cell-cfc5517cd0b6fa64",
     "locked": false,
     "schema_version": 3,
     "solution": true,
     "task": false
    }
   },
   "outputs": [],
   "source": [
    "# Create a function named 'create_model' that returns a complied keras model -  required for KerasClassifier\n",
    "# YOUR CODE HERE\n",
    "def crea"
   ]
  },
  {
   "cell_type": "code",
   "execution_count": null,
   "metadata": {
    "deletable": false,
    "editable": false,
    "nbgrader": {
     "cell_type": "code",
     "checksum": "7b906697afb0a3b52cd19e9548eae6a7",
     "grade": true,
     "grade_id": "cell-fac25126eaf1eee4",
     "locked": true,
     "points": 1,
     "schema_version": 3,
     "solution": false,
     "task": false
    }
   },
   "outputs": [],
   "source": [
    "# Visible Testing\n",
    "assert create_model().__module__ == 'tensorflow.python.keras.engine.sequential', \"create_model should return a keras model that was created using the Sequential class.\""
   ]
  },
  {
   "cell_type": "code",
   "execution_count": null,
   "metadata": {
    "deletable": false,
    "nbgrader": {
     "cell_type": "code",
     "checksum": "0412c74b7803790452d4914d99995dd2",
     "grade": false,
     "grade_id": "cell-fbc3d0a07230078c",
     "locked": false,
     "schema_version": 3,
     "solution": true,
     "task": false
    }
   },
   "outputs": [],
   "source": [
    "# Pass 'create_model' into KerasClassifier, store KerasClassifier to a variable named 'model'\n",
    "# YOUR CODE HERE\n",
    "raise NotImplementedError()"
   ]
  },
  {
   "cell_type": "code",
   "execution_count": null,
   "metadata": {
    "deletable": false,
    "editable": false,
    "nbgrader": {
     "cell_type": "code",
     "checksum": "0442c29a94065e922c5ae929976a52ab",
     "grade": true,
     "grade_id": "cell-464e7506993775f2",
     "locked": true,
     "points": 1,
     "schema_version": 3,
     "solution": false,
     "task": false
    }
   },
   "outputs": [],
   "source": [
    "# Visible Testing\n",
    "assert model.__module__ == 'tensorflow.python.keras.wrappers.scikit_learn', \"model should be a instance of KerasClassifier.\""
   ]
  },
  {
   "cell_type": "code",
   "execution_count": null,
   "metadata": {
    "deletable": false,
    "nbgrader": {
     "cell_type": "code",
     "checksum": "f88603ef37a4d3d2ef8699a41ac9a0b2",
     "grade": false,
     "grade_id": "cell-985c0425f3b1304d",
     "locked": false,
     "schema_version": 3,
     "solution": true,
     "task": false
    }
   },
   "outputs": [],
   "source": [
    "# Define the grid search parameters inside a dictionary named 'param_grid' \n",
    "# Use 2 hyper-parameters with 2 possible values for each \n",
    "\n",
    "# YOUR CODE HERE\n",
    "raise NotImplementedError()"
   ]
  },
  {
   "cell_type": "code",
   "execution_count": null,
   "metadata": {
    "deletable": false,
    "editable": false,
    "nbgrader": {
     "cell_type": "code",
     "checksum": "a551fd8278b30c1318c036f6ad43b503",
     "grade": true,
     "grade_id": "cell-c765b5db5489d7a2",
     "locked": true,
     "points": 1,
     "schema_version": 3,
     "solution": false,
     "task": false
    }
   },
   "outputs": [],
   "source": [
    "assert len(param_grid.keys()) == 2, \"Did you create a param dict with 2 hyper-parameters as keys?\""
   ]
  },
  {
   "cell_type": "code",
   "execution_count": null,
   "metadata": {
    "deletable": false,
    "nbgrader": {
     "cell_type": "code",
     "checksum": "2ea6312f4bc1f42809196b696037dd52",
     "grade": false,
     "grade_id": "cell-7cfb4315eab5031c",
     "locked": false,
     "schema_version": 3,
     "solution": true,
     "task": false
    }
   },
   "outputs": [],
   "source": [
    "# Create Grid Search object and name it 'gs'\n",
    "# Run Grid Search \n",
    "# YOUR CODE HERE\n",
    "raise NotImplementedError()"
   ]
  },
  {
   "cell_type": "code",
   "execution_count": null,
   "metadata": {},
   "outputs": [],
   "source": [
    "# your grid_result object should be able to run in this code \n",
    "print(f\"Best: {grid_result.best_score_} using {grid_result.best_params_}\")\n",
    "means = grid_result.cv_results_['mean_test_score']\n",
    "stds = grid_result.cv_results_['std_test_score']\n",
    "params = grid_result.cv_results_['params']\n",
    "for mean, stdev, param in zip(means, stds, params):\n",
    "    print(f\"Means: {mean}, Stdev: {stdev} with: {param}\") "
   ]
  },
  {
   "cell_type": "code",
   "execution_count": null,
   "metadata": {},
   "outputs": [],
   "source": []
  }
 ],
 "metadata": {
  "kernelspec": {
   "display_name": "U4-S2-NN (Python3)",
   "language": "python",
   "name": "u4-s2-nn"
  },
  "language_info": {
   "codemirror_mode": {
    "name": "ipython",
    "version": 3
   },
   "file_extension": ".py",
   "mimetype": "text/x-python",
   "name": "python",
   "nbconvert_exporter": "python",
   "pygments_lexer": "ipython3",
   "version": "3.7.0"
  }
 },
 "nbformat": 4,
 "nbformat_minor": 4
}
