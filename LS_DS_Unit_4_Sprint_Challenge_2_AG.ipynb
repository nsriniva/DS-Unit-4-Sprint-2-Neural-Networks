{
 "cells": [
  {
   "cell_type": "markdown",
   "metadata": {},
   "source": [
    "\n",
    "## Autograded Notebook (Canvas & CodeGrade)\n",
    "\n",
    "This notebook will be automatically graded. It is designed to test your answers and award points for the correct answers. Following the instructions for each Task carefully.\n",
    "Instructions\n",
    "\n",
    "- **Download** this notebook as you would any other ipynb file \n",
    "- **Upload** to Google Colab or work locally (if you have that set-up)\n",
    "- **Delete** `raise NotImplementedError()`\n",
    "\n",
    "- **Write** your code in the `# YOUR CODE HERE` space\n",
    "\n",
    "\n",
    "- **Execute** the Test cells that contain assert statements - these help you check your work (others contain hidden tests that will be checked when you submit through Canvas)\n",
    "\n",
    "- **Save** your notebook when you are finished\n",
    "- **Download** as a ipynb file (if working in Colab)\n",
    "- **Upload** your complete notebook to Canvas (there will be additional instructions in Slack and/or Canvas)\n",
    "\n"
   ]
  },
  {
   "cell_type": "markdown",
   "metadata": {},
   "source": [
    "\n",
    "## *Data Science Unit 4 Sprint 2*\n",
    "\n",
    "# Sprint Challenge - Neural Network Foundations\n",
    "\n",
    "Table of Problems\n",
    "\n",
    "1. [Defining Neural Networks](#Q1)\n",
    "2. [Simple Perceptron](#Q2)\n",
    "    - Perceptron\n",
    "    - Multilayer Perceptron (i.e. Neural Network)\n",
    "    - Analyze and Compare\n",
    "4. [Keras MMP](#Q3)\n",
    "\n",
    "\n",
    "____\n",
    "\n",
    "# Before you submit your notebook you must first\n",
    "\n",
    "1) Restart your notebook's Kernel\n",
    "\n",
    "2) Run all cells sequentially, from top to bottom, so that cell numbers are sequential numbers (i.e. 1,2,3,4,5...)\n",
    "- Easiest way to do this is to click on the **Cell** tab at the top of your notebook and select **Run All** from the drop down menu. \n",
    "\n",
    "____"
   ]
  },
  {
   "cell_type": "markdown",
   "metadata": {
    "deletable": false,
    "editable": false,
    "nbgrader": {
     "cell_type": "markdown",
     "checksum": "a2d017ba3200be3890c0b67eda283c48",
     "grade": false,
     "grade_id": "cell-621a8b86bacf295a",
     "locked": true,
     "points": 0,
     "schema_version": 3,
     "solution": false,
     "task": true
    }
   },
   "source": [
    "<a id=\"Q1\"></a>\n",
    "## 1. Defining Neural Networks \n",
    "\n",
    "Write *your own* definitions for the following terms:\n",
    "\n",
    "- **Neuron:**\n",
    "\n",
    "- **Input Layer:** \n",
    "\n",
    "- **Hidden Layer:** \n",
    "\n",
    "- **Output Layer:**\n",
    "\n",
    "- **Activation:** "
   ]
  },
  {
   "cell_type": "markdown",
   "metadata": {
    "deletable": false,
    "nbgrader": {
     "cell_type": "markdown",
     "checksum": "7233c31461609b21a7fc2651afb12632",
     "grade": true,
     "grade_id": "cell-6adae65226f09553",
     "locked": false,
     "points": 0,
     "schema_version": 3,
     "solution": true,
     "task": false
    }
   },
   "source": [
    "- A **Neuron** is an element, in a **Neural Network**, containing 4 components:\n",
    "    1. A constant valued **Bias** input\n",
    "    - Multiple variable valued **Data** inputs, each of which has an associated weight\n",
    "    - A non-linear **Activation** function\n",
    "    - A single output \n",
    "  It adds the **bias input** to the **weighted sum of the data inputs**, applies the **activation function** to the resultant sum and **outputs** the return value.\n",
    "  \n",
    "- The **Input Layer** is a simple passthrough layer through which data enters a neural network.\n",
    "\n",
    "- A **Hidden Layer** is any layer of neurons between the **Input** and **Output** layers. \n",
    "\n",
    "- The **Output Layer** is the outermost layer of a neural network which provides the output for the given inputs into the neural network. \n",
    "\n",
    "- **Activation** is the result of applying an **activation function** to the sum of the bias and the weighted sum of the inputs.  "
   ]
  },
  {
   "cell_type": "markdown",
   "metadata": {
    "deletable": false,
    "editable": false,
    "nbgrader": {
     "cell_type": "markdown",
     "checksum": "10aa095d3db59bfe47f9823cfd62f1ef",
     "grade": false,
     "grade_id": "cell-d64f1de9e9458dc7",
     "locked": true,
     "points": 0,
     "schema_version": 3,
     "solution": false,
     "task": true
    }
   },
   "source": [
    "- `Explain` how Back-propagation works \n",
    "- `Explain` how Gradient Descent works (mention the learning rate)\n",
    "- `Explain` how Back-propagation and Gradient Descent are related   \n",
    "\n",
    "Use your own words, but feel free to reference external materials for this question. "
   ]
  },
  {
   "cell_type": "markdown",
   "metadata": {
    "deletable": false,
    "nbgrader": {
     "cell_type": "markdown",
     "checksum": "ceb3f64a4b1b18346decf75c8f5567d2",
     "grade": true,
     "grade_id": "cell-cef20b23d4e0b056",
     "locked": false,
     "points": 0,
     "schema_version": 3,
     "solution": true,
     "task": false
    }
   },
   "source": [
    "- **Back-propogation** is the process of adjusting weights and biases in a neural network, after a training run, to minimize the loss/cost function. The adjustment, to be subtracted from the current weight/bias, is computed by determining the gradient of the loss/cost function wrt the weight/bias being adjusted and multiplying that by a learning rate.\n",
    "\n",
    "- The process of adjusting weights and biases by subtracting the product of the learning rate and gradient of the loss/cost function wrt to the weight/bias being adjusted is known as **Gradient Descent**\n",
    "\n",
    "- **Back-propagation** uses **Gradient Descent** to adjust weights and biases in the neural network so as to minimize the loss/cost function."
   ]
  },
  {
   "cell_type": "markdown",
   "metadata": {
    "deletable": false,
    "editable": false,
    "nbgrader": {
     "cell_type": "markdown",
     "checksum": "e040f3ddce6eb34b017f0eb685b202e6",
     "grade": false,
     "grade_id": "cell-e013d19857352d79",
     "locked": true,
     "points": 0,
     "schema_version": 3,
     "solution": false,
     "task": true
    }
   },
   "source": [
    "Remember our Simple Perceptron Class from Monday. \n",
    "\n",
    "- Describe the process of making a prediction, i.e. how do you go from inputs to outputs?"
   ]
  },
  {
   "cell_type": "markdown",
   "metadata": {
    "deletable": false,
    "nbgrader": {
     "cell_type": "markdown",
     "checksum": "d746de6391012340f8548821850a621c",
     "grade": true,
     "grade_id": "cell-53c7cc36db9d7983",
     "locked": false,
     "points": 0,
     "schema_version": 3,
     "solution": true,
     "task": false
    }
   },
   "source": [
    "The output is computed by applying the **activation function** to the sum of the **bias** and **weighted sum of inputs*."
   ]
  },
  {
   "cell_type": "markdown",
   "metadata": {},
   "source": [
    "<a id=\"Q2\"></a>\n",
    "## 2. Simple Perceptron\n",
    "\n",
    "In this question, you will build two neural networks using `Keras`. After you build these two models, compare the results of the model."
   ]
  },
  {
   "cell_type": "code",
   "execution_count": 1,
   "metadata": {},
   "outputs": [],
   "source": [
    "\"\"\"\n",
    "Our Dataset\n",
    "\"\"\"\n",
    "import numpy as np\n",
    "\n",
    "\n",
    "rng = np.random.RandomState(0)\n",
    "\n",
    "\"Use this X & y in the following 2 models\"\n",
    "X = rng.randn(300, 2)\n",
    "y = np.array(np.logical_xor(X[:, 0] > 0, X[:, 1] > 0), \n",
    "             dtype=int)"
   ]
  },
  {
   "cell_type": "code",
   "execution_count": 2,
   "metadata": {},
   "outputs": [
    {
     "data": {
      "text/plain": [
       "((300, 2), (300,))"
      ]
     },
     "execution_count": 2,
     "metadata": {},
     "output_type": "execute_result"
    }
   ],
   "source": [
    "X.shape, y.shape"
   ]
  },
  {
   "cell_type": "code",
   "execution_count": 3,
   "metadata": {},
   "outputs": [
    {
     "data": {
      "text/plain": [
       "array([0, 0, 1, 1, 1, 0, 0, 0, 1, 1, 1, 1, 1, 1, 0, 0, 0, 1, 0, 0, 0, 1,\n",
       "       0, 1, 0, 1, 0, 1, 0, 0, 0, 0, 1, 1, 1, 0, 1, 1, 0, 1, 1, 1, 0, 1,\n",
       "       1, 1, 0, 0, 0, 0, 1, 1, 1, 0, 0, 0, 1, 1, 1, 0, 1, 0, 0, 1, 0, 1,\n",
       "       1, 1, 1, 1, 1, 0, 0, 1, 0, 1, 0, 0, 1, 0, 1, 0, 1, 0, 0, 0, 1, 1,\n",
       "       0, 1, 0, 0, 1, 1, 1, 1, 0, 1, 0, 0, 0, 0, 1, 0, 1, 0, 1, 0, 1, 1,\n",
       "       0, 1, 1, 0, 0, 0, 1, 1, 1, 0, 0, 0, 0, 0, 0, 1, 1, 0, 0, 1, 0, 0,\n",
       "       1, 0, 1, 1, 0, 0, 1, 1, 1, 1, 0, 1, 0, 0, 1, 1, 0, 1, 1, 0, 1, 0,\n",
       "       1, 1, 0, 1, 0, 0, 0, 1, 0, 1, 1, 1, 1, 1, 1, 1, 1, 0, 0, 1, 0, 0,\n",
       "       1, 0, 0, 1, 0, 0, 1, 0, 0, 1, 1, 0, 1, 1, 1, 0, 1, 0, 0, 1, 0, 0,\n",
       "       0, 0, 0, 0, 1, 0, 0, 1, 0, 0, 0, 0, 0, 1, 1, 1, 1, 0, 0, 1, 0, 0,\n",
       "       0, 1, 1, 1, 0, 1, 0, 0, 0, 1, 0, 1, 1, 0, 1, 0, 0, 0, 1, 0, 0, 0,\n",
       "       1, 0, 1, 0, 0, 1, 0, 0, 1, 1, 0, 0, 1, 0, 0, 1, 0, 0, 0, 0, 1, 0,\n",
       "       1, 1, 0, 0, 0, 0, 1, 1, 0, 1, 1, 0, 1, 1, 1, 0, 1, 1, 1, 0, 0, 1,\n",
       "       0, 1, 0, 1, 0, 1, 0, 1, 0, 0, 0, 0, 0, 0])"
      ]
     },
     "execution_count": 3,
     "metadata": {},
     "output_type": "execute_result"
    }
   ],
   "source": [
    "y"
   ]
  },
  {
   "cell_type": "code",
   "execution_count": 4,
   "metadata": {},
   "outputs": [
    {
     "data": {
      "text/plain": [
       "4"
      ]
     },
     "execution_count": 4,
     "metadata": {},
     "output_type": "execute_result"
    }
   ],
   "source": [
    "2**2"
   ]
  },
  {
   "cell_type": "code",
   "execution_count": 5,
   "metadata": {},
   "outputs": [
    {
     "data": {
      "text/plain": [
       "256"
      ]
     },
     "execution_count": 5,
     "metadata": {},
     "output_type": "execute_result"
    }
   ],
   "source": [
    "4**4"
   ]
  },
  {
   "cell_type": "code",
   "execution_count": null,
   "metadata": {},
   "outputs": [],
   "source": []
  },
  {
   "cell_type": "code",
   "execution_count": null,
   "metadata": {},
   "outputs": [],
   "source": []
  },
  {
   "cell_type": "markdown",
   "metadata": {},
   "source": [
    "### Simple Perceptron\n",
    "Construct a simple perceptron using Keras. \n",
    "\n",
    "Make sure to include the following in your model:\n",
    "- Add `1 dense layer` with a `single neuron` \n",
    "- Use a `sigmoid activation function`\n",
    "- Set `epochs` to 10 \n",
    "- Use the version of `crossentropy loss` that is appropriate for this data.\n",
    "\n",
    "Your model should be called `model1` and make sure to save the results of your fit statement to a variable called `h1`. \n"
   ]
  },
  {
   "cell_type": "code",
   "execution_count": 6,
   "metadata": {
    "deletable": false,
    "nbgrader": {
     "cell_type": "code",
     "checksum": "67e9f7297eb22a79437494d713d74b71",
     "grade": false,
     "grade_id": "cell-427690628f9c900b",
     "locked": false,
     "schema_version": 3,
     "solution": true,
     "task": false
    }
   },
   "outputs": [
    {
     "name": "stdout",
     "output_type": "stream",
     "text": [
      "Epoch 1/10\n",
      "10/10 [==============================] - 0s 789us/step - loss: 0.8898 - accuracy: 0.4866\n",
      "Epoch 2/10\n",
      "10/10 [==============================] - 0s 636us/step - loss: 0.9113 - accuracy: 0.4539\n",
      "Epoch 3/10\n",
      "10/10 [==============================] - 0s 652us/step - loss: 0.8993 - accuracy: 0.5112\n",
      "Epoch 4/10\n",
      "10/10 [==============================] - 0s 608us/step - loss: 0.9694 - accuracy: 0.4463\n",
      "Epoch 5/10\n",
      "10/10 [==============================] - 0s 618us/step - loss: 0.9379 - accuracy: 0.4621\n",
      "Epoch 6/10\n",
      "10/10 [==============================] - 0s 567us/step - loss: 0.8980 - accuracy: 0.4886\n",
      "Epoch 7/10\n",
      "10/10 [==============================] - 0s 607us/step - loss: 0.8692 - accuracy: 0.4921\n",
      "Epoch 8/10\n",
      "10/10 [==============================] - 0s 569us/step - loss: 0.9171 - accuracy: 0.4694\n",
      "Epoch 9/10\n",
      "10/10 [==============================] - 0s 600us/step - loss: 0.8997 - accuracy: 0.4783\n",
      "Epoch 10/10\n",
      "10/10 [==============================] - 0s 573us/step - loss: 0.9312 - accuracy: 0.4518\n"
     ]
    }
   ],
   "source": [
    "import tensorflow\n",
    "from tensorflow.keras.models import Sequential\n",
    "from tensorflow.keras.layers import Dense\n",
    "from tensorflow.keras.optimizers import Adadelta, Adamax, Adam, SGD\n",
    "\n",
    "# build and fit model\n",
    "\n",
    "# YOUR CODE HERE\n",
    "#opt = Adam(learning_rate=0.1)\n",
    "model1 = Sequential([\n",
    "        Dense(1, input_dim=2,activation='sigmoid')\n",
    "        ])\n",
    "model1.compile(loss=\"binary_crossentropy\", metrics=['accuracy'])\n",
    "\n",
    "h1 = model1.fit(X, y, epochs=10)\n"
   ]
  },
  {
   "cell_type": "code",
   "execution_count": 7,
   "metadata": {
    "deletable": false,
    "editable": false,
    "nbgrader": {
     "cell_type": "code",
     "checksum": "36f7f830036d0443ca8e8ba0f17b2a4e",
     "grade": true,
     "grade_id": "cell-bf2ae566afacde8c",
     "locked": true,
     "points": 1,
     "schema_version": 3,
     "solution": false,
     "task": false
    }
   },
   "outputs": [],
   "source": [
    "# Visible test\n",
    "assert len(model1.get_config()[\"layers\"]) == 2, \"Make sure you only create 1 Dense layer.\"\n",
    "assert len(h1.epoch) <=10, \"Did you make sure to set epochs to 10 or less?\""
   ]
  },
  {
   "cell_type": "code",
   "execution_count": 8,
   "metadata": {},
   "outputs": [
    {
     "data": {
      "text/plain": [
       "[{'class_name': 'InputLayer',\n",
       "  'config': {'batch_input_shape': (None, 2),\n",
       "   'dtype': 'float32',\n",
       "   'sparse': False,\n",
       "   'ragged': False,\n",
       "   'name': 'dense_input'}},\n",
       " {'class_name': 'Dense',\n",
       "  'config': {'name': 'dense',\n",
       "   'trainable': True,\n",
       "   'batch_input_shape': (None, 2),\n",
       "   'dtype': 'float32',\n",
       "   'units': 1,\n",
       "   'activation': 'sigmoid',\n",
       "   'use_bias': True,\n",
       "   'kernel_initializer': {'class_name': 'GlorotUniform',\n",
       "    'config': {'seed': None}},\n",
       "   'bias_initializer': {'class_name': 'Zeros', 'config': {}},\n",
       "   'kernel_regularizer': None,\n",
       "   'bias_regularizer': None,\n",
       "   'activity_regularizer': None,\n",
       "   'kernel_constraint': None,\n",
       "   'bias_constraint': None}}]"
      ]
     },
     "execution_count": 8,
     "metadata": {},
     "output_type": "execute_result"
    }
   ],
   "source": [
    "model1.get_config()[\"layers\"]"
   ]
  },
  {
   "cell_type": "code",
   "execution_count": 9,
   "metadata": {
    "deletable": false,
    "editable": false,
    "nbgrader": {
     "cell_type": "code",
     "checksum": "95d3ee2935a0de64f2a5a22460520e69",
     "grade": true,
     "grade_id": "cell-a957e14380b2f508",
     "locked": true,
     "points": 1,
     "schema_version": 3,
     "solution": false,
     "task": false
    }
   },
   "outputs": [],
   "source": [
    "# Hidden tests - you will see the results when you submit to Canvas"
   ]
  },
  {
   "cell_type": "markdown",
   "metadata": {},
   "source": [
    "### Multi-Layer Perceptron\n",
    "Now construct a multi-layer perceptron model (also known as a neural network). \n",
    "\n",
    "Your neural network `must` have: \n",
    "- `2` Hidden Layers\n",
    "- Select any number between `5-32` for the number of neurons in each hidden layers\n",
    "- Your pick of activation function and optimizer\n",
    "- Incorporate the `Callback function` below into your model\n",
    "- Set epochs to `100`\n",
    "- Your model should be called `model2` \n",
    "- Save the results of your fit statement to a variable called `h2`. \n",
    "- Use the version of `crossentropy loss` that is appropriate for this data."
   ]
  },
  {
   "cell_type": "code",
   "execution_count": 10,
   "metadata": {},
   "outputs": [],
   "source": [
    "import tensorflow as tf\n",
    "\n",
    "class myCallback(tf.keras.callbacks.Callback): \n",
    "   def on_epoch_end(self, epoch, logs={}): \n",
    "        # if model reaches 99% accuracy, training is terminated \n",
    "        acc_threshold = 0.99\n",
    "        if(logs.get('accuracy') > acc_threshold):   \n",
    "            self.model.stop_training = True\n",
    "            self.model.callback_used = True"
   ]
  },
  {
   "cell_type": "code",
   "execution_count": 11,
   "metadata": {
    "deletable": false,
    "nbgrader": {
     "cell_type": "code",
     "checksum": "314337f29c8cd7f38224a31687a86b12",
     "grade": false,
     "grade_id": "cell-77523c4c64743f16",
     "locked": false,
     "schema_version": 3,
     "solution": true,
     "task": false
    }
   },
   "outputs": [
    {
     "name": "stdout",
     "output_type": "stream",
     "text": [
      "Epoch 1/100\n",
      "10/10 [==============================] - 0s 1ms/step - loss: 0.7105 - accuracy: 0.4745\n",
      "Epoch 2/100\n",
      "10/10 [==============================] - 0s 740us/step - loss: 0.6941 - accuracy: 0.5836\n",
      "Epoch 3/100\n",
      "10/10 [==============================] - 0s 727us/step - loss: 0.6975 - accuracy: 0.6035\n",
      "Epoch 4/100\n",
      "10/10 [==============================] - 0s 802us/step - loss: 0.6892 - accuracy: 0.5954\n",
      "Epoch 5/100\n",
      "10/10 [==============================] - 0s 765us/step - loss: 0.6772 - accuracy: 0.7025\n",
      "Epoch 6/100\n",
      "10/10 [==============================] - 0s 665us/step - loss: 0.6908 - accuracy: 0.4863\n",
      "Epoch 7/100\n",
      "10/10 [==============================] - 0s 729us/step - loss: 0.6853 - accuracy: 0.6237\n",
      "Epoch 8/100\n",
      "10/10 [==============================] - 0s 695us/step - loss: 0.6813 - accuracy: 0.6142\n",
      "Epoch 9/100\n",
      "10/10 [==============================] - 0s 703us/step - loss: 0.6663 - accuracy: 0.5635\n",
      "Epoch 10/100\n",
      "10/10 [==============================] - 0s 701us/step - loss: 0.6232 - accuracy: 0.7017\n",
      "Epoch 11/100\n",
      "10/10 [==============================] - 0s 698us/step - loss: 0.5772 - accuracy: 0.7300\n",
      "Epoch 12/100\n",
      "10/10 [==============================] - 0s 691us/step - loss: 0.5339 - accuracy: 0.8314\n",
      "Epoch 13/100\n",
      "10/10 [==============================] - 0s 705us/step - loss: 0.5098 - accuracy: 0.7991\n",
      "Epoch 14/100\n",
      "10/10 [==============================] - 0s 697us/step - loss: 0.4817 - accuracy: 0.8382\n",
      "Epoch 15/100\n",
      "10/10 [==============================] - 0s 691us/step - loss: 0.4375 - accuracy: 0.8507\n",
      "Epoch 16/100\n",
      "10/10 [==============================] - 0s 685us/step - loss: 0.3882 - accuracy: 0.8840\n",
      "Epoch 17/100\n",
      "10/10 [==============================] - 0s 697us/step - loss: 0.3664 - accuracy: 0.8879\n",
      "Epoch 18/100\n",
      "10/10 [==============================] - 0s 675us/step - loss: 0.3515 - accuracy: 0.8805\n",
      "Epoch 19/100\n",
      "10/10 [==============================] - 0s 681us/step - loss: 0.3221 - accuracy: 0.8889\n",
      "Epoch 20/100\n",
      "10/10 [==============================] - 0s 659us/step - loss: 0.2989 - accuracy: 0.9192\n",
      "Epoch 21/100\n",
      "10/10 [==============================] - 0s 693us/step - loss: 0.2996 - accuracy: 0.8936\n",
      "Epoch 22/100\n",
      "10/10 [==============================] - 0s 683us/step - loss: 0.2786 - accuracy: 0.9214\n",
      "Epoch 23/100\n",
      "10/10 [==============================] - 0s 664us/step - loss: 0.2652 - accuracy: 0.9251\n",
      "Epoch 24/100\n",
      "10/10 [==============================] - 0s 722us/step - loss: 0.2517 - accuracy: 0.9437\n",
      "Epoch 25/100\n",
      "10/10 [==============================] - 0s 696us/step - loss: 0.2388 - accuracy: 0.9437\n",
      "Epoch 26/100\n",
      "10/10 [==============================] - 0s 693us/step - loss: 0.2425 - accuracy: 0.9364\n",
      "Epoch 27/100\n",
      "10/10 [==============================] - 0s 742us/step - loss: 0.2256 - accuracy: 0.9615\n",
      "Epoch 28/100\n",
      "10/10 [==============================] - 0s 727us/step - loss: 0.2163 - accuracy: 0.9691\n",
      "Epoch 29/100\n",
      "10/10 [==============================] - 0s 661us/step - loss: 0.2088 - accuracy: 0.9568\n",
      "Epoch 30/100\n",
      "10/10 [==============================] - 0s 739us/step - loss: 0.2011 - accuracy: 0.9618\n",
      "Epoch 31/100\n",
      "10/10 [==============================] - 0s 662us/step - loss: 0.1805 - accuracy: 0.9637\n",
      "Epoch 32/100\n",
      "10/10 [==============================] - 0s 736us/step - loss: 0.2026 - accuracy: 0.9616\n",
      "Epoch 33/100\n",
      "10/10 [==============================] - 0s 681us/step - loss: 0.1832 - accuracy: 0.9650\n",
      "Epoch 34/100\n",
      "10/10 [==============================] - 0s 720us/step - loss: 0.1708 - accuracy: 0.9551\n",
      "Epoch 35/100\n",
      "10/10 [==============================] - 0s 730us/step - loss: 0.1627 - accuracy: 0.9610\n",
      "Epoch 36/100\n",
      "10/10 [==============================] - 0s 721us/step - loss: 0.1701 - accuracy: 0.9564\n",
      "Epoch 37/100\n",
      "10/10 [==============================] - 0s 683us/step - loss: 0.1643 - accuracy: 0.9562\n",
      "Epoch 38/100\n",
      "10/10 [==============================] - 0s 690us/step - loss: 0.1622 - accuracy: 0.9604\n",
      "Epoch 39/100\n",
      "10/10 [==============================] - 0s 704us/step - loss: 0.1806 - accuracy: 0.9599\n",
      "Epoch 40/100\n",
      "10/10 [==============================] - 0s 714us/step - loss: 0.1485 - accuracy: 0.9770\n",
      "Epoch 41/100\n",
      "10/10 [==============================] - 0s 704us/step - loss: 0.1512 - accuracy: 0.9607\n",
      "Epoch 42/100\n",
      "10/10 [==============================] - 0s 697us/step - loss: 0.1707 - accuracy: 0.9467\n",
      "Epoch 43/100\n",
      "10/10 [==============================] - 0s 689us/step - loss: 0.1416 - accuracy: 0.9589\n",
      "Epoch 44/100\n",
      "10/10 [==============================] - 0s 708us/step - loss: 0.1336 - accuracy: 0.9624\n",
      "Epoch 45/100\n",
      "10/10 [==============================] - 0s 722us/step - loss: 0.1279 - accuracy: 0.9698\n",
      "Epoch 46/100\n",
      "10/10 [==============================] - 0s 677us/step - loss: 0.1284 - accuracy: 0.9704\n",
      "Epoch 47/100\n",
      "10/10 [==============================] - 0s 701us/step - loss: 0.1303 - accuracy: 0.9617\n",
      "Epoch 48/100\n",
      "10/10 [==============================] - 0s 689us/step - loss: 0.1257 - accuracy: 0.9762\n",
      "Epoch 49/100\n",
      "10/10 [==============================] - 0s 720us/step - loss: 0.1317 - accuracy: 0.9716\n",
      "Epoch 50/100\n",
      "10/10 [==============================] - 0s 684us/step - loss: 0.1193 - accuracy: 0.9759\n",
      "Epoch 51/100\n",
      "10/10 [==============================] - 0s 754us/step - loss: 0.1138 - accuracy: 0.9755\n",
      "Epoch 52/100\n",
      "10/10 [==============================] - 0s 667us/step - loss: 0.1178 - accuracy: 0.9655\n",
      "Epoch 53/100\n",
      "10/10 [==============================] - 0s 771us/step - loss: 0.1087 - accuracy: 0.9858\n",
      "Epoch 54/100\n",
      "10/10 [==============================] - 0s 692us/step - loss: 0.1159 - accuracy: 0.9769\n",
      "Epoch 55/100\n",
      "10/10 [==============================] - 0s 774us/step - loss: 0.1051 - accuracy: 0.9749\n",
      "Epoch 56/100\n",
      "10/10 [==============================] - 0s 683us/step - loss: 0.0996 - accuracy: 0.9863\n",
      "Epoch 57/100\n",
      "10/10 [==============================] - 0s 749us/step - loss: 0.0998 - accuracy: 0.9871\n",
      "Epoch 58/100\n",
      "10/10 [==============================] - 0s 728us/step - loss: 0.1030 - accuracy: 0.9789\n",
      "Epoch 59/100\n",
      "10/10 [==============================] - 0s 726us/step - loss: 0.0952 - accuracy: 0.9940\n",
      "Epoch 60/100\n",
      "10/10 [==============================] - 0s 655us/step - loss: 0.0960 - accuracy: 0.9871\n",
      "Epoch 61/100\n",
      "10/10 [==============================] - 0s 685us/step - loss: 0.0954 - accuracy: 0.9843\n",
      "Epoch 62/100\n",
      "10/10 [==============================] - 0s 698us/step - loss: 0.0828 - accuracy: 0.9843\n",
      "Epoch 63/100\n",
      "10/10 [==============================] - 0s 698us/step - loss: 0.0902 - accuracy: 0.9904\n",
      "Epoch 64/100\n",
      "10/10 [==============================] - 0s 677us/step - loss: 0.1008 - accuracy: 0.9755\n",
      "Epoch 65/100\n",
      "10/10 [==============================] - 0s 689us/step - loss: 0.0900 - accuracy: 0.9896\n",
      "Epoch 66/100\n",
      "10/10 [==============================] - 0s 684us/step - loss: 0.0989 - accuracy: 0.9854\n",
      "Epoch 67/100\n",
      "10/10 [==============================] - 0s 712us/step - loss: 0.0867 - accuracy: 0.9903\n",
      "Epoch 68/100\n",
      "10/10 [==============================] - 0s 706us/step - loss: 0.1162 - accuracy: 0.9630\n",
      "Epoch 69/100\n",
      "10/10 [==============================] - 0s 660us/step - loss: 0.0838 - accuracy: 0.9937\n",
      "Epoch 70/100\n",
      "10/10 [==============================] - 0s 686us/step - loss: 0.0914 - accuracy: 0.9820\n",
      "Epoch 71/100\n",
      "10/10 [==============================] - 0s 697us/step - loss: 0.0836 - accuracy: 0.9910\n",
      "Epoch 72/100\n",
      "10/10 [==============================] - 0s 723us/step - loss: 0.0846 - accuracy: 0.9885\n",
      "Epoch 73/100\n",
      "10/10 [==============================] - 0s 675us/step - loss: 0.0681 - accuracy: 0.9944\n",
      "Epoch 74/100\n",
      "10/10 [==============================] - 0s 675us/step - loss: 0.0790 - accuracy: 0.9904\n",
      "Epoch 75/100\n",
      "10/10 [==============================] - 0s 677us/step - loss: 0.0733 - accuracy: 0.9804\n",
      "Epoch 76/100\n",
      "10/10 [==============================] - 0s 684us/step - loss: 0.0683 - accuracy: 0.9885\n",
      "Epoch 77/100\n",
      "10/10 [==============================] - 0s 653us/step - loss: 0.0753 - accuracy: 0.9866\n",
      "Epoch 78/100\n",
      "10/10 [==============================] - 0s 688us/step - loss: 0.0683 - accuracy: 0.9872\n",
      "Epoch 79/100\n",
      "10/10 [==============================] - 0s 661us/step - loss: 0.0693 - accuracy: 0.9931\n"
     ]
    }
   ],
   "source": [
    "# build and fit model\n",
    "\n",
    "# YOUR CODE HERE\n",
    "\n",
    "opt = Adam(learning_rate=0.01)\n",
    "model2 = Sequential([\n",
    "            Dense(32, input_dim=2 ),\n",
    "            Dense(32, activation='sigmoid'),\n",
    "            Dense(1, activation='sigmoid')\n",
    "        ])\n",
    "model2.compile(loss=\"binary_crossentropy\", metrics=['accuracy'], optimizer=opt)\n",
    "\n",
    "h2 = model2.fit(X, y, epochs=100, callbacks=[myCallback()])"
   ]
  },
  {
   "cell_type": "code",
   "execution_count": 12,
   "metadata": {
    "deletable": false,
    "editable": false,
    "nbgrader": {
     "cell_type": "code",
     "checksum": "4a5f575f46f151f97f1cebc19a484bae",
     "grade": true,
     "grade_id": "cell-770612ca24334d8a",
     "locked": true,
     "points": 1,
     "schema_version": 3,
     "solution": false,
     "task": false
    }
   },
   "outputs": [],
   "source": [
    "# Visible test\n",
    "assert len(model2.get_config()[\"layers\"]) == 4, \"You should have 4 layers: Input, hidden 1, hidden 2, output.\"\n",
    "assert 5 <= model2.get_config()[\"layers\"][1][\"config\"][\"units\"] <= 32, \"You should have 5 - 32 units in hidden layer 1, but don't.\"\n",
    "assert 5 <= model2.get_config()[\"layers\"][2][\"config\"][\"units\"] <= 32, \"You should have 5 - 32 units in hidden layer 2, but don't.\"\n",
    "assert h2.params[\"epochs\"] == 100, \"You didn't set epochs to 100.\""
   ]
  },
  {
   "cell_type": "code",
   "execution_count": 13,
   "metadata": {
    "deletable": false,
    "editable": false,
    "nbgrader": {
     "cell_type": "code",
     "checksum": "3ca73d4d3d17897a570e19a8a97c050f",
     "grade": true,
     "grade_id": "cell-49b1bf7cce22b5b9",
     "locked": true,
     "points": 1,
     "schema_version": 3,
     "solution": false,
     "task": false
    }
   },
   "outputs": [],
   "source": [
    "# Hidden tests - you will see the results when you submit to Canvas"
   ]
  },
  {
   "cell_type": "markdown",
   "metadata": {},
   "source": [
    "### Analyze and Compare\n",
    "\n",
    "**Before you Start**: You will need to install an additional library for this next segment. \n",
    "\n",
    "Install the package `mlxtend` into the environment you are using for the sprint challenge.\n",
    "\n",
    "You can install this package using the following statement in the terminal\n",
    "\n",
    "```python\n",
    "pip install mlxtend\n",
    "```\n",
    "\n",
    "Or you can install this package using the following statement in your notebook\n",
    "\n",
    "```python\n",
    "!pip install mlxtend\n",
    "```\n",
    "\n",
    "If you choose to install this package from within your notebook, be sure to delete the install statement afterwards so that CodeGrade doesn't try to install it and potentially crash. \n",
    "\n",
    "\n",
    "The cells below generate decision boundary plots of your models (`model1` & `model2`). Review the plots."
   ]
  },
  {
   "cell_type": "code",
   "execution_count": 14,
   "metadata": {},
   "outputs": [
    {
     "data": {
      "text/plain": [
       "((300, 2), (300,))"
      ]
     },
     "execution_count": 14,
     "metadata": {},
     "output_type": "execute_result"
    }
   ],
   "source": [
    "X.shape, y.shape"
   ]
  },
  {
   "cell_type": "code",
   "execution_count": 15,
   "metadata": {},
   "outputs": [
    {
     "data": {
      "image/png": "[encoded data removed]",
      "text/plain": [
       "<Figure size 864x432 with 2 Axes>"
      ]
     },
     "metadata": {
      "needs_background": "light"
     },
     "output_type": "display_data"
    }
   ],
   "source": [
    "import matplotlib.pyplot as plt\n",
    "from mlxtend.plotting import plot_decision_regions\n",
    "\n",
    "\n",
    "fig = plt.figure(figsize=(12,6))\n",
    "\n",
    "for clf, hist, name, grd in zip([model1,model2], [h1, h2],['Perceptron', 'Multi-Layer Perceptron'],[1,2]):\n",
    "\n",
    "    ax = plt.subplot(1,2, grd)\n",
    "    fig = plot_decision_regions(X=X, y=y, clf=clf, legend=2)\n",
    "    title = f\"{name} with {hist.history['accuracy'][-1]:,.2f} Accuracy\"\n",
    "    plt.title(title)\n",
    "\n",
    "plt.show()"
   ]
  },
  {
   "cell_type": "markdown",
   "metadata": {
    "deletable": false,
    "editable": false,
    "nbgrader": {
     "cell_type": "markdown",
     "checksum": "40c30e638b6defe125180b9832a675e2",
     "grade": false,
     "grade_id": "cell-b1bde9222e35b3fc",
     "locked": true,
     "points": 0,
     "schema_version": 3,
     "solution": false,
     "task": true
    }
   },
   "source": [
    "1) Why does the Perceptron (`model1`) only achieve about 50% accuracy? \n",
    "\n",
    "2) What is the architectural property of the Multi-Layer Perceptron that allows it to more accurately learn the relationship between X and y? \n",
    "- Hint: recall that each layer represents a vector space and they usually have a different number of dimensions, $\\mathbb{R}^N$.\n",
    "   "
   ]
  },
  {
   "cell_type": "markdown",
   "metadata": {
    "deletable": false,
    "nbgrader": {
     "cell_type": "markdown",
     "checksum": "e01b50ff508342b905c5a4cdbd7d2dc4",
     "grade": true,
     "grade_id": "cell-302694c508c8da0e",
     "locked": false,
     "points": 0,
     "schema_version": 3,
     "solution": true,
     "task": false
    }
   },
   "source": [
    "1) The single layer Perceptron in `model1` only achieves about 50% accuracy because it can only learn linear functions and therefore cannot handle data that is not linearly separable.\n",
    "\n",
    "2) Since a multi-layer Perceptron has multiple layers it can learn nonlinear functions."
   ]
  },
  {
   "cell_type": "markdown",
   "metadata": {},
   "source": [
    "## 3. Keras MMP <a id=\"Q3\"></a>\n",
    "\n",
    "- Implement a Multilayer Perceptron architecture of your choosing using the Keras library. \n",
    "- Train your model and report its baseline accuracy. \n",
    "- Then `hyper-parameters tune two parameters each with no more than 2 values each`\n",
    "    - Due to limited computational resources on CodeGrade `DO NOT INCLUDE ADDITIONAL PARAMETERS OR VALUES PLEASE`\n",
    "- Report your optimized model's accuracy\n",
    "- Use the Heart Disease Dataset provided (binary classification)\n",
    "- Use an appropriate loss function for a binary classification task\n",
    "- Use an appropriate activation function on the final layer of your network.\n",
    "- Train your model using verbose output for ease of grading.\n",
    "- Use GridSearchCV to hyper-parameters tune your model. \n",
    "    - **Use `n_jobs` = 1**\n",
    "- When hyper-parameters tuning, show you work by adding code cells for each new experiment.\n",
    "- Report the accuracy for each combination of hyper-parameters as you test them so that we can easily see which resulted in the highest accuracy."
   ]
  },
  {
   "cell_type": "code",
   "execution_count": 16,
   "metadata": {
    "inputHidden": false,
    "jupyter": {
     "outputs_hidden": false
    },
    "outputHidden": false
   },
   "outputs": [
    {
     "name": "stdout",
     "output_type": "stream",
     "text": [
      "(303, 14)\n"
     ]
    },
    {
     "data": {
      "text/html": [
       "<div>\n",
       "<style scoped>\n",
       "    .dataframe tbody tr th:only-of-type {\n",
       "        vertical-align: middle;\n",
       "    }\n",
       "\n",
       "    .dataframe tbody tr th {\n",
       "        vertical-align: top;\n",
       "    }\n",
       "\n",
       "    .dataframe thead th {\n",
       "        text-align: right;\n",
       "    }\n",
       "</style>\n",
       "<table border=\"1\" class=\"dataframe\">\n",
       "  <thead>\n",
       "    <tr style=\"text-align: right;\">\n",
       "      <th></th>\n",
       "      <th>age</th>\n",
       "      <th>sex</th>\n",
       "      <th>cp</th>\n",
       "      <th>trestbps</th>\n",
       "      <th>chol</th>\n",
       "      <th>fbs</th>\n",
       "      <th>restecg</th>\n",
       "      <th>thalach</th>\n",
       "      <th>exang</th>\n",
       "      <th>oldpeak</th>\n",
       "      <th>slope</th>\n",
       "      <th>ca</th>\n",
       "      <th>thal</th>\n",
       "      <th>target</th>\n",
       "    </tr>\n",
       "  </thead>\n",
       "  <tbody>\n",
       "    <tr>\n",
       "      <th>174</th>\n",
       "      <td>60</td>\n",
       "      <td>1</td>\n",
       "      <td>0</td>\n",
       "      <td>130</td>\n",
       "      <td>206</td>\n",
       "      <td>0</td>\n",
       "      <td>0</td>\n",
       "      <td>132</td>\n",
       "      <td>1</td>\n",
       "      <td>2.4</td>\n",
       "      <td>1</td>\n",
       "      <td>2</td>\n",
       "      <td>3</td>\n",
       "      <td>0</td>\n",
       "    </tr>\n",
       "    <tr>\n",
       "      <th>127</th>\n",
       "      <td>67</td>\n",
       "      <td>0</td>\n",
       "      <td>2</td>\n",
       "      <td>152</td>\n",
       "      <td>277</td>\n",
       "      <td>0</td>\n",
       "      <td>1</td>\n",
       "      <td>172</td>\n",
       "      <td>0</td>\n",
       "      <td>0.0</td>\n",
       "      <td>2</td>\n",
       "      <td>1</td>\n",
       "      <td>2</td>\n",
       "      <td>1</td>\n",
       "    </tr>\n",
       "    <tr>\n",
       "      <th>56</th>\n",
       "      <td>48</td>\n",
       "      <td>1</td>\n",
       "      <td>0</td>\n",
       "      <td>122</td>\n",
       "      <td>222</td>\n",
       "      <td>0</td>\n",
       "      <td>0</td>\n",
       "      <td>186</td>\n",
       "      <td>0</td>\n",
       "      <td>0.0</td>\n",
       "      <td>2</td>\n",
       "      <td>0</td>\n",
       "      <td>2</td>\n",
       "      <td>1</td>\n",
       "    </tr>\n",
       "    <tr>\n",
       "      <th>68</th>\n",
       "      <td>44</td>\n",
       "      <td>1</td>\n",
       "      <td>1</td>\n",
       "      <td>120</td>\n",
       "      <td>220</td>\n",
       "      <td>0</td>\n",
       "      <td>1</td>\n",
       "      <td>170</td>\n",
       "      <td>0</td>\n",
       "      <td>0.0</td>\n",
       "      <td>2</td>\n",
       "      <td>0</td>\n",
       "      <td>2</td>\n",
       "      <td>1</td>\n",
       "    </tr>\n",
       "    <tr>\n",
       "      <th>119</th>\n",
       "      <td>46</td>\n",
       "      <td>0</td>\n",
       "      <td>0</td>\n",
       "      <td>138</td>\n",
       "      <td>243</td>\n",
       "      <td>0</td>\n",
       "      <td>0</td>\n",
       "      <td>152</td>\n",
       "      <td>1</td>\n",
       "      <td>0.0</td>\n",
       "      <td>1</td>\n",
       "      <td>0</td>\n",
       "      <td>2</td>\n",
       "      <td>1</td>\n",
       "    </tr>\n",
       "  </tbody>\n",
       "</table>\n",
       "</div>"
      ],
      "text/plain": [
       "     age  sex  cp  trestbps  chol  fbs  restecg  thalach  exang  oldpeak  \\\n",
       "174   60    1   0       130   206    0        0      132      1      2.4   \n",
       "127   67    0   2       152   277    0        1      172      0      0.0   \n",
       "56    48    1   0       122   222    0        0      186      0      0.0   \n",
       "68    44    1   1       120   220    0        1      170      0      0.0   \n",
       "119   46    0   0       138   243    0        0      152      1      0.0   \n",
       "\n",
       "     slope  ca  thal  target  \n",
       "174      1   2     3       0  \n",
       "127      2   1     2       1  \n",
       "56       2   0     2       1  \n",
       "68       2   0     2       1  \n",
       "119      1   0     2       1  "
      ]
     },
     "execution_count": 16,
     "metadata": {},
     "output_type": "execute_result"
    }
   ],
   "source": [
    "import pandas as pd\n",
    "from sklearn.preprocessing import StandardScaler\n",
    "\n",
    "# load data\n",
    "data_path = 'https://raw.githubusercontent.com/ryanleeallred/datasets/master/heart.csv'\n",
    "df = pd.read_csv(data_path)\n",
    "df = df.sample(frac=1)\n",
    "print(df.shape)\n",
    "df.head()"
   ]
  },
  {
   "cell_type": "code",
   "execution_count": 17,
   "metadata": {
    "deletable": false,
    "nbgrader": {
     "cell_type": "code",
     "checksum": "22de1dc5d17d7a0bc674d082c33e8b65",
     "grade": false,
     "grade_id": "cell-85dc40f19f5a1d6b",
     "locked": false,
     "schema_version": 3,
     "solution": true,
     "task": false
    }
   },
   "outputs": [],
   "source": [
    "# Create an input matrix named 'X' store it in a 2D numpy array\n",
    "\n",
    "# Create an output vector for the labels named 'Y', store it in 1D numpy array\n",
    "\n",
    "# YOUR CODE HERE\n",
    "X = df.drop(columns='target')\n",
    "Y = df.target"
   ]
  },
  {
   "cell_type": "code",
   "execution_count": 18,
   "metadata": {},
   "outputs": [
    {
     "data": {
      "text/plain": [
       "(303, 13)"
      ]
     },
     "execution_count": 18,
     "metadata": {},
     "output_type": "execute_result"
    }
   ],
   "source": [
    "X.shape"
   ]
  },
  {
   "cell_type": "code",
   "execution_count": 19,
   "metadata": {
    "deletable": false,
    "editable": false,
    "nbgrader": {
     "cell_type": "code",
     "checksum": "825d4f808810a2a8d6301d7453afe478",
     "grade": true,
     "grade_id": "cell-c17c686c974edc2e",
     "locked": true,
     "points": 1,
     "schema_version": 3,
     "solution": false,
     "task": false
    }
   },
   "outputs": [],
   "source": [
    "# Visible Testing\n",
    "assert X.shape[0] == 303, \"Did you drop/lose some rows in X? Did you properly load and split the data?\"\n",
    "assert X.shape[1] == 13, \"Did you drop/lose some columns in X? Did you properly load and split the data?\"\n",
    "assert len(Y)== 303, \"Did you drop/lose some rows in Y? Did you properly load and split the data?\""
   ]
  },
  {
   "cell_type": "code",
   "execution_count": 20,
   "metadata": {},
   "outputs": [],
   "source": [
    "import tensorflow.keras\n",
    "from tensorflow.keras.models import Sequential\n",
    "from tensorflow.keras.layers import Dense\n",
    "from sklearn.model_selection import GridSearchCV\n",
    "from tensorflow.keras.wrappers.scikit_learn import KerasClassifier"
   ]
  },
  {
   "cell_type": "code",
   "execution_count": 21,
   "metadata": {
    "deletable": false,
    "nbgrader": {
     "cell_type": "code",
     "checksum": "475835631ff6a34028443dbf604bd922",
     "grade": false,
     "grade_id": "cell-cfc5517cd0b6fa64",
     "locked": false,
     "schema_version": 3,
     "solution": true,
     "task": false
    }
   },
   "outputs": [],
   "source": [
    "# Create a function named 'create_model' that returns a complied keras model -  required for KerasClassifier\n",
    "# YOUR CODE HERE\n",
    "def create_model(lr=0.01, opt='adam', act='relu'):\n",
    "    \n",
    "    opts = {'adam':Adam, 'sgd':SGD, 'adadelta':Adadelta, 'adamax':Adamax}\n",
    "    \n",
    "    opt = opts.get(opt, Adam)(learning_rate=lr)\n",
    "    \n",
    "    model = Sequential([\n",
    "        Dense(64, input_dim=13, activation=act),\n",
    "        Dense(32, activation=act),\n",
    "        Dense(16, activation=act),\n",
    "        Dense(8, activation=act),\n",
    "        Dense(1, activation='sigmoid')\n",
    "    ])\n",
    "    \n",
    "    model.compile(loss=\"binary_crossentropy\", metrics=['accuracy'], optimizer=opt)\n",
    "    \n",
    "    print(f'\\n\\nRUNNING MODEL WITH LEARNING_RATE({lr}) and ACTIVATION({act})')\n",
    "    return model"
   ]
  },
  {
   "cell_type": "code",
   "execution_count": 22,
   "metadata": {
    "deletable": false,
    "editable": false,
    "nbgrader": {
     "cell_type": "code",
     "checksum": "7b906697afb0a3b52cd19e9548eae6a7",
     "grade": true,
     "grade_id": "cell-fac25126eaf1eee4",
     "locked": true,
     "points": 1,
     "schema_version": 3,
     "solution": false,
     "task": false
    }
   },
   "outputs": [
    {
     "name": "stdout",
     "output_type": "stream",
     "text": [
      "\n",
      "\n",
      "RUNNING MODEL WITH LEARNING_RATE(0.01) and ACTIVATION(relu)\n"
     ]
    }
   ],
   "source": [
    "# Visible Testing\n",
    "assert create_model().__module__ == 'tensorflow.python.keras.engine.sequential', \"create_model should return a keras model that was created using the Sequential class.\""
   ]
  },
  {
   "cell_type": "code",
   "execution_count": 23,
   "metadata": {},
   "outputs": [
    {
     "name": "stdout",
     "output_type": "stream",
     "text": [
      "\n",
      "\n",
      "RUNNING MODEL WITH LEARNING_RATE(0.01) and ACTIVATION(relu)\n",
      "Epoch 1/20\n",
      "8/8 [==============================] - 1s 66ms/step - loss: 0.6068 - accuracy: 0.6607 - val_loss: 0.4310 - val_accuracy: 0.8197\n",
      "Epoch 2/20\n",
      "8/8 [==============================] - 0s 5ms/step - loss: 0.3716 - accuracy: 0.8461 - val_loss: 0.3637 - val_accuracy: 0.8197\n",
      "Epoch 3/20\n",
      "8/8 [==============================] - 0s 16ms/step - loss: 0.3297 - accuracy: 0.8610 - val_loss: 0.3501 - val_accuracy: 0.8197\n",
      "Epoch 4/20\n",
      "8/8 [==============================] - 0s 6ms/step - loss: 0.2705 - accuracy: 0.9016 - val_loss: 0.3253 - val_accuracy: 0.8361\n",
      "Epoch 5/20\n",
      "8/8 [==============================] - 0s 5ms/step - loss: 0.2607 - accuracy: 0.8756 - val_loss: 0.3514 - val_accuracy: 0.8033\n",
      "Epoch 6/20\n",
      "8/8 [==============================] - 0s 5ms/step - loss: 0.2520 - accuracy: 0.8732 - val_loss: 0.4096 - val_accuracy: 0.8361\n",
      "Epoch 7/20\n",
      "8/8 [==============================] - 0s 4ms/step - loss: 0.2108 - accuracy: 0.9080 - val_loss: 0.3585 - val_accuracy: 0.8033\n",
      "\n",
      "\n",
      "The baseline accuracy for the model is 0.8033\n"
     ]
    }
   ],
   "source": [
    "from sklearn.preprocessing import StandardScaler\n",
    "from sklearn.model_selection import train_test_split\n",
    "from tensorflow.keras.callbacks import EarlyStopping\n",
    "\n",
    "stop = EarlyStopping(monitor='val_accuracy', min_delta=0.005, patience=3)\n",
    "\n",
    "scaler = StandardScaler()\n",
    "\n",
    "X_scaled = scaler.fit_transform(X)\n",
    "\n",
    "base_model = create_model()\n",
    "\n",
    "base_model.fit(X_scaled, Y, epochs=20, verbose=1, validation_split=0.2, callbacks=[stop])\n",
    "\n",
    "model_accuracies = base_model.history.history[\"val_accuracy\"]\n",
    "\n",
    "print(f'\\n\\nThe baseline accuracy for the model is {model_accuracies[-1]:0.4}')\n"
   ]
  },
  {
   "cell_type": "code",
   "execution_count": null,
   "metadata": {},
   "outputs": [],
   "source": []
  },
  {
   "cell_type": "code",
   "execution_count": 24,
   "metadata": {
    "deletable": false,
    "nbgrader": {
     "cell_type": "code",
     "checksum": "0412c74b7803790452d4914d99995dd2",
     "grade": false,
     "grade_id": "cell-fbc3d0a07230078c",
     "locked": false,
     "schema_version": 3,
     "solution": true,
     "task": false
    }
   },
   "outputs": [],
   "source": [
    "# Pass 'create_model' into KerasClassifier, store KerasClassifier to a variable named 'model'\n",
    "# YOUR CODE HERE\n",
    "\n",
    "model = KerasClassifier(build_fn=create_model, epochs=20)"
   ]
  },
  {
   "cell_type": "code",
   "execution_count": 25,
   "metadata": {
    "deletable": false,
    "editable": false,
    "nbgrader": {
     "cell_type": "code",
     "checksum": "0442c29a94065e922c5ae929976a52ab",
     "grade": true,
     "grade_id": "cell-464e7506993775f2",
     "locked": true,
     "points": 1,
     "schema_version": 3,
     "solution": false,
     "task": false
    }
   },
   "outputs": [],
   "source": [
    "# Visible Testing\n",
    "assert model.__module__ == 'tensorflow.python.keras.wrappers.scikit_learn', \"model should be a instance of KerasClassifier.\""
   ]
  },
  {
   "cell_type": "code",
   "execution_count": 26,
   "metadata": {
    "deletable": false,
    "nbgrader": {
     "cell_type": "code",
     "checksum": "f88603ef37a4d3d2ef8699a41ac9a0b2",
     "grade": false,
     "grade_id": "cell-985c0425f3b1304d",
     "locked": false,
     "schema_version": 3,
     "solution": true,
     "task": false
    }
   },
   "outputs": [],
   "source": [
    "# Define the grid search parameters inside a dictionary named 'param_grid' \n",
    "# Use 2 hyper-parameters with 2 possible values for each \n",
    "\n",
    "# YOUR CODE HERE\n",
    "param_grid = {\n",
    "    'act': ['relu', 'sigmoid'] ,\n",
    "    'lr' : [1e-1, 1e-2],\n",
    "}"
   ]
  },
  {
   "cell_type": "code",
   "execution_count": 27,
   "metadata": {
    "deletable": false,
    "editable": false,
    "nbgrader": {
     "cell_type": "code",
     "checksum": "a551fd8278b30c1318c036f6ad43b503",
     "grade": true,
     "grade_id": "cell-c765b5db5489d7a2",
     "locked": true,
     "points": 1,
     "schema_version": 3,
     "solution": false,
     "task": false
    }
   },
   "outputs": [],
   "source": [
    "assert len(param_grid.keys()) == 2, \"Did you create a param dict with 2 hyper-parameters as keys?\""
   ]
  },
  {
   "cell_type": "code",
   "execution_count": 28,
   "metadata": {
    "deletable": false,
    "nbgrader": {
     "cell_type": "code",
     "checksum": "2ea6312f4bc1f42809196b696037dd52",
     "grade": false,
     "grade_id": "cell-7cfb4315eab5031c",
     "locked": false,
     "schema_version": 3,
     "solution": true,
     "task": false
    }
   },
   "outputs": [
    {
     "name": "stdout",
     "output_type": "stream",
     "text": [
      "Fitting 3 folds for each of 4 candidates, totalling 12 fits\n",
      "\n",
      "\n",
      "RUNNING MODEL WITH LEARNING_RATE(0.1) and ACTIVATION(relu)\n",
      "Epoch 1/20\n",
      "7/7 [==============================] - 0s 1ms/step - loss: 0.7188 - accuracy: 0.5317\n",
      "Epoch 2/20\n",
      "7/7 [==============================] - 0s 1ms/step - loss: 0.6400 - accuracy: 0.7412\n",
      "Epoch 3/20\n",
      "7/7 [==============================] - 0s 970us/step - loss: 0.4864 - accuracy: 0.8378\n",
      "Epoch 4/20\n",
      "7/7 [==============================] - 0s 1ms/step - loss: 0.4970 - accuracy: 0.7591\n",
      "Epoch 5/20\n",
      "7/7 [==============================] - 0s 855us/step - loss: 0.4055 - accuracy: 0.8049\n",
      "Epoch 6/20\n",
      "7/7 [==============================] - 0s 931us/step - loss: 0.3167 - accuracy: 0.8813\n",
      "Epoch 7/20\n",
      "7/7 [==============================] - 0s 806us/step - loss: 0.2603 - accuracy: 0.8866\n",
      "Epoch 8/20\n",
      "7/7 [==============================] - 0s 902us/step - loss: 0.2703 - accuracy: 0.8638\n",
      "Epoch 9/20\n",
      "7/7 [==============================] - 0s 795us/step - loss: 0.2972 - accuracy: 0.8676\n",
      "Epoch 10/20\n",
      "7/7 [==============================] - 0s 898us/step - loss: 0.2646 - accuracy: 0.8702\n",
      "Epoch 11/20\n",
      "7/7 [==============================] - 0s 794us/step - loss: 0.3590 - accuracy: 0.8939\n",
      "Epoch 12/20\n",
      "7/7 [==============================] - 0s 859us/step - loss: 0.2692 - accuracy: 0.8642\n",
      "Epoch 13/20\n",
      "7/7 [==============================] - 0s 844us/step - loss: 0.2788 - accuracy: 0.8726\n",
      "Epoch 14/20\n",
      "7/7 [==============================] - 0s 812us/step - loss: 0.2115 - accuracy: 0.9098\n",
      "Epoch 15/20\n",
      "7/7 [==============================] - 0s 864us/step - loss: 0.1913 - accuracy: 0.9126\n",
      "Epoch 16/20\n",
      "7/7 [==============================] - 0s 823us/step - loss: 0.1876 - accuracy: 0.8911\n",
      "Epoch 17/20\n",
      "7/7 [==============================] - 0s 840us/step - loss: 0.1237 - accuracy: 0.9450\n",
      "Epoch 18/20\n",
      "7/7 [==============================] - 0s 749us/step - loss: 0.0968 - accuracy: 0.9639\n",
      "Epoch 19/20\n",
      "7/7 [==============================] - 0s 788us/step - loss: 0.0823 - accuracy: 0.9654\n",
      "Epoch 20/20\n",
      "7/7 [==============================] - 0s 799us/step - loss: 0.1119 - accuracy: 0.9761\n",
      "4/4 [==============================] - 0s 1ms/step - loss: 0.8116 - accuracy: 0.8020\n",
      "\n",
      "\n",
      "RUNNING MODEL WITH LEARNING_RATE(0.1) and ACTIVATION(relu)\n",
      "Epoch 1/20\n",
      "7/7 [==============================] - 0s 1ms/step - loss: 1.2477 - accuracy: 0.6349\n",
      "Epoch 2/20\n",
      "7/7 [==============================] - 0s 1ms/step - loss: 0.4399 - accuracy: 0.8472\n",
      "Epoch 3/20\n",
      "7/7 [==============================] - 0s 869us/step - loss: 0.5825 - accuracy: 0.6451\n",
      "Epoch 4/20\n",
      "7/7 [==============================] - 0s 925us/step - loss: 0.4427 - accuracy: 0.8522\n",
      "Epoch 5/20\n",
      "7/7 [==============================] - 0s 783us/step - loss: 0.4095 - accuracy: 0.8468\n",
      "Epoch 6/20\n",
      "7/7 [==============================] - 0s 863us/step - loss: 0.3457 - accuracy: 0.8803\n",
      "Epoch 7/20\n",
      "7/7 [==============================] - 0s 823us/step - loss: 0.3267 - accuracy: 0.8710\n",
      "Epoch 8/20\n",
      "7/7 [==============================] - 0s 839us/step - loss: 0.3220 - accuracy: 0.8761\n",
      "Epoch 9/20\n",
      "7/7 [==============================] - 0s 942us/step - loss: 0.2806 - accuracy: 0.9048\n",
      "Epoch 10/20\n",
      "7/7 [==============================] - 0s 835us/step - loss: 0.2386 - accuracy: 0.9155\n",
      "Epoch 11/20\n",
      "7/7 [==============================] - 0s 958us/step - loss: 0.2970 - accuracy: 0.8923\n",
      "Epoch 12/20\n",
      "7/7 [==============================] - 0s 792us/step - loss: 0.2851 - accuracy: 0.8896\n",
      "Epoch 13/20\n",
      "7/7 [==============================] - 0s 882us/step - loss: 0.3125 - accuracy: 0.8711\n",
      "Epoch 14/20\n",
      "7/7 [==============================] - 0s 848us/step - loss: 0.3689 - accuracy: 0.8394\n",
      "Epoch 15/20\n",
      "7/7 [==============================] - 0s 882us/step - loss: 0.3445 - accuracy: 0.8546\n",
      "Epoch 16/20\n",
      "7/7 [==============================] - 0s 805us/step - loss: 0.3855 - accuracy: 0.8803\n",
      "Epoch 17/20\n",
      "7/7 [==============================] - 0s 861us/step - loss: 0.4876 - accuracy: 0.7584\n",
      "Epoch 18/20\n",
      "7/7 [==============================] - 0s 825us/step - loss: 0.3056 - accuracy: 0.8859\n",
      "Epoch 19/20\n",
      "7/7 [==============================] - 0s 798us/step - loss: 0.2695 - accuracy: 0.9014\n",
      "Epoch 20/20\n",
      "7/7 [==============================] - 0s 848us/step - loss: 0.2773 - accuracy: 0.8918\n",
      "4/4 [==============================] - 0s 830us/step - loss: 1.2743 - accuracy: 0.7624\n",
      "\n",
      "\n",
      "RUNNING MODEL WITH LEARNING_RATE(0.1) and ACTIVATION(relu)\n",
      "Epoch 1/20\n",
      "7/7 [==============================] - 0s 1ms/step - loss: 1.0564 - accuracy: 0.6166\n",
      "Epoch 2/20\n",
      "7/7 [==============================] - 0s 950us/step - loss: 0.5201 - accuracy: 0.7126\n",
      "Epoch 3/20\n",
      "7/7 [==============================] - 0s 872us/step - loss: 0.5790 - accuracy: 0.8234\n",
      "Epoch 4/20\n",
      "7/7 [==============================] - 0s 776us/step - loss: 0.4298 - accuracy: 0.8141\n",
      "Epoch 5/20\n",
      "7/7 [==============================] - 0s 799us/step - loss: 0.3350 - accuracy: 0.8581\n",
      "Epoch 6/20\n",
      "7/7 [==============================] - 0s 792us/step - loss: 0.3236 - accuracy: 0.8790\n",
      "Epoch 7/20\n",
      "7/7 [==============================] - 0s 781us/step - loss: 0.3369 - accuracy: 0.8491\n",
      "Epoch 8/20\n",
      "7/7 [==============================] - 0s 848us/step - loss: 0.2694 - accuracy: 0.9013\n",
      "Epoch 9/20\n",
      "7/7 [==============================] - 0s 794us/step - loss: 0.2753 - accuracy: 0.8898\n",
      "Epoch 10/20\n",
      "7/7 [==============================] - 0s 892us/step - loss: 0.2127 - accuracy: 0.8800\n",
      "Epoch 11/20\n",
      "7/7 [==============================] - 0s 776us/step - loss: 0.2567 - accuracy: 0.9056\n",
      "Epoch 12/20\n",
      "7/7 [==============================] - 0s 826us/step - loss: 0.2785 - accuracy: 0.8857\n",
      "Epoch 13/20\n",
      "7/7 [==============================] - 0s 785us/step - loss: 0.3510 - accuracy: 0.8312\n",
      "Epoch 14/20\n",
      "7/7 [==============================] - 0s 790us/step - loss: 0.3840 - accuracy: 0.8121\n",
      "Epoch 15/20\n",
      "7/7 [==============================] - 0s 835us/step - loss: 0.3175 - accuracy: 0.8592\n",
      "Epoch 16/20\n",
      "7/7 [==============================] - 0s 800us/step - loss: 0.3020 - accuracy: 0.8860\n",
      "Epoch 17/20\n",
      "7/7 [==============================] - 0s 850us/step - loss: 0.2326 - accuracy: 0.9121\n",
      "Epoch 18/20\n",
      "7/7 [==============================] - 0s 797us/step - loss: 0.1711 - accuracy: 0.9172\n",
      "Epoch 19/20\n",
      "7/7 [==============================] - 0s 819us/step - loss: 0.1912 - accuracy: 0.9111\n",
      "Epoch 20/20\n",
      "7/7 [==============================] - 0s 752us/step - loss: 0.1245 - accuracy: 0.9405\n",
      "4/4 [==============================] - 0s 1ms/step - loss: 0.8304 - accuracy: 0.8020\n",
      "\n",
      "\n",
      "RUNNING MODEL WITH LEARNING_RATE(0.01) and ACTIVATION(relu)\n",
      "Epoch 1/20\n",
      "7/7 [==============================] - 0s 1ms/step - loss: 0.6398 - accuracy: 0.6505\n",
      "Epoch 2/20\n",
      "7/7 [==============================] - 0s 962us/step - loss: 0.4071 - accuracy: 0.8064\n",
      "Epoch 3/20\n",
      "7/7 [==============================] - 0s 824us/step - loss: 0.3611 - accuracy: 0.8700\n",
      "Epoch 4/20\n",
      "7/7 [==============================] - 0s 754us/step - loss: 0.3232 - accuracy: 0.8566\n",
      "Epoch 5/20\n",
      "7/7 [==============================] - 0s 765us/step - loss: 0.2560 - accuracy: 0.9133\n",
      "Epoch 6/20\n",
      "7/7 [==============================] - 0s 804us/step - loss: 0.2865 - accuracy: 0.8687\n",
      "Epoch 7/20\n",
      "7/7 [==============================] - 0s 783us/step - loss: 0.1945 - accuracy: 0.9374\n",
      "Epoch 8/20\n",
      "7/7 [==============================] - 0s 861us/step - loss: 0.2017 - accuracy: 0.9081\n",
      "Epoch 9/20\n",
      "7/7 [==============================] - 0s 811us/step - loss: 0.1793 - accuracy: 0.9225\n",
      "Epoch 10/20\n",
      "7/7 [==============================] - 0s 803us/step - loss: 0.1039 - accuracy: 0.9704\n",
      "Epoch 11/20\n",
      "7/7 [==============================] - 0s 763us/step - loss: 0.0712 - accuracy: 0.9702\n",
      "Epoch 12/20\n",
      "7/7 [==============================] - 0s 790us/step - loss: 0.0504 - accuracy: 0.9886\n",
      "Epoch 13/20\n",
      "7/7 [==============================] - 0s 789us/step - loss: 0.0354 - accuracy: 0.9858\n",
      "Epoch 14/20\n",
      "7/7 [==============================] - 0s 790us/step - loss: 0.0278 - accuracy: 0.9873\n",
      "Epoch 15/20\n",
      "7/7 [==============================] - 0s 837us/step - loss: 0.0132 - accuracy: 0.9962\n",
      "Epoch 16/20\n",
      "7/7 [==============================] - 0s 799us/step - loss: 0.0442 - accuracy: 0.9846\n",
      "Epoch 17/20\n",
      "7/7 [==============================] - 0s 813us/step - loss: 0.0273 - accuracy: 0.9964\n",
      "Epoch 18/20\n"
     ]
    },
    {
     "name": "stdout",
     "output_type": "stream",
     "text": [
      "7/7 [==============================] - 0s 764us/step - loss: 0.0182 - accuracy: 0.9931\n",
      "Epoch 19/20\n",
      "7/7 [==============================] - 0s 766us/step - loss: 0.0112 - accuracy: 1.0000\n",
      "Epoch 20/20\n",
      "7/7 [==============================] - 0s 775us/step - loss: 0.0070 - accuracy: 1.0000\n",
      "4/4 [==============================] - 0s 996us/step - loss: 1.4586 - accuracy: 0.8119\n",
      "\n",
      "\n",
      "RUNNING MODEL WITH LEARNING_RATE(0.01) and ACTIVATION(relu)\n",
      "Epoch 1/20\n",
      "7/7 [==============================] - 0s 1ms/step - loss: 0.6603 - accuracy: 0.5895\n",
      "Epoch 2/20\n",
      "7/7 [==============================] - 0s 1ms/step - loss: 0.4503 - accuracy: 0.8553\n",
      "Epoch 3/20\n",
      "7/7 [==============================] - 0s 965us/step - loss: 0.3040 - accuracy: 0.8737\n",
      "Epoch 4/20\n",
      "7/7 [==============================] - 0s 902us/step - loss: 0.2288 - accuracy: 0.9167\n",
      "Epoch 5/20\n",
      "7/7 [==============================] - 0s 944us/step - loss: 0.1717 - accuracy: 0.9443\n",
      "Epoch 6/20\n",
      "7/7 [==============================] - 0s 797us/step - loss: 0.1290 - accuracy: 0.9590\n",
      "Epoch 7/20\n",
      "7/7 [==============================] - 0s 849us/step - loss: 0.1424 - accuracy: 0.9435\n",
      "Epoch 8/20\n",
      "7/7 [==============================] - 0s 860us/step - loss: 0.0936 - accuracy: 0.9710\n",
      "Epoch 9/20\n",
      "7/7 [==============================] - 0s 792us/step - loss: 0.0988 - accuracy: 0.9760\n",
      "Epoch 10/20\n",
      "7/7 [==============================] - 0s 812us/step - loss: 0.0765 - accuracy: 0.9827\n",
      "Epoch 11/20\n",
      "7/7 [==============================] - 0s 779us/step - loss: 0.0918 - accuracy: 0.9767\n",
      "Epoch 12/20\n",
      "7/7 [==============================] - 0s 856us/step - loss: 0.0802 - accuracy: 0.9863\n",
      "Epoch 13/20\n",
      "7/7 [==============================] - 0s 811us/step - loss: 0.0599 - accuracy: 0.9818\n",
      "Epoch 14/20\n",
      "7/7 [==============================] - 0s 839us/step - loss: 0.0516 - accuracy: 0.9836\n",
      "Epoch 15/20\n",
      "7/7 [==============================] - 0s 770us/step - loss: 0.0431 - accuracy: 0.9862\n",
      "Epoch 16/20\n",
      "7/7 [==============================] - 0s 760us/step - loss: 0.0434 - accuracy: 0.9812\n",
      "Epoch 17/20\n",
      "7/7 [==============================] - 0s 755us/step - loss: 0.0487 - accuracy: 0.9792\n",
      "Epoch 18/20\n",
      "7/7 [==============================] - 0s 743us/step - loss: 0.0534 - accuracy: 0.9786\n",
      "Epoch 19/20\n",
      "7/7 [==============================] - 0s 802us/step - loss: 0.0230 - accuracy: 0.9927\n",
      "Epoch 20/20\n",
      "7/7 [==============================] - 0s 775us/step - loss: 0.0199 - accuracy: 0.9951\n",
      "4/4 [==============================] - 0s 1ms/step - loss: 1.7096 - accuracy: 0.7822\n",
      "\n",
      "\n",
      "RUNNING MODEL WITH LEARNING_RATE(0.01) and ACTIVATION(relu)\n",
      "Epoch 1/20\n",
      "7/7 [==============================] - 0s 1ms/step - loss: 0.6295 - accuracy: 0.6935\n",
      "Epoch 2/20\n",
      "7/7 [==============================] - 0s 1ms/step - loss: 0.4352 - accuracy: 0.8197\n",
      "Epoch 3/20\n",
      "7/7 [==============================] - 0s 1ms/step - loss: 0.3624 - accuracy: 0.8504\n",
      "Epoch 4/20\n",
      "7/7 [==============================] - 0s 994us/step - loss: 0.3356 - accuracy: 0.8716\n",
      "Epoch 5/20\n",
      "7/7 [==============================] - 0s 817us/step - loss: 0.3005 - accuracy: 0.8992\n",
      "Epoch 6/20\n",
      "7/7 [==============================] - 0s 794us/step - loss: 0.2659 - accuracy: 0.9090\n",
      "Epoch 7/20\n",
      "7/7 [==============================] - 0s 822us/step - loss: 0.2761 - accuracy: 0.9075\n",
      "Epoch 8/20\n",
      "7/7 [==============================] - 0s 794us/step - loss: 0.2795 - accuracy: 0.8771\n",
      "Epoch 9/20\n",
      "7/7 [==============================] - 0s 795us/step - loss: 0.1830 - accuracy: 0.9420\n",
      "Epoch 10/20\n",
      "7/7 [==============================] - 0s 812us/step - loss: 0.2465 - accuracy: 0.9201\n",
      "Epoch 11/20\n",
      "7/7 [==============================] - 0s 798us/step - loss: 0.1881 - accuracy: 0.9275\n",
      "Epoch 12/20\n",
      "7/7 [==============================] - 0s 807us/step - loss: 0.1811 - accuracy: 0.9210\n",
      "Epoch 13/20\n",
      "7/7 [==============================] - 0s 792us/step - loss: 0.1453 - accuracy: 0.9385\n",
      "Epoch 14/20\n",
      "7/7 [==============================] - 0s 836us/step - loss: 0.1569 - accuracy: 0.9318\n",
      "Epoch 15/20\n",
      "7/7 [==============================] - 0s 793us/step - loss: 0.1258 - accuracy: 0.9465\n",
      "Epoch 16/20\n",
      "7/7 [==============================] - 0s 764us/step - loss: 0.1018 - accuracy: 0.9577\n",
      "Epoch 17/20\n",
      "7/7 [==============================] - 0s 789us/step - loss: 0.1106 - accuracy: 0.9321\n",
      "Epoch 18/20\n",
      "7/7 [==============================] - 0s 737us/step - loss: 0.1308 - accuracy: 0.9519\n",
      "Epoch 19/20\n",
      "7/7 [==============================] - 0s 818us/step - loss: 0.1066 - accuracy: 0.9497\n",
      "Epoch 20/20\n",
      "7/7 [==============================] - 0s 779us/step - loss: 0.1144 - accuracy: 0.9385\n",
      "4/4 [==============================] - 0s 1ms/step - loss: 0.8117 - accuracy: 0.8218\n",
      "\n",
      "\n",
      "RUNNING MODEL WITH LEARNING_RATE(0.1) and ACTIVATION(sigmoid)\n",
      "Epoch 1/20\n",
      "7/7 [==============================] - 0s 1ms/step - loss: 0.7515 - accuracy: 0.5636\n",
      "Epoch 2/20\n",
      "7/7 [==============================] - 0s 1ms/step - loss: 0.6705 - accuracy: 0.4977\n",
      "Epoch 3/20\n",
      "7/7 [==============================] - 0s 887us/step - loss: 0.5473 - accuracy: 0.8361\n",
      "Epoch 4/20\n",
      "7/7 [==============================] - 0s 951us/step - loss: 0.4291 - accuracy: 0.8555\n",
      "Epoch 5/20\n",
      "7/7 [==============================] - 0s 920us/step - loss: 0.4390 - accuracy: 0.8424\n",
      "Epoch 6/20\n",
      "7/7 [==============================] - 0s 800us/step - loss: 0.4543 - accuracy: 0.8375\n",
      "Epoch 7/20\n",
      "7/7 [==============================] - 0s 802us/step - loss: 0.4616 - accuracy: 0.8308\n",
      "Epoch 8/20\n",
      "7/7 [==============================] - 0s 793us/step - loss: 0.5470 - accuracy: 0.7771\n",
      "Epoch 9/20\n",
      "7/7 [==============================] - 0s 799us/step - loss: 0.5231 - accuracy: 0.7762\n",
      "Epoch 10/20\n",
      "7/7 [==============================] - 0s 784us/step - loss: 0.4253 - accuracy: 0.8422\n",
      "Epoch 11/20\n",
      "7/7 [==============================] - 0s 833us/step - loss: 0.4174 - accuracy: 0.8486\n",
      "Epoch 12/20\n",
      "7/7 [==============================] - 0s 820us/step - loss: 0.4380 - accuracy: 0.8401\n",
      "Epoch 13/20\n",
      "7/7 [==============================] - 0s 805us/step - loss: 0.4652 - accuracy: 0.8211\n",
      "Epoch 14/20\n",
      "7/7 [==============================] - 0s 781us/step - loss: 0.4339 - accuracy: 0.8341\n",
      "Epoch 15/20\n",
      "7/7 [==============================] - 0s 773us/step - loss: 0.4065 - accuracy: 0.8548\n",
      "Epoch 16/20\n",
      "7/7 [==============================] - 0s 805us/step - loss: 0.4634 - accuracy: 0.8227\n",
      "Epoch 17/20\n",
      "7/7 [==============================] - 0s 767us/step - loss: 0.4345 - accuracy: 0.8407\n",
      "Epoch 18/20\n",
      "7/7 [==============================] - 0s 805us/step - loss: 0.3954 - accuracy: 0.8614\n",
      "Epoch 19/20\n",
      "7/7 [==============================] - 0s 770us/step - loss: 0.4030 - accuracy: 0.8556\n",
      "Epoch 20/20\n",
      "7/7 [==============================] - 0s 763us/step - loss: 0.4258 - accuracy: 0.8378\n",
      "4/4 [==============================] - 0s 1ms/step - loss: 0.4005 - accuracy: 0.8614\n",
      "\n",
      "\n",
      "RUNNING MODEL WITH LEARNING_RATE(0.1) and ACTIVATION(sigmoid)\n",
      "Epoch 1/20\n",
      "7/7 [==============================] - 0s 1ms/step - loss: 0.7126 - accuracy: 0.5196\n",
      "Epoch 2/20\n",
      "7/7 [==============================] - 0s 1ms/step - loss: 0.7361 - accuracy: 0.5315\n",
      "Epoch 3/20\n",
      "7/7 [==============================] - 0s 825us/step - loss: 0.6920 - accuracy: 0.5077\n",
      "Epoch 4/20\n",
      "7/7 [==============================] - 0s 919us/step - loss: 0.6917 - accuracy: 0.5247\n",
      "Epoch 5/20\n",
      "7/7 [==============================] - 0s 792us/step - loss: 0.6897 - accuracy: 0.5397\n",
      "Epoch 6/20\n",
      "7/7 [==============================] - 0s 847us/step - loss: 0.6874 - accuracy: 0.5484\n",
      "Epoch 7/20\n",
      "7/7 [==============================] - 0s 869us/step - loss: 0.6872 - accuracy: 0.5425\n",
      "Epoch 8/20\n",
      "7/7 [==============================] - 0s 778us/step - loss: 0.6647 - accuracy: 0.6400\n",
      "Epoch 9/20\n",
      "7/7 [==============================] - 0s 856us/step - loss: 0.5556 - accuracy: 0.9075\n",
      "Epoch 10/20\n",
      "7/7 [==============================] - 0s 796us/step - loss: 0.4675 - accuracy: 0.8455\n",
      "Epoch 11/20\n",
      "7/7 [==============================] - 0s 812us/step - loss: 0.4713 - accuracy: 0.8376\n",
      "Epoch 12/20\n",
      "7/7 [==============================] - 0s 773us/step - loss: 0.4951 - accuracy: 0.8226\n",
      "Epoch 13/20\n",
      "7/7 [==============================] - 0s 825us/step - loss: 0.3637 - accuracy: 0.8546\n",
      "Epoch 14/20\n",
      "7/7 [==============================] - 0s 768us/step - loss: 0.3481 - accuracy: 0.8846\n",
      "Epoch 15/20\n"
     ]
    },
    {
     "name": "stdout",
     "output_type": "stream",
     "text": [
      "7/7 [==============================] - 0s 789us/step - loss: 0.3364 - accuracy: 0.8902\n",
      "Epoch 16/20\n",
      "7/7 [==============================] - 0s 815us/step - loss: 0.3009 - accuracy: 0.9009\n",
      "Epoch 17/20\n",
      "7/7 [==============================] - 0s 756us/step - loss: 0.2944 - accuracy: 0.9154\n",
      "Epoch 18/20\n",
      "7/7 [==============================] - 0s 765us/step - loss: 0.3526 - accuracy: 0.8905\n",
      "Epoch 19/20\n",
      "7/7 [==============================] - 0s 774us/step - loss: 0.2878 - accuracy: 0.9184\n",
      "Epoch 20/20\n",
      "7/7 [==============================] - 0s 759us/step - loss: 0.2589 - accuracy: 0.9258\n",
      "4/4 [==============================] - 0s 1ms/step - loss: 0.5938 - accuracy: 0.7921\n",
      "\n",
      "\n",
      "RUNNING MODEL WITH LEARNING_RATE(0.1) and ACTIVATION(sigmoid)\n",
      "Epoch 1/20\n",
      "7/7 [==============================] - 0s 1ms/step - loss: 0.8127 - accuracy: 0.5348\n",
      "Epoch 2/20\n",
      "7/7 [==============================] - 0s 1ms/step - loss: 0.6606 - accuracy: 0.5886\n",
      "Epoch 3/20\n",
      "7/7 [==============================] - 0s 890us/step - loss: 0.4851 - accuracy: 0.8331\n",
      "Epoch 4/20\n",
      "7/7 [==============================] - 0s 899us/step - loss: 0.4494 - accuracy: 0.8407\n",
      "Epoch 5/20\n",
      "7/7 [==============================] - 0s 895us/step - loss: 0.4690 - accuracy: 0.8301\n",
      "Epoch 6/20\n",
      "7/7 [==============================] - 0s 884us/step - loss: 0.4130 - accuracy: 0.8450\n",
      "Epoch 7/20\n",
      "7/7 [==============================] - 0s 777us/step - loss: 0.4355 - accuracy: 0.8371\n",
      "Epoch 8/20\n",
      "7/7 [==============================] - 0s 842us/step - loss: 0.3831 - accuracy: 0.8689\n",
      "Epoch 9/20\n",
      "7/7 [==============================] - 0s 807us/step - loss: 0.4176 - accuracy: 0.8403\n",
      "Epoch 10/20\n",
      "7/7 [==============================] - 0s 841us/step - loss: 0.3347 - accuracy: 0.8698\n",
      "Epoch 11/20\n",
      "7/7 [==============================] - 0s 798us/step - loss: 0.3190 - accuracy: 0.8982\n",
      "Epoch 12/20\n",
      "7/7 [==============================] - 0s 807us/step - loss: 0.3267 - accuracy: 0.8866\n",
      "Epoch 13/20\n",
      "7/7 [==============================] - 0s 811us/step - loss: 0.3441 - accuracy: 0.8920\n",
      "Epoch 14/20\n",
      "7/7 [==============================] - 0s 791us/step - loss: 0.3693 - accuracy: 0.8625\n",
      "Epoch 15/20\n",
      "7/7 [==============================] - 0s 830us/step - loss: 0.3558 - accuracy: 0.8474\n",
      "Epoch 16/20\n",
      "7/7 [==============================] - 0s 781us/step - loss: 0.3767 - accuracy: 0.8553\n",
      "Epoch 17/20\n",
      "7/7 [==============================] - 0s 835us/step - loss: 0.3487 - accuracy: 0.8601\n",
      "Epoch 18/20\n",
      "7/7 [==============================] - 0s 809us/step - loss: 0.3002 - accuracy: 0.8918\n",
      "Epoch 19/20\n",
      "7/7 [==============================] - 0s 802us/step - loss: 0.3434 - accuracy: 0.8623\n",
      "Epoch 20/20\n",
      "7/7 [==============================] - 0s 781us/step - loss: 0.3101 - accuracy: 0.8884\n",
      "4/4 [==============================] - 0s 1ms/step - loss: 0.4730 - accuracy: 0.8317\n",
      "\n",
      "\n",
      "RUNNING MODEL WITH LEARNING_RATE(0.01) and ACTIVATION(sigmoid)\n",
      "Epoch 1/20\n",
      "7/7 [==============================] - 0s 1ms/step - loss: 0.6953 - accuracy: 0.5255\n",
      "Epoch 2/20\n",
      "7/7 [==============================] - 0s 1ms/step - loss: 0.6769 - accuracy: 0.5171\n",
      "Epoch 3/20\n",
      "7/7 [==============================] - 0s 953us/step - loss: 0.6426 - accuracy: 0.5836\n",
      "Epoch 4/20\n",
      "7/7 [==============================] - 0s 970us/step - loss: 0.5943 - accuracy: 0.8049\n",
      "Epoch 5/20\n",
      "7/7 [==============================] - 0s 851us/step - loss: 0.5338 - accuracy: 0.8308\n",
      "Epoch 6/20\n",
      "7/7 [==============================] - 0s 914us/step - loss: 0.4668 - accuracy: 0.8429\n",
      "Epoch 7/20\n",
      "7/7 [==============================] - 0s 800us/step - loss: 0.4466 - accuracy: 0.8353\n",
      "Epoch 8/20\n",
      "7/7 [==============================] - 0s 846us/step - loss: 0.4137 - accuracy: 0.8538\n",
      "Epoch 9/20\n",
      "7/7 [==============================] - 0s 766us/step - loss: 0.4043 - accuracy: 0.8564\n",
      "Epoch 10/20\n",
      "7/7 [==============================] - 0s 783us/step - loss: 0.3890 - accuracy: 0.8668\n",
      "Epoch 11/20\n",
      "7/7 [==============================] - 0s 828us/step - loss: 0.3499 - accuracy: 0.8836\n",
      "Epoch 12/20\n",
      "7/7 [==============================] - 0s 787us/step - loss: 0.3417 - accuracy: 0.8964\n",
      "Epoch 13/20\n",
      "7/7 [==============================] - 0s 839us/step - loss: 0.3749 - accuracy: 0.8665\n",
      "Epoch 14/20\n",
      "7/7 [==============================] - 0s 782us/step - loss: 0.3334 - accuracy: 0.8988\n",
      "Epoch 15/20\n",
      "7/7 [==============================] - 0s 780us/step - loss: 0.3593 - accuracy: 0.8827\n",
      "Epoch 16/20\n",
      "7/7 [==============================] - 0s 757us/step - loss: 0.4005 - accuracy: 0.8573\n",
      "Epoch 17/20\n",
      "7/7 [==============================] - 0s 774us/step - loss: 0.3704 - accuracy: 0.8569\n",
      "Epoch 18/20\n",
      "7/7 [==============================] - 0s 805us/step - loss: 0.3681 - accuracy: 0.8582\n",
      "Epoch 19/20\n",
      "7/7 [==============================] - 0s 746us/step - loss: 0.3779 - accuracy: 0.8639\n",
      "Epoch 20/20\n",
      "7/7 [==============================] - 0s 776us/step - loss: 0.4071 - accuracy: 0.8484\n",
      "4/4 [==============================] - 0s 1ms/step - loss: 0.3352 - accuracy: 0.8911\n",
      "\n",
      "\n",
      "RUNNING MODEL WITH LEARNING_RATE(0.01) and ACTIVATION(sigmoid)\n",
      "Epoch 1/20\n",
      "7/7 [==============================] - 0s 1ms/step - loss: 0.7482 - accuracy: 0.5456\n",
      "Epoch 2/20\n",
      "7/7 [==============================] - 0s 1ms/step - loss: 0.6837 - accuracy: 0.5679\n",
      "Epoch 3/20\n",
      "7/7 [==============================] - 0s 1ms/step - loss: 0.6779 - accuracy: 0.5503\n",
      "Epoch 4/20\n",
      "7/7 [==============================] - 0s 888us/step - loss: 0.6466 - accuracy: 0.5703\n",
      "Epoch 5/20\n",
      "7/7 [==============================] - 0s 952us/step - loss: 0.6006 - accuracy: 0.6579\n",
      "Epoch 6/20\n",
      "7/7 [==============================] - 0s 808us/step - loss: 0.5075 - accuracy: 0.8750\n",
      "Epoch 7/20\n",
      "7/7 [==============================] - 0s 791us/step - loss: 0.4410 - accuracy: 0.8885\n",
      "Epoch 8/20\n",
      "7/7 [==============================] - 0s 792us/step - loss: 0.3618 - accuracy: 0.9202\n",
      "Epoch 9/20\n",
      "7/7 [==============================] - 0s 789us/step - loss: 0.3202 - accuracy: 0.9329\n",
      "Epoch 10/20\n",
      "7/7 [==============================] - 0s 797us/step - loss: 0.3168 - accuracy: 0.9267\n",
      "Epoch 11/20\n",
      "7/7 [==============================] - 0s 827us/step - loss: 0.3252 - accuracy: 0.9060\n",
      "Epoch 12/20\n",
      "7/7 [==============================] - 0s 837us/step - loss: 0.2978 - accuracy: 0.9219\n",
      "Epoch 13/20\n",
      "7/7 [==============================] - 0s 840us/step - loss: 0.2744 - accuracy: 0.9358\n",
      "Epoch 14/20\n",
      "7/7 [==============================] - 0s 823us/step - loss: 0.2653 - accuracy: 0.9323\n",
      "Epoch 15/20\n",
      "7/7 [==============================] - 0s 759us/step - loss: 0.2903 - accuracy: 0.9182\n",
      "Epoch 16/20\n",
      "7/7 [==============================] - 0s 755us/step - loss: 0.2872 - accuracy: 0.9223\n",
      "Epoch 17/20\n",
      "7/7 [==============================] - 0s 812us/step - loss: 0.2612 - accuracy: 0.9269\n",
      "Epoch 18/20\n",
      "7/7 [==============================] - 0s 771us/step - loss: 0.2650 - accuracy: 0.9326\n",
      "Epoch 19/20\n",
      "7/7 [==============================] - 0s 782us/step - loss: 0.2412 - accuracy: 0.9402\n",
      "Epoch 20/20\n",
      "7/7 [==============================] - 0s 762us/step - loss: 0.3264 - accuracy: 0.9000\n",
      "4/4 [==============================] - 0s 1ms/step - loss: 0.5257 - accuracy: 0.8119\n",
      "\n",
      "\n",
      "RUNNING MODEL WITH LEARNING_RATE(0.01) and ACTIVATION(sigmoid)\n",
      "Epoch 1/20\n",
      "7/7 [==============================] - 0s 1ms/step - loss: 0.8679 - accuracy: 0.4629\n",
      "Epoch 2/20\n",
      "7/7 [==============================] - 0s 1ms/step - loss: 0.7005 - accuracy: 0.4889\n",
      "Epoch 3/20\n",
      "7/7 [==============================] - 0s 864us/step - loss: 0.6908 - accuracy: 0.5343\n",
      "Epoch 4/20\n",
      "7/7 [==============================] - 0s 834us/step - loss: 0.6879 - accuracy: 0.5571\n",
      "Epoch 5/20\n",
      "7/7 [==============================] - 0s 914us/step - loss: 0.6955 - accuracy: 0.5380\n",
      "Epoch 6/20\n",
      "7/7 [==============================] - 0s 778us/step - loss: 0.6856 - accuracy: 0.5637\n",
      "Epoch 7/20\n",
      "7/7 [==============================] - 0s 795us/step - loss: 0.6898 - accuracy: 0.5469\n",
      "Epoch 8/20\n",
      "7/7 [==============================] - 0s 836us/step - loss: 0.6752 - accuracy: 0.5903\n",
      "Epoch 9/20\n",
      "7/7 [==============================] - 0s 787us/step - loss: 0.6800 - accuracy: 0.5666\n",
      "Epoch 10/20\n",
      "7/7 [==============================] - 0s 813us/step - loss: 0.6784 - accuracy: 0.5594\n",
      "Epoch 11/20\n",
      "7/7 [==============================] - 0s 806us/step - loss: 0.6760 - accuracy: 0.5241\n",
      "Epoch 12/20\n"
     ]
    },
    {
     "name": "stdout",
     "output_type": "stream",
     "text": [
      "7/7 [==============================] - 0s 799us/step - loss: 0.6591 - accuracy: 0.5512\n",
      "Epoch 13/20\n",
      "7/7 [==============================] - 0s 799us/step - loss: 0.6396 - accuracy: 0.7978\n",
      "Epoch 14/20\n",
      "7/7 [==============================] - 0s 784us/step - loss: 0.5928 - accuracy: 0.8592\n",
      "Epoch 15/20\n",
      "7/7 [==============================] - 0s 823us/step - loss: 0.5414 - accuracy: 0.8598\n",
      "Epoch 16/20\n",
      "7/7 [==============================] - 0s 807us/step - loss: 0.4833 - accuracy: 0.8751\n",
      "Epoch 17/20\n",
      "7/7 [==============================] - 0s 846us/step - loss: 0.4532 - accuracy: 0.8719\n",
      "Epoch 18/20\n",
      "7/7 [==============================] - 0s 765us/step - loss: 0.4258 - accuracy: 0.8834\n",
      "Epoch 19/20\n",
      "7/7 [==============================] - 0s 767us/step - loss: 0.4149 - accuracy: 0.8734\n",
      "Epoch 20/20\n",
      "7/7 [==============================] - 0s 800us/step - loss: 0.3714 - accuracy: 0.8958\n",
      "4/4 [==============================] - 0s 1ms/step - loss: 0.5120 - accuracy: 0.7822\n",
      "\n",
      "\n",
      "RUNNING MODEL WITH LEARNING_RATE(0.1) and ACTIVATION(sigmoid)\n",
      "Epoch 1/20\n",
      "10/10 [==============================] - 0s 1ms/step - loss: 0.7165 - accuracy: 0.5086\n",
      "Epoch 2/20\n",
      "10/10 [==============================] - 0s 1ms/step - loss: 0.6832 - accuracy: 0.5662\n",
      "Epoch 3/20\n",
      "10/10 [==============================] - 0s 825us/step - loss: 0.5572 - accuracy: 0.8441\n",
      "Epoch 4/20\n",
      "10/10 [==============================] - 0s 760us/step - loss: 0.4294 - accuracy: 0.8484\n",
      "Epoch 5/20\n",
      "10/10 [==============================] - 0s 799us/step - loss: 0.4340 - accuracy: 0.8428\n",
      "Epoch 6/20\n",
      "10/10 [==============================] - 0s 836us/step - loss: 0.4196 - accuracy: 0.8547\n",
      "Epoch 7/20\n",
      "10/10 [==============================] - 0s 742us/step - loss: 0.4334 - accuracy: 0.8432\n",
      "Epoch 8/20\n",
      "10/10 [==============================] - 0s 760us/step - loss: 0.3952 - accuracy: 0.8530\n",
      "Epoch 9/20\n",
      "10/10 [==============================] - 0s 749us/step - loss: 0.4049 - accuracy: 0.8391\n",
      "Epoch 10/20\n",
      "10/10 [==============================] - 0s 787us/step - loss: 0.3970 - accuracy: 0.8595\n",
      "Epoch 11/20\n",
      "10/10 [==============================] - 0s 734us/step - loss: 0.3986 - accuracy: 0.8518\n",
      "Epoch 12/20\n",
      "10/10 [==============================] - 0s 759us/step - loss: 0.3808 - accuracy: 0.8566\n",
      "Epoch 13/20\n",
      "10/10 [==============================] - 0s 728us/step - loss: 0.3381 - accuracy: 0.8566\n",
      "Epoch 14/20\n",
      "10/10 [==============================] - 0s 757us/step - loss: 0.3661 - accuracy: 0.8545\n",
      "Epoch 15/20\n",
      "10/10 [==============================] - 0s 744us/step - loss: 0.3125 - accuracy: 0.8683\n",
      "Epoch 16/20\n",
      "10/10 [==============================] - 0s 733us/step - loss: 0.3059 - accuracy: 0.8807\n",
      "Epoch 17/20\n",
      "10/10 [==============================] - 0s 742us/step - loss: 0.2851 - accuracy: 0.8997\n",
      "Epoch 18/20\n",
      "10/10 [==============================] - 0s 757us/step - loss: 0.3122 - accuracy: 0.8765\n",
      "Epoch 19/20\n",
      "10/10 [==============================] - 0s 741us/step - loss: 0.3405 - accuracy: 0.8763\n",
      "Epoch 20/20\n",
      "10/10 [==============================] - 0s 737us/step - loss: 0.2787 - accuracy: 0.8907\n"
     ]
    }
   ],
   "source": [
    "# Create Grid Search object and name it 'gs'\n",
    "# Run Grid Search \n",
    "# YOUR CODE HERE\n",
    "\n",
    "gs = GridSearchCV(\n",
    "        estimator=model,\n",
    "        param_grid=param_grid,\n",
    "        n_jobs=1,\n",
    "        verbose=1,\n",
    "        cv=3,\n",
    "    )\n",
    "\n",
    "grid_result = gs.fit(X_scaled, Y)"
   ]
  },
  {
   "cell_type": "code",
   "execution_count": 29,
   "metadata": {},
   "outputs": [
    {
     "name": "stdout",
     "output_type": "stream",
     "text": [
      "Best: 0.8283828298250834 using {'act': 'sigmoid', 'lr': 0.1}\n",
      "Means: 0.7887788812319437, Stdev: 0.01866948040798165 with: {'act': 'relu', 'lr': 0.1}\n",
      "Means: 0.8052805264790853, Stdev: 0.01682844222431205 with: {'act': 'relu', 'lr': 0.01}\n",
      "Means: 0.8283828298250834, Stdev: 0.028390503971451875 with: {'act': 'sigmoid', 'lr': 0.1}\n",
      "Means: 0.8283828298250834, Stdev: 0.0459682644429074 with: {'act': 'sigmoid', 'lr': 0.01}\n"
     ]
    }
   ],
   "source": [
    "# your grid_result object should be able to run in this code \n",
    "print(f\"Best: {grid_result.best_score_} using {grid_result.best_params_}\")\n",
    "means = grid_result.cv_results_['mean_test_score']\n",
    "stds = grid_result.cv_results_['std_test_score']\n",
    "params = grid_result.cv_results_['params']\n",
    "for mean, stdev, param in zip(means, stds, params):\n",
    "    print(f\"Means: {mean}, Stdev: {stdev} with: {param}\") "
   ]
  },
  {
   "cell_type": "code",
   "execution_count": 30,
   "metadata": {},
   "outputs": [
    {
     "name": "stdout",
     "output_type": "stream",
     "text": [
      "10/10 [==============================] - 0s 772us/step - loss: 0.2927 - accuracy: 0.8746\n"
     ]
    },
    {
     "data": {
      "text/plain": [
       "[0.2926810383796692, 0.8745874762535095]"
      ]
     },
     "execution_count": 30,
     "metadata": {},
     "output_type": "execute_result"
    }
   ],
   "source": [
    "grid_result.best_estimator_.model.evaluate(X_scaled, Y)"
   ]
  }
 ],
 "metadata": {
  "kernelspec": {
   "display_name": "U4-S2-NN (Python3)",
   "language": "python",
   "name": "u4-s2-nn"
  },
  "language_info": {
   "codemirror_mode": {
    "name": "ipython",
    "version": 3
   },
   "file_extension": ".py",
   "mimetype": "text/x-python",
   "name": "python",
   "nbconvert_exporter": "python",
   "pygments_lexer": "ipython3",
   "version": "3.7.0"
  }
 },
 "nbformat": 4,
 "nbformat_minor": 4
}
