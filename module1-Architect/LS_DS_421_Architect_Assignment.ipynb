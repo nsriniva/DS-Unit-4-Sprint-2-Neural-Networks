{
 "cells": [
  {
   "cell_type": "markdown",
   "metadata": {
    "colab_type": "text",
    "id": "ObyHCH8HvHSf"
   },
   "source": [
    "<img align=\"left\" src=\"https://lever-client-logos.s3.amazonaws.com/864372b1-534c-480e-acd5-9711f850815c-1524247202159.png\" width=200>\n",
    "<br></br>\n",
    "<br></br>\n",
    "\n",
    "# *Data Science Unit 4 Sprint 2 Assignment 1*\n",
    "\n",
    "Use TensorFlow Keras & a sample of the [Quickdraw dataset](https://github.com/googlecreativelab/quickdraw-dataset) to build a sketch classification model. The dataset has been sampled to only 10 classes and 10000 observations per class. Please build a baseline classification model then run a few experiments with different optimizers and learning rates. \n",
    "\n",
    "*Don't forgot to switch to GPU on Colab!*"
   ]
  },
  {
   "cell_type": "markdown",
   "metadata": {
    "colab_type": "text",
    "id": "s-Tc3ovEyQ9b"
   },
   "source": [
    "## Load Your Data"
   ]
  },
  {
   "cell_type": "code",
   "execution_count": 1,
   "metadata": {
    "colab": {},
    "colab_type": "code",
    "id": "CkU0pAYCvU8o"
   },
   "outputs": [
    {
     "name": "stdout",
     "output_type": "stream",
     "text": [
      "(100000, 784)\n",
      "(100000,)\n"
     ]
    }
   ],
   "source": [
    "import numpy as np\n",
    "import tensorflow as tf \n",
    "\n",
    "data = np.load('../quickdraw10.npz')\n",
    "X = data['arr_0']\n",
    "y = data['arr_1']\n",
    "\n",
    "print(X.shape)\n",
    "print(y.shape)"
   ]
  },
  {
   "cell_type": "code",
   "execution_count": 2,
   "metadata": {
    "colab": {},
    "colab_type": "code",
    "id": "c8qsDqdqvHDd"
   },
   "outputs": [],
   "source": [
    "class_names = ['apple',\n",
    " 'anvil',\n",
    " 'airplane',\n",
    " 'banana',\n",
    " 'The Eiffel Tower',\n",
    " 'The Mona Lisa',\n",
    " 'The Great Wall of China',\n",
    " 'alarm clock',\n",
    " 'ant',\n",
    " 'asparagus']"
   ]
  },
  {
   "cell_type": "code",
   "execution_count": 3,
   "metadata": {
    "colab": {},
    "colab_type": "code",
    "id": "Owbm1EbxvA5A"
   },
   "outputs": [
    {
     "data": {
      "image/png": "[encoded data removed]",
      "text/plain": [
       "<Figure size 720x360 with 10 Axes>"
      ]
     },
     "metadata": {},
     "output_type": "display_data"
    }
   ],
   "source": [
    "import matplotlib.pyplot as plt\n",
    "plt.figure(figsize=(10,5))\n",
    "start = 0\n",
    "\n",
    "for num, name in enumerate(class_names):\n",
    "    plt.subplot(2,5, num+1)\n",
    "    plt.xticks([])\n",
    "    plt.yticks([])\n",
    "    plt.grid(False)\n",
    "    plt.imshow(X[start].reshape(28,28), cmap=plt.cm.binary)\n",
    "    plt.xlabel(name+str(y[start]))\n",
    "    start += 10000\n",
    "plt.show()"
   ]
  },
  {
   "cell_type": "code",
   "execution_count": 4,
   "metadata": {
    "colab": {},
    "colab_type": "code",
    "id": "c97_M1WNvTNY"
   },
   "outputs": [],
   "source": [
    "# Need this line to randomly shuffle both the X & y at the same time.\n",
    "\n",
    "from sklearn.utils import shuffle\n",
    "X, y = shuffle(X, y)"
   ]
  },
  {
   "cell_type": "markdown",
   "metadata": {
    "colab_type": "text",
    "id": "jb70CbLVyK65"
   },
   "source": [
    "## Build Your Baseline Model\n",
    "Some Hints:\n",
    "\n",
    "\n",
    "*  Model should have 784 input values (like mnist)\n",
    "*  Use `sparse_categorical_crossentropy` as your loss function.\n",
    "* You need 10 neurons in your last layer for output\n",
    "* You can add as many hidden layers with as many neurons in them as you like. \n",
    "* Limit your model epochs to 30 each time you fit.\n",
    "* You can use the `validation_split` command to automatically create a training / validation dataset.  Specify a percentage such as .2 in your fit statement. \n",
    "\n"
   ]
  },
  {
   "cell_type": "code",
   "execution_count": 5,
   "metadata": {
    "colab": {},
    "colab_type": "code",
    "id": "zHWblzsMyNkU"
   },
   "outputs": [
    {
     "name": "stdout",
     "output_type": "stream",
     "text": [
      "Model: \"sequential\"\n",
      "_________________________________________________________________\n",
      "Layer (type)                 Output Shape              Param #   \n",
      "=================================================================\n",
      "Input_Layer (Dense)          (None, 128)               100480    \n",
      "_________________________________________________________________\n",
      "dense (Dense)                (None, 128)               16512     \n",
      "_________________________________________________________________\n",
      "dense_1 (Dense)              (None, 64)                8256      \n",
      "_________________________________________________________________\n",
      "dense_2 (Dense)              (None, 10)                650       \n",
      "=================================================================\n",
      "Total params: 125,898\n",
      "Trainable params: 125,898\n",
      "Non-trainable params: 0\n",
      "_________________________________________________________________\n",
      "None\n",
      "Epoch 1/30\n",
      "2500/2500 [==============================] - 4s 1ms/step - loss: 3.6788 - accuracy: 0.4950 - val_loss: 1.3426 - val_accuracy: 0.5249\n",
      "Epoch 2/30\n",
      "2500/2500 [==============================] - 3s 1ms/step - loss: 1.3613 - accuracy: 0.5931 - val_loss: 1.3956 - val_accuracy: 0.6052\n",
      "Epoch 3/30\n",
      "2500/2500 [==============================] - 3s 1ms/step - loss: 1.4103 - accuracy: 0.5847 - val_loss: 1.3854 - val_accuracy: 0.5591\n",
      "Epoch 4/30\n",
      "2500/2500 [==============================] - 3s 1ms/step - loss: 1.5081 - accuracy: 0.5641 - val_loss: 1.4227 - val_accuracy: 0.5350\n",
      "Epoch 5/30\n",
      "2500/2500 [==============================] - 3s 1ms/step - loss: 1.5141 - accuracy: 0.5539 - val_loss: 1.5242 - val_accuracy: 0.5393\n",
      "Epoch 6/30\n",
      "2500/2500 [==============================] - 3s 1ms/step - loss: 1.5999 - accuracy: 0.5229 - val_loss: 2.1085 - val_accuracy: 0.4839\n",
      "Epoch 7/30\n",
      "2500/2500 [==============================] - 3s 1ms/step - loss: 1.7082 - accuracy: 0.5142 - val_loss: 1.8066 - val_accuracy: 0.4561\n",
      "Epoch 8/30\n",
      "2500/2500 [==============================] - 3s 1ms/step - loss: 1.7787 - accuracy: 0.4921 - val_loss: 1.8015 - val_accuracy: 0.4710\n",
      "Epoch 9/30\n",
      "2500/2500 [==============================] - 3s 1ms/step - loss: 1.9023 - accuracy: 0.4750 - val_loss: 1.8594 - val_accuracy: 0.5191\n",
      "Epoch 10/30\n",
      "2500/2500 [==============================] - 3s 1ms/step - loss: 1.7423 - accuracy: 0.4859 - val_loss: 1.8902 - val_accuracy: 0.3785\n",
      "Epoch 11/30\n",
      "2500/2500 [==============================] - 3s 1ms/step - loss: 1.9544 - accuracy: 0.4459 - val_loss: 1.9148 - val_accuracy: 0.3914\n",
      "Epoch 12/30\n",
      "2500/2500 [==============================] - 3s 1ms/step - loss: 2.1072 - accuracy: 0.4172 - val_loss: 2.0269 - val_accuracy: 0.4141\n",
      "Epoch 13/30\n",
      "2500/2500 [==============================] - 3s 1ms/step - loss: 2.1510 - accuracy: 0.4221 - val_loss: 2.7133 - val_accuracy: 0.3950\n",
      "Epoch 14/30\n",
      "2500/2500 [==============================] - 3s 1ms/step - loss: 2.1842 - accuracy: 0.3785 - val_loss: 2.4393 - val_accuracy: 0.2836\n",
      "Epoch 15/30\n",
      "2500/2500 [==============================] - 3s 1ms/step - loss: 2.3190 - accuracy: 0.3847 - val_loss: 1.9573 - val_accuracy: 0.3389\n",
      "Epoch 16/30\n",
      "2500/2500 [==============================] - 3s 1ms/step - loss: 2.3086 - accuracy: 0.3672 - val_loss: 2.0607 - val_accuracy: 0.2749\n",
      "Epoch 17/30\n",
      "2500/2500 [==============================] - 3s 1ms/step - loss: 2.2789 - accuracy: 0.3315 - val_loss: 2.1593 - val_accuracy: 0.2551\n",
      "Epoch 18/30\n",
      "2500/2500 [==============================] - 3s 1ms/step - loss: 2.1957 - accuracy: 0.3270 - val_loss: 2.2641 - val_accuracy: 0.3454\n",
      "Epoch 19/30\n",
      "2500/2500 [==============================] - 3s 1ms/step - loss: 2.3807 - accuracy: 0.3406 - val_loss: 2.0098 - val_accuracy: 0.2625\n",
      "Epoch 20/30\n",
      "2500/2500 [==============================] - 3s 1ms/step - loss: 2.3973 - accuracy: 0.3292 - val_loss: 2.3818 - val_accuracy: 0.3307\n",
      "Epoch 21/30\n",
      "2500/2500 [==============================] - 3s 1ms/step - loss: 2.2685 - accuracy: 0.3268 - val_loss: 3.1384 - val_accuracy: 0.3347\n",
      "Epoch 22/30\n",
      "2500/2500 [==============================] - 3s 1ms/step - loss: 2.2614 - accuracy: 0.3305 - val_loss: 3.0039 - val_accuracy: 0.2987\n",
      "Epoch 23/30\n",
      "2500/2500 [==============================] - 3s 1ms/step - loss: 2.2400 - accuracy: 0.3336 - val_loss: 2.3603 - val_accuracy: 0.3161\n",
      "Epoch 24/30\n",
      "2500/2500 [==============================] - 3s 1ms/step - loss: 2.1219 - accuracy: 0.3216 - val_loss: 2.1698 - val_accuracy: 0.3056\n",
      "Epoch 25/30\n",
      "2500/2500 [==============================] - 3s 1ms/step - loss: 2.7630 - accuracy: 0.2789 - val_loss: 2.6313 - val_accuracy: 0.2480\n",
      "Epoch 26/30\n",
      "2500/2500 [==============================] - 3s 1ms/step - loss: 2.2788 - accuracy: 0.2918 - val_loss: 2.5445 - val_accuracy: 0.3210\n",
      "Epoch 27/30\n",
      "2500/2500 [==============================] - 3s 1ms/step - loss: 3.1931 - accuracy: 0.3242 - val_loss: 2.1766 - val_accuracy: 0.3246\n",
      "Epoch 28/30\n",
      "2500/2500 [==============================] - 3s 1ms/step - loss: 2.2899 - accuracy: 0.3218 - val_loss: 2.5359 - val_accuracy: 0.3246\n",
      "Epoch 29/30\n",
      "2500/2500 [==============================] - 3s 1ms/step - loss: 2.6055 - accuracy: 0.3263 - val_loss: 2.7490 - val_accuracy: 0.3687\n",
      "Epoch 30/30\n",
      "2500/2500 [==============================] - 3s 1ms/step - loss: 2.5232 - accuracy: 0.3249 - val_loss: 5.5905 - val_accuracy: 0.2952\n"
     ]
    },
    {
     "data": {
      "text/plain": [
       "<tensorflow.python.keras.callbacks.History at 0x7fd2d8811358>"
      ]
     },
     "execution_count": 5,
     "metadata": {},
     "output_type": "execute_result"
    }
   ],
   "source": [
    "%load_ext tensorboard\n",
    "\n",
    "import os\n",
    "import datetime\n",
    "import tensorflow as tf\n",
    "from  tensorflow import keras\n",
    "from tensorflow.keras.models import Sequential\n",
    "from tensorflow.keras.layers import Dense, Dropout\n",
    "\n",
    "logdir = os.path.join(\"logs\", datetime.datetime.now().strftime(\"%Y%m%d-%H%M%S\"))\n",
    "tensorboard_callback = tf.keras.callbacks.TensorBoard(logdir, histogram_freq=1)\n",
    "\n",
    "\n",
    "baseline = Sequential([\n",
    "    Dense(units=128, input_dim=784, activation='relu', name='Input_Layer'),\n",
    "    Dense(128, activation='relu'),\n",
    "    Dense(64, activation='relu'),\n",
    "    Dense(10, activation='softmax'),    \n",
    "])\n",
    "\n",
    "baseline.compile(loss='sparse_categorical_crossentropy',\n",
    "             # optimizer='rmsprop', # default optimizer\n",
    "              metrics=['accuracy'])\n",
    "\n",
    "print(baseline.summary())\n",
    "\n",
    "baseline.fit(X, y,\n",
    "          epochs=30,\n",
    "          batch_size=32, # This is the default batch_size\n",
    "          validation_split=0.2,\n",
    "          callbacks=[tensorboard_callback])\n"
   ]
  },
  {
   "cell_type": "markdown",
   "metadata": {
    "colab_type": "text",
    "id": "b0QJURWh-9uv"
   },
   "source": [
    "### Visualize the results\n",
    "\n",
    "Create charts for both loss and accuracy by epoch. Use line graphs for both charts. Analyze the results. \n",
    "\n",
    "At what point should we have stopped training the model and why? "
   ]
  },
  {
   "cell_type": "code",
   "execution_count": 6,
   "metadata": {
    "colab": {},
    "colab_type": "code",
    "id": "KONJtU5wqlXf"
   },
   "outputs": [
    {
     "data": {
      "text/plain": [
       "{'loss': [1.8799777030944824,\n",
       "  1.38994562625885,\n",
       "  1.4319102764129639,\n",
       "  1.5149343013763428,\n",
       "  1.5778051614761353,\n",
       "  1.652535319328308,\n",
       "  1.7266111373901367,\n",
       "  1.7667714357376099,\n",
       "  1.8952308893203735,\n",
       "  1.845234990119934,\n",
       "  1.9119561910629272,\n",
       "  2.088256359100342,\n",
       "  2.142484664916992,\n",
       "  2.227842092514038,\n",
       "  2.306638240814209,\n",
       "  2.42059326171875,\n",
       "  2.2902283668518066,\n",
       "  2.26623797416687,\n",
       "  2.5640358924865723,\n",
       "  2.3632285594940186,\n",
       "  2.220505952835083,\n",
       "  2.29488468170166,\n",
       "  2.23079252243042,\n",
       "  2.2408387660980225,\n",
       "  2.690443277359009,\n",
       "  2.3391075134277344,\n",
       "  2.9278082847595215,\n",
       "  2.2854819297790527,\n",
       "  2.561830997467041,\n",
       "  2.645524263381958],\n",
       " 'accuracy': [0.5459625124931335,\n",
       "  0.588100016117096,\n",
       "  0.5754374861717224,\n",
       "  0.5602124929428101,\n",
       "  0.5465750098228455,\n",
       "  0.5158874988555908,\n",
       "  0.5114250183105469,\n",
       "  0.49160000681877136,\n",
       "  0.4754374921321869,\n",
       "  0.47154998779296875,\n",
       "  0.43006250262260437,\n",
       "  0.4097124934196472,\n",
       "  0.41478750109672546,\n",
       "  0.3721874952316284,\n",
       "  0.38858750462532043,\n",
       "  0.3538374900817871,\n",
       "  0.32973751425743103,\n",
       "  0.32545000314712524,\n",
       "  0.3384999930858612,\n",
       "  0.326449990272522,\n",
       "  0.32602500915527344,\n",
       "  0.330112487077713,\n",
       "  0.32833749055862427,\n",
       "  0.3131749927997589,\n",
       "  0.2969749867916107,\n",
       "  0.30121248960494995,\n",
       "  0.3277750015258789,\n",
       "  0.3262374997138977,\n",
       "  0.3203375041484833,\n",
       "  0.30691251158714294],\n",
       " 'val_loss': [1.342558741569519,\n",
       "  1.3956036567687988,\n",
       "  1.385446310043335,\n",
       "  1.4227384328842163,\n",
       "  1.5242071151733398,\n",
       "  2.108517646789551,\n",
       "  1.8065776824951172,\n",
       "  1.8014625310897827,\n",
       "  1.8594212532043457,\n",
       "  1.890184998512268,\n",
       "  1.9148072004318237,\n",
       "  2.0268919467926025,\n",
       "  2.713296890258789,\n",
       "  2.43926739692688,\n",
       "  1.9573240280151367,\n",
       "  2.0606892108917236,\n",
       "  2.159327745437622,\n",
       "  2.2640624046325684,\n",
       "  2.00980806350708,\n",
       "  2.381845712661743,\n",
       "  3.138392686843872,\n",
       "  3.0038554668426514,\n",
       "  2.360294818878174,\n",
       "  2.169818162918091,\n",
       "  2.631282329559326,\n",
       "  2.54453182220459,\n",
       "  2.176623582839966,\n",
       "  2.535858392715454,\n",
       "  2.7490041255950928,\n",
       "  5.590456008911133],\n",
       " 'val_accuracy': [0.5248500108718872,\n",
       "  0.6051999926567078,\n",
       "  0.559149980545044,\n",
       "  0.5350499749183655,\n",
       "  0.5393499732017517,\n",
       "  0.4839499890804291,\n",
       "  0.45614999532699585,\n",
       "  0.4710499942302704,\n",
       "  0.5190500020980835,\n",
       "  0.3785499930381775,\n",
       "  0.3914499878883362,\n",
       "  0.41405001282691956,\n",
       "  0.39500001072883606,\n",
       "  0.28360000252723694,\n",
       "  0.33889999985694885,\n",
       "  0.27489998936653137,\n",
       "  0.2551499903202057,\n",
       "  0.34540000557899475,\n",
       "  0.2625499963760376,\n",
       "  0.33070001006126404,\n",
       "  0.3346500098705292,\n",
       "  0.2987000048160553,\n",
       "  0.31610000133514404,\n",
       "  0.30559998750686646,\n",
       "  0.2479500025510788,\n",
       "  0.3209500014781952,\n",
       "  0.32464998960494995,\n",
       "  0.32455000281333923,\n",
       "  0.3686999976634979,\n",
       "  0.2952499985694885]}"
      ]
     },
     "execution_count": 6,
     "metadata": {},
     "output_type": "execute_result"
    }
   ],
   "source": [
    "baseline.history.history"
   ]
  },
  {
   "cell_type": "code",
   "execution_count": 7,
   "metadata": {
    "colab": {},
    "colab_type": "code",
    "id": "ijAlzfYKAFaY"
   },
   "outputs": [
    {
     "data": {
      "text/plain": [
       "(30, 4)"
      ]
     },
     "metadata": {},
     "output_type": "display_data"
    },
    {
     "data": {
      "text/html": [
       "<div>\n",
       "<style scoped>\n",
       "    .dataframe tbody tr th:only-of-type {\n",
       "        vertical-align: middle;\n",
       "    }\n",
       "\n",
       "    .dataframe tbody tr th {\n",
       "        vertical-align: top;\n",
       "    }\n",
       "\n",
       "    .dataframe thead th {\n",
       "        text-align: right;\n",
       "    }\n",
       "</style>\n",
       "<table border=\"1\" class=\"dataframe\">\n",
       "  <thead>\n",
       "    <tr style=\"text-align: right;\">\n",
       "      <th></th>\n",
       "      <th>accuracy</th>\n",
       "      <th>loss</th>\n",
       "      <th>val_accuracy</th>\n",
       "      <th>val_loss</th>\n",
       "    </tr>\n",
       "  </thead>\n",
       "  <tbody>\n",
       "    <tr>\n",
       "      <th>0</th>\n",
       "      <td>0.545963</td>\n",
       "      <td>1.879978</td>\n",
       "      <td>0.52485</td>\n",
       "      <td>1.342559</td>\n",
       "    </tr>\n",
       "    <tr>\n",
       "      <th>1</th>\n",
       "      <td>0.588100</td>\n",
       "      <td>1.389946</td>\n",
       "      <td>0.60520</td>\n",
       "      <td>1.395604</td>\n",
       "    </tr>\n",
       "    <tr>\n",
       "      <th>2</th>\n",
       "      <td>0.575437</td>\n",
       "      <td>1.431910</td>\n",
       "      <td>0.55915</td>\n",
       "      <td>1.385446</td>\n",
       "    </tr>\n",
       "    <tr>\n",
       "      <th>3</th>\n",
       "      <td>0.560212</td>\n",
       "      <td>1.514934</td>\n",
       "      <td>0.53505</td>\n",
       "      <td>1.422738</td>\n",
       "    </tr>\n",
       "    <tr>\n",
       "      <th>4</th>\n",
       "      <td>0.546575</td>\n",
       "      <td>1.577805</td>\n",
       "      <td>0.53935</td>\n",
       "      <td>1.524207</td>\n",
       "    </tr>\n",
       "  </tbody>\n",
       "</table>\n",
       "</div>"
      ],
      "text/plain": [
       "   accuracy      loss  val_accuracy  val_loss\n",
       "0  0.545963  1.879978       0.52485  1.342559\n",
       "1  0.588100  1.389946       0.60520  1.395604\n",
       "2  0.575437  1.431910       0.55915  1.385446\n",
       "3  0.560212  1.514934       0.53505  1.422738\n",
       "4  0.546575  1.577805       0.53935  1.524207"
      ]
     },
     "metadata": {},
     "output_type": "display_data"
    },
    {
     "data": {
      "image/png": "[encoded data removed]",
      "text/plain": [
       "<Figure size 432x288 with 1 Axes>"
      ]
     },
     "metadata": {
      "needs_background": "light"
     },
     "output_type": "display_data"
    }
   ],
   "source": [
    "import seaborn as sns\n",
    "import pandas as pd\n",
    "\n",
    "df = pd.DataFrame.from_records(baseline.history.history)\n",
    "display(df.shape, df.head())\n",
    "df['epoch'] = [i for i in range(df.shape[0])]\n",
    "\n",
    "ax = sns.lineplot(x='epoch', y='accuracy', data=df, color='brown')\n",
    "ax = sns.lineplot(x='epoch', y='loss', data=df, color='green');"
   ]
  },
  {
   "cell_type": "markdown",
   "metadata": {},
   "source": [
    "From the loss/accuracy vs epoch chart above it's clear that training should have been stopped after epoch 1 as the loss increases and accuracy decreases from that point onwards."
   ]
  },
  {
   "cell_type": "markdown",
   "metadata": {
    "colab_type": "text",
    "id": "MAhBrcE4yOZe"
   },
   "source": [
    "## Change Optimizers\n",
    "Try using the keras `adam` optimizer instead of `sgd` in your model. Visualize the difference in validation loss between the models with different optimizers. "
   ]
  },
  {
   "cell_type": "code",
   "execution_count": 8,
   "metadata": {
    "colab": {},
    "colab_type": "code",
    "id": "jIW_spOZ0cxy"
   },
   "outputs": [
    {
     "name": "stdout",
     "output_type": "stream",
     "text": [
      "Model: \"sequential_1\"\n",
      "_________________________________________________________________\n",
      "Layer (type)                 Output Shape              Param #   \n",
      "=================================================================\n",
      "Input_Layer (Dense)          (None, 128)               100480    \n",
      "_________________________________________________________________\n",
      "dense_3 (Dense)              (None, 128)               16512     \n",
      "_________________________________________________________________\n",
      "dense_4 (Dense)              (None, 64)                8256      \n",
      "_________________________________________________________________\n",
      "dense_5 (Dense)              (None, 10)                650       \n",
      "=================================================================\n",
      "Total params: 125,898\n",
      "Trainable params: 125,898\n",
      "Non-trainable params: 0\n",
      "_________________________________________________________________\n",
      "None\n",
      "Epoch 1/30\n",
      "2500/2500 [==============================] - 3s 1ms/step - loss: 3.5790 - accuracy: 0.5988 - val_loss: 0.7276 - val_accuracy: 0.7794\n",
      "Epoch 2/30\n",
      "2500/2500 [==============================] - 2s 980us/step - loss: 0.6667 - accuracy: 0.7963 - val_loss: 0.6285 - val_accuracy: 0.8115\n",
      "Epoch 3/30\n",
      "2500/2500 [==============================] - 3s 1000us/step - loss: 0.5755 - accuracy: 0.8258 - val_loss: 0.5843 - val_accuracy: 0.8262\n",
      "Epoch 4/30\n",
      "2500/2500 [==============================] - 2s 967us/step - loss: 0.5279 - accuracy: 0.8415 - val_loss: 0.5881 - val_accuracy: 0.8227\n",
      "Epoch 5/30\n",
      "2500/2500 [==============================] - 2s 964us/step - loss: 0.4905 - accuracy: 0.8529 - val_loss: 0.5341 - val_accuracy: 0.8438\n",
      "Epoch 6/30\n",
      "2500/2500 [==============================] - 2s 975us/step - loss: 0.4520 - accuracy: 0.8627 - val_loss: 0.5490 - val_accuracy: 0.8419\n",
      "Epoch 7/30\n",
      "2500/2500 [==============================] - 2s 978us/step - loss: 0.4257 - accuracy: 0.8705 - val_loss: 0.5599 - val_accuracy: 0.8389\n",
      "Epoch 8/30\n",
      "2500/2500 [==============================] - 2s 980us/step - loss: 0.4090 - accuracy: 0.8768 - val_loss: 0.5317 - val_accuracy: 0.8501\n",
      "Epoch 9/30\n",
      "2500/2500 [==============================] - 2s 980us/step - loss: 0.3859 - accuracy: 0.8838 - val_loss: 0.5417 - val_accuracy: 0.8461\n",
      "Epoch 10/30\n",
      "2500/2500 [==============================] - 2s 973us/step - loss: 0.3678 - accuracy: 0.8883 - val_loss: 0.5575 - val_accuracy: 0.8471\n",
      "Epoch 11/30\n",
      "2500/2500 [==============================] - 2s 971us/step - loss: 0.3520 - accuracy: 0.8941 - val_loss: 0.5969 - val_accuracy: 0.8505\n",
      "Epoch 12/30\n",
      "2500/2500 [==============================] - 2s 970us/step - loss: 0.3421 - accuracy: 0.8965 - val_loss: 0.5815 - val_accuracy: 0.8528\n",
      "Epoch 13/30\n",
      "2500/2500 [==============================] - 2s 968us/step - loss: 0.3248 - accuracy: 0.9010 - val_loss: 0.5790 - val_accuracy: 0.8530\n",
      "Epoch 14/30\n",
      "2500/2500 [==============================] - 3s 1ms/step - loss: 0.3176 - accuracy: 0.9036 - val_loss: 0.5780 - val_accuracy: 0.8472\n",
      "Epoch 15/30\n",
      "2500/2500 [==============================] - 2s 983us/step - loss: 0.3145 - accuracy: 0.9044 - val_loss: 0.5958 - val_accuracy: 0.8508\n",
      "Epoch 16/30\n",
      "2500/2500 [==============================] - 2s 959us/step - loss: 0.3094 - accuracy: 0.9078 - val_loss: 0.6159 - val_accuracy: 0.8518\n",
      "Epoch 17/30\n",
      "2500/2500 [==============================] - 2s 961us/step - loss: 0.3025 - accuracy: 0.9090 - val_loss: 0.6099 - val_accuracy: 0.8515\n",
      "Epoch 18/30\n",
      "2500/2500 [==============================] - 2s 967us/step - loss: 0.2977 - accuracy: 0.9095 - val_loss: 0.6330 - val_accuracy: 0.8486\n",
      "Epoch 19/30\n",
      "2500/2500 [==============================] - 2s 955us/step - loss: 0.2792 - accuracy: 0.9158 - val_loss: 0.6757 - val_accuracy: 0.8467\n",
      "Epoch 20/30\n",
      "2500/2500 [==============================] - 2s 932us/step - loss: 0.2780 - accuracy: 0.9158 - val_loss: 0.6903 - val_accuracy: 0.8494\n",
      "Epoch 21/30\n",
      "2500/2500 [==============================] - 2s 933us/step - loss: 0.2723 - accuracy: 0.9178 - val_loss: 0.6585 - val_accuracy: 0.8511\n",
      "Epoch 22/30\n",
      "2500/2500 [==============================] - 2s 927us/step - loss: 0.2656 - accuracy: 0.9217 - val_loss: 0.7183 - val_accuracy: 0.8523\n",
      "Epoch 23/30\n",
      "2500/2500 [==============================] - 2s 925us/step - loss: 0.2590 - accuracy: 0.9225 - val_loss: 0.7281 - val_accuracy: 0.8494\n",
      "Epoch 24/30\n",
      "2500/2500 [==============================] - 2s 931us/step - loss: 0.2522 - accuracy: 0.9254 - val_loss: 0.7079 - val_accuracy: 0.8497\n",
      "Epoch 25/30\n",
      "2500/2500 [==============================] - 2s 933us/step - loss: 0.2547 - accuracy: 0.9237 - val_loss: 0.7519 - val_accuracy: 0.8512\n",
      "Epoch 26/30\n",
      "2500/2500 [==============================] - 2s 930us/step - loss: 0.2437 - accuracy: 0.9286 - val_loss: 0.8086 - val_accuracy: 0.8475\n",
      "Epoch 27/30\n",
      "2500/2500 [==============================] - 2s 926us/step - loss: 0.2491 - accuracy: 0.9259 - val_loss: 0.7596 - val_accuracy: 0.8529\n",
      "Epoch 28/30\n",
      "2500/2500 [==============================] - 2s 933us/step - loss: 0.2398 - accuracy: 0.9276 - val_loss: 0.7251 - val_accuracy: 0.8425\n",
      "Epoch 29/30\n",
      "2500/2500 [==============================] - 2s 929us/step - loss: 0.2345 - accuracy: 0.9296 - val_loss: 0.7974 - val_accuracy: 0.8477\n",
      "Epoch 30/30\n",
      "2500/2500 [==============================] - 2s 952us/step - loss: 0.2371 - accuracy: 0.9297 - val_loss: 0.7891 - val_accuracy: 0.8497\n"
     ]
    },
    {
     "data": {
      "text/plain": [
       "<tensorflow.python.keras.callbacks.History at 0x7fd288375518>"
      ]
     },
     "execution_count": 8,
     "metadata": {},
     "output_type": "execute_result"
    }
   ],
   "source": [
    "from tensorflow.keras.optimizers import Adam \n",
    "\n",
    "adam = Adam()\n",
    "\n",
    "adam_model = Sequential([\n",
    "    Dense(units=128, input_dim=784, activation='relu', name='Input_Layer'),\n",
    "    Dense(128, activation='relu'),\n",
    "    Dense(64, activation='relu'),\n",
    "    Dense(10, activation='softmax'),    \n",
    "])\n",
    "\n",
    "adam_model.compile(loss='sparse_categorical_crossentropy',\n",
    "              optimizer=adam,\n",
    "              metrics=['accuracy'])\n",
    "\n",
    "print(adam_model.summary())\n",
    "\n",
    "adam_model.fit(X, y,\n",
    "          epochs=30,\n",
    "          batch_size=32, # This is the default batch_size\n",
    "          validation_split=0.2,\n",
    "          callbacks=[tensorboard_callback])"
   ]
  },
  {
   "cell_type": "code",
   "execution_count": 9,
   "metadata": {},
   "outputs": [
    {
     "data": {
      "text/plain": [
       "(30, 4)"
      ]
     },
     "metadata": {},
     "output_type": "display_data"
    },
    {
     "data": {
      "text/html": [
       "<div>\n",
       "<style scoped>\n",
       "    .dataframe tbody tr th:only-of-type {\n",
       "        vertical-align: middle;\n",
       "    }\n",
       "\n",
       "    .dataframe tbody tr th {\n",
       "        vertical-align: top;\n",
       "    }\n",
       "\n",
       "    .dataframe thead th {\n",
       "        text-align: right;\n",
       "    }\n",
       "</style>\n",
       "<table border=\"1\" class=\"dataframe\">\n",
       "  <thead>\n",
       "    <tr style=\"text-align: right;\">\n",
       "      <th></th>\n",
       "      <th>accuracy</th>\n",
       "      <th>loss</th>\n",
       "      <th>val_accuracy</th>\n",
       "      <th>val_loss</th>\n",
       "    </tr>\n",
       "  </thead>\n",
       "  <tbody>\n",
       "    <tr>\n",
       "      <th>0</th>\n",
       "      <td>0.687262</td>\n",
       "      <td>1.493878</td>\n",
       "      <td>0.77940</td>\n",
       "      <td>0.727576</td>\n",
       "    </tr>\n",
       "    <tr>\n",
       "      <th>1</th>\n",
       "      <td>0.801175</td>\n",
       "      <td>0.654837</td>\n",
       "      <td>0.81145</td>\n",
       "      <td>0.628469</td>\n",
       "    </tr>\n",
       "    <tr>\n",
       "      <th>2</th>\n",
       "      <td>0.825950</td>\n",
       "      <td>0.575884</td>\n",
       "      <td>0.82615</td>\n",
       "      <td>0.584318</td>\n",
       "    </tr>\n",
       "    <tr>\n",
       "      <th>3</th>\n",
       "      <td>0.841513</td>\n",
       "      <td>0.527512</td>\n",
       "      <td>0.82275</td>\n",
       "      <td>0.588126</td>\n",
       "    </tr>\n",
       "    <tr>\n",
       "      <th>4</th>\n",
       "      <td>0.853125</td>\n",
       "      <td>0.487959</td>\n",
       "      <td>0.84375</td>\n",
       "      <td>0.534099</td>\n",
       "    </tr>\n",
       "  </tbody>\n",
       "</table>\n",
       "</div>"
      ],
      "text/plain": [
       "   accuracy      loss  val_accuracy  val_loss\n",
       "0  0.687262  1.493878       0.77940  0.727576\n",
       "1  0.801175  0.654837       0.81145  0.628469\n",
       "2  0.825950  0.575884       0.82615  0.584318\n",
       "3  0.841513  0.527512       0.82275  0.588126\n",
       "4  0.853125  0.487959       0.84375  0.534099"
      ]
     },
     "metadata": {},
     "output_type": "display_data"
    },
    {
     "data": {
      "image/png": "[encoded data removed]",
      "text/plain": [
       "<Figure size 432x288 with 1 Axes>"
      ]
     },
     "metadata": {
      "needs_background": "light"
     },
     "output_type": "display_data"
    }
   ],
   "source": [
    "df_adam = pd.DataFrame.from_records(adam_model.history.history)\n",
    "display(df_adam.shape, df_adam.head())\n",
    "df_adam['epoch'] = [i for i in range(df_adam.shape[0])]\n",
    "\n",
    "ax = sns.lineplot(x='epoch', y='val_loss', data=df, color='red')\n",
    "ax = sns.lineplot(x='epoch', y='val_loss', data=df_adam, color='green');"
   ]
  },
  {
   "cell_type": "markdown",
   "metadata": {
    "colab_type": "text",
    "id": "EJrbh3qryi4w"
   },
   "source": [
    "### Additional Written Tasks:\n",
    "In this section, you will need to search for resources: \n",
    "1. Investigate the various [loss functions](https://www.tensorflow.org/api_docs/python/tf/keras/losses). Which is best suited for the task at hand (predicting 1 / 0) and why? \n",
    "2. What is the difference between a loss function and a metric? Why might we need both in Keras? \n",
    "3. Investigate the various [optimizers](https://www.tensorflow.org/api_docs/python/tf/keras/optimizers). Stochastic Gradient Descent (`sgd`) is not the learning algorithm dejour anyone. Why is that? What do newer optimizers such as `adam` have to offer? "
   ]
  },
  {
   "cell_type": "markdown",
   "metadata": {},
   "source": [
    "Loss Functions - Since we have 10(i.e. 2 or more) label classes and the labels are provided as integers(0-9) and not one hot encoded, the best loss function would be SparseCategoricalCrossEntropy(https://keras.io/api/losses/probabilistic_losses/#sparsecategoricalcrossentropy-class).\n",
    "\n",
    "Metrics - A metric(https://keras.io/api/metrics/) is a function used to judge the performance of the model but (unlike loss functions) not used during the training of the model - after each training epoch, the metric is used to evaluate the performance of the trained model.\n",
    "\n",
    "Optimizers - Stochastic Gradient Descent(https://julsimon.medium.com/tumbling-down-the-sgd-rabbit-hole-part-1-740fa402f0d7) has many deficiencies that adaptive sgd optimizers like Adam attempt to solve. In fact, from https://keras.io/api/optimizers/adam/, we know that the adam optimizer is \"computationally efficient, has little memory requirement, invariant to diagonal rescaling of gradients, and is well suited for problems that are large in terms of data/parameters\".\n",
    "However, according to “The Marginal Value of Adaptive Gradient Methods in Machine Learning” (Ashia Wilson et al., 2017)(https://julsimon.medium.com/tumbling-down-the-sgd-rabbit-hole-part-2-bed3be4761d3), a \"well-tuned SGD with learning rate decay at specific epochs ends up outperforming all adaptive optimizers\" - the devil, of course, lies in the details and crafting a \"well tuned SGD\" optimizer takes a lot of effort."
   ]
  },
  {
   "cell_type": "markdown",
   "metadata": {
    "colab_type": "text",
    "id": "Gzs4fd-RynDd"
   },
   "source": [
    "## Stretch Goals: \n",
    "\n",
    "- Research convolutional neural networks and try including convolution layers in your network.\n",
    "- Pick two classes and make QuickDraw a binary classification problem, how does your model architecture change?\n",
    "- Implement Cross Validation model evaluation on your Quickdraw implementation \n",
    "\n",
    "Watch some more videos on Gradient Descent:\n",
    "- [Gradient Descent, Step-by-Step](https://www.youtube.com/watch?v=sDv4f4s2SB8)  by StatQuest w/ Josh Starmer. This will help you understand the gradient descent based optimization that happens underneath the hood of neural networks. It uses a non-neural network example, which I believe is a gentler introduction. You will hear me refer to this technique as \"vanilla\" gradient descent. \n",
    "- [Stochastic Gradient Descent, Clearly Explained!!!](https://www.youtube.com/watch?v=vMh0zPT0tLI) by StatQuest w/ Josh Starmer. This builds on the techniques in the previous video.  This technique is the one that is actually implemented inside modern 'nets. \n",
    "- [Siraj Raval the evolution of gradient descent](https://www.youtube.com/watch?v=nhqo0u1a6fw)"
   ]
  }
 ],
 "metadata": {
  "accelerator": "GPU",
  "colab": {
   "collapsed_sections": [],
   "name": "LS_DS_432_TensorFlow_Assignment",
   "provenance": []
  },
  "kernelspec": {
   "display_name": "U4-S2-NN (Python3)",
   "language": "python",
   "name": "u4-s2-nn"
  },
  "language_info": {
   "codemirror_mode": {
    "name": "ipython",
    "version": 3
   },
   "file_extension": ".py",
   "mimetype": "text/x-python",
   "name": "python",
   "nbconvert_exporter": "python",
   "pygments_lexer": "ipython3",
   "version": "3.7.0"
  }
 },
 "nbformat": 4,
 "nbformat_minor": 1
}
