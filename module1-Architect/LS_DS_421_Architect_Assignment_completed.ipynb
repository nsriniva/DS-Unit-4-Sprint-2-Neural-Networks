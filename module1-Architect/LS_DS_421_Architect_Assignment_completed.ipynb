{
 "cells": [
  {
   "cell_type": "markdown",
   "metadata": {
    "colab_type": "text",
    "id": "ObyHCH8HvHSf"
   },
   "source": [
    "<img align=\"left\" src=\"https://lever-client-logos.s3.amazonaws.com/864372b1-534c-480e-acd5-9711f850815c-1524247202159.png\" width=200>\n",
    "<br></br>\n",
    "<br></br>\n",
    "\n",
    "# *Data Science Unit 4 Sprint 2 Assignment 1*\n",
    "\n",
    "Use TensorFlow Keras & a sample of the [Quickdraw dataset](https://github.com/googlecreativelab/quickdraw-dataset) to build a sketch classification model. The dataset has been sampled to only 10 classes and 10000 observations per class. Please build a baseline classification model then run a few experiments with different optimizers and learning rates. \n",
    "\n",
    "*Don't forgot to switch to GPU on Colab!*"
   ]
  },
  {
   "cell_type": "markdown",
   "metadata": {
    "colab_type": "text",
    "id": "s-Tc3ovEyQ9b"
   },
   "source": [
    "## Load Your Data"
   ]
  },
  {
   "cell_type": "code",
   "execution_count": 1,
   "metadata": {
    "colab": {},
    "colab_type": "code",
    "id": "CkU0pAYCvU8o"
   },
   "outputs": [
    {
     "name": "stdout",
     "output_type": "stream",
     "text": [
      "(100000, 784)\n",
      "(100000,)\n"
     ]
    }
   ],
   "source": [
    "import numpy as np\n",
    "import tensorflow as tf \n",
    "\n",
    "data = np.load('../quickdraw10.npz')\n",
    "X = data['arr_0']\n",
    "y = data['arr_1']\n",
    "\n",
    "print(X.shape)\n",
    "print(y.shape)"
   ]
  },
  {
   "cell_type": "code",
   "execution_count": 2,
   "metadata": {
    "colab": {},
    "colab_type": "code",
    "id": "c8qsDqdqvHDd"
   },
   "outputs": [],
   "source": [
    "class_names = ['apple',\n",
    " 'anvil',\n",
    " 'airplane',\n",
    " 'banana',\n",
    " 'The Eiffel Tower',\n",
    " 'The Mona Lisa',\n",
    " 'The Great Wall of China',\n",
    " 'alarm clock',\n",
    " 'ant',\n",
    " 'asparagus']"
   ]
  },
  {
   "cell_type": "code",
   "execution_count": 3,
   "metadata": {
    "colab": {},
    "colab_type": "code",
    "id": "Owbm1EbxvA5A"
   },
   "outputs": [
    {
     "data": {
      "image/png": "[encoded data removed]",
      "text/plain": [
       "<Figure size 720x360 with 10 Axes>"
      ]
     },
     "metadata": {},
     "output_type": "display_data"
    }
   ],
   "source": [
    "import matplotlib.pyplot as plt\n",
    "plt.figure(figsize=(10,5))\n",
    "start = 0\n",
    "\n",
    "for num, name in enumerate(class_names):\n",
    "    plt.subplot(2,5, num+1)\n",
    "    plt.xticks([])\n",
    "    plt.yticks([])\n",
    "    plt.grid(False)\n",
    "    plt.imshow(X[start].reshape(28,28), cmap=plt.cm.binary)\n",
    "    plt.xlabel(name+str(y[start]))\n",
    "    start += 10000\n",
    "plt.show()"
   ]
  },
  {
   "cell_type": "code",
   "execution_count": 4,
   "metadata": {
    "colab": {},
    "colab_type": "code",
    "id": "c97_M1WNvTNY"
   },
   "outputs": [],
   "source": [
    "# Need this line to randomly shuffle both the X & y at the same time.\n",
    "\n",
    "from sklearn.utils import shuffle\n",
    "X, y = shuffle(X, y)"
   ]
  },
  {
   "cell_type": "markdown",
   "metadata": {
    "colab_type": "text",
    "id": "jb70CbLVyK65"
   },
   "source": [
    "## Build Your Baseline Model\n",
    "Some Hints:\n",
    "\n",
    "\n",
    "*  Model should have 784 input values (like mnist)\n",
    "*  Use `sparse_categorical_crossentropy` as your loss function.\n",
    "* You need 10 neurons in your last layer for output\n",
    "* You can add as many hidden layers with as many neurons in them as you like. \n",
    "* Limit your model epochs to 30 each time you fit.\n",
    "* You can use the `validation_split` command to automatically create a training / validation dataset.  Specify a percentage such as .2 in your fit statement. \n",
    "\n"
   ]
  },
  {
   "cell_type": "code",
   "execution_count": 5,
   "metadata": {
    "colab": {},
    "colab_type": "code",
    "id": "zHWblzsMyNkU"
   },
   "outputs": [
    {
     "name": "stdout",
     "output_type": "stream",
     "text": [
      "Model: \"sequential\"\n",
      "_________________________________________________________________\n",
      "Layer (type)                 Output Shape              Param #   \n",
      "=================================================================\n",
      "Input_Layer (Dense)          (None, 128)               100480    \n",
      "_________________________________________________________________\n",
      "dense (Dense)                (None, 128)               16512     \n",
      "_________________________________________________________________\n",
      "dense_1 (Dense)              (None, 64)                8256      \n",
      "_________________________________________________________________\n",
      "dense_2 (Dense)              (None, 10)                650       \n",
      "=================================================================\n",
      "Total params: 125,898\n",
      "Trainable params: 125,898\n",
      "Non-trainable params: 0\n",
      "_________________________________________________________________\n",
      "None\n",
      "Epoch 1/30\n",
      "2500/2500 [==============================] - 3s 1ms/step - loss: 3.2030 - accuracy: 0.4850 - val_loss: 1.2156 - val_accuracy: 0.6613\n",
      "Epoch 2/30\n",
      "2500/2500 [==============================] - 3s 1ms/step - loss: 1.2852 - accuracy: 0.6543 - val_loss: 1.2965 - val_accuracy: 0.6558\n",
      "Epoch 3/30\n",
      "2500/2500 [==============================] - 3s 1ms/step - loss: 1.3240 - accuracy: 0.6492 - val_loss: 1.3463 - val_accuracy: 0.5888\n",
      "Epoch 4/30\n",
      "2500/2500 [==============================] - 3s 1ms/step - loss: 1.3472 - accuracy: 0.6371 - val_loss: 1.7577 - val_accuracy: 0.6334\n",
      "Epoch 5/30\n",
      "2500/2500 [==============================] - 3s 1ms/step - loss: 1.3870 - accuracy: 0.6207 - val_loss: 1.9846 - val_accuracy: 0.5242\n",
      "Epoch 6/30\n",
      "2500/2500 [==============================] - 3s 1ms/step - loss: 1.5806 - accuracy: 0.5756 - val_loss: 3.6113 - val_accuracy: 0.5630\n",
      "Epoch 7/30\n",
      "2500/2500 [==============================] - 3s 1ms/step - loss: 1.6742 - accuracy: 0.5361 - val_loss: 1.9016 - val_accuracy: 0.5336\n",
      "Epoch 8/30\n",
      "2500/2500 [==============================] - 3s 1ms/step - loss: 1.7258 - accuracy: 0.5175 - val_loss: 3.9566 - val_accuracy: 0.5941\n",
      "Epoch 9/30\n",
      "2500/2500 [==============================] - 3s 1ms/step - loss: 1.6966 - accuracy: 0.5020 - val_loss: 2.2193 - val_accuracy: 0.4904\n",
      "Epoch 10/30\n",
      "2500/2500 [==============================] - 3s 1ms/step - loss: 1.8433 - accuracy: 0.4923 - val_loss: 2.9375 - val_accuracy: 0.5255\n",
      "Epoch 11/30\n",
      "2500/2500 [==============================] - 3s 1ms/step - loss: 1.9618 - accuracy: 0.4640 - val_loss: 3.2036 - val_accuracy: 0.5081\n",
      "Epoch 12/30\n",
      "2500/2500 [==============================] - 3s 1ms/step - loss: 2.0316 - accuracy: 0.4450 - val_loss: 2.3419 - val_accuracy: 0.4001\n",
      "Epoch 13/30\n",
      "2500/2500 [==============================] - 3s 1ms/step - loss: 2.1167 - accuracy: 0.4502 - val_loss: 6.6439 - val_accuracy: 0.3799\n",
      "Epoch 14/30\n",
      "2500/2500 [==============================] - 3s 1ms/step - loss: 2.0491 - accuracy: 0.4250 - val_loss: 2.4101 - val_accuracy: 0.3674\n",
      "Epoch 15/30\n",
      "2500/2500 [==============================] - 3s 1ms/step - loss: 2.0631 - accuracy: 0.3986 - val_loss: 3.1974 - val_accuracy: 0.3666\n",
      "Epoch 16/30\n",
      "2500/2500 [==============================] - 3s 1ms/step - loss: 2.1917 - accuracy: 0.4067 - val_loss: 2.3811 - val_accuracy: 0.3752\n",
      "Epoch 17/30\n",
      "2500/2500 [==============================] - 3s 1ms/step - loss: 2.2393 - accuracy: 0.3933 - val_loss: 3.2190 - val_accuracy: 0.4001\n",
      "Epoch 18/30\n",
      "2500/2500 [==============================] - 3s 1ms/step - loss: 2.3041 - accuracy: 0.3923 - val_loss: 2.3129 - val_accuracy: 0.2702\n",
      "Epoch 19/30\n",
      "2500/2500 [==============================] - 3s 1ms/step - loss: 2.4211 - accuracy: 0.3416 - val_loss: 2.5578 - val_accuracy: 0.2678\n",
      "Epoch 20/30\n",
      "2500/2500 [==============================] - 3s 1ms/step - loss: 2.4067 - accuracy: 0.3171 - val_loss: 2.5338 - val_accuracy: 0.3309\n",
      "Epoch 21/30\n",
      "2500/2500 [==============================] - 3s 1ms/step - loss: 2.2904 - accuracy: 0.3242 - val_loss: 4.3901 - val_accuracy: 0.4245\n",
      "Epoch 22/30\n",
      "2500/2500 [==============================] - 3s 1ms/step - loss: 2.4934 - accuracy: 0.3364 - val_loss: 2.9623 - val_accuracy: 0.3169\n",
      "Epoch 23/30\n",
      "2500/2500 [==============================] - 3s 1ms/step - loss: 2.3149 - accuracy: 0.3106 - val_loss: 3.4250 - val_accuracy: 0.3149\n",
      "Epoch 24/30\n",
      "2500/2500 [==============================] - 3s 1ms/step - loss: 2.4658 - accuracy: 0.3006 - val_loss: 2.6915 - val_accuracy: 0.2532\n",
      "Epoch 25/30\n",
      "2500/2500 [==============================] - 3s 1ms/step - loss: 2.2987 - accuracy: 0.2753 - val_loss: 3.0139 - val_accuracy: 0.3030\n",
      "Epoch 26/30\n",
      "2500/2500 [==============================] - 3s 1ms/step - loss: 2.8665 - accuracy: 0.3259 - val_loss: 3.0514 - val_accuracy: 0.2515\n",
      "Epoch 27/30\n",
      "2500/2500 [==============================] - 3s 1ms/step - loss: 3.3337 - accuracy: 0.2749 - val_loss: 3.4437 - val_accuracy: 0.2849\n",
      "Epoch 28/30\n",
      "2500/2500 [==============================] - 3s 1ms/step - loss: 2.7211 - accuracy: 0.2825 - val_loss: 3.9305 - val_accuracy: 0.2745\n",
      "Epoch 29/30\n",
      "2500/2500 [==============================] - 3s 1ms/step - loss: 2.8251 - accuracy: 0.2547 - val_loss: 3.7970 - val_accuracy: 0.3043\n",
      "Epoch 30/30\n",
      "2500/2500 [==============================] - 3s 1ms/step - loss: 3.1523 - accuracy: 0.2839 - val_loss: 3.3432 - val_accuracy: 0.2506\n"
     ]
    },
    {
     "data": {
      "text/plain": [
       "<tensorflow.python.keras.callbacks.History at 0x7fe130254ef0>"
      ]
     },
     "execution_count": 5,
     "metadata": {},
     "output_type": "execute_result"
    }
   ],
   "source": [
    "%load_ext tensorboard\n",
    "\n",
    "import os\n",
    "import datetime\n",
    "import tensorflow as tf\n",
    "from  tensorflow import keras\n",
    "from tensorflow.keras.models import Sequential\n",
    "from tensorflow.keras.layers import Dense, Dropout\n",
    "\n",
    "logdir = os.path.join(\"logs\", datetime.datetime.now().strftime(\"%Y%m%d-%H%M%S\"))\n",
    "tensorboard_callback = tf.keras.callbacks.TensorBoard(logdir, histogram_freq=1)\n",
    "\n",
    "\n",
    "baseline = Sequential([\n",
    "    Dense(units=128, input_dim=784, activation='relu', name='Input_Layer'),\n",
    "    Dense(128, activation='relu'),\n",
    "    Dense(64, activation='relu'),\n",
    "    Dense(10, activation='softmax'),    \n",
    "])\n",
    "\n",
    "baseline.compile(loss='sparse_categorical_crossentropy',\n",
    "             # optimizer='rmsprop', # default optimizer\n",
    "              metrics=['accuracy'])\n",
    "\n",
    "print(baseline.summary())\n",
    "\n",
    "baseline.fit(X, y,\n",
    "          epochs=30,\n",
    "          batch_size=32, # This is the default batch_size\n",
    "          validation_split=0.2,\n",
    "          callbacks=[tensorboard_callback])\n"
   ]
  },
  {
   "cell_type": "markdown",
   "metadata": {
    "colab_type": "text",
    "id": "b0QJURWh-9uv"
   },
   "source": [
    "### Visualize the results\n",
    "\n",
    "Create charts for both loss and accuracy by epoch. Use line graphs for both charts. Analyze the results. \n",
    "\n",
    "At what point should we have stopped training the model and why? "
   ]
  },
  {
   "cell_type": "code",
   "execution_count": 6,
   "metadata": {
    "colab": {},
    "colab_type": "code",
    "id": "KONJtU5wqlXf"
   },
   "outputs": [
    {
     "data": {
      "text/plain": [
       "{'loss': [1.7447463274002075,\n",
       "  1.2999416589736938,\n",
       "  1.3187673091888428,\n",
       "  1.3989388942718506,\n",
       "  1.449644684791565,\n",
       "  1.6350990533828735,\n",
       "  1.7078845500946045,\n",
       "  1.7745025157928467,\n",
       "  1.8617302179336548,\n",
       "  1.8700168132781982,\n",
       "  1.9780584573745728,\n",
       "  2.1926920413970947,\n",
       "  2.157474994659424,\n",
       "  2.0992422103881836,\n",
       "  2.1762983798980713,\n",
       "  2.1654586791992188,\n",
       "  2.328068256378174,\n",
       "  2.3595430850982666,\n",
       "  2.390477180480957,\n",
       "  2.523988962173462,\n",
       "  2.3529865741729736,\n",
       "  2.763669729232788,\n",
       "  2.2745392322540283,\n",
       "  2.7032485008239746,\n",
       "  2.339542865753174,\n",
       "  2.8088178634643555,\n",
       "  3.389723062515259,\n",
       "  2.9171526432037354,\n",
       "  2.77786922454834,\n",
       "  3.440077066421509],\n",
       " 'accuracy': [0.5617625117301941,\n",
       "  0.6521499752998352,\n",
       "  0.6477875113487244,\n",
       "  0.6275874972343445,\n",
       "  0.6133875250816345,\n",
       "  0.5572875142097473,\n",
       "  0.5336750149726868,\n",
       "  0.5168750286102295,\n",
       "  0.4922249913215637,\n",
       "  0.49328750371932983,\n",
       "  0.46626248955726624,\n",
       "  0.43334999680519104,\n",
       "  0.43197500705718994,\n",
       "  0.4215250015258789,\n",
       "  0.3998124897480011,\n",
       "  0.3975124955177307,\n",
       "  0.3875125050544739,\n",
       "  0.37511250376701355,\n",
       "  0.3428874909877777,\n",
       "  0.32356250286102295,\n",
       "  0.334199994802475,\n",
       "  0.32932499051094055,\n",
       "  0.2847000062465668,\n",
       "  0.28008750081062317,\n",
       "  0.27649998664855957,\n",
       "  0.3076624870300293,\n",
       "  0.2858000099658966,\n",
       "  0.25651249289512634,\n",
       "  0.2599875032901764,\n",
       "  0.2822374999523163],\n",
       " 'val_loss': [1.2155711650848389,\n",
       "  1.2965316772460938,\n",
       "  1.3462700843811035,\n",
       "  1.7577437162399292,\n",
       "  1.9846118688583374,\n",
       "  3.6113059520721436,\n",
       "  1.9016132354736328,\n",
       "  3.956639051437378,\n",
       "  2.219334363937378,\n",
       "  2.9375274181365967,\n",
       "  3.203555107116699,\n",
       "  2.3418924808502197,\n",
       "  6.643886089324951,\n",
       "  2.4100983142852783,\n",
       "  3.1973533630371094,\n",
       "  2.381087303161621,\n",
       "  3.2190134525299072,\n",
       "  2.3128535747528076,\n",
       "  2.5578150749206543,\n",
       "  2.533839702606201,\n",
       "  4.390054702758789,\n",
       "  2.9623003005981445,\n",
       "  3.4249706268310547,\n",
       "  2.6914703845977783,\n",
       "  3.0138909816741943,\n",
       "  3.051374673843384,\n",
       "  3.4436933994293213,\n",
       "  3.930485486984253,\n",
       "  3.796997547149658,\n",
       "  3.3432135581970215],\n",
       " 'val_accuracy': [0.661300003528595,\n",
       "  0.6557999849319458,\n",
       "  0.5887500047683716,\n",
       "  0.6333500146865845,\n",
       "  0.5242499709129333,\n",
       "  0.5630499720573425,\n",
       "  0.5335500240325928,\n",
       "  0.5940999984741211,\n",
       "  0.4903999865055084,\n",
       "  0.5254999995231628,\n",
       "  0.5081499814987183,\n",
       "  0.40005001425743103,\n",
       "  0.37985000014305115,\n",
       "  0.3673500120639801,\n",
       "  0.3666499853134155,\n",
       "  0.3752000033855438,\n",
       "  0.40005001425743103,\n",
       "  0.27015000581741333,\n",
       "  0.2678000032901764,\n",
       "  0.330949991941452,\n",
       "  0.42454999685287476,\n",
       "  0.3169499933719635,\n",
       "  0.31485000252723694,\n",
       "  0.2531999945640564,\n",
       "  0.30300000309944153,\n",
       "  0.2515000104904175,\n",
       "  0.28494998812675476,\n",
       "  0.27445000410079956,\n",
       "  0.30434998869895935,\n",
       "  0.25060001015663147]}"
      ]
     },
     "execution_count": 6,
     "metadata": {},
     "output_type": "execute_result"
    }
   ],
   "source": [
    "baseline.history.history"
   ]
  },
  {
   "cell_type": "code",
   "execution_count": 7,
   "metadata": {
    "colab": {},
    "colab_type": "code",
    "id": "ijAlzfYKAFaY"
   },
   "outputs": [
    {
     "data": {
      "text/plain": [
       "(30, 4)"
      ]
     },
     "metadata": {},
     "output_type": "display_data"
    },
    {
     "data": {
      "text/html": [
       "<div>\n",
       "<style scoped>\n",
       "    .dataframe tbody tr th:only-of-type {\n",
       "        vertical-align: middle;\n",
       "    }\n",
       "\n",
       "    .dataframe tbody tr th {\n",
       "        vertical-align: top;\n",
       "    }\n",
       "\n",
       "    .dataframe thead th {\n",
       "        text-align: right;\n",
       "    }\n",
       "</style>\n",
       "<table border=\"1\" class=\"dataframe\">\n",
       "  <thead>\n",
       "    <tr style=\"text-align: right;\">\n",
       "      <th></th>\n",
       "      <th>accuracy</th>\n",
       "      <th>loss</th>\n",
       "      <th>val_accuracy</th>\n",
       "      <th>val_loss</th>\n",
       "    </tr>\n",
       "  </thead>\n",
       "  <tbody>\n",
       "    <tr>\n",
       "      <th>0</th>\n",
       "      <td>0.561763</td>\n",
       "      <td>1.744746</td>\n",
       "      <td>0.66130</td>\n",
       "      <td>1.215571</td>\n",
       "    </tr>\n",
       "    <tr>\n",
       "      <th>1</th>\n",
       "      <td>0.652150</td>\n",
       "      <td>1.299942</td>\n",
       "      <td>0.65580</td>\n",
       "      <td>1.296532</td>\n",
       "    </tr>\n",
       "    <tr>\n",
       "      <th>2</th>\n",
       "      <td>0.647788</td>\n",
       "      <td>1.318767</td>\n",
       "      <td>0.58875</td>\n",
       "      <td>1.346270</td>\n",
       "    </tr>\n",
       "    <tr>\n",
       "      <th>3</th>\n",
       "      <td>0.627587</td>\n",
       "      <td>1.398939</td>\n",
       "      <td>0.63335</td>\n",
       "      <td>1.757744</td>\n",
       "    </tr>\n",
       "    <tr>\n",
       "      <th>4</th>\n",
       "      <td>0.613388</td>\n",
       "      <td>1.449645</td>\n",
       "      <td>0.52425</td>\n",
       "      <td>1.984612</td>\n",
       "    </tr>\n",
       "  </tbody>\n",
       "</table>\n",
       "</div>"
      ],
      "text/plain": [
       "   accuracy      loss  val_accuracy  val_loss\n",
       "0  0.561763  1.744746       0.66130  1.215571\n",
       "1  0.652150  1.299942       0.65580  1.296532\n",
       "2  0.647788  1.318767       0.58875  1.346270\n",
       "3  0.627587  1.398939       0.63335  1.757744\n",
       "4  0.613388  1.449645       0.52425  1.984612"
      ]
     },
     "metadata": {},
     "output_type": "display_data"
    },
    {
     "data": {
      "image/png": "[encoded data removed]",
      "text/plain": [
       "<Figure size 432x288 with 1 Axes>"
      ]
     },
     "metadata": {
      "needs_background": "light"
     },
     "output_type": "display_data"
    }
   ],
   "source": [
    "import seaborn as sns\n",
    "import pandas as pd\n",
    "\n",
    "df = pd.DataFrame.from_records(baseline.history.history)\n",
    "display(df.shape, df.head())\n",
    "df['epoch'] = [i for i in range(df.shape[0])]\n",
    "\n",
    "ax = sns.lineplot(x='epoch', y='accuracy', data=df, color='brown')\n",
    "ax = sns.lineplot(x='epoch', y='loss', data=df, color='green');"
   ]
  },
  {
   "cell_type": "markdown",
   "metadata": {},
   "source": [
    "From the loss/accuracy vs epoch chart above it's clear that training should have been stopped after epoch 1 as the loss increases and accuracy decreases from that point onwards."
   ]
  },
  {
   "cell_type": "markdown",
   "metadata": {
    "colab_type": "text",
    "id": "MAhBrcE4yOZe"
   },
   "source": [
    "## Change Optimizers\n",
    "Try using the keras `adam` optimizer instead of `sgd` in your model. Visualize the difference in validation loss between the models with different optimizers. "
   ]
  },
  {
   "cell_type": "code",
   "execution_count": 8,
   "metadata": {
    "colab": {},
    "colab_type": "code",
    "id": "jIW_spOZ0cxy"
   },
   "outputs": [
    {
     "name": "stdout",
     "output_type": "stream",
     "text": [
      "Model: \"sequential_1\"\n",
      "_________________________________________________________________\n",
      "Layer (type)                 Output Shape              Param #   \n",
      "=================================================================\n",
      "Input_Layer (Dense)          (None, 128)               100480    \n",
      "_________________________________________________________________\n",
      "dense_3 (Dense)              (None, 128)               16512     \n",
      "_________________________________________________________________\n",
      "dense_4 (Dense)              (None, 64)                8256      \n",
      "_________________________________________________________________\n",
      "dense_5 (Dense)              (None, 10)                650       \n",
      "=================================================================\n",
      "Total params: 125,898\n",
      "Trainable params: 125,898\n",
      "Non-trainable params: 0\n",
      "_________________________________________________________________\n",
      "None\n",
      "Epoch 1/30\n",
      "2500/2500 [==============================] - 3s 1ms/step - loss: 3.1840 - accuracy: 0.5313 - val_loss: 0.8604 - val_accuracy: 0.7469\n",
      "Epoch 2/30\n",
      "2500/2500 [==============================] - 2s 980us/step - loss: 0.7481 - accuracy: 0.7741 - val_loss: 0.6433 - val_accuracy: 0.8047\n",
      "Epoch 3/30\n",
      "2500/2500 [==============================] - 3s 1ms/step - loss: 0.5948 - accuracy: 0.8214 - val_loss: 0.5968 - val_accuracy: 0.8220\n",
      "Epoch 4/30\n",
      "2500/2500 [==============================] - 2s 974us/step - loss: 0.5268 - accuracy: 0.8438 - val_loss: 0.5522 - val_accuracy: 0.8377\n",
      "Epoch 5/30\n",
      "2500/2500 [==============================] - 2s 977us/step - loss: 0.4746 - accuracy: 0.8599 - val_loss: 0.5190 - val_accuracy: 0.8472\n",
      "Epoch 6/30\n",
      "2500/2500 [==============================] - 2s 971us/step - loss: 0.4489 - accuracy: 0.8662 - val_loss: 0.5322 - val_accuracy: 0.8495\n",
      "Epoch 7/30\n",
      "2500/2500 [==============================] - 2s 974us/step - loss: 0.4165 - accuracy: 0.8777 - val_loss: 0.5362 - val_accuracy: 0.8479\n",
      "Epoch 8/30\n",
      "2500/2500 [==============================] - 2s 999us/step - loss: 0.4023 - accuracy: 0.8790 - val_loss: 0.5392 - val_accuracy: 0.8522\n",
      "Epoch 9/30\n",
      "2500/2500 [==============================] - 2s 999us/step - loss: 0.3754 - accuracy: 0.8893 - val_loss: 0.5386 - val_accuracy: 0.8526\n",
      "Epoch 10/30\n",
      "2500/2500 [==============================] - 2s 994us/step - loss: 0.3686 - accuracy: 0.8927 - val_loss: 0.5379 - val_accuracy: 0.8483\n",
      "Epoch 11/30\n",
      "2500/2500 [==============================] - 2s 984us/step - loss: 0.3440 - accuracy: 0.8995 - val_loss: 0.5564 - val_accuracy: 0.8535\n",
      "Epoch 12/30\n",
      "2500/2500 [==============================] - 3s 1ms/step - loss: 0.3366 - accuracy: 0.9031 - val_loss: 0.5559 - val_accuracy: 0.8608\n",
      "Epoch 13/30\n",
      "2500/2500 [==============================] - 2s 953us/step - loss: 0.3219 - accuracy: 0.9042 - val_loss: 0.5636 - val_accuracy: 0.8558\n",
      "Epoch 14/30\n",
      "2500/2500 [==============================] - 2s 959us/step - loss: 0.3145 - accuracy: 0.9090 - val_loss: 0.5957 - val_accuracy: 0.8550\n",
      "Epoch 15/30\n",
      "2500/2500 [==============================] - 2s 939us/step - loss: 0.3015 - accuracy: 0.9118 - val_loss: 0.5668 - val_accuracy: 0.8533\n",
      "Epoch 16/30\n",
      "2500/2500 [==============================] - 2s 948us/step - loss: 0.2949 - accuracy: 0.9148 - val_loss: 0.6012 - val_accuracy: 0.8558\n",
      "Epoch 17/30\n",
      "2500/2500 [==============================] - 2s 930us/step - loss: 0.2951 - accuracy: 0.9153 - val_loss: 0.5811 - val_accuracy: 0.8562\n",
      "Epoch 18/30\n",
      "2500/2500 [==============================] - 2s 992us/step - loss: 0.2796 - accuracy: 0.9174 - val_loss: 0.6296 - val_accuracy: 0.8537\n",
      "Epoch 19/30\n",
      "2500/2500 [==============================] - 2s 956us/step - loss: 0.2791 - accuracy: 0.9182 - val_loss: 0.6555 - val_accuracy: 0.8511\n",
      "Epoch 20/30\n",
      "2500/2500 [==============================] - 3s 1ms/step - loss: 0.2707 - accuracy: 0.9215 - val_loss: 0.6006 - val_accuracy: 0.8573\n",
      "Epoch 21/30\n",
      "2500/2500 [==============================] - 3s 1ms/step - loss: 0.2747 - accuracy: 0.9205 - val_loss: 0.6423 - val_accuracy: 0.8552\n",
      "Epoch 22/30\n",
      "2500/2500 [==============================] - 3s 1ms/step - loss: 0.2626 - accuracy: 0.9231 - val_loss: 0.6488 - val_accuracy: 0.8542\n",
      "Epoch 23/30\n",
      "2500/2500 [==============================] - 3s 1ms/step - loss: 0.2548 - accuracy: 0.9257 - val_loss: 0.6464 - val_accuracy: 0.8536\n",
      "Epoch 24/30\n",
      "2500/2500 [==============================] - 3s 1ms/step - loss: 0.2543 - accuracy: 0.9268 - val_loss: 0.7362 - val_accuracy: 0.8518\n",
      "Epoch 25/30\n",
      "2500/2500 [==============================] - 3s 1ms/step - loss: 0.2519 - accuracy: 0.9270 - val_loss: 0.7337 - val_accuracy: 0.8558\n",
      "Epoch 26/30\n",
      "2500/2500 [==============================] - 3s 1ms/step - loss: 0.2417 - accuracy: 0.9307 - val_loss: 0.6983 - val_accuracy: 0.8598\n",
      "Epoch 27/30\n",
      "2500/2500 [==============================] - 3s 1ms/step - loss: 0.2415 - accuracy: 0.9303 - val_loss: 0.7620 - val_accuracy: 0.8486\n",
      "Epoch 28/30\n",
      "2500/2500 [==============================] - 3s 1ms/step - loss: 0.2478 - accuracy: 0.9275 - val_loss: 0.7158 - val_accuracy: 0.8497\n",
      "Epoch 29/30\n",
      "2500/2500 [==============================] - 3s 1ms/step - loss: 0.2363 - accuracy: 0.9316 - val_loss: 0.7928 - val_accuracy: 0.8577\n",
      "Epoch 30/30\n",
      "2500/2500 [==============================] - 3s 1ms/step - loss: 0.2407 - accuracy: 0.9311 - val_loss: 0.7269 - val_accuracy: 0.8546\n"
     ]
    },
    {
     "data": {
      "text/plain": [
       "<tensorflow.python.keras.callbacks.History at 0x7fe160ace2e8>"
      ]
     },
     "execution_count": 8,
     "metadata": {},
     "output_type": "execute_result"
    }
   ],
   "source": [
    "from tensorflow.keras.optimizers import Adam \n",
    "\n",
    "adam = Adam()\n",
    "\n",
    "adam_model = Sequential([\n",
    "    Dense(units=128, input_dim=784, activation='relu', name='Input_Layer'),\n",
    "    Dense(128, activation='relu'),\n",
    "    Dense(64, activation='relu'),\n",
    "    Dense(10, activation='softmax'),    \n",
    "])\n",
    "\n",
    "adam_model.compile(loss='sparse_categorical_crossentropy',\n",
    "              optimizer=adam,\n",
    "              metrics=['accuracy'])\n",
    "\n",
    "print(adam_model.summary())\n",
    "\n",
    "adam_model.fit(X, y,\n",
    "          epochs=30,\n",
    "          batch_size=32, # This is the default batch_size\n",
    "          validation_split=0.2,\n",
    "          callbacks=[tensorboard_callback])"
   ]
  },
  {
   "cell_type": "code",
   "execution_count": 9,
   "metadata": {},
   "outputs": [
    {
     "data": {
      "text/plain": [
       "(30, 4)"
      ]
     },
     "metadata": {},
     "output_type": "display_data"
    },
    {
     "data": {
      "text/html": [
       "<div>\n",
       "<style scoped>\n",
       "    .dataframe tbody tr th:only-of-type {\n",
       "        vertical-align: middle;\n",
       "    }\n",
       "\n",
       "    .dataframe tbody tr th {\n",
       "        vertical-align: top;\n",
       "    }\n",
       "\n",
       "    .dataframe thead th {\n",
       "        text-align: right;\n",
       "    }\n",
       "</style>\n",
       "<table border=\"1\" class=\"dataframe\">\n",
       "  <thead>\n",
       "    <tr style=\"text-align: right;\">\n",
       "      <th></th>\n",
       "      <th>accuracy</th>\n",
       "      <th>loss</th>\n",
       "      <th>val_accuracy</th>\n",
       "      <th>val_loss</th>\n",
       "    </tr>\n",
       "  </thead>\n",
       "  <tbody>\n",
       "    <tr>\n",
       "      <th>0</th>\n",
       "      <td>0.630862</td>\n",
       "      <td>1.483618</td>\n",
       "      <td>0.74690</td>\n",
       "      <td>0.860413</td>\n",
       "    </tr>\n",
       "    <tr>\n",
       "      <th>1</th>\n",
       "      <td>0.787400</td>\n",
       "      <td>0.706389</td>\n",
       "      <td>0.80470</td>\n",
       "      <td>0.643285</td>\n",
       "    </tr>\n",
       "    <tr>\n",
       "      <th>2</th>\n",
       "      <td>0.822513</td>\n",
       "      <td>0.592606</td>\n",
       "      <td>0.82205</td>\n",
       "      <td>0.596835</td>\n",
       "    </tr>\n",
       "    <tr>\n",
       "      <th>3</th>\n",
       "      <td>0.842425</td>\n",
       "      <td>0.532515</td>\n",
       "      <td>0.83765</td>\n",
       "      <td>0.552163</td>\n",
       "    </tr>\n",
       "    <tr>\n",
       "      <th>4</th>\n",
       "      <td>0.856050</td>\n",
       "      <td>0.487841</td>\n",
       "      <td>0.84720</td>\n",
       "      <td>0.519039</td>\n",
       "    </tr>\n",
       "  </tbody>\n",
       "</table>\n",
       "</div>"
      ],
      "text/plain": [
       "   accuracy      loss  val_accuracy  val_loss\n",
       "0  0.630862  1.483618       0.74690  0.860413\n",
       "1  0.787400  0.706389       0.80470  0.643285\n",
       "2  0.822513  0.592606       0.82205  0.596835\n",
       "3  0.842425  0.532515       0.83765  0.552163\n",
       "4  0.856050  0.487841       0.84720  0.519039"
      ]
     },
     "metadata": {},
     "output_type": "display_data"
    },
    {
     "data": {
      "image/png": "[encoded data removed]",
      "text/plain": [
       "<Figure size 432x288 with 1 Axes>"
      ]
     },
     "metadata": {
      "needs_background": "light"
     },
     "output_type": "display_data"
    }
   ],
   "source": [
    "df_adam = pd.DataFrame.from_records(adam_model.history.history)\n",
    "display(df_adam.shape, df_adam.head())\n",
    "df_adam['epoch'] = [i for i in range(df_adam.shape[0])]\n",
    "\n",
    "ax = sns.lineplot(x='epoch', y='val_loss', data=df, color='red')\n",
    "ax = sns.lineplot(x='epoch', y='val_loss', data=df_adam, color='green');"
   ]
  },
  {
   "cell_type": "markdown",
   "metadata": {
    "colab_type": "text",
    "id": "EJrbh3qryi4w"
   },
   "source": [
    "### Additional Written Tasks:\n",
    "In this section, you will need to search for resources: \n",
    "1. Investigate the various [loss functions](https://www.tensorflow.org/api_docs/python/tf/keras/losses). Which is best suited for the task at hand (predicting 1 / 0) and why? \n",
    "2. What is the difference between a loss function and a metric? Why might we need both in Keras? \n",
    "3. Investigate the various [optimizers](https://www.tensorflow.org/api_docs/python/tf/keras/optimizers). Stochastic Gradient Descent (`sgd`) is not the learning algorithm dejour anyone. Why is that? What do newer optimizers such as `adam` have to offer? "
   ]
  },
  {
   "cell_type": "markdown",
   "metadata": {},
   "source": [
    "Loss Functions - Since we have 10(i.e. 2 or more) label classes and the labels are provided as integers(0-9) and not one hot encoded, the best loss function would be SparseCategoricalCrossEntropy(https://keras.io/api/losses/probabilistic_losses/#sparsecategoricalcrossentropy-class).\n",
    "\n",
    "\n",
    "Metrics - A metric(https://keras.io/api/metrics/) is a function used to judge the performance of the model but (unlike loss functions) not used during the training of the model - after each training epoch, the metric is used to evaluate the performance of the trained model.\n",
    "\n",
    "\n",
    "Optimizers - Stochastic Gradient Descent(https://julsimon.medium.com/tumbling-down-the-sgd-rabbit-hole-part-1-740fa402f0d7) has many deficiencies that adaptive sgd optimizers like Adam attempt to solve. In fact, from https://keras.io/api/optimizers/adam/, we know that the adam optimizer is \"computationally efficient, has little memory requirement, invariant to diagonal rescaling of gradients, and is well suited for problems that are large in terms of data/parameters\".\n",
    "\n",
    "However, according to “The Marginal Value of Adaptive Gradient Methods in Machine Learning” (Ashia Wilson et al., 2017)(https://julsimon.medium.com/tumbling-down-the-sgd-rabbit-hole-part-2-bed3be4761d3), a \"well-tuned SGD with learning rate decay at specific epochs ends up outperforming all adaptive optimizers\" - the devil, of course, lies in the details and crafting a \"well tuned SGD\" optimizer takes a lot of effort."
   ]
  },
  {
   "cell_type": "markdown",
   "metadata": {
    "colab_type": "text",
    "id": "Gzs4fd-RynDd"
   },
   "source": [
    "## Stretch Goals: \n",
    "\n",
    "- Research convolutional neural networks and try including convolution layers in your network.\n",
    "- Pick two classes and make QuickDraw a binary classification problem, how does your model architecture change?\n",
    "- Implement Cross Validation model evaluation on your Quickdraw implementation \n",
    "\n",
    "Watch some more videos on Gradient Descent:\n",
    "- [Gradient Descent, Step-by-Step](https://www.youtube.com/watch?v=sDv4f4s2SB8)  by StatQuest w/ Josh Starmer. This will help you understand the gradient descent based optimization that happens underneath the hood of neural networks. It uses a non-neural network example, which I believe is a gentler introduction. You will hear me refer to this technique as \"vanilla\" gradient descent. \n",
    "- [Stochastic Gradient Descent, Clearly Explained!!!](https://www.youtube.com/watch?v=vMh0zPT0tLI) by StatQuest w/ Josh Starmer. This builds on the techniques in the previous video.  This technique is the one that is actually implemented inside modern 'nets. \n",
    "- [Siraj Raval the evolution of gradient descent](https://www.youtube.com/watch?v=nhqo0u1a6fw)"
   ]
  }
 ],
 "metadata": {
  "accelerator": "GPU",
  "colab": {
   "collapsed_sections": [],
   "name": "LS_DS_432_TensorFlow_Assignment",
   "provenance": []
  },
  "kernelspec": {
   "display_name": "U4-S2-NN (Python3)",
   "language": "python",
   "name": "u4-s2-nn"
  },
  "language_info": {
   "codemirror_mode": {
    "name": "ipython",
    "version": 3
   },
   "file_extension": ".py",
   "mimetype": "text/x-python",
   "name": "python",
   "nbconvert_exporter": "python",
   "pygments_lexer": "ipython3",
   "version": "3.7.0"
  }
 },
 "nbformat": 4,
 "nbformat_minor": 1
}
