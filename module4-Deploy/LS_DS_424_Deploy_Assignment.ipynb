{
 "cells": [
  {
   "cell_type": "markdown",
   "metadata": {
    "colab_type": "text",
    "id": "NGGrt9EYlCqY"
   },
   "source": [
    "\n",
    "\n",
    "\n",
    "# *Data Science Unit 4 Sprint 2 Assignment 4*\n",
    "\n",
    "Continue to use TensorFlow Keras & a sample of the [Quickdraw dataset](https://github.com/googlecreativelab/quickdraw-dataset) to build a sketch classification model. The dataset has been sampled to only 10 classes and 10000 observations per class. Apply regularization techniques to your model. \n",
    "\n",
    "**Don't forgot to switch to GPU on Colab!**\n",
    "\n",
    "## Objective \n",
    "\n",
    "In lecture, you were exposed to weight shrinkage also known as weight decay or Lp space reguarlization, Max Norn weight constraints, and dropout. \n",
    "\n",
    "In this assignment, you will run 3 experiments in order to perform a deep analysis on the effects that various regularization techniques have model performance and on the learned model weights. By the end of this assignment, these regularization techniques should no longer feel like blackboxes to you, i.e. completely mysterious as to how they work. \n"
   ]
  },
  {
   "cell_type": "markdown",
   "metadata": {
    "colab_type": "text",
    "id": "ptJ2b3wk62Ud"
   },
   "source": [
    "#### Import libraries"
   ]
  },
  {
   "cell_type": "code",
   "execution_count": 1,
   "metadata": {
    "colab": {},
    "colab_type": "code",
    "id": "USXjs7Hk71Hy"
   },
   "outputs": [],
   "source": [
    "# native libraries \n",
    "import os\n",
    "from time import time \n",
    "\n",
    "# data analysis libraries \n",
    "import numpy as np\n",
    "import pandas as pd\n",
    "import matplotlib.pyplot as plt\n",
    "import seaborn as sns\n",
    "\n",
    "# deep learning libraries \n",
    "from keras import Sequential\n",
    "from keras.callbacks import EarlyStopping, TensorBoard\n",
    "from keras.layers import Flatten, Dense, Dropout\n",
    "from keras.layers import ReLU\n",
    "from keras.initializers import GlorotUniform\n",
    "\n",
    "import tensorflow as tf\n",
    "from tensorflow.keras.datasets import fashion_mnist\n",
    "\n",
    "# regularizers \n",
    "from keras.regularizers import l2, l1\n",
    "from keras.constraints import MaxNorm\n",
    "\n",
    "# required for compatibility between sklearn and keras\n",
    "from tensorflow.keras.wrappers.scikit_learn import KerasClassifier\n",
    "\n",
    "from sklearn.model_selection import GridSearchCV\n",
    "\n",
    "\n",
    "%matplotlib inline"
   ]
  },
  {
   "cell_type": "markdown",
   "metadata": {},
   "source": [
    "### Load Data"
   ]
  },
  {
   "cell_type": "code",
   "execution_count": 2,
   "metadata": {},
   "outputs": [],
   "source": [
    "def load_data():\n",
    "    \"\"\"\n",
    "    Load in and normalize image data set\n",
    "    \"\"\"\n",
    "    \n",
    "    # load in our dataset \n",
    "    (X_train, y_train), (X_test, y_test) = fashion_mnist.load_data()\n",
    "\n",
    "    # normalize pixel values between 0 and 1 \n",
    "    max_pixel_value = X_train.max()\n",
    "    X_train, X_test = X_train /max_pixel_value , X_test / max_pixel_value\n",
    "    \n",
    "    return X_train, y_train, X_test, y_test"
   ]
  },
  {
   "cell_type": "code",
   "execution_count": 3,
   "metadata": {},
   "outputs": [],
   "source": [
    "X_train, y_train, X_test, y_test = load_data()"
   ]
  },
  {
   "cell_type": "code",
   "execution_count": 4,
   "metadata": {},
   "outputs": [
    {
     "data": {
      "text/plain": [
       "10"
      ]
     },
     "execution_count": 4,
     "metadata": {},
     "output_type": "execute_result"
    }
   ],
   "source": [
    "# this is equal to the number of nodes in the output layer\n",
    "N_labels = len(np.unique(y_train))\n",
    "N_labels"
   ]
  },
  {
   "cell_type": "markdown",
   "metadata": {},
   "source": [
    "-----\n",
    "### Build Model\n",
    "\n",
    "Let's build out the model that we'll be using all throughout our experiments. \n",
    "\n",
    "Remember that **the whole point of regularization is to prevent overfitting.**\n",
    "\n",
    "\n",
    "![](https://hackernoon.com/hn-images/1*vuZxFMi5fODz2OEcpG-S1g.png)\n",
    "\n",
    "Overfitting happens when are model's are too complex, so in order to see a benefit from the use of regularization techniques we need to build a relatively complex model. \n",
    "\n",
    "Having said that, you might not have the computational resource to be able to train a complex model in a reasonable amount of time. So if this describes you, then you might want to consider using `build_simple_model`. Otherwise, I recommend that you use `build_complex_model`. \n",
    "\n",
    "This notebook will be using  `build_complex_model` to run our experiments. \n",
    "\n",
    "**NOTE:** Whichever function you end up using to build a model, take time to read through the code and make sure you understand what is happening. "
   ]
  },
  {
   "cell_type": "code",
   "execution_count": 5,
   "metadata": {},
   "outputs": [],
   "source": [
    "def build_complex_model(Lp_reg=None, reg_penality=None, dropout_prob=0.0, maxnorm_wc=None):\n",
    "    \"\"\"\n",
    "    Build and return a regularized 3 hidden layer FCFF model \n",
    "    \n",
    "    Parameters\n",
    "    ----------\n",
    "    Lp_reg: None or object\n",
    "        If object, Lp_reg is either l1 or l2 regularization \n",
    "        If None, that means that l1 or l2 regularization will not be used.\n",
    "     \n",
    "    reg_penality: None or float\n",
    "        If float, reg_penality is a value typically between 1.0 and 0.0001\n",
    "        This is the regularization strength for l1 or l2 \n",
    "        \n",
    "        \n",
    "    dropout_prob: float\n",
    "        This is the probability that dropout regularization will exclude a node from a training iteration. \n",
    "        If this value is 0.0, that means that dropout will not be used. \n",
    "        \n",
    "    maxnorm_wc: None or float\n",
    "        If float, maxnorm_wc is the weight constraint that is used for Max Norm regularization\n",
    "        If None, that means that Max Norm regularization will not be used.\n",
    "        \n",
    "        \n",
    "    Return\n",
    "    ------\n",
    "    model: complied Keras model\n",
    "    \"\"\"\n",
    "    \n",
    "    # if reg_type is not None, then pass in the penality strength to whatever form of Lp space regularization this is \n",
    "    if Lp_reg is not None:\n",
    "        Lp_regularizer = Lp_reg(reg_penality)\n",
    "    else:\n",
    "        Lp_regularizer = None\n",
    "                \n",
    "    if maxnorm_wc is not None:\n",
    "        wc = MaxNorm(max_value=maxnorm_wc)\n",
    "    else:\n",
    "        wc = None\n",
    "\n",
    "\n",
    "    # instantiate Sequential class\n",
    "    model = Sequential([\n",
    "\n",
    "    # flatten images \n",
    "    Flatten(input_shape=(28,28)),\n",
    "\n",
    "    # hidden layer 1\n",
    "    Dense(500, kernel_regularizer=Lp_regularizer , kernel_constraint=wc), # remember that Keras refers to weight matrix as a kernel, i.e. weights = kernel\n",
    "    # act func 1\n",
    "    ReLU(negative_slope=0.01),\n",
    "    Dropout(dropout_prob),\n",
    "\n",
    "    # hidden layer 2\n",
    "    Dense(250, kernel_regularizer=Lp_regularizer, kernel_constraint=wc),\n",
    "    # act func 2\n",
    "    ReLU(negative_slope=0.01),\n",
    "    Dropout(dropout_prob),\n",
    "\n",
    "    # hidden layer 3\n",
    "    Dense(64, kernel_regularizer=Lp_regularizer, kernel_constraint=wc),\n",
    "    # act func 3\n",
    "    ReLU(negative_slope=0.01),\n",
    "    Dropout(dropout_prob),\n",
    "\n",
    "    # output layer   \n",
    "    Dense(N_labels, activation=\"softmax\")  \n",
    "\n",
    "    ])\n",
    "    # complie model \n",
    "    model.compile(loss=\"sparse_categorical_crossentropy\", \n",
    "                 optimizer=\"adam\", \n",
    "                 metrics=[\"accuracy\"])\n",
    "    \n",
    "    return model"
   ]
  },
  {
   "cell_type": "markdown",
   "metadata": {},
   "source": [
    "Again, only use `build_simple_model` instead of `build_complex_model` if you're working on a machine with very limited computational resource. "
   ]
  },
  {
   "cell_type": "code",
   "execution_count": 6,
   "metadata": {
    "colab": {},
    "colab_type": "code",
    "id": "USXjs7Hk71Hy"
   },
   "outputs": [],
   "source": [
    "# def build_simple_model(Lp_reg=None, reg_penality=None, dropout_prob=0, maxnorm_wc=None):\n",
    "#     \"\"\"\n",
    "#     Build and return a regularized 1 hidden layer FCFF model \n",
    "    \n",
    "#     Parameters\n",
    "#     ----------\n",
    "#     Lp_reg: None or object\n",
    "#         If object, Lp_reg is either l1 or l2 regularization \n",
    "#         If None, that means that l1 or l2 regularization will not be used.\n",
    "     \n",
    "#     reg_penality: None or float\n",
    "#         If float, reg_penality is a value typically between 1.0 and 0.0001\n",
    "#         This is the regularization strength for l1 or l2 \n",
    "        \n",
    "        \n",
    "#     dropout_prob: float\n",
    "#         This is the probability that dropout regularization will exclude a node from a training iteration. \n",
    "#         If this value is 0.0, that means that dropout will not be used. \n",
    "        \n",
    "#     maxnorm_wc: None or float\n",
    "#         If float, maxnorm_wc is the weight constraint that is used for Max Norm regularization\n",
    "#         If None, that means that Max Norm regularization will not be used.\n",
    "        \n",
    "        \n",
    "#     Return\n",
    "#     ------\n",
    "#     model: complied Keras model\n",
    "#     \"\"\"\n",
    "    \n",
    "#     if Lp_reg is not None:\n",
    "#         Lp_regularizer = Lp_reg(reg_penality)\n",
    "#     else:\n",
    "#         Lp_regularizer = None\n",
    "\n",
    "#     # instantiate Sequential class\n",
    "#     model = Sequential([\n",
    "\n",
    "#     # flatten images \n",
    "#     Flatten(input_shape=(28,28)),\n",
    "\n",
    "#     # hidden layer 1\n",
    "#     Dense(128,  kernel_regularizer=Lp_regularizer, kernel_constraint=maxnorm_wc), # remember that Keras refers to weight matrix as a kernel, i.e. weights = kernel\n",
    "#     # act func 1\n",
    "#     ReLU(negative_slope=0.01),\n",
    "#     Dropout(p_dropout),\n",
    "\n",
    "#     # output layer   \n",
    "#     Dense(N_labels, activation=\"softmax\")  \n",
    "\n",
    "#     ])\n",
    "#     # complie model \n",
    "#     model.compile(loss=\"sparse_categorical_crossentropy\", \n",
    "#                  optimizer=\"adam\", \n",
    "#                  metrics=[\"accuracy\"])\n",
    "    \n",
    "#     return model"
   ]
  },
  {
   "cell_type": "markdown",
   "metadata": {},
   "source": [
    "Since we'll be using Sklearn's GridserchCV class, we need to wrap our Keras models in `KerasClassifier`"
   ]
  },
  {
   "cell_type": "code",
   "execution_count": 7,
   "metadata": {},
   "outputs": [],
   "source": [
    "# remember to wrap KerasClassifier around build_model for sklearn's GridsearchCV compatibility \n",
    "model = KerasClassifier(build_fn = build_complex_model)"
   ]
  },
  {
   "cell_type": "markdown",
   "metadata": {},
   "source": [
    "-------\n",
    "\n",
    "# Experiment 1: Identify the relationship between model performance and L2 penalty strength\n",
    "\n",
    "![](https://www.researchgate.net/publication/334159821/figure/fig1/AS:776025558495234@1562030319993/Ridge-regression-variable-selection.png)\n",
    "\n",
    "We are going to run a gridsearch soley on the l2 regularization penalty value and see the effect this has on model performance. \n",
    "\n",
    "By running a gridseach on only a single hyperparameter (while using the same data and model) we can isolate the effect of that hyperparameter. "
   ]
  },
  {
   "cell_type": "code",
   "execution_count": 8,
   "metadata": {},
   "outputs": [],
   "source": [
    "# build out our hyperparameter dictionary \n",
    "hyper_parameters = {\n",
    "    # take note that Lp_reg penalty/strength values are in powers of 10 \n",
    "    \"reg_penality\": [10.0, 1.0, 0.1, 0.01, 0.001, 0.0001, 0.00001], \n",
    "    # Since we only want to test l2, provide l2 as the sole option \n",
    "    \"Lp_reg\": [l2],\n",
    "    # default is 1, in order to change it we must provide value here because we can't provide a parameter value for model.fit() directly when using gridsearch\n",
    "    # protip: consider chanign epochs to 1 if the gridsearche run-time are too long for you\n",
    "    \"epochs\": [3] \n",
    "}"
   ]
  },
  {
   "cell_type": "code",
   "execution_count": 9,
   "metadata": {
    "colab": {},
    "colab_type": "code",
    "id": "USXjs7Hk71Hy"
   },
   "outputs": [
    {
     "name": "stdout",
     "output_type": "stream",
     "text": [
      "Fitting 3 folds for each of 7 candidates, totalling 21 fits\n",
      "Epoch 1/3\n",
      "1875/1875 [==============================] - 5s 2ms/step - loss: 0.6999 - accuracy: 0.7808\n",
      "Epoch 2/3\n",
      "1875/1875 [==============================] - 5s 3ms/step - loss: 0.4565 - accuracy: 0.8611\n",
      "Epoch 3/3\n",
      "1875/1875 [==============================] - 5s 3ms/step - loss: 0.4181 - accuracy: 0.8725\n"
     ]
    }
   ],
   "source": [
    "start=time()\n",
    "# Create and run Grid Search\n",
    "grid = GridSearchCV(estimator=model, \n",
    "                    param_grid=hyper_parameters, \n",
    "                    n_jobs=-2, \n",
    "                    verbose=1, \n",
    "                    cv=3)\n",
    "\n",
    "grid_result = grid.fit(X_train, y_train)\n",
    "end=time()"
   ]
  },
  {
   "cell_type": "code",
   "execution_count": 10,
   "metadata": {},
   "outputs": [
    {
     "name": "stdout",
     "output_type": "stream",
     "text": [
      "Gridsearch runtime 2.98 mins\n"
     ]
    }
   ],
   "source": [
    "print(\"Gridsearch runtime {0:.3} mins\".format( (end-start)/60 ))"
   ]
  },
  {
   "cell_type": "code",
   "execution_count": 11,
   "metadata": {},
   "outputs": [
    {
     "data": {
      "image/png": "[encoded data removed]",
      "text/plain": [
       "<Figure size 1440x432 with 1 Axes>"
      ]
     },
     "metadata": {
      "needs_background": "light"
     },
     "output_type": "display_data"
    }
   ],
   "source": [
    "# use the mean accuracy from the CV splits for determining best model score \n",
    "means = grid_result.cv_results_['mean_test_score']\n",
    "stds = grid_result.cv_results_['std_test_score']\n",
    "params = grid_result.cv_results_['params']\n",
    "\n",
    "# move l2 penalty values outside of dictionary and into a list\n",
    "param_values = [dic[\"reg_penality\"] for dic in params]\n",
    "\n",
    "# plot accuracy vs l2_reg_penalty\n",
    "plt.figure(figsize=(20,6))\n",
    "plt.grid()\n",
    "\n",
    "# this plot is using the std of the CV splits to plot error bars however those values are so small that they aren't visable\n",
    "plt.errorbar(param_values, means, yerr=stds, ecolor=\"orange\")\n",
    "plt.xscale(\"log\") # use a log scale for ease of reading, recall that l2_reg_penalty were in powers of 10 \n",
    "plt.title(\"L2 Regularization: Model Accuracy vs L2 Penalty Strength\")\n",
    "plt.ylabel(\"Validation Accuracy\", )\n",
    "plt.xlabel(\"L2 Penalty Strength usng a Log Scale\");"
   ]
  },
  {
   "cell_type": "markdown",
   "metadata": {},
   "source": [
    "### Observations\n",
    "\n",
    "Write down some observations. What do you notice from the plot?"
   ]
  },
  {
   "cell_type": "markdown",
   "metadata": {
    "deletable": false,
    "nbgrader": {
     "cell_type": "markdown",
     "checksum": "089b55b5a84d9c96c51fd341d9e6c74f",
     "grade": true,
     "grade_id": "cell-010212fc0915b976",
     "locked": false,
     "points": 0,
     "schema_version": 3,
     "solution": true,
     "task": false
    }
   },
   "source": [
    "YOUR ANSWER HERE"
   ]
  },
  {
   "cell_type": "markdown",
   "metadata": {},
   "source": [
    "\n",
    "## Compare Weights between Best and Worse Model \n",
    "\n",
    "Next, we are going to compare the hidden layer weights between the best and worse performing model while taking note of the respective l2 penalty strengths."
   ]
  },
  {
   "cell_type": "code",
   "execution_count": 12,
   "metadata": {},
   "outputs": [],
   "source": [
    "# get the best l2 penalty term \n",
    "best_lr_penalty = grid_result.best_params_[\"reg_penality\"]\n",
    "\n",
    "# get the best trained model \n",
    "best_model = grid_result.best_estimator_.build_fn(Lp_reg=l2, reg_penality=best_lr_penalty)\n",
    "\n",
    "# get the weights from the best trained model \n",
    "best_weights = best_model.get_weights()"
   ]
  },
  {
   "cell_type": "code",
   "execution_count": 13,
   "metadata": {},
   "outputs": [
    {
     "name": "stdout",
     "output_type": "stream",
     "text": [
      "Epoch 1/3\n",
      "1875/1875 [==============================] - 6s 3ms/step - loss: 650.9429 - accuracy: 0.1194\n",
      "Epoch 2/3\n",
      "1875/1875 [==============================] - 6s 3ms/step - loss: 2.3030 - accuracy: 0.0983\n",
      "Epoch 3/3\n",
      "1875/1875 [==============================] - 6s 3ms/step - loss: 2.3030 - accuracy: 0.0983\n"
     ]
    }
   ],
   "source": [
    "# train a model using the l2_reg_penalty value at scored the lowest \n",
    "worse_l2_reg_penalty = 10.0\n",
    "\n",
    "worse_model = build_complex_model(Lp_reg=l2, reg_penality=worse_l2_reg_penalty)\n",
    "\n",
    "# fit model \n",
    "worse_model.fit(X_train, y_train, epochs=3)\n",
    "\n",
    "# get weights from worse performing model \n",
    "worse_weights = worse_model.get_weights()"
   ]
  },
  {
   "cell_type": "markdown",
   "metadata": {},
   "source": [
    "-----\n",
    "## Understanding how Weights and Biases are stored"
   ]
  },
  {
   "cell_type": "markdown",
   "metadata": {},
   "source": [
    "Let's take a minute to understand that`.get_weights()` returns a list with 8 elements (if you're using `build_complex_model`)."
   ]
  },
  {
   "cell_type": "code",
   "execution_count": 14,
   "metadata": {},
   "outputs": [
    {
     "data": {
      "text/plain": [
       "8"
      ]
     },
     "execution_count": 14,
     "metadata": {},
     "output_type": "execute_result"
    }
   ],
   "source": [
    "len(best_weights)"
   ]
  },
  {
   "cell_type": "markdown",
   "metadata": {},
   "source": [
    "There are **weights matrices and bias vectors between each layer** and we have 5 layers. \n",
    "\n",
    "- Input\n",
    "- Hidden 1\n",
    "- Hidden 2\n",
    "- Hidden 3\n",
    "- Output \n",
    "\n",
    "So that means we should have 4 weight matrices, but we see 8. **There are also 4 weight vectors for the biases between each layer.** So that accounts for the 8. \n",
    "\n",
    "\n",
    "#### Index for Weight Matrices \n",
    "If you index for a weight matrix, you can see its shape and that they are indeed matrices. \n",
    "\n",
    "Notice how you can see the dims of the layers that the matrices are sandwiched between?\n",
    "\n",
    "Input layer has 784 dims and hidden layer 1 has 500 nodes/dims. Given this understanding, the numbers you see in the shapes should make sense. "
   ]
  },
  {
   "cell_type": "code",
   "execution_count": 15,
   "metadata": {},
   "outputs": [
    {
     "data": {
      "text/plain": [
       "(784, 500)"
      ]
     },
     "execution_count": 15,
     "metadata": {},
     "output_type": "execute_result"
    }
   ],
   "source": [
    "# bewteen input and 1st hidden layer\n",
    "best_weights[0].shape"
   ]
  },
  {
   "cell_type": "code",
   "execution_count": 16,
   "metadata": {},
   "outputs": [
    {
     "data": {
      "text/plain": [
       "(500, 250)"
      ]
     },
     "execution_count": 16,
     "metadata": {},
     "output_type": "execute_result"
    }
   ],
   "source": [
    "# bewteen 1st and 2nd hidden layer\n",
    "best_weights[2].shape"
   ]
  },
  {
   "cell_type": "code",
   "execution_count": 17,
   "metadata": {},
   "outputs": [
    {
     "data": {
      "text/plain": [
       "(250, 64)"
      ]
     },
     "execution_count": 17,
     "metadata": {},
     "output_type": "execute_result"
    }
   ],
   "source": [
    "# bewteen 2st and 3nd hidden layer\n",
    "best_weights[4].shape"
   ]
  },
  {
   "cell_type": "code",
   "execution_count": 18,
   "metadata": {},
   "outputs": [
    {
     "data": {
      "text/plain": [
       "(64, 10)"
      ]
     },
     "execution_count": 18,
     "metadata": {},
     "output_type": "execute_result"
    }
   ],
   "source": [
    "# bewteen 3rd hidden layer and output layer\n",
    "best_weights[6].shape"
   ]
  },
  {
   "cell_type": "markdown",
   "metadata": {},
   "source": [
    "#### Index for the bias vectors\n",
    "\n",
    "The shapes of the bias vectors should exactly match up the dims/nodes of each layer (excluding the input layer). "
   ]
  },
  {
   "cell_type": "code",
   "execution_count": 19,
   "metadata": {},
   "outputs": [
    {
     "data": {
      "text/plain": [
       "(500,)"
      ]
     },
     "execution_count": 19,
     "metadata": {},
     "output_type": "execute_result"
    }
   ],
   "source": [
    "# for hidden layer 1 \n",
    "best_weights[1].shape"
   ]
  },
  {
   "cell_type": "code",
   "execution_count": 20,
   "metadata": {},
   "outputs": [
    {
     "data": {
      "text/plain": [
       "(250,)"
      ]
     },
     "execution_count": 20,
     "metadata": {},
     "output_type": "execute_result"
    }
   ],
   "source": [
    "# for hidden layer 2 \n",
    "best_weights[3].shape"
   ]
  },
  {
   "cell_type": "code",
   "execution_count": 21,
   "metadata": {},
   "outputs": [
    {
     "data": {
      "text/plain": [
       "(64,)"
      ]
     },
     "execution_count": 21,
     "metadata": {},
     "output_type": "execute_result"
    }
   ],
   "source": [
    "# for hidden layer 3\n",
    "best_weights[5].shape"
   ]
  },
  {
   "cell_type": "code",
   "execution_count": 22,
   "metadata": {},
   "outputs": [
    {
     "data": {
      "text/plain": [
       "(10,)"
      ]
     },
     "execution_count": 22,
     "metadata": {},
     "output_type": "execute_result"
    }
   ],
   "source": [
    "# for output layer\n",
    "best_weights[7].shape"
   ]
  },
  {
   "cell_type": "markdown",
   "metadata": {},
   "source": [
    "-----\n",
    "\n",
    "### Back to our Analysis of L2 space regularization (also known as Ridge)\n",
    "\n",
    "Let's do a comparison of the first weight matrix (between the input and 1st hidden layer) for the best and worse performing model as well as with the initial weight values that are randomly sampled from the GlorotUniform distribution.\n",
    "\n",
    "[**Check out the Keras docs for the Dense layer**](https://keras.io/api/layers/core_layers/dense/), you'll see that GlorotUniform is the default weight initializer. "
   ]
  },
  {
   "cell_type": "code",
   "execution_count": 57,
   "metadata": {
    "deletable": false,
    "nbgrader": {
     "cell_type": "code",
     "checksum": "caa9a1024b11f3eaa91fe681fc12e24d",
     "grade": false,
     "grade_id": "cell-7882876b8973bc7b",
     "locked": false,
     "schema_version": 3,
     "solution": true,
     "task": false
    }
   },
   "outputs": [
    {
     "data": {
      "text/plain": [
       "(array([-0.01606901, -0.02679181,  0.02426336, -0.03054488,  0.06010813,\n",
       "         0.00847639,  0.04432468,  0.00222912,  0.06458025, -0.02659167,\n",
       "        -0.01911775, -0.06805094,  0.03409774, -0.01453291, -0.05311164,\n",
       "         0.0355316 ,  0.04306341, -0.00556853, -0.05075184, -0.00778733,\n",
       "         0.04578814, -0.05389842, -0.00451566,  0.05129507, -0.06458536,\n",
       "        -0.00739988, -0.03723612, -0.04708482,  0.00027738, -0.03901782,\n",
       "        -0.04222614, -0.00167696, -0.0297684 , -0.04649799, -0.05093508,\n",
       "        -0.03883059,  0.05540918, -0.05406637,  0.03322663, -0.04780401,\n",
       "         0.03912754,  0.06786587,  0.03959326,  0.02708025, -0.06022679,\n",
       "         0.06335064,  0.01491412, -0.02648699, -0.03583862,  0.04735699,\n",
       "         0.02827991,  0.05443562, -0.05208803,  0.04705661,  0.005119  ,\n",
       "         0.05156058,  0.03861405,  0.06136893,  0.01887999,  0.01708997,\n",
       "        -0.01897579,  0.01287563,  0.04998903,  0.05614177,  0.02071899,\n",
       "        -0.05749273, -0.05565378,  0.00855172,  0.03100491,  0.06372482,\n",
       "         0.05671535, -0.00234538,  0.02521068, -0.01781318, -0.0390152 ,\n",
       "        -0.02283437, -0.03201772, -0.05300491, -0.00337297,  0.05577326,\n",
       "        -0.05292627,  0.04540913,  0.06803901, -0.05923504,  0.04045468,\n",
       "         0.04590656,  0.02647835,  0.03477595, -0.02857423, -0.04026758,\n",
       "         0.05758933, -0.06697532, -0.04872995,  0.05908277, -0.06078806,\n",
       "         0.02053844, -0.06256171,  0.00556828, -0.0101601 , -0.04759693,\n",
       "         0.00923472, -0.0595008 ,  0.03130802,  0.00397862, -0.05573326,\n",
       "         0.01629406,  0.05131098,  0.01206309,  0.0631061 ,  0.06037507,\n",
       "        -0.05970552, -0.03298848,  0.03702422,  0.02757789, -0.06627791,\n",
       "         0.05605751, -0.06716274,  0.03235446,  0.00258249,  0.02010037,\n",
       "        -0.03098918,  0.06134788,  0.05947994, -0.05026569,  0.00029679,\n",
       "        -0.04309428, -0.02082635, -0.03592743, -0.01379531,  0.03461792,\n",
       "        -0.01218815,  0.05036941, -0.01415745,  0.06439028,  0.05999013,\n",
       "        -0.04620501,  0.04131132,  0.06832243, -0.06419422,  0.06612801,\n",
       "         0.03556999, -0.04290402,  0.04095288,  0.06744645, -0.06783049,\n",
       "        -0.04004796,  0.01904128, -0.01636669, -0.05621756,  0.06577875,\n",
       "        -0.00299904, -0.04662282,  0.00622778,  0.0627157 , -0.01298515,\n",
       "         0.03816777,  0.05794577,  0.04164616, -0.03661827, -0.03970745,\n",
       "         0.03681178, -0.06164706, -0.05967705, -0.02156652, -0.06833891,\n",
       "        -0.02388487, -0.04308593, -0.01597503,  0.04422039, -0.02191107,\n",
       "         0.01754081, -0.04539187,  0.01811843, -0.01639997,  0.02429493,\n",
       "         0.05872305,  0.0240029 ,  0.01531294,  0.05552905, -0.02393049,\n",
       "         0.05482679,  0.00950538,  0.02665056,  0.06455503, -0.0447163 ,\n",
       "         0.0541575 , -0.0662247 ,  0.0441652 , -0.05999184, -0.06310306,\n",
       "        -0.06310591, -0.04906867, -0.03425991,  0.03045706, -0.00089309,\n",
       "        -0.0023805 , -0.06012439,  0.02496444, -0.03310171, -0.0670167 ,\n",
       "        -0.00688343, -0.06045537,  0.00252771, -0.06359906,  0.01903272,\n",
       "        -0.01412658, -0.04327445, -0.02767533, -0.04683321, -0.00920512,\n",
       "         0.01210637,  0.03765899,  0.00354239,  0.04814857, -0.0664639 ,\n",
       "         0.05810454, -0.01541777, -0.03850333,  0.05147415, -0.04325641,\n",
       "         0.03838269, -0.00663032,  0.02866752,  0.00463056, -0.01285912,\n",
       "         0.04087339, -0.05024445, -0.05747809,  0.02397235,  0.05772714,\n",
       "        -0.00586263, -0.04702404, -0.03564126, -0.00507571,  0.03536298,\n",
       "        -0.03684196, -0.01717407,  0.05081495, -0.04043122, -0.03886113,\n",
       "         0.0277029 ,  0.05470332, -0.05880859,  0.00945889, -0.03226238,\n",
       "        -0.01804583,  0.03132144,  0.06737087, -0.04452799, -0.02788406,\n",
       "        -0.04580629, -0.04754242,  0.0629295 , -0.06557304,  0.01338473,\n",
       "         0.00736789, -0.04088926, -0.01608537,  0.02759071,  0.06782102,\n",
       "        -0.04844769, -0.03207308,  0.06381353,  0.05719174,  0.00559828,\n",
       "         0.04286322,  0.0277852 , -0.05924   , -0.02749648, -0.02761577,\n",
       "        -0.02247417, -0.04310735,  0.06027351, -0.0492525 ,  0.01513705,\n",
       "         0.02474123, -0.05902345,  0.02451216,  0.05177856,  0.05094562,\n",
       "        -0.02409726,  0.05433029,  0.04934169, -0.04151779,  0.02306894,\n",
       "        -0.06547907,  0.04320129,  0.01213665,  0.03336643, -0.05190448,\n",
       "        -0.0188244 ,  0.0518747 ,  0.03390338, -0.00710133,  0.00626264,\n",
       "        -0.03307492,  0.02291147,  0.04943849,  0.03785181,  0.05896426,\n",
       "        -0.01729132,  0.02964338,  0.04394206,  0.05191918, -0.00451351,\n",
       "         0.02156968, -0.00784395, -0.06030127,  0.02583644, -0.02553551,\n",
       "        -0.06069485,  0.0467381 ,  0.01709473,  0.03829896,  0.01599954,\n",
       "         0.01433164,  0.05910597, -0.05708054, -0.02777136, -0.04501775,\n",
       "         0.06433418, -0.04788619, -0.0069774 ,  0.0313714 ,  0.0605431 ,\n",
       "         0.01338801, -0.02880293, -0.00944269,  0.0396465 , -0.01374402,\n",
       "         0.06729614, -0.06212951,  0.0091122 ,  0.04757811,  0.00362068,\n",
       "         0.00645772,  0.00976836, -0.01292101,  0.02317291, -0.01641666,\n",
       "        -0.0147895 ,  0.01411967,  0.04285698,  0.06765302, -0.02193647,\n",
       "        -0.0003861 , -0.04560531,  0.02595142, -0.05508078,  0.0131024 ,\n",
       "        -0.04823651, -0.06832222,  0.06652736,  0.04682956, -0.00483699,\n",
       "        -0.01120559,  0.03498507,  0.04570158,  0.00497463,  0.01709392,\n",
       "         0.05112339,  0.03618748,  0.04420544,  0.05752846,  0.04895178,\n",
       "        -0.05484711,  0.04563474,  0.02153019, -0.01213187,  0.00478595,\n",
       "        -0.00207866,  0.06192204,  0.06060571,  0.03128368,  0.03182168,\n",
       "        -0.02285425, -0.01375049,  0.06204929,  0.03213011, -0.01268436,\n",
       "         0.06686538, -0.05344746, -0.02431699,  0.04206049,  0.06383949,\n",
       "         0.04833378,  0.02913703,  0.00737633, -0.0492817 ,  0.05185583,\n",
       "        -0.0158889 ,  0.01453648,  0.04372872,  0.03199542, -0.06132725,\n",
       "        -0.05557127, -0.01828315,  0.04887932, -0.05798335,  0.05148261,\n",
       "         0.05005451,  0.02143506,  0.06483652,  0.03824564,  0.03892002,\n",
       "        -0.03642299,  0.0252839 , -0.0296417 , -0.0003261 ,  0.04344672,\n",
       "        -0.04249725, -0.05111701,  0.00048456,  0.05985046, -0.02338607,\n",
       "         0.04963881, -0.00524827, -0.02017571,  0.04371313, -0.00989914,\n",
       "        -0.0536816 ,  0.0473631 ,  0.05036332,  0.03487893, -0.05284608,\n",
       "         0.05052269,  0.00293335, -0.02511709,  0.0666158 , -0.00147087,\n",
       "         0.06216506,  0.06287878, -0.0681808 ,  0.04846355, -0.0299255 ,\n",
       "         0.03860807,  0.06594617,  0.03222095,  0.06533956, -0.05831911,\n",
       "        -0.06489696,  0.02472615, -0.00943655, -0.05258789, -0.036309  ,\n",
       "         0.01540894, -0.01917769,  0.01929294,  0.04071649,  0.06603713,\n",
       "        -0.06152349, -0.05855064, -0.05674825, -0.03417213, -0.04953088,\n",
       "        -0.05937871, -0.01039021, -0.03459349, -0.04370617,  0.02963414,\n",
       "         0.06815904, -0.06729855,  0.05762408,  0.0679876 , -0.00496765,\n",
       "        -0.05425134, -0.04350145,  0.05593296, -0.02188682, -0.04658247,\n",
       "         0.04634823,  0.02230044,  0.00773186,  0.06717245,  0.00308714,\n",
       "        -0.06631608, -0.04742388,  0.02504999,  0.06341793,  0.01376827,\n",
       "         0.06248327,  0.06631149, -0.03901859,  0.02433314,  0.04127721,\n",
       "         0.01033916,  0.04023283, -0.02494206,  0.00635464, -0.06386694,\n",
       "        -0.00311094,  0.03200266,  0.05208831, -0.02326481,  0.02538663,\n",
       "         0.05917352,  0.05275305, -0.03289572,  0.05487078,  0.02347387,\n",
       "        -0.05005628,  0.05945762, -0.05102649, -0.06704219,  0.04803119,\n",
       "        -0.05125785,  0.05321671, -0.05903719,  0.04288772,  0.04542606,\n",
       "        -0.03437028,  0.04154288,  0.06139226,  0.06503043,  0.01897382,\n",
       "         0.02847524, -0.06569388,  0.0451974 , -0.03673171, -0.03960686,\n",
       "         0.05714961, -0.00360429, -0.02703023,  0.04976241, -0.03762713,\n",
       "        -0.01569244,  0.01031563,  0.02863401, -0.06132805,  0.02892333,\n",
       "         0.01268182, -0.02781519,  0.0216424 ,  0.01768597, -0.01738198,\n",
       "        -0.0426924 , -0.06719953,  0.04824542, -0.02224676, -0.06612942,\n",
       "        -0.03536342,  0.05312105, -0.01164008,  0.03219292, -0.02278776,\n",
       "        -0.04560718,  0.0263876 , -0.06241979,  0.05369439, -0.00519737,\n",
       "         0.04164135, -0.06756358,  0.03319262, -0.00830299,  0.02879535,\n",
       "        -0.03867663,  0.05584075, -0.0512916 , -0.03686259,  0.03772513,\n",
       "        -0.05753469, -0.03698046, -0.00075922, -0.06492247,  0.02582978,\n",
       "         0.00602423, -0.00939282,  0.05372461, -0.0101291 , -0.0506529 ,\n",
       "         0.03457148,  0.03625709,  0.05588237, -0.05250901,  0.00656397,\n",
       "        -0.00446349, -0.05517728,  0.00084975, -0.01319675,  0.03494131,\n",
       "         0.0095227 , -0.00088782,  0.03667037, -0.03395817, -0.04503615,\n",
       "         0.0323135 , -0.05202952, -0.03873326, -0.03745753,  0.00497083,\n",
       "        -0.05221863,  0.03848188,  0.05084436, -0.04186978, -0.0322992 ,\n",
       "         0.00426143,  0.00753834, -0.06346686, -0.06590303,  0.05476375,\n",
       "         0.05854193,  0.03101813,  0.06244279,  0.02207714,  0.02678501,\n",
       "        -0.04458176,  0.04446188, -0.06085811, -0.00159379,  0.00724928,\n",
       "        -0.06791314,  0.06440526,  0.00748137,  0.03167042, -0.04515367,\n",
       "         0.03442411,  0.04340506, -0.04050497, -0.0640016 ,  0.04001468,\n",
       "        -0.05201709, -0.01572021, -0.03405561, -0.04288925,  0.02262983,\n",
       "        -0.04482087,  0.06748477, -0.06222797,  0.0266079 , -0.00281515,\n",
       "        -0.00772287,  0.03890504,  0.05953556, -0.00908623, -0.04914364,\n",
       "        -0.02935629,  0.04160217, -0.0517188 , -0.01974292,  0.06662314,\n",
       "         0.00275888, -0.04563999,  0.04348809,  0.03167376, -0.01147398,\n",
       "        -0.05205498, -0.05283324,  0.02867772, -0.03367517, -0.05695051,\n",
       "         0.0681453 ,  0.00417747,  0.05063598, -0.03041465, -0.01024553,\n",
       "        -0.00694873, -0.0403927 , -0.05109826, -0.06177378,  0.06549928,\n",
       "        -0.06285211, -0.01185898,  0.06669477,  0.0633047 , -0.0230054 ,\n",
       "        -0.05423754,  0.02664354, -0.06347362, -0.0127501 , -0.00751654,\n",
       "        -0.00099522,  0.03063429,  0.00226998, -0.0651212 , -0.04253609,\n",
       "         0.02614105, -0.04752842,  0.05784615, -0.03874662, -0.01634638,\n",
       "         0.05232579,  0.01558241,  0.05908527,  0.0375192 , -0.05614492,\n",
       "        -0.0333542 , -0.04253801,  0.02960902,  0.03787812,  0.01137987,\n",
       "         0.001309  ,  0.02082028,  0.02167128,  0.06001777, -0.03205184,\n",
       "         0.00630736, -0.05869974,  0.0483506 ,  0.02940539,  0.02874411,\n",
       "         0.02139819,  0.05320381, -0.06017805,  0.02515769,  0.06677704,\n",
       "        -0.04995064, -0.03306541, -0.01038076, -0.05229482,  0.06517964,\n",
       "         0.00363885, -0.02219896,  0.01615033, -0.01311906, -0.00212095,\n",
       "         0.00522832,  0.04941877, -0.03729126,  0.06054068,  0.04004449,\n",
       "         0.0446201 , -0.0468301 , -0.03525879,  0.02943428,  0.01557571,\n",
       "         0.03269545,  0.02394928, -0.05508202,  0.01213408, -0.02538622,\n",
       "         0.04717659,  0.00053781, -0.06680406,  0.03554267,  0.02373616,\n",
       "         0.0014253 , -0.05998847, -0.01916218, -0.03614279,  0.02259029,\n",
       "         0.02332664, -0.02683467, -0.04833385,  0.00872464, -0.0408612 ,\n",
       "        -0.01083823, -0.06203125,  0.03928149, -0.02132096,  0.04295324,\n",
       "        -0.0012929 , -0.00940767, -0.02504773, -0.03375604,  0.0655166 ,\n",
       "         0.06725033,  0.0288002 , -0.03610539, -0.04278473,  0.01974332,\n",
       "         0.06698594, -0.06494005, -0.03912349,  0.01496129, -0.05121629,\n",
       "        -0.0272789 ,  0.00047559, -0.05890033, -0.00221385, -0.05867754,\n",
       "         0.01536576,  0.06815293, -0.03641658, -0.0592672 ,  0.04366919,\n",
       "         0.02435624, -0.06404638, -0.01248869,  0.05797314,  0.05378102,\n",
       "         0.03697693, -0.00383851, -0.01347626,  0.02870357], dtype=float32),\n",
       " (784,),\n",
       " array([ 0.04225676,  0.08248918, -0.05188543,  0.05000354, -0.01401389,\n",
       "        -0.05038945, -0.00550017,  0.08530942,  0.08367802, -0.04946244,\n",
       "        -0.00390391,  0.01237956, -0.03458299,  0.05426465, -0.0144887 ,\n",
       "        -0.04014378,  0.02067915, -0.00902664,  0.05755775,  0.04539782,\n",
       "         0.07509173,  0.05108289,  0.03125129, -0.03421508,  0.07618853,\n",
       "         0.02212521,  0.01809362, -0.05210731,  0.03646112, -0.00515051,\n",
       "         0.06872776,  0.08025235, -0.0175729 ,  0.08241746,  0.00652631,\n",
       "        -0.02771863, -0.06154662,  0.04336341, -0.0255204 , -0.00239493,\n",
       "        -0.07664959, -0.01624235,  0.08614823,  0.00767895,  0.00591909,\n",
       "        -0.07532714, -0.00086845,  0.07434253, -0.003987  ,  0.0136476 ,\n",
       "         0.05740948, -0.03742301,  0.07635556,  0.02686686, -0.0366196 ,\n",
       "         0.06338313,  0.07979017,  0.03797166,  0.05389202, -0.03794813,\n",
       "        -0.00494084, -0.03403559, -0.02199777, -0.04592917, -0.05201837,\n",
       "        -0.04021104, -0.05694082,  0.08317132, -0.07027904, -0.07976422,\n",
       "        -0.04871043, -0.06844635,  0.07622917,  0.01469178,  0.02727044,\n",
       "        -0.01567397, -0.04864268,  0.06451975, -0.03402258,  0.02630645,\n",
       "        -0.06856489,  0.07046822,  0.02516011, -0.077855  , -0.04723025,\n",
       "         0.04698184,  0.07262576,  0.0124003 , -0.03754749,  0.0806836 ,\n",
       "         0.07054941,  0.02668108, -0.02672369, -0.02149905, -0.01659159,\n",
       "         0.06888345, -0.0329111 ,  0.02602414, -0.08530962,  0.02359334,\n",
       "        -0.06088242,  0.00734027,  0.03409683,  0.04526989, -0.0164695 ,\n",
       "        -0.0343209 , -0.02998227, -0.04206359, -0.00601416, -0.01135837,\n",
       "         0.01757903,  0.05045146,  0.00582225, -0.048719  , -0.0608132 ,\n",
       "        -0.03241847,  0.08597533,  0.08025242, -0.04656573, -0.02774268,\n",
       "        -0.08368675, -0.06949918,  0.05860049,  0.00427817,  0.04586038,\n",
       "        -0.00152903, -0.02092664, -0.04496001, -0.02911708,  0.00513594,\n",
       "        -0.07601101, -0.0030112 ,  0.01608543, -0.06808098,  0.07191367,\n",
       "         0.01167899,  0.07717884,  0.02645247, -0.00026634,  0.05836883,\n",
       "        -0.08230875,  0.05774455,  0.07177065,  0.04997635, -0.04609269,\n",
       "        -0.05410454, -0.0025785 ,  0.08515002, -0.03076454,  0.00972316,\n",
       "        -0.06174982,  0.00145824,  0.01209277,  0.06179264,  0.0420415 ,\n",
       "        -0.03204495,  0.03777726,  0.01449864,  0.02102098,  0.06107883,\n",
       "         0.00338529,  0.05257708, -0.06065735,  0.03855979, -0.0425607 ,\n",
       "        -0.07154632, -0.04043311,  0.0173343 ,  0.0440454 ,  0.01721393,\n",
       "        -0.04778016,  0.07885097,  0.00675214, -0.01762441, -0.01867396,\n",
       "        -0.01357599, -0.06867658, -0.04471797, -0.06338043,  0.0520439 ,\n",
       "        -0.01482018, -0.05090707,  0.08575121, -0.07981618,  0.0051294 ,\n",
       "         0.06894642, -0.06315316,  0.04401277,  0.02016285,  0.0182536 ,\n",
       "        -0.0660409 ,  0.08064082, -0.02643745,  0.00669565, -0.04556638,\n",
       "        -0.06973366, -0.00348662,  0.01722962,  0.0025141 ,  0.07175227,\n",
       "         0.05456327, -0.01556152, -0.0749405 ,  0.06645639, -0.01233701,\n",
       "         0.03010514, -0.04629811, -0.083072  , -0.00543013,  0.06141713,\n",
       "        -0.08728848,  0.0104779 ,  0.01669149,  0.04272521,  0.04804194,\n",
       "         0.00043699,  0.03879653, -0.02231795,  0.0535741 , -0.06933681,\n",
       "        -0.02664158,  0.06077124,  0.05935298, -0.08117498, -0.05160022,\n",
       "        -0.01477293, -0.00976543, -0.02666084, -0.02821711,  0.0054239 ,\n",
       "         0.04590651, -0.01234359, -0.00940227,  0.0075785 , -0.00021221,\n",
       "        -0.05218839,  0.0744518 , -0.07393476, -0.01117682, -0.05698362,\n",
       "        -0.00283149, -0.07186551, -0.03541375,  0.04792017,  0.01041897,\n",
       "        -0.02951549,  0.0009553 , -0.00547334,  0.03526536,  0.00817411,\n",
       "         0.08645162,  0.00770273,  0.06034848,  0.02801139,  0.05005738,\n",
       "         0.04488049,  0.01619209, -0.0146541 ,  0.05817375, -0.06536348,\n",
       "        -0.06395821, -0.0785703 , -0.05915204, -0.03184124,  0.0386523 ,\n",
       "        -0.04665652, -0.08316109,  0.0687013 , -0.00724197,  0.04601674,\n",
       "        -0.02839254, -0.02138709,  0.07058866,  0.04317798,  0.00664631,\n",
       "        -0.06885815,  0.0124794 ,  0.08491938, -0.08595401,  0.01385373,\n",
       "        -0.02824648, -0.0840707 , -0.00672769, -0.0649515 ,  0.06034869,\n",
       "         0.00164793, -0.00876473, -0.06077833,  0.05276158, -0.0320231 ,\n",
       "        -0.06503066, -0.04858649, -0.07350986, -0.02205394,  0.07125139,\n",
       "         0.07256965,  0.01691084,  0.04076883, -0.01964971,  0.02003901,\n",
       "         0.08380885,  0.02749687, -0.06621215,  0.02117664,  0.03229493,\n",
       "        -0.03104496, -0.05966659, -0.03475861,  0.02564123,  0.02599754,\n",
       "         0.01735183, -0.07193089, -0.0727507 ,  0.02770477,  0.0188423 ,\n",
       "        -0.01007205,  0.01149588,  0.03544141,  0.07608636, -0.0044341 ,\n",
       "         0.00937169,  0.06430915, -0.03112594, -0.05787714,  0.04380554,\n",
       "        -0.02416801, -0.07302897, -0.00927743, -0.04405236,  0.05135655,\n",
       "        -0.02781195,  0.02759442, -0.05894743, -0.05823119,  0.06592727,\n",
       "         0.07783633,  0.08412506,  0.06775671,  0.03754187, -0.03157561,\n",
       "        -0.00551128,  0.05850175, -0.03473107, -0.0216109 ,  0.02798683,\n",
       "         0.01139345,  0.08634505,  0.03427333, -0.00108966, -0.03411376,\n",
       "        -0.06386711, -0.05737503, -0.00279804,  0.07950446, -0.05458574,\n",
       "        -0.05895867,  0.0445365 ,  0.04412667,  0.06831302, -0.03365619,\n",
       "         0.05648115,  0.08574678, -0.01738472,  0.00093283,  0.05925344,\n",
       "        -0.02013969,  0.00128628,  0.04123771, -0.05781654, -0.02417275,\n",
       "         0.021645  , -0.05857109, -0.02610422, -0.04269321, -0.01440959,\n",
       "        -0.07416295,  0.02681588, -0.02727076, -0.03305034, -0.03628951,\n",
       "        -0.02487378,  0.06026612, -0.04347198, -0.07445453,  0.02394595,\n",
       "         0.02774975, -0.03756262,  0.00960741, -0.02547911, -0.08573513,\n",
       "         0.07042728,  0.04269798, -0.06732184, -0.02520064,  0.02381426,\n",
       "         0.03495056,  0.00047558, -0.01802611,  0.00520231, -0.08314416,\n",
       "         0.01321515,  0.05992496,  0.03435175,  0.04753166,  0.06102911,\n",
       "        -0.01338194,  0.05300714,  0.07318515,  0.04754521, -0.04651639,\n",
       "        -0.07264062,  0.08014974, -0.0144763 , -0.02179769, -0.03209785,\n",
       "        -0.07096241,  0.05246609, -0.04523157,  0.02336555,  0.03109352,\n",
       "        -0.03447767,  0.02591821, -0.04774008, -0.08088294,  0.05983075,\n",
       "        -0.03744479, -0.0409674 , -0.01544557, -0.02080128, -0.00587221,\n",
       "        -0.0216794 ,  0.04839751,  0.07510754,  0.05310069, -0.07368833,\n",
       "        -0.06712633,  0.00706695,  0.00801896, -0.05788693, -0.03252742,\n",
       "         0.0826128 , -0.07382815, -0.02234359,  0.05588064,  0.08715463,\n",
       "         0.01718351, -0.06097461,  0.05277644,  0.01539406,  0.04894969,\n",
       "        -0.07644844,  0.03690356,  0.07488097,  0.04022299, -0.04212191,\n",
       "        -0.07397851,  0.08660035,  0.07507277,  0.08250481, -0.05911275,\n",
       "        -0.00643594,  0.05434704,  0.06479307, -0.07701067, -0.0620954 ,\n",
       "         0.04428203, -0.02113266,  0.06520867,  0.06524007,  0.02719378,\n",
       "         0.00239035,  0.05035402, -0.07282142, -0.05488979,  0.05856369,\n",
       "        -0.01072717,  0.0641813 ,  0.04181607, -0.07865687,  0.00249163,\n",
       "        -0.06631147, -0.04289106, -0.07174383, -0.01304384, -0.07938803,\n",
       "         0.08359174,  0.05785304,  0.03081913,  0.08230495, -0.02348338,\n",
       "        -0.05967113,  0.07159577,  0.02820175, -0.03569179,  0.05979796,\n",
       "        -0.05618377,  0.03527921,  0.03427158,  0.03926168,  0.02508562,\n",
       "         0.04161188, -0.07046361,  0.05775364, -0.08715271,  0.04615943,\n",
       "        -0.03904128,  0.04154733,  0.07628381, -0.03228221,  0.0643979 ,\n",
       "        -0.02103338,  0.00343134, -0.06730346,  0.02016065,  0.08164346,\n",
       "        -0.00603194, -0.03841708, -0.01508121, -0.02464902, -0.04759892,\n",
       "        -0.06387706, -0.01590286, -0.01200674,  0.07084572, -0.00145881,\n",
       "         0.0347407 ,  0.05418393,  0.08136992, -0.05482191,  0.05823611,\n",
       "         0.07302044,  0.08211759,  0.05911586, -0.07481799, -0.07715183,\n",
       "         0.04475404,  0.04139566,  0.02496268, -0.02824886, -0.01238838,\n",
       "        -0.01588549, -0.00098736, -0.05322032,  0.00770772,  0.03709839,\n",
       "        -0.08413967, -0.04420206,  0.01084974, -0.04778054, -0.01175468,\n",
       "         0.03836092, -0.05554878,  0.06825197, -0.02920658, -0.08408748,\n",
       "        -0.01974082,  0.0277258 , -0.03689001, -0.04706671, -0.07815006,\n",
       "        -0.02560695, -0.01219825, -0.05032886,  0.048575  ,  0.06540702,\n",
       "         0.04622538, -0.00261971, -0.07842492,  0.08532394, -0.0354945 ,\n",
       "         0.02367146,  0.01363183, -0.01989119, -0.02189136, -0.05502001,\n",
       "        -0.03361823, -0.07329523, -0.07762951,  0.0712219 ,  0.02844969,\n",
       "         0.01024216, -0.05327336,  0.08549134, -0.06299283,  0.03601187,\n",
       "        -0.08033287, -0.01051671, -0.07837637, -0.08323931,  0.00442974,\n",
       "        -0.06730043,  0.00296085, -0.01789025,  0.05764492,  0.02962565,\n",
       "         0.01007036, -0.07269432,  0.02329995, -0.02806585, -0.05864839,\n",
       "        -0.08113694,  0.06159785,  0.07189222, -0.04480587,  0.04718156,\n",
       "         0.03550512,  0.08269583,  0.02180842,  0.01464853, -0.01573499,\n",
       "         0.00156115, -0.04311915,  0.0169792 , -0.02009381,  0.0405187 ,\n",
       "        -0.08347808,  0.08666694,  0.03144535, -0.05344783, -0.02098905,\n",
       "         0.07232589,  0.03937635,  0.0320798 , -0.07728173, -0.03360335,\n",
       "        -0.02822702, -0.07516183, -0.02902726, -0.08659545,  0.06025612,\n",
       "        -0.03182181, -0.06126633,  0.07610856, -0.03018008,  0.08370787,\n",
       "        -0.03384952, -0.0145525 , -0.00356718,  0.00975147, -0.00962223,\n",
       "        -0.0564898 , -0.00036836, -0.07688994, -0.06279496, -0.02943438,\n",
       "         0.0727966 ,  0.00468142,  0.05819601,  0.04437694,  0.0107688 ,\n",
       "        -0.03436653, -0.08409317, -0.08004309, -0.00563559, -0.08422065,\n",
       "         0.04118326,  0.08401208,  0.05532625, -0.0108424 ,  0.02646914,\n",
       "         0.00484738, -0.00341908, -0.03574052, -0.00766186,  0.03432669,\n",
       "        -0.05104233,  0.0085237 , -0.04434505, -0.08572281,  0.03946762,\n",
       "         0.03867324,  0.02511724,  0.05940436,  0.00622132,  0.05585065,\n",
       "        -0.02029765, -0.03114578,  0.07801905,  0.04838875, -0.08044591,\n",
       "        -0.01337826, -0.08612731, -0.05851206,  0.05119219, -0.02415863,\n",
       "         0.06912485,  0.02589168, -0.04250846,  0.06752047,  0.0233806 ,\n",
       "         0.07225315, -0.08309482, -0.02658009, -0.00080895, -0.05781988,\n",
       "         0.04353063, -0.05486443,  0.07026316, -0.06905971, -0.05416115,\n",
       "        -0.06045756,  0.04969537, -0.00107799,  0.0239106 , -0.0223417 ,\n",
       "        -0.06626421, -0.08673454, -0.00435171, -0.01958808,  0.07896434,\n",
       "        -0.05565235, -0.06744365,  0.02420021, -0.07593893,  0.02912018,\n",
       "        -0.07863364,  0.027216  , -0.02745183,  0.06320731, -0.0002109 ,\n",
       "        -0.07547642,  0.03888613,  0.08322076, -0.03164491, -0.08158686,\n",
       "         0.08177936,  0.08229882,  0.02768026,  0.00649101, -0.00491989,\n",
       "        -0.00082999,  0.075909  , -0.01626384,  0.061419  , -0.07093106,\n",
       "        -0.04197104,  0.03563364,  0.05990089,  0.04604892,  0.03450035,\n",
       "         0.02656711, -0.01401475, -0.03859605, -0.04311746, -0.02423806,\n",
       "         0.0644014 , -0.06408529, -0.01606332,  0.0129782 ,  0.07241423,\n",
       "         0.05102119,  0.012915  ,  0.02169601,  0.06193775,  0.02962321,\n",
       "         0.0622184 , -0.02471662,  0.02916435,  0.00395352, -0.02742375,\n",
       "         0.01584156, -0.03888003, -0.00399683,  0.05902891,  0.05856065,\n",
       "         0.0104419 , -0.0007605 ,  0.05129294,  0.07184184,  0.00934851,\n",
       "        -0.05554144,  0.03371757, -0.01319297, -0.07465309,  0.0793613 ,\n",
       "        -0.048851  ,  0.00275218, -0.08727282,  0.01333626, -0.04797411,\n",
       "         0.02797762, -0.01460897,  0.02306456,  0.01044947], dtype=float32))"
      ]
     },
     "execution_count": 57,
     "metadata": {},
     "output_type": "execute_result"
    }
   ],
   "source": [
    "# index for the 1st hidden layer weights in best_weights and save to best_hidden_weights\n",
    "\n",
    "# index for the 1st hidden layer weights in worse_weights and save to worse_hidden_weights\n",
    "\n",
    "# Keras models randomly samples from the GlorotUniform distribution for the initial values of model weights \n",
    "# instantiate GlorotUniform and sample 128 weights and save to initial_weight_values\n",
    "# hint: use shape=(1, 128)\n",
    "\n",
    "# YOUR CODE HERE\n",
    "\n",
    "best_hidden_weights = best_weights[0].T[0]\n",
    "\n",
    "worse_hidden_weights = worse_weights[0].T[0]\n",
    "\n",
    "\n",
    "# let's take 784 random samples form the GlorotUniform\n",
    "# because they are random samples their exact values might have been a little different for model and norm_model - but we will assume that they were not statistically different \n",
    "# 784 because that's how many weights are in the hidden layer for both of our models\n",
    "initializer = tf.keras.initializers.GlorotUniform(seed=1234)\n",
    "initial_weight_values = initializer(shape=(1, 784))[0].numpy()\n",
    "\n",
    "best_hidden_weights, worse_hidden_weights.shape, initial_weight_values"
   ]
  },
  {
   "cell_type": "code",
   "execution_count": 59,
   "metadata": {},
   "outputs": [],
   "source": [
    "# move all weights to a dataframe for ease of analysis \n",
    "cols = [\"best_hidden_weights\", \"worse_hidden_weights\", \"initial_weight_values\"]\n",
    "data = [best_hidden_weights, worse_hidden_weights, initial_weight_values]\n",
    "df = pd.DataFrame(data=data).T\n",
    "df.columns = cols\n"
   ]
  },
  {
   "cell_type": "code",
   "execution_count": 60,
   "metadata": {},
   "outputs": [
    {
     "data": {
      "text/html": [
       "<div>\n",
       "<style scoped>\n",
       "    .dataframe tbody tr th:only-of-type {\n",
       "        vertical-align: middle;\n",
       "    }\n",
       "\n",
       "    .dataframe tbody tr th {\n",
       "        vertical-align: top;\n",
       "    }\n",
       "\n",
       "    .dataframe thead th {\n",
       "        text-align: right;\n",
       "    }\n",
       "</style>\n",
       "<table border=\"1\" class=\"dataframe\">\n",
       "  <thead>\n",
       "    <tr style=\"text-align: right;\">\n",
       "      <th></th>\n",
       "      <th>best_hidden_weights</th>\n",
       "      <th>worse_hidden_weights</th>\n",
       "      <th>initial_weight_values</th>\n",
       "    </tr>\n",
       "  </thead>\n",
       "  <tbody>\n",
       "    <tr>\n",
       "      <th>count</th>\n",
       "      <td>784.000000</td>\n",
       "      <td>7.840000e+02</td>\n",
       "      <td>784.000000</td>\n",
       "    </tr>\n",
       "    <tr>\n",
       "      <th>mean</th>\n",
       "      <td>0.001495</td>\n",
       "      <td>8.486254e-07</td>\n",
       "      <td>0.000399</td>\n",
       "    </tr>\n",
       "    <tr>\n",
       "      <th>std</th>\n",
       "      <td>0.041896</td>\n",
       "      <td>1.219914e-05</td>\n",
       "      <td>0.049670</td>\n",
       "    </tr>\n",
       "    <tr>\n",
       "      <th>min</th>\n",
       "      <td>-0.068339</td>\n",
       "      <td>-1.121391e-04</td>\n",
       "      <td>-0.087288</td>\n",
       "    </tr>\n",
       "    <tr>\n",
       "      <th>25%</th>\n",
       "      <td>-0.037333</td>\n",
       "      <td>-1.067744e-14</td>\n",
       "      <td>-0.040161</td>\n",
       "    </tr>\n",
       "    <tr>\n",
       "      <th>50%</th>\n",
       "      <td>0.003010</td>\n",
       "      <td>-9.079396e-16</td>\n",
       "      <td>-0.000564</td>\n",
       "    </tr>\n",
       "    <tr>\n",
       "      <th>75%</th>\n",
       "      <td>0.038687</td>\n",
       "      <td>5.641669e-15</td>\n",
       "      <td>0.043224</td>\n",
       "    </tr>\n",
       "    <tr>\n",
       "      <th>max</th>\n",
       "      <td>0.068322</td>\n",
       "      <td>1.741163e-04</td>\n",
       "      <td>0.087155</td>\n",
       "    </tr>\n",
       "  </tbody>\n",
       "</table>\n",
       "</div>"
      ],
      "text/plain": [
       "       best_hidden_weights  worse_hidden_weights  initial_weight_values\n",
       "count           784.000000          7.840000e+02             784.000000\n",
       "mean              0.001495          8.486254e-07               0.000399\n",
       "std               0.041896          1.219914e-05               0.049670\n",
       "min              -0.068339         -1.121391e-04              -0.087288\n",
       "25%              -0.037333         -1.067744e-14              -0.040161\n",
       "50%               0.003010         -9.079396e-16              -0.000564\n",
       "75%               0.038687          5.641669e-15               0.043224\n",
       "max               0.068322          1.741163e-04               0.087155"
      ]
     },
     "metadata": {},
     "output_type": "display_data"
    },
    {
     "data": {
      "text/html": [
       "<div>\n",
       "<style scoped>\n",
       "    .dataframe tbody tr th:only-of-type {\n",
       "        vertical-align: middle;\n",
       "    }\n",
       "\n",
       "    .dataframe tbody tr th {\n",
       "        vertical-align: top;\n",
       "    }\n",
       "\n",
       "    .dataframe thead th {\n",
       "        text-align: right;\n",
       "    }\n",
       "</style>\n",
       "<table border=\"1\" class=\"dataframe\">\n",
       "  <thead>\n",
       "    <tr style=\"text-align: right;\">\n",
       "      <th></th>\n",
       "      <th>best_hidden_weights</th>\n",
       "      <th>worse_hidden_weights</th>\n",
       "      <th>initial_weight_values</th>\n",
       "    </tr>\n",
       "  </thead>\n",
       "  <tbody>\n",
       "    <tr>\n",
       "      <th>0</th>\n",
       "      <td>-0.016069</td>\n",
       "      <td>-2.156732e-19</td>\n",
       "      <td>0.042257</td>\n",
       "    </tr>\n",
       "    <tr>\n",
       "      <th>1</th>\n",
       "      <td>-0.026792</td>\n",
       "      <td>-2.370333e-18</td>\n",
       "      <td>0.082489</td>\n",
       "    </tr>\n",
       "    <tr>\n",
       "      <th>2</th>\n",
       "      <td>0.024263</td>\n",
       "      <td>-3.410808e-17</td>\n",
       "      <td>-0.051885</td>\n",
       "    </tr>\n",
       "    <tr>\n",
       "      <th>3</th>\n",
       "      <td>-0.030545</td>\n",
       "      <td>-7.483028e-17</td>\n",
       "      <td>0.050004</td>\n",
       "    </tr>\n",
       "    <tr>\n",
       "      <th>4</th>\n",
       "      <td>0.060108</td>\n",
       "      <td>-5.530728e-17</td>\n",
       "      <td>-0.014014</td>\n",
       "    </tr>\n",
       "  </tbody>\n",
       "</table>\n",
       "</div>"
      ],
      "text/plain": [
       "   best_hidden_weights  worse_hidden_weights  initial_weight_values\n",
       "0            -0.016069         -2.156732e-19               0.042257\n",
       "1            -0.026792         -2.370333e-18               0.082489\n",
       "2             0.024263         -3.410808e-17              -0.051885\n",
       "3            -0.030545         -7.483028e-17               0.050004\n",
       "4             0.060108         -5.530728e-17              -0.014014"
      ]
     },
     "execution_count": 60,
     "metadata": {},
     "output_type": "execute_result"
    }
   ],
   "source": [
    "# check out the statistics for each weight column \n",
    "display(df.describe())\n",
    "df.head()"
   ]
  },
  {
   "cell_type": "code",
   "execution_count": 61,
   "metadata": {},
   "outputs": [
    {
     "data": {
      "image/png": "[encoded data removed]",
      "text/plain": [
       "<Figure size 1440x864 with 4 Axes>"
      ]
     },
     "metadata": {
      "needs_background": "light"
     },
     "output_type": "display_data"
    }
   ],
   "source": [
    "# plot the distributions for each weight column \n",
    "df.hist(figsize=(20,12));"
   ]
  },
  {
   "cell_type": "markdown",
   "metadata": {},
   "source": [
    "## Observations \n",
    "\n",
    "Take a look at the statistical table and the plots. Then answer the following questions. \n",
    "\n",
    "**How do the hidden layer weights from the best performing model compare to the initial weight values?**"
   ]
  },
  {
   "cell_type": "markdown",
   "metadata": {
    "deletable": false,
    "nbgrader": {
     "cell_type": "markdown",
     "checksum": "5eacb66f89b216ae3b4bb3c4b7bd6d38",
     "grade": true,
     "grade_id": "cell-6add7cc400c4c716",
     "locked": false,
     "points": 0,
     "schema_version": 3,
     "solution": true,
     "task": false
    }
   },
   "source": [
    "YOUR ANSWER HERE"
   ]
  },
  {
   "cell_type": "markdown",
   "metadata": {},
   "source": [
    "**What was the effect of using a small l2 penalty value?**"
   ]
  },
  {
   "cell_type": "markdown",
   "metadata": {
    "deletable": false,
    "nbgrader": {
     "cell_type": "markdown",
     "checksum": "92ac1689b72d727ab7f4d261c5e76daa",
     "grade": true,
     "grade_id": "cell-5b4f11bba2d49639",
     "locked": false,
     "points": 0,
     "schema_version": 3,
     "solution": true,
     "task": false
    }
   },
   "source": [
    "YOUR ANSWER HERE"
   ]
  },
  {
   "cell_type": "markdown",
   "metadata": {},
   "source": [
    "**What was the effect of using a large l2 penalty value?**"
   ]
  },
  {
   "cell_type": "markdown",
   "metadata": {
    "deletable": false,
    "nbgrader": {
     "cell_type": "markdown",
     "checksum": "3048a6d2805f61d6fb58372c42c3ac54",
     "grade": true,
     "grade_id": "cell-0a30b62e5e119555",
     "locked": false,
     "points": 0,
     "schema_version": 3,
     "solution": true,
     "task": false
    }
   },
   "source": [
    "YOUR ANSWER HERE"
   ]
  },
  {
   "cell_type": "markdown",
   "metadata": {},
   "source": [
    "**Given what you know about L2 regularization, are you surprised by these results?**"
   ]
  },
  {
   "cell_type": "markdown",
   "metadata": {
    "deletable": false,
    "nbgrader": {
     "cell_type": "markdown",
     "checksum": "d8a2034f67badfe53f601873f7026dc0",
     "grade": true,
     "grade_id": "cell-c04d067161064011",
     "locked": false,
     "points": 0,
     "schema_version": 3,
     "solution": true,
     "task": false
    }
   },
   "source": [
    "YOUR ANSWER HERE"
   ]
  },
  {
   "cell_type": "markdown",
   "metadata": {},
   "source": [
    "----\n",
    "\n",
    "# Experiment 2: Identify the relationship between model performance and Max Norm Weight Constraint\n",
    "\n",
    "![](https://qph.fs.quoracdn.net/main-qimg-9d0dbf8074761b541ba80543ddfc9f73.webp)\n",
    "\n",
    "Recall from lecture that the **Norm** of a vector is just another word for the **length** of a vector.\n",
    "\n",
    "MaxNorm weight constraint puts a limit on the length of a weight vector.\n",
    "\n",
    "$$ \\text{Max_value_of_norm} >= {\\displaystyle \\left\\|x\\right\\|_{p}=\\left(|x_{1}|^{p}+|x_{2}|^{p}+\\dotsb +|x_{n}|^{p}\\right)^{1/p}.}$$  \n",
    "\n",
    "The effect that Lp regularization and Max Norm Weight Constraint have on the weights should be the same, but they go about it in different ways. \n",
    "\n",
    "Lp regularization (l1/Lasso and l2/Ridge) shrink the value of the weights. Where as Max Norm Weight Constraint puts a limit on how big the weight vector can be which, in effect, keeps the individual weight values small enough to keep the norm below that limit. \n",
    "\n",
    "In this experiment, we are going to run another gridseach but instead of using Lp space regularization as we did in the previous experiment, we are going to use MaxNorm and see what kind of effect that this type of regularization has on model performance and the learned weights. "
   ]
  },
  {
   "cell_type": "markdown",
   "metadata": {},
   "source": [
    "Since we already built our model, we just need to update the `hyper_parameters` dictionary. "
   ]
  },
  {
   "cell_type": "code",
   "execution_count": 64,
   "metadata": {},
   "outputs": [
    {
     "data": {
      "text/plain": [
       "{'maxnorm_wc': array([ 0.5,  1. ,  1.5,  2. ,  2.5,  3. ,  3.5,  4. ,  4.5,  5. ,  5.5,\n",
       "         6. ,  6.5,  7. ,  7.5,  8. ,  8.5,  9. ,  9.5, 10. ]),\n",
       " 'epochs': [3]}"
      ]
     },
     "execution_count": 64,
     "metadata": {},
     "output_type": "execute_result"
    }
   ],
   "source": [
    "# remember to wrap KerasClassifier around build_model for sklearn's GridsearchCV compatibility \n",
    "model = KerasClassifier(build_fn = build_complex_model)\n",
    "\n",
    "# build out our hyperparameter dictionary \n",
    "hyper_parameters = {\n",
    "    \n",
    "    \"maxnorm_wc\": np.linspace(0.5, 10.0, num=20), \n",
    "    # default is 1, in order to change it we must provide value here because we can't provide a parameter value for model.fit() directly when using gridsearch\n",
    "    # protip: consider changing epochs to 1 if the gridsearche run-time are too long for you    \n",
    "    \"epochs\": [3] \n",
    "}\n",
    "\n",
    "hyper_parameters"
   ]
  },
  {
   "cell_type": "code",
   "execution_count": 65,
   "metadata": {},
   "outputs": [
    {
     "name": "stdout",
     "output_type": "stream",
     "text": [
      "Fitting 3 folds for each of 20 candidates, totalling 60 fits\n"
     ]
    },
    {
     "ename": "RuntimeError",
     "evalue": "Cannot clone object <tensorflow.python.keras.wrappers.scikit_learn.KerasClassifier object at 0x7f8b114d6f28>, as the constructor either does not set or modifies parameter maxnorm_wc",
     "output_type": "error",
     "traceback": [
      "\u001b[0;31m---------------------------------------------------------------------------\u001b[0m",
      "\u001b[0;31mRuntimeError\u001b[0m                              Traceback (most recent call last)",
      "\u001b[0;32m<ipython-input-65-d1287c93e10c>\u001b[0m in \u001b[0;36m<module>\u001b[0;34m\u001b[0m\n\u001b[1;32m      7\u001b[0m                     cv=3)\n\u001b[1;32m      8\u001b[0m \u001b[0;34m\u001b[0m\u001b[0m\n\u001b[0;32m----> 9\u001b[0;31m \u001b[0mgrid_result\u001b[0m \u001b[0;34m=\u001b[0m \u001b[0mgrid\u001b[0m\u001b[0;34m.\u001b[0m\u001b[0mfit\u001b[0m\u001b[0;34m(\u001b[0m\u001b[0mX_train\u001b[0m\u001b[0;34m,\u001b[0m \u001b[0my_train\u001b[0m\u001b[0;34m)\u001b[0m\u001b[0;34m\u001b[0m\u001b[0m\n\u001b[0m\u001b[1;32m     10\u001b[0m \u001b[0mend\u001b[0m\u001b[0;34m=\u001b[0m\u001b[0mtime\u001b[0m\u001b[0;34m(\u001b[0m\u001b[0;34m)\u001b[0m\u001b[0;34m\u001b[0m\u001b[0m\n",
      "\u001b[0;32m/opt/anaconda3/envs/U4-S2-NN/lib/python3.7/site-packages/sklearn/utils/validation.py\u001b[0m in \u001b[0;36minner_f\u001b[0;34m(*args, **kwargs)\u001b[0m\n\u001b[1;32m     61\u001b[0m             \u001b[0mextra_args\u001b[0m \u001b[0;34m=\u001b[0m \u001b[0mlen\u001b[0m\u001b[0;34m(\u001b[0m\u001b[0margs\u001b[0m\u001b[0;34m)\u001b[0m \u001b[0;34m-\u001b[0m \u001b[0mlen\u001b[0m\u001b[0;34m(\u001b[0m\u001b[0mall_args\u001b[0m\u001b[0;34m)\u001b[0m\u001b[0;34m\u001b[0m\u001b[0m\n\u001b[1;32m     62\u001b[0m             \u001b[0;32mif\u001b[0m \u001b[0mextra_args\u001b[0m \u001b[0;34m<=\u001b[0m \u001b[0;36m0\u001b[0m\u001b[0;34m:\u001b[0m\u001b[0;34m\u001b[0m\u001b[0m\n\u001b[0;32m---> 63\u001b[0;31m                 \u001b[0;32mreturn\u001b[0m \u001b[0mf\u001b[0m\u001b[0;34m(\u001b[0m\u001b[0;34m*\u001b[0m\u001b[0margs\u001b[0m\u001b[0;34m,\u001b[0m \u001b[0;34m**\u001b[0m\u001b[0mkwargs\u001b[0m\u001b[0;34m)\u001b[0m\u001b[0;34m\u001b[0m\u001b[0m\n\u001b[0m\u001b[1;32m     64\u001b[0m \u001b[0;34m\u001b[0m\u001b[0m\n\u001b[1;32m     65\u001b[0m             \u001b[0;31m# extra_args > 0\u001b[0m\u001b[0;34m\u001b[0m\u001b[0;34m\u001b[0m\u001b[0m\n",
      "\u001b[0;32m/opt/anaconda3/envs/U4-S2-NN/lib/python3.7/site-packages/sklearn/model_selection/_search.py\u001b[0m in \u001b[0;36mfit\u001b[0;34m(self, X, y, groups, **fit_params)\u001b[0m\n\u001b[1;32m    875\u001b[0m             \u001b[0;31m# of the params are estimators as well.\u001b[0m\u001b[0;34m\u001b[0m\u001b[0;34m\u001b[0m\u001b[0m\n\u001b[1;32m    876\u001b[0m             self.best_estimator_ = clone(clone(base_estimator).set_params(\n\u001b[0;32m--> 877\u001b[0;31m                 **self.best_params_))\n\u001b[0m\u001b[1;32m    878\u001b[0m             \u001b[0mrefit_start_time\u001b[0m \u001b[0;34m=\u001b[0m \u001b[0mtime\u001b[0m\u001b[0;34m.\u001b[0m\u001b[0mtime\u001b[0m\u001b[0;34m(\u001b[0m\u001b[0;34m)\u001b[0m\u001b[0;34m\u001b[0m\u001b[0m\n\u001b[1;32m    879\u001b[0m             \u001b[0;32mif\u001b[0m \u001b[0my\u001b[0m \u001b[0;32mis\u001b[0m \u001b[0;32mnot\u001b[0m \u001b[0;32mNone\u001b[0m\u001b[0;34m:\u001b[0m\u001b[0;34m\u001b[0m\u001b[0m\n",
      "\u001b[0;32m/opt/anaconda3/envs/U4-S2-NN/lib/python3.7/site-packages/sklearn/utils/validation.py\u001b[0m in \u001b[0;36minner_f\u001b[0;34m(*args, **kwargs)\u001b[0m\n\u001b[1;32m     61\u001b[0m             \u001b[0mextra_args\u001b[0m \u001b[0;34m=\u001b[0m \u001b[0mlen\u001b[0m\u001b[0;34m(\u001b[0m\u001b[0margs\u001b[0m\u001b[0;34m)\u001b[0m \u001b[0;34m-\u001b[0m \u001b[0mlen\u001b[0m\u001b[0;34m(\u001b[0m\u001b[0mall_args\u001b[0m\u001b[0;34m)\u001b[0m\u001b[0;34m\u001b[0m\u001b[0m\n\u001b[1;32m     62\u001b[0m             \u001b[0;32mif\u001b[0m \u001b[0mextra_args\u001b[0m \u001b[0;34m<=\u001b[0m \u001b[0;36m0\u001b[0m\u001b[0;34m:\u001b[0m\u001b[0;34m\u001b[0m\u001b[0m\n\u001b[0;32m---> 63\u001b[0;31m                 \u001b[0;32mreturn\u001b[0m \u001b[0mf\u001b[0m\u001b[0;34m(\u001b[0m\u001b[0;34m*\u001b[0m\u001b[0margs\u001b[0m\u001b[0;34m,\u001b[0m \u001b[0;34m**\u001b[0m\u001b[0mkwargs\u001b[0m\u001b[0;34m)\u001b[0m\u001b[0;34m\u001b[0m\u001b[0m\n\u001b[0m\u001b[1;32m     64\u001b[0m \u001b[0;34m\u001b[0m\u001b[0m\n\u001b[1;32m     65\u001b[0m             \u001b[0;31m# extra_args > 0\u001b[0m\u001b[0;34m\u001b[0m\u001b[0;34m\u001b[0m\u001b[0m\n",
      "\u001b[0;32m/opt/anaconda3/envs/U4-S2-NN/lib/python3.7/site-packages/sklearn/base.py\u001b[0m in \u001b[0;36mclone\u001b[0;34m(estimator, safe)\u001b[0m\n\u001b[1;32m     85\u001b[0m             raise RuntimeError('Cannot clone object %s, as the constructor '\n\u001b[1;32m     86\u001b[0m                                \u001b[0;34m'either does not set or modifies parameter %s'\u001b[0m \u001b[0;34m%\u001b[0m\u001b[0;34m\u001b[0m\u001b[0m\n\u001b[0;32m---> 87\u001b[0;31m                                (estimator, name))\n\u001b[0m\u001b[1;32m     88\u001b[0m     \u001b[0;32mreturn\u001b[0m \u001b[0mnew_object\u001b[0m\u001b[0;34m\u001b[0m\u001b[0m\n\u001b[1;32m     89\u001b[0m \u001b[0;34m\u001b[0m\u001b[0m\n",
      "\u001b[0;31mRuntimeError\u001b[0m: Cannot clone object <tensorflow.python.keras.wrappers.scikit_learn.KerasClassifier object at 0x7f8b114d6f28>, as the constructor either does not set or modifies parameter maxnorm_wc"
     ]
    }
   ],
   "source": [
    "start=time()\n",
    "# Create and run Grid Search\n",
    "grid = GridSearchCV(estimator=model, \n",
    "                    param_grid=hyper_parameters, \n",
    "                    n_jobs=-2, \n",
    "                    verbose=1, \n",
    "                    cv=3)\n",
    "\n",
    "grid_result = grid.fit(X_train, y_train)\n",
    "end=time()"
   ]
  },
  {
   "cell_type": "code",
   "execution_count": null,
   "metadata": {},
   "outputs": [],
   "source": [
    "print(\"Gridsearch runtime {0:.3} mins\".format( (end-start)/60 ))"
   ]
  },
  {
   "cell_type": "code",
   "execution_count": null,
   "metadata": {},
   "outputs": [],
   "source": [
    "# use the mean accuracy from the CV splits for determining best model score \n",
    "means = grid.cv_results_['mean_test_score']\n",
    "stds = grid.cv_results_['std_test_score']\n",
    "params = grid.cv_results_['params']\n",
    "\n",
    "# move l2 penalty values outside of dictionary and into a list\n",
    "param_values = [dic[\"maxnorm_wc\"] for dic in params]\n",
    "\n",
    "# plot accuracy vs l2_reg_penalty\n",
    "plt.figure(figsize=(20,6))\n",
    "plt.grid()\n",
    "plt.errorbar(param_values, means, yerr=stds, ecolor=\"orange\")\n",
    "plt.title(\"L1 Regularization: Model Accuracy vs L1 Penalty Strength\")\n",
    "plt.ylabel(\"Validation Accuracy\", )\n",
    "plt.xlabel(\"Max Norm for Weight Vector \");"
   ]
  },
  {
   "cell_type": "code",
   "execution_count": null,
   "metadata": {
    "deletable": false,
    "nbgrader": {
     "cell_type": "code",
     "checksum": "cfe7bd54a7a14ba7ee63c88d6d1828b4",
     "grade": false,
     "grade_id": "cell-f67372e0b9b30614",
     "locked": false,
     "schema_version": 3,
     "solution": true,
     "task": false
    }
   },
   "outputs": [],
   "source": [
    "# get the best l2 penalty term from grid and save to best_max_norm_val\n",
    "\n",
    "# get the best trained model from grid and save to best_model\n",
    "\n",
    "# get the weights from the best trained model and save to best_weights\n",
    "\n",
    "# YOUR CODE HERE\n",
    "raise NotImplementedError()"
   ]
  },
  {
   "cell_type": "code",
   "execution_count": null,
   "metadata": {},
   "outputs": [],
   "source": [
    "best_max_norm_val"
   ]
  },
  {
   "cell_type": "code",
   "execution_count": null,
   "metadata": {},
   "outputs": [],
   "source": [
    "# we see that the norm of our weights are indeed below the maximum allowed value \n",
    "np.linalg.norm(best_weights[0][0])"
   ]
  },
  {
   "cell_type": "code",
   "execution_count": null,
   "metadata": {
    "deletable": false,
    "nbgrader": {
     "cell_type": "code",
     "checksum": "67f65bd636e3b3b3bc7d20c02ba6b666",
     "grade": false,
     "grade_id": "cell-e752c1a8c853985d",
     "locked": false,
     "schema_version": 3,
     "solution": true,
     "task": false
    }
   },
   "outputs": [],
   "source": [
    "# train a model using the max_norm_val value that scored the lowest \n",
    "\n",
    "# build a model using build_complex_model and worse_max_norm_val and save it to worse_model\n",
    "\n",
    "# fit model \n",
    "\n",
    "# get weights from worse performing model \n",
    "\n",
    "\n",
    "# YOUR CODE HERE\n",
    "raise NotImplementedError()"
   ]
  },
  {
   "cell_type": "code",
   "execution_count": null,
   "metadata": {
    "deletable": false,
    "nbgrader": {
     "cell_type": "code",
     "checksum": "a38d5d4db707124b31a662fb4743b049",
     "grade": false,
     "grade_id": "cell-5c1aa4543e68487d",
     "locked": false,
     "schema_version": 3,
     "solution": true,
     "task": false
    }
   },
   "outputs": [],
   "source": [
    "# YOUR CODE HERE\n",
    "raise NotImplementedError()"
   ]
  },
  {
   "cell_type": "code",
   "execution_count": null,
   "metadata": {},
   "outputs": [],
   "source": [
    "# move all weights to a dataframe for ease of analysis \n",
    "cols = [\"best_hidden_weights\", \"worse_hidden_weights\", \"initial_weight_values\"]\n",
    "data = [best_hidden_weights, worse_hidden_weights, initial_weight_values]\n",
    "df_maxnorm= pd.DataFrame(data=data).T\n",
    "df_maxnorm.columns = cols"
   ]
  },
  {
   "cell_type": "code",
   "execution_count": null,
   "metadata": {},
   "outputs": [],
   "source": [
    "df_maxnorm.describe()"
   ]
  },
  {
   "cell_type": "code",
   "execution_count": null,
   "metadata": {},
   "outputs": [],
   "source": [
    "# plot the distributions for each weight column \n",
    "df_maxnorm.hist(figsize=(20,12));"
   ]
  },
  {
   "cell_type": "markdown",
   "metadata": {},
   "source": [
    "## Observations \n",
    "\n",
    "Take a look at the statistical table and the plots. Then answer the following questions. \n",
    "\n",
    "**How do the hidden layer weights from the best performing model compare to the initial weight values?**"
   ]
  },
  {
   "cell_type": "markdown",
   "metadata": {
    "deletable": false,
    "nbgrader": {
     "cell_type": "markdown",
     "checksum": "f43fe1110cdcea8d1e4b432fe78d4e49",
     "grade": true,
     "grade_id": "cell-40a44d19694941b8",
     "locked": false,
     "points": 0,
     "schema_version": 3,
     "solution": true,
     "task": false
    }
   },
   "source": [
    "YOUR ANSWER HERE"
   ]
  },
  {
   "cell_type": "markdown",
   "metadata": {},
   "source": [
    "**What was the effect of using the weight constraint value in MaxNorm in the best performing model?**"
   ]
  },
  {
   "cell_type": "markdown",
   "metadata": {
    "deletable": false,
    "nbgrader": {
     "cell_type": "markdown",
     "checksum": "b1c59c58a5abdbc0b509983821198dba",
     "grade": true,
     "grade_id": "cell-4f9e1e134124e512",
     "locked": false,
     "points": 0,
     "schema_version": 3,
     "solution": true,
     "task": false
    }
   },
   "source": [
    "YOUR ANSWER HERE"
   ]
  },
  {
   "cell_type": "markdown",
   "metadata": {},
   "source": [
    "**What was the effect of using the weight constraint value in MaxNorm in the worse performing model?**"
   ]
  },
  {
   "cell_type": "markdown",
   "metadata": {
    "deletable": false,
    "nbgrader": {
     "cell_type": "markdown",
     "checksum": "0062b4ddfad487c39633c37f4710b752",
     "grade": true,
     "grade_id": "cell-4c289ce70c34048a",
     "locked": false,
     "points": 0,
     "schema_version": 3,
     "solution": true,
     "task": false
    }
   },
   "source": [
    "YOUR ANSWER HERE"
   ]
  },
  {
   "cell_type": "markdown",
   "metadata": {},
   "source": [
    "**Given what you know about MaxNorm regularization, are you surprised by these results?**"
   ]
  },
  {
   "cell_type": "markdown",
   "metadata": {
    "deletable": false,
    "nbgrader": {
     "cell_type": "markdown",
     "checksum": "3c36931d3532a8cbcb4ea0c956378728",
     "grade": true,
     "grade_id": "cell-77366a912217da5d",
     "locked": false,
     "points": 0,
     "schema_version": 3,
     "solution": true,
     "task": false
    }
   },
   "source": [
    "YOUR ANSWER HERE"
   ]
  },
  {
   "cell_type": "markdown",
   "metadata": {},
   "source": [
    "-----\n",
    "# Experiment 3: Identify the relationship between model performance and Dropout\n",
    "\n",
    "\n",
    "![](https://miro.medium.com/max/981/1*EinUlWw1n8vbcLyT0zx4gw.png)\n",
    "\n",
    "In the 3rd and final experiment, we will use gridsearch to see how model performance is affect by varying the value of the the dropout probability. \n",
    "\n",
    "Recall from lecture that dropout tends to perform best when used with weight constraint. Since this is the case, we will gridsearch both dropout probability and the weight constraint for MaxNorm. \n",
    "\n",
    "If interested, feel free to read through the original publication on [**Drop Out**](https://jmlr.org/papers/volume15/srivastava14a.old/srivastava14a.pdf). \n",
    "\n",
    "**Key Take aways:** \n",
    "\n",
    "1. During training, dropout will probabilistically \"turn off\" some neurons in the layer that dropout is implemented in. \n",
    "2. During inference (ie. making predictions on the test set) all neurons are used (i.e. no dropout is applied).\n",
    "3. Dropout works best when used with MaxNorm\n"
   ]
  },
  {
   "cell_type": "code",
   "execution_count": null,
   "metadata": {},
   "outputs": [],
   "source": [
    "# build out our hyperparameter dictionary \n",
    "hyper_parameters = {\n",
    "    # for the sake of runtime, let's vary maxnorm_wc between 0.5 and 5.0\n",
    "    \"maxnorm_wc\": np.linspace(0.5, 5, num=10),\n",
    "    # take note that l1_reg_penalty values are in powers of 10 \n",
    "    \"dropout_prob\": np.linspace(0.0, 0.6, num=7), \n",
    "    \"epochs\": [1] # default is 1, in order to change it we must provide value here because we can provide a parameter value for model.fit() directly when using gridsearch\n",
    "}\n",
    "\n",
    "hyper_parameters"
   ]
  },
  {
   "cell_type": "code",
   "execution_count": null,
   "metadata": {},
   "outputs": [],
   "source": [
    "start=time()\n",
    "# Create and run Grid Search\n",
    "grid = GridSearchCV(estimator=model, \n",
    "                    param_grid=hyper_parameters, \n",
    "                    n_jobs=-2, \n",
    "                    verbose=1, \n",
    "                    cv=3)\n",
    "\n",
    "grid_result = grid.fit(X_train, y_train)\n",
    "end=time()"
   ]
  },
  {
   "cell_type": "code",
   "execution_count": null,
   "metadata": {},
   "outputs": [],
   "source": [
    "print(\"Gridsearch runtime {0:.3} mins\".format( (end-start)/60 ))"
   ]
  },
  {
   "cell_type": "code",
   "execution_count": null,
   "metadata": {},
   "outputs": [],
   "source": [
    "# use the mean accuracy from the CV splits for determining best model score \n",
    "means = grid.cv_results_['mean_test_score']\n",
    "stds = grid.cv_results_['std_test_score']\n",
    "params = grid.cv_results_['params']\n",
    "\n",
    "# move l2 penalty values outside of dictionary and into a list\n",
    "param_values = [dic[\"dropout_prob\"] for dic in params]"
   ]
  },
  {
   "cell_type": "markdown",
   "metadata": {},
   "source": [
    "Since there are 2 indepdent variables this time around (dropout_prob and maxnorm_wc) which affect the validation accuracy, it's best to use a different plot. A heat map will work. "
   ]
  },
  {
   "cell_type": "code",
   "execution_count": null,
   "metadata": {},
   "outputs": [],
   "source": [
    "dropout_prob_list = [  dic[\"dropout_prob\"]  for dic in params]\n",
    "maxnorm_wc_list = [  dic[\"maxnorm_wc\"]  for dic in params]\n",
    "data = [means, dropout_prob_list, maxnorm_wc_list ]\n",
    "\n",
    "cols = [\"val_acc\", \"dropout_prob\", \"maxnorm_wc\"]\n",
    "df_exp3 =pd.DataFrame(data=data).T\n",
    "df_exp3.columns = cols\n",
    "df_exp3.dropout_prob = df_exp3.dropout_prob.round(2)\n",
    "\n",
    "# pivot dataframe in preperation for heat map\n",
    "df_exp3 = df_exp3.pivot(\"maxnorm_wc\", \"dropout_prob\", \"val_acc\")"
   ]
  },
  {
   "cell_type": "code",
   "execution_count": null,
   "metadata": {},
   "outputs": [],
   "source": [
    "# Draw a heatmap with the val_acc values in each cell\n",
    "f, ax = plt.subplots(figsize=(18, 8))\n",
    "sns.heatmap(df_exp3, annot=True,  linewidths=.5, ax=ax);"
   ]
  },
  {
   "cell_type": "markdown",
   "metadata": {},
   "source": [
    "### Observations \n",
    "\n",
    "We can see the dropout probabilities in the horizontal axis and the maxnorm weight constraint values in the virtical axis. The values in the cells are the validation accuracy that corresponds to a pair of regularization values.\n",
    "\n",
    "Take a look at the heat map and answer the following questions. Note that depending on which model you used (the simple or complex one) your answers might be different from that of others. "
   ]
  },
  {
   "cell_type": "markdown",
   "metadata": {},
   "source": [
    "**What range of dropout probability values tend to produce the highest validation accuracy?**"
   ]
  },
  {
   "cell_type": "markdown",
   "metadata": {
    "deletable": false,
    "nbgrader": {
     "cell_type": "markdown",
     "checksum": "0f0013d4e07104a03b4d51664a308f53",
     "grade": true,
     "grade_id": "cell-4e0cb7a9240b1531",
     "locked": false,
     "points": 0,
     "schema_version": 3,
     "solution": true,
     "task": false
    }
   },
   "source": [
    "YOUR ANSWER HERE"
   ]
  },
  {
   "cell_type": "markdown",
   "metadata": {},
   "source": [
    "**What range of maxnorm weight constraints tend to produce the highest validation accuracy?**"
   ]
  },
  {
   "cell_type": "markdown",
   "metadata": {
    "deletable": false,
    "nbgrader": {
     "cell_type": "markdown",
     "checksum": "9fd88f0bb870a910b925d60b38d17694",
     "grade": true,
     "grade_id": "cell-99539755d7d328f7",
     "locked": false,
     "points": 0,
     "schema_version": 3,
     "solution": true,
     "task": false
    }
   },
   "source": [
    "YOUR ANSWER HERE"
   ]
  },
  {
   "cell_type": "markdown",
   "metadata": {},
   "source": [
    "**When taken together, what pair of dropout probability and maxnorm weight constraints tend to produce the highest validation accuracy?**"
   ]
  },
  {
   "cell_type": "markdown",
   "metadata": {
    "deletable": false,
    "nbgrader": {
     "cell_type": "markdown",
     "checksum": "fee1e09ed8f6d354bd7b6e2986c2b811",
     "grade": true,
     "grade_id": "cell-5e19a56b4a2d975d",
     "locked": false,
     "points": 0,
     "schema_version": 3,
     "solution": true,
     "task": false
    }
   },
   "source": [
    "YOUR ANSWER HERE"
   ]
  },
  {
   "cell_type": "markdown",
   "metadata": {},
   "source": [
    "**Do you think that using dropout was helpful in increasing model performance?**"
   ]
  },
  {
   "cell_type": "markdown",
   "metadata": {
    "deletable": false,
    "nbgrader": {
     "cell_type": "markdown",
     "checksum": "de9c1bcff3c5eb6266cc80632d0956f0",
     "grade": true,
     "grade_id": "cell-d2a2f7b284c801dc",
     "locked": false,
     "points": 0,
     "schema_version": 3,
     "solution": true,
     "task": false
    }
   },
   "source": [
    "YOUR ANSWER HERE"
   ]
  },
  {
   "cell_type": "markdown",
   "metadata": {},
   "source": [
    "_____\n",
    "\n",
    "### Experiment 4: Train, Save, and Load a Keras model\n",
    "\n",
    "Let's get some practice with how to save and load trained Keras models \n",
    "\n",
    "For this experiment, review the section on Saving and Loading models from the guided project in order to help you to: \n",
    "\n",
    "- Build a model of your choosing\n",
    "- Gridsearch the model with a method of your choosing\n",
    "- Save the trained model to file\n",
    "- Load the trained model from file\n",
    "- Just as we did in the Guided Project, evalute the loaded model using a test set and make sure the results of the loaded model match that of the saved model "
   ]
  },
  {
   "cell_type": "code",
   "execution_count": null,
   "metadata": {},
   "outputs": [],
   "source": []
  },
  {
   "cell_type": "code",
   "execution_count": null,
   "metadata": {},
   "outputs": [],
   "source": []
  },
  {
   "cell_type": "code",
   "execution_count": null,
   "metadata": {},
   "outputs": [],
   "source": []
  }
 ],
 "metadata": {
  "colab": {
   "collapsed_sections": [],
   "name": "LS_DS_434_Deploy_Assignment.ipynb",
   "provenance": []
  },
  "kernelspec": {
   "display_name": "U4-S2-NN (Python3)",
   "language": "python",
   "name": "u4-s2-nn"
  },
  "language_info": {
   "codemirror_mode": {
    "name": "ipython",
    "version": 3
   },
   "file_extension": ".py",
   "mimetype": "text/x-python",
   "name": "python",
   "nbconvert_exporter": "python",
   "pygments_lexer": "ipython3",
   "version": "3.7.0"
  },
  "nteract": {
   "version": "0.22.4"
  }
 },
 "nbformat": 4,
 "nbformat_minor": 4
}
