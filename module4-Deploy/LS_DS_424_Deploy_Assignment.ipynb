{
 "cells": [
  {
   "cell_type": "markdown",
   "metadata": {
    "colab_type": "text",
    "id": "NGGrt9EYlCqY"
   },
   "source": [
    "\n",
    "\n",
    "\n",
    "# *Data Science Unit 4 Sprint 2 Assignment 4*\n",
    "\n",
    "Continue to use TensorFlow Keras & a sample of the [Quickdraw dataset](https://github.com/googlecreativelab/quickdraw-dataset) to build a sketch classification model. The dataset has been sampled to only 10 classes and 10000 observations per class. Apply regularization techniques to your model. \n",
    "\n",
    "**Don't forgot to switch to GPU on Colab!**\n",
    "\n",
    "\n",
    "## Objective \n",
    "\n",
    "In lecture, you were exposed to Lp space reguarlization, Max Norn weight constraints, and dropout. \n",
    "\n",
    "In this assignment, you will run several experiments in order to perform a deeper analysis on the effects that various regularization techniques have model performance and on the learned model weights. \n",
    "\n",
    "By the end of this assignment, these regularization techniques should no longer feel like black boxes to you (i.e. completely mysterious as to how they work.) \n"
   ]
  },
  {
   "cell_type": "markdown",
   "metadata": {
    "colab_type": "text",
    "id": "ptJ2b3wk62Ud"
   },
   "source": [
    "#### Import libraries"
   ]
  },
  {
   "cell_type": "code",
   "execution_count": 1,
   "metadata": {
    "colab": {},
    "colab_type": "code",
    "id": "USXjs7Hk71Hy"
   },
   "outputs": [],
   "source": [
    "# native libraries \n",
    "import os\n",
    "from time import time \n",
    "\n",
    "# data analysis libraries \n",
    "import numpy as np\n",
    "import pandas as pd\n",
    "import matplotlib.pyplot as plt\n",
    "import seaborn as sns\n",
    "\n",
    "# deep learning libraries \n",
    "from keras import Sequential\n",
    "from keras.callbacks import EarlyStopping, TensorBoard\n",
    "from keras.layers import Flatten, Dense, Dropout\n",
    "from keras.layers import ReLU\n",
    "from keras.initializers import GlorotUniform\n",
    "\n",
    "import tensorflow as tf\n",
    "from tensorflow.keras.datasets import fashion_mnist\n",
    "\n",
    "# regularizers \n",
    "from keras.regularizers import l2, l1\n",
    "from keras.constraints import MaxNorm\n",
    "\n",
    "# required for compatibility between sklearn and keras\n",
    "from tensorflow.keras.wrappers.scikit_learn import KerasClassifier\n",
    "\n",
    "from sklearn.model_selection import GridSearchCV\n",
    "\n",
    "# native python unit test library\n",
    "from unittest import TestCase\n",
    "\n",
    "%matplotlib inline"
   ]
  },
  {
   "cell_type": "markdown",
   "metadata": {},
   "source": [
    "-----\n",
    "\n",
    "# $L_p$ Space Regularization \n",
    "\n",
    "## Bridging Theory and Practice \n",
    "\n",
    "Because the idea of infinitely many vector spaces, each with their very own distance metric for measuring distance differently can seem very abstract, we are going to take that distance metric general formula and look at a few special cases by writing custom regularization functions and taking note of their effect a the model's learning outcomes. \n",
    "\n",
    "Don't forget to review the theory of $L_p$ Space Regularization in the guided project. \n",
    "\n",
    "Also, watch this video if you haven't already. "
   ]
  },
  {
   "cell_type": "code",
   "execution_count": 2,
   "metadata": {},
   "outputs": [
    {
     "data": {
      "image/jpeg": "[encoded data removed]",
      "text/html": [
       "\n",
       "        <iframe\n",
       "            width=\"800\"\n",
       "            height=\"300\"\n",
       "            src=\"https://www.youtube.com/embed/FiSy6zWDfiA\"\n",
       "            frameborder=\"0\"\n",
       "            allowfullscreen\n",
       "        ></iframe>\n",
       "        "
      ],
      "text/plain": [
       "<IPython.lib.display.YouTubeVideo at 0x7fc020292978>"
      ]
     },
     "execution_count": 2,
     "metadata": {},
     "output_type": "execute_result"
    }
   ],
   "source": [
    "# check out this video for an animated explaination of Lp Space and distance metrics \n",
    "from IPython.display import YouTubeVideo\n",
    "YouTubeVideo('FiSy6zWDfiA', width=800, height=300)"
   ]
  },
  {
   "cell_type": "markdown",
   "metadata": {},
   "source": [
    "### Distance Metric General Formula\n",
    "$${\\displaystyle \\left\\|x\\right\\|_{p}=\\left(|x_{1}|^{p}+|x_{2}|^{p}+\\dotsb +|x_{n}|^{p}\\right)^{1/p}.}$$\n",
    "\n",
    "Let's create a class for the distance metric general formula.\n",
    "\n",
    "\n",
    "There are 2 classes below: \n",
    "\n",
    "```python\n",
    "class Test_distance_metric_solution()\n",
    "```\n",
    "\n",
    "You don't need to change anything in this class. This class is here in order to make sure that you calculate each portion of the distance metric general formula correctly. \n",
    "\n",
    "\n",
    "```python\n",
    "class Lp_distance_metric_general_formula()\n",
    "```\n",
    "\n",
    "This is the class that you will complete. \n",
    "\n",
    "Each of the non `__call__` methods calculate one portion of the distance metric general formula. \n",
    "\n",
    "Breaking up each portion of the formula into a separate method is actually unnecessary. \n",
    "\n",
    "Including the entire calculation of the general formula into a single method is ideal, however it is more difficult to write granular unit tests that way. \n",
    "\n",
    "So, for instructional purposes, it was broken up into 3 methods. However, outside of an academic environment, we would only need the `__init__` and `__call__` methods. \n",
    "\n",
    "Having said that, it is good for you to see how a custom unit test class is used to test the calculations of another class. This is a portion of what software engineering looks like. Get used to it. You'll need good software engineering practices to make it in the world. You'll learn more about this in your CS unit. For now, consider it a bit of foreshadowing. "
   ]
  },
  {
   "cell_type": "code",
   "execution_count": 3,
   "metadata": {},
   "outputs": [],
   "source": [
    "class Test_distance_metric_solution(TestCase):\n",
    "    \"\"\"\n",
    "    This is a unit test class desgined to make sure that the student calcualtes each component \n",
    "    of the Distance Metric General Formula correctly. Thereby getting real-time feedback and correction. \n",
    "    \"\"\"\n",
    "    \n",
    "    def test_squared_vector_comps(self, test_array):\n",
    "        \"\"\"\n",
    "        This test makes sure that student calculate the sum_of_squared_comp correctly. \n",
    "        \"\"\"\n",
    "        answer = np.array([1., 4.])\n",
    "        # error message in case if test case got failed\n",
    "        message = \"you did not calcualte sum_of_squared_comp correctly\"\n",
    "        # assert function() to check if values are almost equal\n",
    "        np.testing.assert_array_equal(answer, test_array,  err_msg=message)\n",
    "        \n",
    "        \n",
    "    def test_sum_of_squared_comp(self, test_sum):\n",
    "        \"\"\"\n",
    "        This test makes sure that student calculate the sum_of_squared_comp correctly. \n",
    "        \"\"\"\n",
    "        answer = 5\n",
    "        # error message in case if test case got failed\n",
    "        message = \"you did not calcualte sum_of_squared_comp correctly\"\n",
    "        # assert function() to check if values are almost equal\n",
    "        np.testing.assert_array_equal(answer, test_sum,  err_msg=message)\n",
    "        \n",
    "    def test_vector_norm(self, test_norm):\n",
    "        \"\"\"\n",
    "        This test makes sure that student calculate the vector_norm correctly. \n",
    "        \"\"\"\n",
    "        answer = 2.236\n",
    "        decimalPlace = 3\n",
    "        # error message in case if test case got failed\n",
    "        message = \"you did not calcualte sum_of_squared_comp correctly\"\n",
    "        # assert function() to check if values are almost equal\n",
    "        self.assertAlmostEqual(answer, test_norm,  decimalPlace, message)        "
   ]
  },
  {
   "cell_type": "markdown",
   "metadata": {},
   "source": [
    "### Fill in the missing code in the class below"
   ]
  },
  {
   "cell_type": "code",
   "execution_count": 39,
   "metadata": {
    "deletable": false,
    "nbgrader": {
     "cell_type": "code",
     "checksum": "b8830110178a58a6fe1973906f649d36",
     "grade": false,
     "grade_id": "cell-0bd59a2d10fbf254",
     "locked": false,
     "schema_version": 3,
     "solution": true,
     "task": false
    }
   },
   "outputs": [],
   "source": [
    "class Lp_distance_metric_general_formula(object):\n",
    "    \"\"\"\n",
    "    This class takes the Lp distance metric general formual and sets p equal to a value provided by the user. \n",
    "    This has the effect of deriving a distance metric for a specific metric space and calcualting the distance \n",
    "    of a vector in that metric space.\n",
    "    \n",
    "    Example\n",
    "    -------\n",
    "    If the user sets p = 2, then the euclidean distance formula is derived.\n",
    "    If the user sets p = 1, then the taxicab distance formula is derived. \n",
    "    \n",
    "    Note\n",
    "    ----\n",
    "    It is possible to use p values less than 1 but those are special cases that we will ignore. \n",
    "    These special values are interesting for academic purposes but in practice you very likely won't need to know \n",
    "    about them.\n",
    "    \"\"\"\n",
    "\n",
    "    def __init__(self, p=2, reg_strength = 1.0):\n",
    "        \"\"\"\n",
    "        Parameters\n",
    "        ----------\n",
    "        \n",
    "        p: int or float\n",
    "            p value used for calculating the distance of a vector in a certain metric space\n",
    "            \n",
    "        reg_strength: int or float\n",
    "            usually set to a value less than 1.0 to decrease the strength of the distance metric when used as a model regularizer\n",
    "            keep this value at 1.0 when measureing vector norms (i.e. vector lengths)\n",
    "        \"\"\"\n",
    "        \n",
    "        assert p >=1 , \"p value must be greater than or equal to 1\"\n",
    "        \n",
    "        self.p = p\n",
    "        self.reg_strength = reg_strength\n",
    "                \n",
    "    def calc_squared_vector_comps(self):\n",
    "    \n",
    "        # raise each vector component in self.x to the power of p\n",
    "        # save result to self.squared_vector_comps\n",
    "        # YOUR CODE HERE\n",
    "        print(self.x)\n",
    "        self.squared_vector_comps = list(map(lambda y: abs(float(y))**self.p, self.x))\n",
    "        \n",
    "    def calc_sum_of_squared_comp(self):\n",
    "        # take the sum of the squared components in self.squared_vector_comps\n",
    "        # save to self.sum_of_squared_comp\n",
    "        # hint: use tf.reduce_sum\n",
    "        # YOUR CODE HERE\n",
    "        self.sum_of_squared_comp = tf.reduce_sum(self.squared_vector_comps)\n",
    "        \n",
    "    def calc_vector_norm(self):\n",
    "        \n",
    "        # take the 1/p root of the self.sum_of_squared_comp in order to calculate the norm, i.e. ||x||\n",
    "        # save result to self.vector_norm\n",
    "        # YOUR CODE HERE\n",
    "        self.vector_norm = self.sum_of_squared_comp ** (1/self.p)\n",
    "        \n",
    "        \n",
    "    def __call__(self, x):\n",
    "        \"\"\"\n",
    "        This method calcualtes the distance (i.e. norm) for vector x in Lp space for a value p given by the use\n",
    "        \n",
    "        ‖𝑥‖𝑝 = (|𝑥_1|^𝑝 + |𝑥_2|^𝑝 + ⋯ +|𝑥_𝑛|^𝑝 )^1/𝑝\n",
    "        \n",
    "        Parameters\n",
    "        ----------\n",
    "        x: N-dimsional numpy array or tensorflow tensor of floats \n",
    "            x is our vector, could be a weight vector but any vector is valid \n",
    "            \n",
    "            \n",
    "        HINT\n",
    "        -----\n",
    "        You must use self.p when calculating squared_vector_comps and vector_norm\n",
    "        \"\"\"\n",
    "        \n",
    "        self.x = x\n",
    "        \n",
    "        # calculate these parts |𝑥_i|^𝑝\n",
    "        self.calc_squared_vector_comps()\n",
    "        \n",
    "        # calcualte this |𝑥_1|^𝑝 + |𝑥_2|^𝑝 + ⋯ +|𝑥_𝑛|^𝑝\n",
    "        self.calc_sum_of_squared_comp()\n",
    "        \n",
    "        # calculate this (|𝑥_1|^𝑝 + |𝑥_2|^𝑝 + ⋯ +|𝑥_𝑛|^𝑝 )^1/𝑝\n",
    "        self.calc_vector_norm()\n",
    "        \n",
    "        # return the vector norm scaled by a regularization penality\n",
    "        # we say penality because the value is usually less than 1.0 thereby scaling down the norm\n",
    "        return self.reg_strength * self.vector_norm"
   ]
  },
  {
   "cell_type": "markdown",
   "metadata": {},
   "source": [
    "------\n",
    "### Unit Test your code\n",
    "\n",
    "You know you wrote your class correctly when all the unit tests pass. \n",
    "\n",
    "So the code in the following cell should run without throwing a single error. \n",
    "\n",
    "Protip: you can comment out 2nd and 3rd unit test in order to test your results for the first method and then uncomment as you go. Feel free to create a new cell and run your own testing there. "
   ]
  },
  {
   "cell_type": "code",
   "execution_count": 19,
   "metadata": {},
   "outputs": [],
   "source": [
    "# instantiate the unit test class that will check the calculates of Lp_distance_metric_general_formula's methods\n",
    "tests = Test_distance_metric_solution()\n",
    "\n",
    "# instantiate Lp_distance_metric_general_formula, set p = 2 in order to derive the euclidean distance metric\n",
    "lp = Lp_distance_metric_general_formula( p=2, reg_strength = 1.0)\n",
    "\n",
    "# don't change this test_vector\n",
    "# Test_distance_metric_solution assumes that you're using ths exact test_vector\n",
    "test_vector = np.array([1., 2.])\n",
    "lp(test_vector)\n",
    "\n",
    "# test the calculations that are perform in each of the following lp class methods \n",
    "tests.test_squared_vector_comps(lp.squared_vector_comps)\n",
    "tests.test_sum_of_squared_comp(lp.sum_of_squared_comp)\n",
    "tests.test_vector_norm(lp.vector_norm.numpy())"
   ]
  },
  {
   "cell_type": "code",
   "execution_count": 20,
   "metadata": {},
   "outputs": [
    {
     "name": "stdout",
     "output_type": "stream",
     "text": [
      "tf.Tensor(2.236068, shape=(), dtype=float32)\n"
     ]
    }
   ],
   "source": [
    "# note: because we use tf.reduce_sum to calculate sum_of_squared_comp\n",
    "# the result is inside of a tensor and we need to use .numpy() to get the scalar out of the tensor \n",
    "print (lp.vector_norm)"
   ]
  },
  {
   "cell_type": "code",
   "execution_count": 21,
   "metadata": {},
   "outputs": [
    {
     "name": "stdout",
     "output_type": "stream",
     "text": [
      "2.236068\n"
     ]
    }
   ],
   "source": [
    "print (lp.vector_norm.numpy())"
   ]
  },
  {
   "cell_type": "markdown",
   "metadata": {},
   "source": [
    "----"
   ]
  },
  {
   "cell_type": "markdown",
   "metadata": {},
   "source": [
    "### Apply our $L_p$ Space Class\n",
    "\n",
    "Next we will use our distance metric class in order to calculate the euclidean and taxicab distance of our vector below. "
   ]
  },
  {
   "cell_type": "code",
   "execution_count": 13,
   "metadata": {},
   "outputs": [
    {
     "data": {
      "image/png": "[encoded data removed]",
      "text/plain": [
       "<Figure size 720x432 with 1 Axes>"
      ]
     },
     "metadata": {
      "needs_background": "light"
     },
     "output_type": "display_data"
    }
   ],
   "source": [
    "# W is a 2D vector with an x and y component, i.e. (x, y) = (4,3)\n",
    "w = np.array([4., 3.])\n",
    "\n",
    "# origin point - we need to specify the starting point for plotting\n",
    "origin = np.array([0,0])\n",
    "\n",
    "plt.figure(figsize=(10, 6))\n",
    "ax = plt.axes()\n",
    "\n",
    "ax.arrow(origin[0], origin[1], w[0], w[1], head_width=0.5, head_length=0.7, fc='lightblue', ec='black')\n",
    "\n",
    "plt.grid()\n",
    "plt.yticks(np.arange(0,5))\n",
    "plt.xticks(np.arange(0,6));"
   ]
  },
  {
   "cell_type": "markdown",
   "metadata": {},
   "source": [
    "## Derive Euclidean Distance from the General Formula \n",
    "\n",
    "This is the general formula for distance metrics. Where we have an N-dimensional weight vector **w**. Notice that the general formula has a vector component for each of the N dimensions. Hence, it is the general formula.\n",
    "\n",
    "$${\\displaystyle \\left\\|\\textbf{w}\\right\\|_{p}=\\left(|w_{1}|^{p}+|w_{2}|^{p}+\\dotsb +|w_{n}|^{p}\\right)^{1/p}.}$$\n",
    " \n",
    "\n",
    "Let N = 2 such that our weight vector now exists in 2 dimensional space. \n",
    "\n",
    "Let p = 2 such that our weight vector's distance will be calculated in $L_{p=2}$ space \n",
    "\n",
    "In which case our general formula gets reduced from N-dimensions to 2-dimensions. So now we only need to consider a distance formula for a vector with 2 components, one for each dimension.\n",
    "\n",
    "$$||\\textbf{w}||_{p=2} = ((x_2 - x_1)^2 + (y_2 - y_1)^2)^{1/2}$$\n",
    "\n",
    "Now just re-express the square root and we arrive at the familiar Euclidean Distance from high school algebra. \n",
    "\n",
    "$$||\\textbf{w}||_{p=2} = \\sqrt{(x_2 - x_1)^2 + (y_2 - y_1)^2}$$\n",
    "\n",
    "\n",
    "You might be wondering about why the general case doesn't have differences for the components but the Euclidean Distance does explicitly show the component wise differences. It is common in mathematics to suppress certain information, especially if that information is \"obvious\" - however what is obvious is highly relative. \n",
    "\n",
    "The general formula assumes that the vector starts at the origin, in which case, there's no need to show the subtraction of zero from a vector component. \n",
    "\n",
    "Assuming that our vector starts at the origin (and it does) the formula can be reduced to \n",
    "\n",
    "$$||\\textbf{w}||_{p=2} = \\sqrt{(x_2 - 0)^2 + (y_2 - 0)^2}$$\n",
    "\n",
    "$$||\\textbf{w}||_{p=2} = \\sqrt{x_2^2 + y_2^2}$$"
   ]
  },
  {
   "cell_type": "markdown",
   "metadata": {},
   "source": [
    "### Euclidean distance of our Vector \n",
    "\n",
    "With **p=2** in our `Lp_distance_metric_general_formula` class, we can calculate the euclidean distance of our vector **w**. I encourage you to either solve the euclidean distance of our vector either in your head or on paper to prove to yourself that the above formula that we derived works and gives you `5` as an answer. "
   ]
  },
  {
   "cell_type": "code",
   "execution_count": 24,
   "metadata": {
    "deletable": false,
    "nbgrader": {
     "cell_type": "code",
     "checksum": "bf0cdea85e37c69f73956bf851cba8d6",
     "grade": false,
     "grade_id": "cell-74dae14f4bbad1ab",
     "locked": false,
     "schema_version": 3,
     "solution": true,
     "task": false
    }
   },
   "outputs": [
    {
     "data": {
      "text/plain": [
       "5.0"
      ]
     },
     "execution_count": 24,
     "metadata": {},
     "output_type": "execute_result"
    }
   ],
   "source": [
    "# YOUR CODE HERE\n",
    "lp(w)\n",
    "lp.vector_norm.numpy()"
   ]
  },
  {
   "cell_type": "markdown",
   "metadata": {},
   "source": [
    "-----\n",
    "\n",
    "## Derive Taxicab Distance from the General Formula \n",
    "\n",
    "This is the general formula for distance metrics. Where we have an N-dimensional weight vector **w**. Notice that the general formula has a vector component for each of the N dimensions. Hence, it is the general formula.\n",
    "\n",
    "$${\\displaystyle \\left\\|\\textbf{w}\\right\\|_{p}=\\left(|w_{1}|^{p}+|w_{2}|^{p}+\\dotsb +|w_{n}|^{p}\\right)^{1/p}.}$$\n",
    " \n",
    "\n",
    "Let N = 2 such that our weight vector now exists in 2 dimensional space. \n",
    "\n",
    "Let p = 1 such that our weight vector's distance will be calculated in $L_{p=1}$ space \n",
    "\n",
    "\n",
    "In which case our general formula gets reduced from N-dimensions to 2-dimensions. So now we only need to consider a distance formula for a vector with 2 components, one for each dimension.\n",
    "\n",
    "$$||\\textbf{w}||_{p=1} = ((x_2 - x_1)^1 + (y_2 - y_1)^1)^{1/1}$$\n",
    "\n",
    "There's no need to express all those 1's\n",
    "\n",
    "$$||\\textbf{w}||_{p=1} = (x_2 - x_1) + (y_2 - y_1) $$\n",
    "\n",
    "Assuming that our vector starts at the origin (which it does)\n",
    "\n",
    "$$||\\textbf{w}||_{p=1} = (x_2 - 0) + (y_2 - 0) $$\n",
    "\n",
    "\n",
    "\n",
    "$$||\\textbf{w}||_{p=1} = x + y $$\n",
    "\n",
    "We have just derived the Taxicab distance metric from the general formula. The above equation tells us to add up all the steps in the x and y direction in order to calculate the Taxicab distance."
   ]
  },
  {
   "cell_type": "markdown",
   "metadata": {},
   "source": [
    "### Taxicab distance of our Vector \n",
    "\n",
    "With **p=1** in our `Lp_distance_metric_general_formula` class, we can calculate the taxicab distance of our vector **w**. This distance we can easily calculate in our head. Look at the plot of the vector and simply add up all the x and y components, i.e. count up all the steps you have to take in order to \"walk\" from the origin to the head of the vector. Do this to prove to yourself that the taxicab distance of our vector is `7`. "
   ]
  },
  {
   "cell_type": "code",
   "execution_count": 25,
   "metadata": {
    "deletable": false,
    "nbgrader": {
     "cell_type": "code",
     "checksum": "9a527c635255f30979d1759e4ecc480d",
     "grade": false,
     "grade_id": "cell-9bf41d7142ad35e9",
     "locked": false,
     "schema_version": 3,
     "solution": true,
     "task": false
    }
   },
   "outputs": [
    {
     "data": {
      "text/plain": [
       "7.0"
      ]
     },
     "execution_count": 25,
     "metadata": {},
     "output_type": "execute_result"
    }
   ],
   "source": [
    "# use Lp_distance_metric_general_formula class to calculate the taxicab distance of w\n",
    "lp1 = Lp_distance_metric_general_formula(p=1)\n",
    "# YOUR CODE HERE\n",
    "lp1(w)\n",
    "lp1.vector_norm.numpy()"
   ]
  },
  {
   "cell_type": "markdown",
   "metadata": {},
   "source": [
    "### Elastic Net Distance \n",
    "\n",
    "\n",
    "Elastic Net is a combination of L1 and L2. Compare the geometry below. \n",
    "\n",
    "![](https://ds100.org/sp17/assets/notebooks/linear_regression/norm_balls.png)\n",
    "\n",
    "The mathematical derivation of the distance metric for  $L_{p=3/2}$ space will be left to you as an optional exercise. "
   ]
  },
  {
   "cell_type": "code",
   "execution_count": 26,
   "metadata": {
    "deletable": false,
    "nbgrader": {
     "cell_type": "code",
     "checksum": "0f19be155b2e5be75c855710eab34cdd",
     "grade": false,
     "grade_id": "cell-d657c845dbb1ab23",
     "locked": false,
     "schema_version": 3,
     "solution": true,
     "task": false
    }
   },
   "outputs": [
    {
     "data": {
      "text/plain": [
       "5.5842505"
      ]
     },
     "execution_count": 26,
     "metadata": {},
     "output_type": "execute_result"
    }
   ],
   "source": [
    "# use Lp_distance_metric_general_formula class to calculate the Elastic Net distance of w\n",
    "lp32=Lp_distance_metric_general_formula(p=3/2)\n",
    "# YOUR CODE HERE\n",
    "lp32(w)\n",
    "lp32.vector_norm.numpy()"
   ]
  },
  {
   "cell_type": "markdown",
   "metadata": {},
   "source": [
    "-----\n",
    "\n",
    "## Use Custom Lp Space class in modeling\n",
    "\n",
    "Let's create a function that returns complied keras models so that we can run an experiment in order to compare the modeling results from using a keras L2 and our custom L2 regularizer. "
   ]
  },
  {
   "cell_type": "markdown",
   "metadata": {},
   "source": [
    "-----\n",
    "### Load Data"
   ]
  },
  {
   "cell_type": "code",
   "execution_count": 27,
   "metadata": {},
   "outputs": [],
   "source": [
    "def load_data():\n",
    "    \"\"\"\n",
    "    Load in and normalize image data set\n",
    "    \"\"\"\n",
    "    \n",
    "    # load in our dataset \n",
    "    (X_train, y_train), (X_test, y_test) = fashion_mnist.load_data()\n",
    "\n",
    "    # normalize pixel values between 0 and 1 \n",
    "    max_pixel_value = X_train.max()\n",
    "    X_train, X_test = X_train /max_pixel_value , X_test / max_pixel_value\n",
    "    \n",
    "    return X_train, y_train, X_test, y_test"
   ]
  },
  {
   "cell_type": "code",
   "execution_count": 28,
   "metadata": {},
   "outputs": [],
   "source": [
    "X_train, y_train, X_test, y_test = load_data()"
   ]
  },
  {
   "cell_type": "code",
   "execution_count": 29,
   "metadata": {},
   "outputs": [
    {
     "data": {
      "text/plain": [
       "10"
      ]
     },
     "execution_count": 29,
     "metadata": {},
     "output_type": "execute_result"
    }
   ],
   "source": [
    "# this is equal to the number of nodes in the output layer\n",
    "N_labels = len(np.unique(y_train))\n",
    "N_labels"
   ]
  },
  {
   "cell_type": "code",
   "execution_count": 30,
   "metadata": {},
   "outputs": [],
   "source": [
    "def create_model(reg=None):\n",
    "    # instantiate Sequential class\n",
    "    model = Sequential([\n",
    "\n",
    "    # flatten images \n",
    "        Flatten(input_shape=(28,28)), # images will be flattend out to 784 dims row vectors \n",
    "\n",
    "    # hidden layer 1\n",
    "        Dense(500, kernel_regularizer=reg),\n",
    "\n",
    "    # act func 1\n",
    "        ReLU(negative_slope=0.01),\n",
    "\n",
    "    # output layer \n",
    "        Dense(10, activation =\"softmax\")   \n",
    "    ])\n",
    "\n",
    "    # compile model \n",
    "    model.compile(loss=\"sparse_categorical_crossentropy\", \n",
    "                  optimizer= \"adam\", \n",
    "                  metrics=[\"accuracy\"])\n",
    "    \n",
    "    return model"
   ]
  },
  {
   "cell_type": "markdown",
   "metadata": {},
   "source": [
    "----\n",
    "\n",
    "## Experiment 1: Calculate vector lengths using Keras and Custom Regularizer"
   ]
  },
  {
   "cell_type": "markdown",
   "metadata": {},
   "source": [
    "\n",
    "\n",
    "If you read the [**Keras Documentation**](https://keras.io/api/layers/regularizers/) for their implementation of L2 regularization you'll see this:\n",
    "\n",
    "    The L2 regularization penalty is computed as: loss = l2 * reduce_sum(square(x))\n",
    "    \n",
    "Notice that Keras isn't taking the square root for L2 where as we are take the square root. \n",
    "\n",
    "Why isn't Keras taking the square root? I don't know but we will stay true to the math and take the square root for our implementation of L2 regularization. \n",
    "\n"
   ]
  },
  {
   "cell_type": "code",
   "execution_count": 32,
   "metadata": {},
   "outputs": [
    {
     "data": {
      "text/plain": [
       "5.0"
      ]
     },
     "execution_count": 32,
     "metadata": {},
     "output_type": "execute_result"
    }
   ],
   "source": [
    "custom_l2 = Lp_distance_metric_general_formula(p=2, reg_strength = 1.0)\n",
    "# the length of the W vector from above as calcualted by the formula that we derived \n",
    "custom_l2(w).numpy()"
   ]
  },
  {
   "cell_type": "code",
   "execution_count": 33,
   "metadata": {},
   "outputs": [
    {
     "data": {
      "text/plain": [
       "25.0"
      ]
     },
     "execution_count": 33,
     "metadata": {},
     "output_type": "execute_result"
    }
   ],
   "source": [
    "from keras.regularizers import L2\n",
    "keras_l2 = L2(l2=1.0)\n",
    "# again Keras doesn't take the square root\n",
    "keras_l2(w).numpy()"
   ]
  },
  {
   "cell_type": "code",
   "execution_count": 34,
   "metadata": {},
   "outputs": [
    {
     "data": {
      "text/plain": [
       "5.0"
      ]
     },
     "execution_count": 34,
     "metadata": {},
     "output_type": "execute_result"
    }
   ],
   "source": [
    "# but if we take the square root, then we get the same answer that our custom regularizer class gives us \n",
    "np.sqrt(keras_l2(w).numpy())"
   ]
  },
  {
   "cell_type": "markdown",
   "metadata": {},
   "source": [
    "----\n",
    "## Experiment 2: Compare Keras L2 and Custom L2 regularization in a model\n",
    "\n",
    "\n",
    "### Use Keras Built-in L2 regularizer \n",
    "\n",
    "Make sure to use the same regularization strength in the Keras pre-built L2 regularizer and in our custom L2 regularizer."
   ]
  },
  {
   "cell_type": "code",
   "execution_count": 35,
   "metadata": {},
   "outputs": [
    {
     "name": "stdout",
     "output_type": "stream",
     "text": [
      "1875/1875 [==============================] - 4s 2ms/step - loss: 1.6776 - accuracy: 0.7558 - val_loss: 0.7521 - val_accuracy: 0.7679\n"
     ]
    }
   ],
   "source": [
    "model_keras_l2 = create_model(reg=L2(l2=0.01))\n",
    "keras_l2_results = model_keras_l2.fit(X_train, y_train,\n",
    "                                      epochs=1,\n",
    "                                      validation_data=(X_test, y_test), \n",
    "                                      workers=10) # check! You might not be able to use 10 processors on your machine "
   ]
  },
  {
   "cell_type": "markdown",
   "metadata": {},
   "source": [
    "### Use Custom Regularization Class \n",
    "\n",
    "Make sure to use the same regularization strength in the Keras pre-built L2 regularizer and in our custom L2 regularizer."
   ]
  },
  {
   "cell_type": "code",
   "execution_count": 40,
   "metadata": {},
   "outputs": [],
   "source": [
    "# set p= 2 so that we are using the same L2 regularizer as above\n",
    "lp = Lp_distance_metric_general_formula(p=2, reg_strength = 0.01)"
   ]
  },
  {
   "cell_type": "code",
   "execution_count": 41,
   "metadata": {},
   "outputs": [
    {
     "name": "stdout",
     "output_type": "stream",
     "text": [
      "<tf.Variable 'dense_6/kernel:0' shape=(784, 500) dtype=float32>\n"
     ]
    },
    {
     "ename": "TypeError",
     "evalue": "in user code:\n\n    /opt/anaconda3/envs/U4-S2-NN/lib/python3.7/site-packages/tensorflow/python/keras/engine/training.py:805 train_function  *\n        return step_function(self, iterator)\n    /opt/anaconda3/envs/U4-S2-NN/lib/python3.7/site-packages/tensorflow/python/keras/engine/training.py:795 step_function  **\n        outputs = model.distribute_strategy.run(run_step, args=(data,))\n    /opt/anaconda3/envs/U4-S2-NN/lib/python3.7/site-packages/tensorflow/python/distribute/distribute_lib.py:1259 run\n        return self._extended.call_for_each_replica(fn, args=args, kwargs=kwargs)\n    /opt/anaconda3/envs/U4-S2-NN/lib/python3.7/site-packages/tensorflow/python/distribute/distribute_lib.py:2730 call_for_each_replica\n        return self._call_for_each_replica(fn, args, kwargs)\n    /opt/anaconda3/envs/U4-S2-NN/lib/python3.7/site-packages/tensorflow/python/distribute/distribute_lib.py:3417 _call_for_each_replica\n        return fn(*args, **kwargs)\n    /opt/anaconda3/envs/U4-S2-NN/lib/python3.7/site-packages/tensorflow/python/keras/engine/training.py:788 run_step  **\n        outputs = model.train_step(data)\n    /opt/anaconda3/envs/U4-S2-NN/lib/python3.7/site-packages/tensorflow/python/keras/engine/training.py:756 train_step\n        y, y_pred, sample_weight, regularization_losses=self.losses)\n    /opt/anaconda3/envs/U4-S2-NN/lib/python3.7/site-packages/tensorflow/python/keras/engine/base_layer.py:1477 losses\n        loss_tensor = regularizer()\n    /opt/anaconda3/envs/U4-S2-NN/lib/python3.7/site-packages/tensorflow/python/keras/engine/base_layer.py:1553 _tag_callable\n        loss = loss()\n    /opt/anaconda3/envs/U4-S2-NN/lib/python3.7/site-packages/tensorflow/python/keras/engine/base_layer.py:2500 _loss_for_variable\n        regularization = regularizer(v)\n    <ipython-input-39-920ec7cc31e1>:80 __call__\n        self.calc_squared_vector_comps()\n    <ipython-input-39-920ec7cc31e1>:43 calc_squared_vector_comps\n        self.squared_vector_comps = list(map(lambda y: abs(float(y))**self.p, self.x))\n    /opt/anaconda3/envs/U4-S2-NN/lib/python3.7/site-packages/tensorflow/python/ops/variables.py:1116 __iter__\n        raise TypeError(\"'Variable' object is not iterable.\")\n\n    TypeError: 'Variable' object is not iterable.\n",
     "output_type": "error",
     "traceback": [
      "\u001b[0;31m---------------------------------------------------------------------------\u001b[0m",
      "\u001b[0;31mTypeError\u001b[0m                                 Traceback (most recent call last)",
      "\u001b[0;32m<ipython-input-41-1e514b7b5a61>\u001b[0m in \u001b[0;36m<module>\u001b[0;34m\u001b[0m\n\u001b[1;32m      3\u001b[0m                                       \u001b[0mepochs\u001b[0m\u001b[0;34m=\u001b[0m\u001b[0;36m1\u001b[0m\u001b[0;34m,\u001b[0m\u001b[0;34m\u001b[0m\u001b[0m\n\u001b[1;32m      4\u001b[0m                                       \u001b[0mvalidation_data\u001b[0m\u001b[0;34m=\u001b[0m\u001b[0;34m(\u001b[0m\u001b[0mX_test\u001b[0m\u001b[0;34m,\u001b[0m \u001b[0my_test\u001b[0m\u001b[0;34m)\u001b[0m\u001b[0;34m,\u001b[0m\u001b[0;34m\u001b[0m\u001b[0m\n\u001b[0;32m----> 5\u001b[0;31m                                       workers=10) \n\u001b[0m\u001b[1;32m      6\u001b[0m \u001b[0;31m# check! You might not be able to use 10 processors on your machine\u001b[0m\u001b[0;34m\u001b[0m\u001b[0;34m\u001b[0m\u001b[0m\n",
      "\u001b[0;32m/opt/anaconda3/envs/U4-S2-NN/lib/python3.7/site-packages/tensorflow/python/keras/engine/training.py\u001b[0m in \u001b[0;36mfit\u001b[0;34m(self, x, y, batch_size, epochs, verbose, callbacks, validation_split, validation_data, shuffle, class_weight, sample_weight, initial_epoch, steps_per_epoch, validation_steps, validation_batch_size, validation_freq, max_queue_size, workers, use_multiprocessing)\u001b[0m\n\u001b[1;32m   1098\u001b[0m                 _r=1):\n\u001b[1;32m   1099\u001b[0m               \u001b[0mcallbacks\u001b[0m\u001b[0;34m.\u001b[0m\u001b[0mon_train_batch_begin\u001b[0m\u001b[0;34m(\u001b[0m\u001b[0mstep\u001b[0m\u001b[0;34m)\u001b[0m\u001b[0;34m\u001b[0m\u001b[0m\n\u001b[0;32m-> 1100\u001b[0;31m               \u001b[0mtmp_logs\u001b[0m \u001b[0;34m=\u001b[0m \u001b[0mself\u001b[0m\u001b[0;34m.\u001b[0m\u001b[0mtrain_function\u001b[0m\u001b[0;34m(\u001b[0m\u001b[0miterator\u001b[0m\u001b[0;34m)\u001b[0m\u001b[0;34m\u001b[0m\u001b[0m\n\u001b[0m\u001b[1;32m   1101\u001b[0m               \u001b[0;32mif\u001b[0m \u001b[0mdata_handler\u001b[0m\u001b[0;34m.\u001b[0m\u001b[0mshould_sync\u001b[0m\u001b[0;34m:\u001b[0m\u001b[0;34m\u001b[0m\u001b[0m\n\u001b[1;32m   1102\u001b[0m                 \u001b[0mcontext\u001b[0m\u001b[0;34m.\u001b[0m\u001b[0masync_wait\u001b[0m\u001b[0;34m(\u001b[0m\u001b[0;34m)\u001b[0m\u001b[0;34m\u001b[0m\u001b[0m\n",
      "\u001b[0;32m/opt/anaconda3/envs/U4-S2-NN/lib/python3.7/site-packages/tensorflow/python/eager/def_function.py\u001b[0m in \u001b[0;36m__call__\u001b[0;34m(self, *args, **kwds)\u001b[0m\n\u001b[1;32m    826\u001b[0m     \u001b[0mtracing_count\u001b[0m \u001b[0;34m=\u001b[0m \u001b[0mself\u001b[0m\u001b[0;34m.\u001b[0m\u001b[0mexperimental_get_tracing_count\u001b[0m\u001b[0;34m(\u001b[0m\u001b[0;34m)\u001b[0m\u001b[0;34m\u001b[0m\u001b[0m\n\u001b[1;32m    827\u001b[0m     \u001b[0;32mwith\u001b[0m \u001b[0mtrace\u001b[0m\u001b[0;34m.\u001b[0m\u001b[0mTrace\u001b[0m\u001b[0;34m(\u001b[0m\u001b[0mself\u001b[0m\u001b[0;34m.\u001b[0m\u001b[0m_name\u001b[0m\u001b[0;34m)\u001b[0m \u001b[0;32mas\u001b[0m \u001b[0mtm\u001b[0m\u001b[0;34m:\u001b[0m\u001b[0;34m\u001b[0m\u001b[0m\n\u001b[0;32m--> 828\u001b[0;31m       \u001b[0mresult\u001b[0m \u001b[0;34m=\u001b[0m \u001b[0mself\u001b[0m\u001b[0;34m.\u001b[0m\u001b[0m_call\u001b[0m\u001b[0;34m(\u001b[0m\u001b[0;34m*\u001b[0m\u001b[0margs\u001b[0m\u001b[0;34m,\u001b[0m \u001b[0;34m**\u001b[0m\u001b[0mkwds\u001b[0m\u001b[0;34m)\u001b[0m\u001b[0;34m\u001b[0m\u001b[0m\n\u001b[0m\u001b[1;32m    829\u001b[0m       \u001b[0mcompiler\u001b[0m \u001b[0;34m=\u001b[0m \u001b[0;34m\"xla\"\u001b[0m \u001b[0;32mif\u001b[0m \u001b[0mself\u001b[0m\u001b[0;34m.\u001b[0m\u001b[0m_experimental_compile\u001b[0m \u001b[0;32melse\u001b[0m \u001b[0;34m\"nonXla\"\u001b[0m\u001b[0;34m\u001b[0m\u001b[0m\n\u001b[1;32m    830\u001b[0m       \u001b[0mnew_tracing_count\u001b[0m \u001b[0;34m=\u001b[0m \u001b[0mself\u001b[0m\u001b[0;34m.\u001b[0m\u001b[0mexperimental_get_tracing_count\u001b[0m\u001b[0;34m(\u001b[0m\u001b[0;34m)\u001b[0m\u001b[0;34m\u001b[0m\u001b[0m\n",
      "\u001b[0;32m/opt/anaconda3/envs/U4-S2-NN/lib/python3.7/site-packages/tensorflow/python/eager/def_function.py\u001b[0m in \u001b[0;36m_call\u001b[0;34m(self, *args, **kwds)\u001b[0m\n\u001b[1;32m    869\u001b[0m       \u001b[0;31m# This is the first call of __call__, so we have to initialize.\u001b[0m\u001b[0;34m\u001b[0m\u001b[0;34m\u001b[0m\u001b[0m\n\u001b[1;32m    870\u001b[0m       \u001b[0minitializers\u001b[0m \u001b[0;34m=\u001b[0m \u001b[0;34m[\u001b[0m\u001b[0;34m]\u001b[0m\u001b[0;34m\u001b[0m\u001b[0m\n\u001b[0;32m--> 871\u001b[0;31m       \u001b[0mself\u001b[0m\u001b[0;34m.\u001b[0m\u001b[0m_initialize\u001b[0m\u001b[0;34m(\u001b[0m\u001b[0margs\u001b[0m\u001b[0;34m,\u001b[0m \u001b[0mkwds\u001b[0m\u001b[0;34m,\u001b[0m \u001b[0madd_initializers_to\u001b[0m\u001b[0;34m=\u001b[0m\u001b[0minitializers\u001b[0m\u001b[0;34m)\u001b[0m\u001b[0;34m\u001b[0m\u001b[0m\n\u001b[0m\u001b[1;32m    872\u001b[0m     \u001b[0;32mfinally\u001b[0m\u001b[0;34m:\u001b[0m\u001b[0;34m\u001b[0m\u001b[0m\n\u001b[1;32m    873\u001b[0m       \u001b[0;31m# At this point we know that the initialization is complete (or less\u001b[0m\u001b[0;34m\u001b[0m\u001b[0;34m\u001b[0m\u001b[0m\n",
      "\u001b[0;32m/opt/anaconda3/envs/U4-S2-NN/lib/python3.7/site-packages/tensorflow/python/eager/def_function.py\u001b[0m in \u001b[0;36m_initialize\u001b[0;34m(self, args, kwds, add_initializers_to)\u001b[0m\n\u001b[1;32m    724\u001b[0m     self._concrete_stateful_fn = (\n\u001b[1;32m    725\u001b[0m         self._stateful_fn._get_concrete_function_internal_garbage_collected(  # pylint: disable=protected-access\n\u001b[0;32m--> 726\u001b[0;31m             *args, **kwds))\n\u001b[0m\u001b[1;32m    727\u001b[0m \u001b[0;34m\u001b[0m\u001b[0m\n\u001b[1;32m    728\u001b[0m     \u001b[0;32mdef\u001b[0m \u001b[0minvalid_creator_scope\u001b[0m\u001b[0;34m(\u001b[0m\u001b[0;34m*\u001b[0m\u001b[0munused_args\u001b[0m\u001b[0;34m,\u001b[0m \u001b[0;34m**\u001b[0m\u001b[0munused_kwds\u001b[0m\u001b[0;34m)\u001b[0m\u001b[0;34m:\u001b[0m\u001b[0;34m\u001b[0m\u001b[0m\n",
      "\u001b[0;32m/opt/anaconda3/envs/U4-S2-NN/lib/python3.7/site-packages/tensorflow/python/eager/function.py\u001b[0m in \u001b[0;36m_get_concrete_function_internal_garbage_collected\u001b[0;34m(self, *args, **kwargs)\u001b[0m\n\u001b[1;32m   2967\u001b[0m       \u001b[0margs\u001b[0m\u001b[0;34m,\u001b[0m \u001b[0mkwargs\u001b[0m \u001b[0;34m=\u001b[0m \u001b[0;32mNone\u001b[0m\u001b[0;34m,\u001b[0m \u001b[0;32mNone\u001b[0m\u001b[0;34m\u001b[0m\u001b[0m\n\u001b[1;32m   2968\u001b[0m     \u001b[0;32mwith\u001b[0m \u001b[0mself\u001b[0m\u001b[0;34m.\u001b[0m\u001b[0m_lock\u001b[0m\u001b[0;34m:\u001b[0m\u001b[0;34m\u001b[0m\u001b[0m\n\u001b[0;32m-> 2969\u001b[0;31m       \u001b[0mgraph_function\u001b[0m\u001b[0;34m,\u001b[0m \u001b[0m_\u001b[0m \u001b[0;34m=\u001b[0m \u001b[0mself\u001b[0m\u001b[0;34m.\u001b[0m\u001b[0m_maybe_define_function\u001b[0m\u001b[0;34m(\u001b[0m\u001b[0margs\u001b[0m\u001b[0;34m,\u001b[0m \u001b[0mkwargs\u001b[0m\u001b[0;34m)\u001b[0m\u001b[0;34m\u001b[0m\u001b[0m\n\u001b[0m\u001b[1;32m   2970\u001b[0m     \u001b[0;32mreturn\u001b[0m \u001b[0mgraph_function\u001b[0m\u001b[0;34m\u001b[0m\u001b[0m\n\u001b[1;32m   2971\u001b[0m \u001b[0;34m\u001b[0m\u001b[0m\n",
      "\u001b[0;32m/opt/anaconda3/envs/U4-S2-NN/lib/python3.7/site-packages/tensorflow/python/eager/function.py\u001b[0m in \u001b[0;36m_maybe_define_function\u001b[0;34m(self, args, kwargs)\u001b[0m\n\u001b[1;32m   3359\u001b[0m \u001b[0;34m\u001b[0m\u001b[0m\n\u001b[1;32m   3360\u001b[0m           \u001b[0mself\u001b[0m\u001b[0;34m.\u001b[0m\u001b[0m_function_cache\u001b[0m\u001b[0;34m.\u001b[0m\u001b[0mmissed\u001b[0m\u001b[0;34m.\u001b[0m\u001b[0madd\u001b[0m\u001b[0;34m(\u001b[0m\u001b[0mcall_context_key\u001b[0m\u001b[0;34m)\u001b[0m\u001b[0;34m\u001b[0m\u001b[0m\n\u001b[0;32m-> 3361\u001b[0;31m           \u001b[0mgraph_function\u001b[0m \u001b[0;34m=\u001b[0m \u001b[0mself\u001b[0m\u001b[0;34m.\u001b[0m\u001b[0m_create_graph_function\u001b[0m\u001b[0;34m(\u001b[0m\u001b[0margs\u001b[0m\u001b[0;34m,\u001b[0m \u001b[0mkwargs\u001b[0m\u001b[0;34m)\u001b[0m\u001b[0;34m\u001b[0m\u001b[0m\n\u001b[0m\u001b[1;32m   3362\u001b[0m           \u001b[0mself\u001b[0m\u001b[0;34m.\u001b[0m\u001b[0m_function_cache\u001b[0m\u001b[0;34m.\u001b[0m\u001b[0mprimary\u001b[0m\u001b[0;34m[\u001b[0m\u001b[0mcache_key\u001b[0m\u001b[0;34m]\u001b[0m \u001b[0;34m=\u001b[0m \u001b[0mgraph_function\u001b[0m\u001b[0;34m\u001b[0m\u001b[0m\n\u001b[1;32m   3363\u001b[0m \u001b[0;34m\u001b[0m\u001b[0m\n",
      "\u001b[0;32m/opt/anaconda3/envs/U4-S2-NN/lib/python3.7/site-packages/tensorflow/python/eager/function.py\u001b[0m in \u001b[0;36m_create_graph_function\u001b[0;34m(self, args, kwargs, override_flat_arg_shapes)\u001b[0m\n\u001b[1;32m   3204\u001b[0m             \u001b[0marg_names\u001b[0m\u001b[0;34m=\u001b[0m\u001b[0marg_names\u001b[0m\u001b[0;34m,\u001b[0m\u001b[0;34m\u001b[0m\u001b[0m\n\u001b[1;32m   3205\u001b[0m             \u001b[0moverride_flat_arg_shapes\u001b[0m\u001b[0;34m=\u001b[0m\u001b[0moverride_flat_arg_shapes\u001b[0m\u001b[0;34m,\u001b[0m\u001b[0;34m\u001b[0m\u001b[0m\n\u001b[0;32m-> 3206\u001b[0;31m             capture_by_value=self._capture_by_value),\n\u001b[0m\u001b[1;32m   3207\u001b[0m         \u001b[0mself\u001b[0m\u001b[0;34m.\u001b[0m\u001b[0m_function_attributes\u001b[0m\u001b[0;34m,\u001b[0m\u001b[0;34m\u001b[0m\u001b[0m\n\u001b[1;32m   3208\u001b[0m         \u001b[0mfunction_spec\u001b[0m\u001b[0;34m=\u001b[0m\u001b[0mself\u001b[0m\u001b[0;34m.\u001b[0m\u001b[0mfunction_spec\u001b[0m\u001b[0;34m,\u001b[0m\u001b[0;34m\u001b[0m\u001b[0m\n",
      "\u001b[0;32m/opt/anaconda3/envs/U4-S2-NN/lib/python3.7/site-packages/tensorflow/python/framework/func_graph.py\u001b[0m in \u001b[0;36mfunc_graph_from_py_func\u001b[0;34m(name, python_func, args, kwargs, signature, func_graph, autograph, autograph_options, add_control_dependencies, arg_names, op_return_value, collections, capture_by_value, override_flat_arg_shapes)\u001b[0m\n\u001b[1;32m    988\u001b[0m         \u001b[0m_\u001b[0m\u001b[0;34m,\u001b[0m \u001b[0moriginal_func\u001b[0m \u001b[0;34m=\u001b[0m \u001b[0mtf_decorator\u001b[0m\u001b[0;34m.\u001b[0m\u001b[0munwrap\u001b[0m\u001b[0;34m(\u001b[0m\u001b[0mpython_func\u001b[0m\u001b[0;34m)\u001b[0m\u001b[0;34m\u001b[0m\u001b[0m\n\u001b[1;32m    989\u001b[0m \u001b[0;34m\u001b[0m\u001b[0m\n\u001b[0;32m--> 990\u001b[0;31m       \u001b[0mfunc_outputs\u001b[0m \u001b[0;34m=\u001b[0m \u001b[0mpython_func\u001b[0m\u001b[0;34m(\u001b[0m\u001b[0;34m*\u001b[0m\u001b[0mfunc_args\u001b[0m\u001b[0;34m,\u001b[0m \u001b[0;34m**\u001b[0m\u001b[0mfunc_kwargs\u001b[0m\u001b[0;34m)\u001b[0m\u001b[0;34m\u001b[0m\u001b[0m\n\u001b[0m\u001b[1;32m    991\u001b[0m \u001b[0;34m\u001b[0m\u001b[0m\n\u001b[1;32m    992\u001b[0m       \u001b[0;31m# invariant: `func_outputs` contains only Tensors, CompositeTensors,\u001b[0m\u001b[0;34m\u001b[0m\u001b[0;34m\u001b[0m\u001b[0m\n",
      "\u001b[0;32m/opt/anaconda3/envs/U4-S2-NN/lib/python3.7/site-packages/tensorflow/python/eager/def_function.py\u001b[0m in \u001b[0;36mwrapped_fn\u001b[0;34m(*args, **kwds)\u001b[0m\n\u001b[1;32m    632\u001b[0m             \u001b[0mxla_context\u001b[0m\u001b[0;34m.\u001b[0m\u001b[0mExit\u001b[0m\u001b[0;34m(\u001b[0m\u001b[0;34m)\u001b[0m\u001b[0;34m\u001b[0m\u001b[0m\n\u001b[1;32m    633\u001b[0m         \u001b[0;32melse\u001b[0m\u001b[0;34m:\u001b[0m\u001b[0;34m\u001b[0m\u001b[0m\n\u001b[0;32m--> 634\u001b[0;31m           \u001b[0mout\u001b[0m \u001b[0;34m=\u001b[0m \u001b[0mweak_wrapped_fn\u001b[0m\u001b[0;34m(\u001b[0m\u001b[0;34m)\u001b[0m\u001b[0;34m.\u001b[0m\u001b[0m__wrapped__\u001b[0m\u001b[0;34m(\u001b[0m\u001b[0;34m*\u001b[0m\u001b[0margs\u001b[0m\u001b[0;34m,\u001b[0m \u001b[0;34m**\u001b[0m\u001b[0mkwds\u001b[0m\u001b[0;34m)\u001b[0m\u001b[0;34m\u001b[0m\u001b[0m\n\u001b[0m\u001b[1;32m    635\u001b[0m         \u001b[0;32mreturn\u001b[0m \u001b[0mout\u001b[0m\u001b[0;34m\u001b[0m\u001b[0m\n\u001b[1;32m    636\u001b[0m \u001b[0;34m\u001b[0m\u001b[0m\n",
      "\u001b[0;32m/opt/anaconda3/envs/U4-S2-NN/lib/python3.7/site-packages/tensorflow/python/framework/func_graph.py\u001b[0m in \u001b[0;36mwrapper\u001b[0;34m(*args, **kwargs)\u001b[0m\n\u001b[1;32m    975\u001b[0m           \u001b[0;32mexcept\u001b[0m \u001b[0mException\u001b[0m \u001b[0;32mas\u001b[0m \u001b[0me\u001b[0m\u001b[0;34m:\u001b[0m  \u001b[0;31m# pylint:disable=broad-except\u001b[0m\u001b[0;34m\u001b[0m\u001b[0m\n\u001b[1;32m    976\u001b[0m             \u001b[0;32mif\u001b[0m \u001b[0mhasattr\u001b[0m\u001b[0;34m(\u001b[0m\u001b[0me\u001b[0m\u001b[0;34m,\u001b[0m \u001b[0;34m\"ag_error_metadata\"\u001b[0m\u001b[0;34m)\u001b[0m\u001b[0;34m:\u001b[0m\u001b[0;34m\u001b[0m\u001b[0m\n\u001b[0;32m--> 977\u001b[0;31m               \u001b[0;32mraise\u001b[0m \u001b[0me\u001b[0m\u001b[0;34m.\u001b[0m\u001b[0mag_error_metadata\u001b[0m\u001b[0;34m.\u001b[0m\u001b[0mto_exception\u001b[0m\u001b[0;34m(\u001b[0m\u001b[0me\u001b[0m\u001b[0;34m)\u001b[0m\u001b[0;34m\u001b[0m\u001b[0m\n\u001b[0m\u001b[1;32m    978\u001b[0m             \u001b[0;32melse\u001b[0m\u001b[0;34m:\u001b[0m\u001b[0;34m\u001b[0m\u001b[0m\n\u001b[1;32m    979\u001b[0m               \u001b[0;32mraise\u001b[0m\u001b[0;34m\u001b[0m\u001b[0m\n",
      "\u001b[0;31mTypeError\u001b[0m: in user code:\n\n    /opt/anaconda3/envs/U4-S2-NN/lib/python3.7/site-packages/tensorflow/python/keras/engine/training.py:805 train_function  *\n        return step_function(self, iterator)\n    /opt/anaconda3/envs/U4-S2-NN/lib/python3.7/site-packages/tensorflow/python/keras/engine/training.py:795 step_function  **\n        outputs = model.distribute_strategy.run(run_step, args=(data,))\n    /opt/anaconda3/envs/U4-S2-NN/lib/python3.7/site-packages/tensorflow/python/distribute/distribute_lib.py:1259 run\n        return self._extended.call_for_each_replica(fn, args=args, kwargs=kwargs)\n    /opt/anaconda3/envs/U4-S2-NN/lib/python3.7/site-packages/tensorflow/python/distribute/distribute_lib.py:2730 call_for_each_replica\n        return self._call_for_each_replica(fn, args, kwargs)\n    /opt/anaconda3/envs/U4-S2-NN/lib/python3.7/site-packages/tensorflow/python/distribute/distribute_lib.py:3417 _call_for_each_replica\n        return fn(*args, **kwargs)\n    /opt/anaconda3/envs/U4-S2-NN/lib/python3.7/site-packages/tensorflow/python/keras/engine/training.py:788 run_step  **\n        outputs = model.train_step(data)\n    /opt/anaconda3/envs/U4-S2-NN/lib/python3.7/site-packages/tensorflow/python/keras/engine/training.py:756 train_step\n        y, y_pred, sample_weight, regularization_losses=self.losses)\n    /opt/anaconda3/envs/U4-S2-NN/lib/python3.7/site-packages/tensorflow/python/keras/engine/base_layer.py:1477 losses\n        loss_tensor = regularizer()\n    /opt/anaconda3/envs/U4-S2-NN/lib/python3.7/site-packages/tensorflow/python/keras/engine/base_layer.py:1553 _tag_callable\n        loss = loss()\n    /opt/anaconda3/envs/U4-S2-NN/lib/python3.7/site-packages/tensorflow/python/keras/engine/base_layer.py:2500 _loss_for_variable\n        regularization = regularizer(v)\n    <ipython-input-39-920ec7cc31e1>:80 __call__\n        self.calc_squared_vector_comps()\n    <ipython-input-39-920ec7cc31e1>:43 calc_squared_vector_comps\n        self.squared_vector_comps = list(map(lambda y: abs(float(y))**self.p, self.x))\n    /opt/anaconda3/envs/U4-S2-NN/lib/python3.7/site-packages/tensorflow/python/ops/variables.py:1116 __iter__\n        raise TypeError(\"'Variable' object is not iterable.\")\n\n    TypeError: 'Variable' object is not iterable.\n"
     ]
    }
   ],
   "source": [
    "model_custom_l2 = create_model(reg=lp)\n",
    "custom_l2_results = model_custom_l2.fit(X_train, y_train,\n",
    "                                      epochs=1,\n",
    "                                      validation_data=(X_test, y_test), \n",
    "                                      workers=10) \n",
    "# check! You might not be able to use 10 processors on your machine "
   ]
  },
  {
   "cell_type": "markdown",
   "metadata": {},
   "source": [
    "----\n",
    "### Compare Model Results\n",
    "\n",
    "Let's compare the modeling results between the two models. \n",
    "\n",
    "Whatever the specific test accuracies are, it should be the case that using our custom class leads to slightly better results than using the Keras version of $L_2$ regularization.\n",
    "\n",
    "There a small difference between test accuracies, possible due to the random sampling for the initial weight values. But also possibly from the observation that we made above - Keras isn't taking the square root. "
   ]
  },
  {
   "cell_type": "code",
   "execution_count": null,
   "metadata": {},
   "outputs": [],
   "source": [
    "_, keras_acc = model_keras_l2.evaluate(X_test, y_test)"
   ]
  },
  {
   "cell_type": "code",
   "execution_count": null,
   "metadata": {},
   "outputs": [],
   "source": [
    "_, custom_acc = model_custom_l2.evaluate(X_test, y_test)"
   ]
  },
  {
   "cell_type": "markdown",
   "metadata": {},
   "source": [
    "\n",
    "### Conclusion \n",
    "\n",
    "In this experiment, we have bridged the gap between the theory of **$L_p$ Space Regularization** and the practice of using the general formula as a starting point to derive and build our very own regularizers. \n",
    "\n",
    "This experiment (and the Perceptron that we build from scratch in Sprint 2 Module 1) are examples of **mathematical algorithms** - an algorithm in mathematics is a procedure, a description of a set of steps that can be used to solve a mathematical computation.\n",
    "\n",
    "It's one thing to use open-source pre-built mathematical algorithms like Keras regularizers and Sklearn ML models but it's quite another thing to build them from scratch. \n",
    "\n",
    "In industry, you'll need to know when you should build something from scratch and when to use an open source solution. The rule of thumb is don't build it if someone else already has because maintaining the code and fixing bugs is something that other developers (ie. the open-source community) can spend their time on and you don't have to. But if an open source solution doesn't exist for a solution that you need, then you'll need to build it or try an alternative solution.\n",
    "\n",
    "It's a good thing you're taking the time to practice building some mathematical algorithms from scratch. It's a very valuable skill to have. "
   ]
  },
  {
   "cell_type": "markdown",
   "metadata": {},
   "source": [
    "-----\n",
    "# GridSearch Experiments \n",
    "\n",
    "The next set of experiments will all involve gridsearching regularization parameter values. \n",
    "\n",
    "The rest of the notebook will actually require very little coding on your part. Instead, the focus is for you to run those gridsearches and answer the questions at the end of each experiment. Those questions are designed to help you capture the insights that there are to learn from each of the experiments. \n",
    "\n",
    "All of the following experiments are designed to help you better understand the relationship between the various regularization techniques and how they affect model performance. \n",
    "\n",
    "\n",
    "### Build Model\n",
    "\n",
    "Let's build out the model that we'll be using all throughout our experiments. \n",
    "\n",
    "Remember that **the whole point of regularization is to prevent overfitting.**\n",
    "\n",
    "\n",
    "![](https://hackernoon.com/hn-images/1*vuZxFMi5fODz2OEcpG-S1g.png)\n",
    "\n",
    "Overfitting happens when are model's are too complex, so in order to see a benefit from the use of regularization techniques we need to build a relatively complex model. \n",
    "\n",
    "Having said that, you might not have the computational resource to be able to train a complex model in a reasonable amount of time. So if this describes you, then you might want to consider using `build_simple_model`. Otherwise, I recommend that you use `build_complex_model`. \n",
    "\n",
    "This notebook will be using  `build_complex_model` to run our experiments. \n",
    "\n",
    "**NOTE:** Whichever function you end up using to build a model, take time to read through the code and make sure you understand what is happening. "
   ]
  },
  {
   "cell_type": "code",
   "execution_count": null,
   "metadata": {},
   "outputs": [],
   "source": [
    "def build_complex_model(Lp_reg=None, reg_penality=None, dropout_prob=0.0, maxnorm_wc=None):\n",
    "    \"\"\"\n",
    "    Build and return a regularized 3 hidden layer FCFF model \n",
    "    \n",
    "    Parameters\n",
    "    ----------\n",
    "    Lp_reg: None or object\n",
    "        If object, Lp_reg is either l1 or l2 regularization \n",
    "        If None, that means that l1 or l2 regularization will not be used.\n",
    "     \n",
    "    reg_penality: None or float\n",
    "        If float, reg_penality is a value typically between 1.0 and 0.0001\n",
    "        This is the regularization strength for l1 or l2 \n",
    "        \n",
    "        \n",
    "    dropout_prob: float\n",
    "        This is the probability that dropout regularization will exclude a node from a training iteration. \n",
    "        If this value is 0.0, that means that dropout will not be used. \n",
    "        \n",
    "    maxnorm_wc: None or float\n",
    "        If float, maxnorm_wc is the weight constraint that is used for Max Norm regularization\n",
    "        If None, that means that Max Norm regularization will not be used.\n",
    "        \n",
    "        \n",
    "    Return\n",
    "    ------\n",
    "    model: complied Keras model\n",
    "    \"\"\"\n",
    "    \n",
    "    # if reg_type is not None, then pass in the penality strength to whatever form of Lp space regularization this is \n",
    "    if Lp_reg is not None:\n",
    "        Lp_regularizer = Lp_reg(reg_penality)\n",
    "    else:\n",
    "        Lp_regularizer = None\n",
    "                \n",
    "    if maxnorm_wc is not None:\n",
    "        wc = MaxNorm(max_value=maxnorm_wc)\n",
    "    else:\n",
    "        wc = None\n",
    "\n",
    "\n",
    "    # instantiate Sequential class\n",
    "    model = Sequential([\n",
    "\n",
    "    # flatten images \n",
    "    Flatten(input_shape=(28,28)),\n",
    "\n",
    "    # hidden layer 1\n",
    "    Dense(500, kernel_regularizer=Lp_regularizer , kernel_constraint=wc), # remember that Keras refers to weight matrix as a kernel, i.e. weights = kernel\n",
    "    # act func 1\n",
    "    ReLU(negative_slope=0.01),\n",
    "    Dropout(dropout_prob),\n",
    "\n",
    "    # hidden layer 2\n",
    "    Dense(250, kernel_regularizer=Lp_regularizer, kernel_constraint=wc),\n",
    "    # act func 2\n",
    "    ReLU(negative_slope=0.01),\n",
    "    Dropout(dropout_prob),\n",
    "\n",
    "    # hidden layer 3\n",
    "    Dense(100, kernel_regularizer=Lp_regularizer, kernel_constraint=wc),\n",
    "    # act func 2\n",
    "    ReLU(negative_slope=0.01),\n",
    "    Dropout(dropout_prob),\n",
    "\n",
    "    # output layer   \n",
    "    Dense(N_labels, activation=\"softmax\")  \n",
    "\n",
    "    ])\n",
    "    # complie model \n",
    "    model.compile(loss=\"sparse_categorical_crossentropy\", \n",
    "                 optimizer=\"adam\", \n",
    "                 metrics=[\"accuracy\"])\n",
    "    \n",
    "    return model"
   ]
  },
  {
   "cell_type": "markdown",
   "metadata": {},
   "source": [
    "Again, only use `build_simple_model` instead of `build_complex_model` if you're working on a machine with very limited computational resource. "
   ]
  },
  {
   "cell_type": "code",
   "execution_count": null,
   "metadata": {
    "colab": {},
    "colab_type": "code",
    "id": "USXjs7Hk71Hy"
   },
   "outputs": [],
   "source": [
    "# def build_simple_model(Lp_reg=None, reg_penality=None, dropout_prob=0, maxnorm_wc=None):\n",
    "#     \"\"\"\n",
    "#     Build and return a regularized 1 hidden layer FCFF model \n",
    "    \n",
    "#     Parameters\n",
    "#     ----------\n",
    "#     Lp_reg: None or object\n",
    "#         If object, Lp_reg is either l1 or l2 regularization \n",
    "#         If None, that means that l1 or l2 regularization will not be used.\n",
    "     \n",
    "#     reg_penality: None or float\n",
    "#         If float, reg_penality is a value typically between 1.0 and 0.0001\n",
    "#         This is the regularization strength for l1 or l2 \n",
    "        \n",
    "        \n",
    "#     dropout_prob: float\n",
    "#         This is the probability that dropout regularization will exclude a node from a training iteration. \n",
    "#         If this value is 0.0, that means that dropout will not be used. \n",
    "        \n",
    "#     maxnorm_wc: None or float\n",
    "#         If float, maxnorm_wc is the weight constraint that is used for Max Norm regularization\n",
    "#         If None, that means that Max Norm regularization will not be used.\n",
    "        \n",
    "        \n",
    "#     Return\n",
    "#     ------\n",
    "#     model: complied Keras model\n",
    "#     \"\"\"\n",
    "    \n",
    "#     if Lp_reg is not None:\n",
    "#         Lp_regularizer = Lp_reg(reg_penality)\n",
    "#     else:\n",
    "#         Lp_regularizer = None\n",
    "\n",
    "#     # instantiate Sequential class\n",
    "#     model = Sequential([\n",
    "\n",
    "#     # flatten images \n",
    "#     Flatten(input_shape=(28,28)),\n",
    "\n",
    "#     # hidden layer 1\n",
    "#     Dense(128,  kernel_regularizer=Lp_regularizer, kernel_constraint=maxnorm_wc), # remember that Keras refers to weight matrix as a kernel, i.e. weights = kernel\n",
    "#     # act func 1\n",
    "#     ReLU(negative_slope=0.01),\n",
    "#     Dropout(p_dropout),\n",
    "\n",
    "#     # output layer   \n",
    "#     Dense(N_labels, activation=\"softmax\")  \n",
    "\n",
    "#     ])\n",
    "#     # complie model \n",
    "#     model.compile(loss=\"sparse_categorical_crossentropy\", \n",
    "#                  optimizer=\"adam\", \n",
    "#                  metrics=[\"accuracy\"])\n",
    "    \n",
    "#     return model"
   ]
  },
  {
   "cell_type": "markdown",
   "metadata": {},
   "source": [
    "Since we'll be using Sklearn's GridserchCV class, we need to wrap our Keras models in `KerasClassifier`"
   ]
  },
  {
   "cell_type": "code",
   "execution_count": null,
   "metadata": {},
   "outputs": [],
   "source": [
    "# remember to wrap KerasClassifier around build_model for sklearn's GridsearchCV compatibility \n",
    "model = KerasClassifier(build_fn = build_complex_model)"
   ]
  },
  {
   "cell_type": "markdown",
   "metadata": {},
   "source": [
    "-------\n",
    "\n",
    "# Experiment 1: Identify the relationship between model performance and L2 penalty strength\n",
    "\n",
    "![](https://www.researchgate.net/publication/334159821/figure/fig1/AS:776025558495234@1562030319993/Ridge-regression-variable-selection.png)\n",
    "\n",
    "We are going to run a gridsearch soley on the l2 regularization penalty value and see the effect this has on model performance. \n",
    "\n",
    "By running a gridseach on only a single hyperparameter (while using the same data and model) we can isolate the effect of that hyperparameter. "
   ]
  },
  {
   "cell_type": "code",
   "execution_count": null,
   "metadata": {},
   "outputs": [],
   "source": [
    "# build out our hyperparameter dictionary \n",
    "hyper_parameters = {\n",
    "    # take note that Lp_reg penalty/strength values are in powers of 10 \n",
    "    \"reg_penality\": [1.0, 0.1, 0.01, 0.001, 0.0001, 0.00001], \n",
    "    # Since we only want to test l2, provide l2 as the sole option \n",
    "    \"Lp_reg\": [l2],\n",
    "    # default is 1, in order to change it we must provide value here because we can't provide a parameter value for model.fit() directly when using gridsearch\n",
    "    # protip: consider chanign epochs to 1 if the gridsearche run-time are too long for you\n",
    "    \"epochs\": [1] \n",
    "}"
   ]
  },
  {
   "cell_type": "code",
   "execution_count": null,
   "metadata": {
    "colab": {},
    "colab_type": "code",
    "id": "USXjs7Hk71Hy"
   },
   "outputs": [],
   "source": [
    "start=time()\n",
    "# Create and run Grid Search\n",
    "grid = GridSearchCV(estimator=model, \n",
    "                    param_grid=hyper_parameters, \n",
    "                    n_jobs=-3, \n",
    "                    verbose=1, \n",
    "                    cv=2)\n",
    "\n",
    "grid_result = grid.fit(X_train, y_train)\n",
    "end=time()"
   ]
  },
  {
   "cell_type": "code",
   "execution_count": null,
   "metadata": {},
   "outputs": [],
   "source": [
    "print(\"Gridsearch runtime {0:.3} mins\".format( (end-start)/60 ))"
   ]
  },
  {
   "cell_type": "code",
   "execution_count": null,
   "metadata": {},
   "outputs": [],
   "source": [
    "# use the mean accuracy from the CV splits for determining best model score \n",
    "means = grid_result.cv_results_['mean_test_score']\n",
    "stds = grid_result.cv_results_['std_test_score']\n",
    "params = grid_result.cv_results_['params']\n",
    "\n",
    "# move l2 penalty values outside of dictionary and into a list\n",
    "param_values = [dic[\"reg_penality\"] for dic in params]\n",
    "\n",
    "# plot accuracy vs l2_reg_penalty\n",
    "plt.figure(figsize=(20,6))\n",
    "plt.grid()\n",
    "\n",
    "# this plot is using the std of the CV splits to plot error bars however those values are so small that they aren't visable\n",
    "plt.errorbar(param_values, means, yerr=stds, ecolor=\"orange\")\n",
    "plt.xscale(\"log\") # use a log scale for ease of reading, recall that l2_reg_penalty were in powers of 10 \n",
    "plt.title(\"L2 Regularization: Model Accuracy vs L2 Penalty Strength\")\n",
    "plt.ylabel(\"Validation Accuracy\", )\n",
    "plt.xlabel(\"L2 Penalty Strength usng a Log Scale\");"
   ]
  },
  {
   "cell_type": "markdown",
   "metadata": {},
   "source": [
    "### Observations\n",
    "\n",
    "Write down some observations. What do you notice from the plot?"
   ]
  },
  {
   "cell_type": "markdown",
   "metadata": {
    "deletable": false,
    "nbgrader": {
     "cell_type": "markdown",
     "checksum": "089b55b5a84d9c96c51fd341d9e6c74f",
     "grade": true,
     "grade_id": "cell-010212fc0915b976",
     "locked": false,
     "points": 0,
     "schema_version": 3,
     "solution": true,
     "task": false
    }
   },
   "source": [
    "YOUR ANSWER HERE"
   ]
  },
  {
   "cell_type": "markdown",
   "metadata": {},
   "source": [
    "\n",
    "## Compare Weights between Best and Worse Model \n",
    "\n",
    "Next, we are going to compare the hidden layer weights between the best and worse performing model while taking note of the respective l2 penalty strengths."
   ]
  },
  {
   "cell_type": "code",
   "execution_count": null,
   "metadata": {},
   "outputs": [],
   "source": [
    "# get the best l2 penalty term \n",
    "best_lr_penalty = grid_result.best_params_[\"reg_penality\"]\n",
    "\n",
    "# get the best trained model \n",
    "best_model = grid_result.best_estimator_.build_fn(Lp_reg=l2, reg_penality=best_lr_penalty)\n",
    "\n",
    "# get the weights from the best trained model \n",
    "best_weights = best_model.get_weights()"
   ]
  },
  {
   "cell_type": "code",
   "execution_count": null,
   "metadata": {},
   "outputs": [],
   "source": [
    "# train a model using the l2_reg_penalty value at scored the lowest \n",
    "worse_l2_reg_penalty = 1.0\n",
    "\n",
    "worse_model = build_complex_model(Lp_reg=l2, reg_penality=worse_l2_reg_penalty)\n",
    "\n",
    "# fit model \n",
    "worse_model.fit(X_train, y_train, epochs=1)\n",
    "\n",
    "# get weights from worse performing model \n",
    "worse_weights = worse_model.get_weights()"
   ]
  },
  {
   "cell_type": "markdown",
   "metadata": {},
   "source": [
    "-----\n",
    "## Understanding how Weights and Biases are stored"
   ]
  },
  {
   "cell_type": "markdown",
   "metadata": {},
   "source": [
    "Let's take a minute to understand that`.get_weights()` returns a list with 8 elements (if you're using `build_complex_model`)."
   ]
  },
  {
   "cell_type": "code",
   "execution_count": null,
   "metadata": {},
   "outputs": [],
   "source": [
    "len(best_weights)"
   ]
  },
  {
   "cell_type": "markdown",
   "metadata": {},
   "source": [
    "There are **weights matrices and bias vectors between each layer** and we have 5 layers. \n",
    "\n",
    "- Input\n",
    "- Hidden 1\n",
    "- Hidden 2\n",
    "- Hidden 3\n",
    "- Output \n",
    "\n",
    "So that means we should have 4 weight matrices, but we see 8. **There are also 4 weight vectors for the biases between each layer.** So that accounts for the 8. \n",
    "\n",
    "\n",
    "#### Index for Weight Matrices \n",
    "If you index for a weight matrix, you can see its shape and that they are indeed matrices. \n",
    "\n",
    "Notice how you can see the dims of the layers that the matrices are sandwiched between?\n",
    "\n",
    "Input layer has 784 dims and hidden layer 1 has 500 dims. Given this understanding, the numbers you see in the shapes should make sense. "
   ]
  },
  {
   "cell_type": "code",
   "execution_count": null,
   "metadata": {},
   "outputs": [],
   "source": [
    "# bewteen input and 1st hidden layer\n",
    "best_weights[0].shape"
   ]
  },
  {
   "cell_type": "code",
   "execution_count": null,
   "metadata": {},
   "outputs": [],
   "source": [
    "# bewteen 1st and 2nd hidden layer\n",
    "best_weights[2].shape"
   ]
  },
  {
   "cell_type": "code",
   "execution_count": null,
   "metadata": {},
   "outputs": [],
   "source": [
    "# bewteen 2st and 3nd hidden layer\n",
    "best_weights[4].shape"
   ]
  },
  {
   "cell_type": "code",
   "execution_count": null,
   "metadata": {},
   "outputs": [],
   "source": [
    "# bewteen 3rd hidden layer and output layer\n",
    "best_weights[6].shape"
   ]
  },
  {
   "cell_type": "markdown",
   "metadata": {},
   "source": [
    "#### Index for the bias vectors\n",
    "\n",
    "The shapes of the bias vectors should exactly match up the dims/nodes of each layer (excluding the input layer). "
   ]
  },
  {
   "cell_type": "code",
   "execution_count": null,
   "metadata": {},
   "outputs": [],
   "source": [
    "# for hidden layer 1 \n",
    "best_weights[1].shape"
   ]
  },
  {
   "cell_type": "code",
   "execution_count": null,
   "metadata": {},
   "outputs": [],
   "source": [
    "# for hidden layer 2 \n",
    "best_weights[3].shape"
   ]
  },
  {
   "cell_type": "code",
   "execution_count": null,
   "metadata": {},
   "outputs": [],
   "source": [
    "# for hidden layer 3\n",
    "best_weights[5].shape"
   ]
  },
  {
   "cell_type": "code",
   "execution_count": null,
   "metadata": {},
   "outputs": [],
   "source": [
    "# for output layer\n",
    "best_weights[7].shape"
   ]
  },
  {
   "cell_type": "markdown",
   "metadata": {},
   "source": [
    "-----\n",
    "\n",
    "### Back to our Analysis of L2 space regularization (also known as Ridge)\n",
    "\n",
    "Let's do a comparison of the first weight matrix (between the input and 1st hidden layer) for the best and worse performing model as well as with the initial weight values that are randomly sampled from the GlorotUniform distribution.\n",
    "\n",
    "[**Check out the Keras docs for the Dense layer**](https://keras.io/api/layers/core_layers/dense/), you'll see that GlorotUniform is the default weight initializer. "
   ]
  },
  {
   "cell_type": "markdown",
   "metadata": {},
   "source": [
    "Before we compare weights, let's take note of the following. \n",
    "\n",
    "Both `best_weights[0]` or `worse_weights[0]` are matrices with shape `(784, 500)`. \n",
    "\n",
    "If we flatten them, then we get `784 * 500 = 392000` weights. What does this mean exactly?\n",
    "\n",
    "Remember that we are working with the Fully Connected Forward Feeding model which looks something like this. \n",
    "\n",
    "![](https://pyimagesearch.com/wp-content/uploads/2016/08/simple_neural_network_header.jpg)\n",
    "\n",
    "The important thing to notice is that in `Fully Connected` models, each component in the input vectors gets passed to all the nodes in next layer. This means for our input vector with 784 dims, there are 784 **$w_1$** weights, each with a slightly different value, one for each of the 784 components in the input vector. \n",
    "\n",
    "So to keep our analysis simple, we are going to just analyze one column of the weight matrix. You could index for whatever column you want, but this notebook will assume that you have indexed for the weights in column one. This means that we will compare the affect that regularization had on all of the 784 **$w_1$** weights that exist in 500 dimensional space of hidden layer 1. \n",
    "\n",
    "In other words, by looking at just one column, we are narrowing our analysis to the distribution of values for w_1 oppose to mixing together the distributions of all the weights w_1, w_2, ..., w_500. This is done for simplicity of analysis, the goal being to empirically observe the affect of regularization on the weights. "
   ]
  },
  {
   "cell_type": "code",
   "execution_count": null,
   "metadata": {
    "deletable": false,
    "nbgrader": {
     "cell_type": "code",
     "checksum": "a3f75126a80a74dd71fb0a9ab2b8b89f",
     "grade": false,
     "grade_id": "cell-7882876b8973bc7b",
     "locked": false,
     "schema_version": 3,
     "solution": true,
     "task": false
    }
   },
   "outputs": [],
   "source": [
    "# index for the 1st column in the 1st hidden layer weights in best_weights and save to best_hidden_weights\n",
    "\n",
    "# index for the 1st column in the 1st hidden layer weights in worse_weights and save to worse_hidden_weights\n",
    "\n",
    "# Keras models randomly samples from the GlorotUniform distribution for the initial values of model weights \n",
    "# instantiate GlorotUniform and sample 500 weights and save to initial_weight_values\n",
    "# hint: use shape=(500,1)\n",
    "\n",
    "# lastly, flatten all of the above 3 variables so that you go from a matrix to a vector \n",
    "# otherwise, pandas will not like you and throw a fit \n",
    "\n",
    "# YOUR CODE HERE\n",
    "raise NotImplementedError()"
   ]
  },
  {
   "cell_type": "code",
   "execution_count": null,
   "metadata": {},
   "outputs": [],
   "source": [
    "# move all weights to a dataframe for ease of analysis \n",
    "cols = [\"best_hidden_weights\", \"worse_hidden_weights\", \"initial_weight_values\"]\n",
    "data = [best_hidden_weights, worse_hidden_weights, initial_weight_values]\n",
    "df = pd.DataFrame(data=data).T\n",
    "df.columns = cols"
   ]
  },
  {
   "cell_type": "code",
   "execution_count": null,
   "metadata": {},
   "outputs": [],
   "source": [
    "# check out the statistics for each weight column \n",
    "df.describe()"
   ]
  },
  {
   "cell_type": "code",
   "execution_count": null,
   "metadata": {},
   "outputs": [],
   "source": [
    "# plot the distributions for each weight column \n",
    "df.hist(figsize=(20,12));"
   ]
  },
  {
   "cell_type": "markdown",
   "metadata": {},
   "source": [
    "## Observations \n",
    "\n",
    "Take a look at the statistical table and the plots. Then answer the following questions. \n",
    "\n",
    "**How do the hidden layer weights from the best performing model compare to the initial weight values?**"
   ]
  },
  {
   "cell_type": "markdown",
   "metadata": {
    "deletable": false,
    "nbgrader": {
     "cell_type": "markdown",
     "checksum": "5eacb66f89b216ae3b4bb3c4b7bd6d38",
     "grade": true,
     "grade_id": "cell-6add7cc400c4c716",
     "locked": false,
     "points": 0,
     "schema_version": 3,
     "solution": true,
     "task": false
    }
   },
   "source": [
    "YOUR ANSWER HERE"
   ]
  },
  {
   "cell_type": "markdown",
   "metadata": {},
   "source": [
    "**What was the effect of using a small l2 penalty value?**"
   ]
  },
  {
   "cell_type": "markdown",
   "metadata": {
    "deletable": false,
    "nbgrader": {
     "cell_type": "markdown",
     "checksum": "92ac1689b72d727ab7f4d261c5e76daa",
     "grade": true,
     "grade_id": "cell-5b4f11bba2d49639",
     "locked": false,
     "points": 0,
     "schema_version": 3,
     "solution": true,
     "task": false
    }
   },
   "source": [
    "YOUR ANSWER HERE"
   ]
  },
  {
   "cell_type": "markdown",
   "metadata": {},
   "source": [
    "**What was the effect of using a large l2 penalty value?**"
   ]
  },
  {
   "cell_type": "markdown",
   "metadata": {
    "deletable": false,
    "nbgrader": {
     "cell_type": "markdown",
     "checksum": "3048a6d2805f61d6fb58372c42c3ac54",
     "grade": true,
     "grade_id": "cell-0a30b62e5e119555",
     "locked": false,
     "points": 0,
     "schema_version": 3,
     "solution": true,
     "task": false
    }
   },
   "source": [
    "YOUR ANSWER HERE"
   ]
  },
  {
   "cell_type": "markdown",
   "metadata": {},
   "source": [
    "**Given what you know about L2 regularization, are you surprised by these results?**"
   ]
  },
  {
   "cell_type": "markdown",
   "metadata": {
    "deletable": false,
    "nbgrader": {
     "cell_type": "markdown",
     "checksum": "d8a2034f67badfe53f601873f7026dc0",
     "grade": true,
     "grade_id": "cell-c04d067161064011",
     "locked": false,
     "points": 0,
     "schema_version": 3,
     "solution": true,
     "task": false
    }
   },
   "source": [
    "YOUR ANSWER HERE"
   ]
  },
  {
   "cell_type": "markdown",
   "metadata": {},
   "source": [
    "----\n",
    "\n",
    "# Experiment 2: Identify the relationship between model performance and Max Norm Weight Constraint\n",
    "\n",
    "![](https://qph.fs.quoracdn.net/main-qimg-9d0dbf8074761b541ba80543ddfc9f73.webp)\n",
    "\n",
    "Recall from lecture that the **Norm** of a vector is just another word for the **length** of a vector.\n",
    "\n",
    "MaxNorm weight constraint puts a limit on the length of a weight vector.\n",
    "\n",
    "$$ \\text{Max_value_of_norm} >= {\\displaystyle \\left\\|x\\right\\|_{p}=\\left(|x_{1}|^{p}+|x_{2}|^{p}+\\dotsb +|x_{n}|^{p}\\right)^{1/p}.}$$  \n",
    "\n",
    "The effect that Lp regularization and Max Norm Weight Constraint have on the weights should be the same, but they go about it in different ways. \n",
    "\n",
    "Lp regularization (l1/Lasso and l2/Ridge) shrink the value of the weights. Where as Max Norm Weight Constraint puts a limit on how big the weight vector can be which, in effect, keeps the individual weight values small enough to keep the norm below that limit. \n",
    "\n",
    "In this experiment, we are going to run another gridseach but instead of using Lp space regularization as we did in the previous experiment, we are going to use MaxNorm and see what kind of effect that this type of regularization has on model performance and the learned weights. "
   ]
  },
  {
   "cell_type": "markdown",
   "metadata": {},
   "source": [
    "Since we already built our model, we just need to update the `hyper_parameters` dictionary. "
   ]
  },
  {
   "cell_type": "code",
   "execution_count": null,
   "metadata": {},
   "outputs": [],
   "source": [
    "# build out our hyperparameter dictionary \n",
    "hyper_parameters = {\n",
    "    \n",
    "    \"maxnorm_wc\": np.linspace(0.5, 10.0, num=20), \n",
    "    # default is 1, in order to change it we must provide value here because we can't provide a parameter value for model.fit() directly when using gridsearch\n",
    "    # protip: consider changing epochs to 1 if the gridsearche run-time are too long for you    \n",
    "    \"epochs\": [1] \n",
    "}\n",
    "\n",
    "hyper_parameters"
   ]
  },
  {
   "cell_type": "code",
   "execution_count": null,
   "metadata": {},
   "outputs": [],
   "source": [
    "start=time()\n",
    "# Create and run Grid Search\n",
    "grid = GridSearchCV(estimator=model, \n",
    "                    param_grid=hyper_parameters, \n",
    "                    n_jobs=-2, \n",
    "                    verbose=1, \n",
    "                    cv=2)\n",
    "\n",
    "grid_result = grid.fit(X_train, y_train)\n",
    "end=time()"
   ]
  },
  {
   "cell_type": "code",
   "execution_count": null,
   "metadata": {},
   "outputs": [],
   "source": [
    "print(\"Gridsearch runtime {0:.3} mins\".format( (end-start)/60 ))"
   ]
  },
  {
   "cell_type": "code",
   "execution_count": null,
   "metadata": {},
   "outputs": [],
   "source": [
    "# use the mean accuracy from the CV splits for determining best model score \n",
    "means = grid.cv_results_['mean_test_score']\n",
    "stds = grid.cv_results_['std_test_score']\n",
    "params = grid.cv_results_['params']\n",
    "\n",
    "# move l2 penalty values outside of dictionary and into a list\n",
    "param_values = [dic[\"maxnorm_wc\"] for dic in params]\n",
    "\n",
    "# plot accuracy vs l2_reg_penalty\n",
    "plt.figure(figsize=(20,6))\n",
    "plt.grid()\n",
    "plt.errorbar(param_values, means, yerr=stds, ecolor=\"orange\")\n",
    "plt.title(\"L1 Regularization: Model Accuracy vs L1 Penalty Strength\")\n",
    "plt.ylabel(\"Validation Accuracy\", )\n",
    "plt.xlabel(\"Max Norm for Weight Vector \");"
   ]
  },
  {
   "cell_type": "code",
   "execution_count": null,
   "metadata": {
    "deletable": false,
    "nbgrader": {
     "cell_type": "code",
     "checksum": "cfe7bd54a7a14ba7ee63c88d6d1828b4",
     "grade": false,
     "grade_id": "cell-f67372e0b9b30614",
     "locked": false,
     "schema_version": 3,
     "solution": true,
     "task": false
    }
   },
   "outputs": [],
   "source": [
    "# get the best l2 penalty term from grid and save to best_max_norm_val\n",
    "\n",
    "# get the best trained model from grid and save to best_model\n",
    "\n",
    "# get the weights from the best trained model and save to best_weights\n",
    "\n",
    "# YOUR CODE HERE\n",
    "raise NotImplementedError()"
   ]
  },
  {
   "cell_type": "code",
   "execution_count": null,
   "metadata": {},
   "outputs": [],
   "source": [
    "best_max_norm_val"
   ]
  },
  {
   "cell_type": "code",
   "execution_count": null,
   "metadata": {},
   "outputs": [],
   "source": [
    "# we see that the norm of our weights are indeed below the maximum allowed value \n",
    "np.linalg.norm(best_weights[0][0])"
   ]
  },
  {
   "cell_type": "code",
   "execution_count": null,
   "metadata": {
    "deletable": false,
    "nbgrader": {
     "cell_type": "code",
     "checksum": "67f65bd636e3b3b3bc7d20c02ba6b666",
     "grade": false,
     "grade_id": "cell-e752c1a8c853985d",
     "locked": false,
     "schema_version": 3,
     "solution": true,
     "task": false
    }
   },
   "outputs": [],
   "source": [
    "# train a model using the max_norm_val value that scored the lowest \n",
    "\n",
    "# build a model using build_complex_model and worse_max_norm_val and save it to worse_model\n",
    "\n",
    "# fit model \n",
    "\n",
    "# get weights from worse performing model \n",
    "\n",
    "\n",
    "# YOUR CODE HERE\n",
    "raise NotImplementedError()"
   ]
  },
  {
   "cell_type": "code",
   "execution_count": null,
   "metadata": {
    "deletable": false,
    "nbgrader": {
     "cell_type": "code",
     "checksum": "a38d5d4db707124b31a662fb4743b049",
     "grade": false,
     "grade_id": "cell-5c1aa4543e68487d",
     "locked": false,
     "schema_version": 3,
     "solution": true,
     "task": false
    }
   },
   "outputs": [],
   "source": [
    "# YOUR CODE HERE\n",
    "raise NotImplementedError()"
   ]
  },
  {
   "cell_type": "code",
   "execution_count": null,
   "metadata": {},
   "outputs": [],
   "source": [
    "# move all weights to a dataframe for ease of analysis \n",
    "cols = [\"best_hidden_weights\", \"worse_hidden_weights\", \"initial_weight_values\"]\n",
    "data = [best_hidden_weights, worse_hidden_weights, initial_weight_values]\n",
    "df_maxnorm= pd.DataFrame(data=data).T\n",
    "df_maxnorm.columns = cols"
   ]
  },
  {
   "cell_type": "code",
   "execution_count": null,
   "metadata": {},
   "outputs": [],
   "source": [
    "df_maxnorm.describe()"
   ]
  },
  {
   "cell_type": "code",
   "execution_count": null,
   "metadata": {},
   "outputs": [],
   "source": [
    "# plot the distributions for each weight column \n",
    "df_maxnorm.hist(figsize=(20,12));"
   ]
  },
  {
   "cell_type": "markdown",
   "metadata": {},
   "source": [
    "## Observations \n",
    "\n",
    "Take a look at the statistical table and the plots. Then answer the following questions. \n",
    "\n",
    "**How do the hidden layer weights from the best performing model compare to the initial weight values?**"
   ]
  },
  {
   "cell_type": "markdown",
   "metadata": {
    "deletable": false,
    "nbgrader": {
     "cell_type": "markdown",
     "checksum": "f43fe1110cdcea8d1e4b432fe78d4e49",
     "grade": true,
     "grade_id": "cell-40a44d19694941b8",
     "locked": false,
     "points": 0,
     "schema_version": 3,
     "solution": true,
     "task": false
    }
   },
   "source": [
    "YOUR ANSWER HERE"
   ]
  },
  {
   "cell_type": "markdown",
   "metadata": {},
   "source": [
    "**What was the effect of using the weight constraint value in MaxNorm in the best performing model?**"
   ]
  },
  {
   "cell_type": "markdown",
   "metadata": {
    "deletable": false,
    "nbgrader": {
     "cell_type": "markdown",
     "checksum": "b1c59c58a5abdbc0b509983821198dba",
     "grade": true,
     "grade_id": "cell-4f9e1e134124e512",
     "locked": false,
     "points": 0,
     "schema_version": 3,
     "solution": true,
     "task": false
    }
   },
   "source": [
    "YOUR ANSWER HERE"
   ]
  },
  {
   "cell_type": "markdown",
   "metadata": {},
   "source": [
    "**What was the effect of using the weight constraint value in MaxNorm in the worse performing model?**"
   ]
  },
  {
   "cell_type": "markdown",
   "metadata": {
    "deletable": false,
    "nbgrader": {
     "cell_type": "markdown",
     "checksum": "0062b4ddfad487c39633c37f4710b752",
     "grade": true,
     "grade_id": "cell-4c289ce70c34048a",
     "locked": false,
     "points": 0,
     "schema_version": 3,
     "solution": true,
     "task": false
    }
   },
   "source": [
    "YOUR ANSWER HERE"
   ]
  },
  {
   "cell_type": "markdown",
   "metadata": {},
   "source": [
    "**Given what you know about MaxNorm regularization, are you surprised by these results?**"
   ]
  },
  {
   "cell_type": "markdown",
   "metadata": {
    "deletable": false,
    "nbgrader": {
     "cell_type": "markdown",
     "checksum": "3c36931d3532a8cbcb4ea0c956378728",
     "grade": true,
     "grade_id": "cell-77366a912217da5d",
     "locked": false,
     "points": 0,
     "schema_version": 3,
     "solution": true,
     "task": false
    }
   },
   "source": [
    "YOUR ANSWER HERE"
   ]
  },
  {
   "cell_type": "markdown",
   "metadata": {},
   "source": [
    "-----\n",
    "# Experiment 3: Identify the relationship between model performance and Dropout\n",
    "\n",
    "\n",
    "![](https://miro.medium.com/max/981/1*EinUlWw1n8vbcLyT0zx4gw.png)\n",
    "\n",
    "In the 3rd and final experiment, we will use gridsearch to see how model performance is affect by varying the value of the the dropout probability. \n",
    "\n",
    "Recall from lecture that dropout tends to perform best when used with weight constraint. Since this is the case, we will gridsearch both dropout probability and the weight constraint for MaxNorm. \n",
    "\n",
    "If interested, feel free to read through the original publication on [**Drop Out**](https://jmlr.org/papers/volume15/srivastava14a.old/srivastava14a.pdf). \n",
    "\n",
    "**Key Take aways:** \n",
    "\n",
    "1. During training, dropout will probabilistically \"turn off\" some neurons in the layer that dropout is implemented in. \n",
    "2. During inference (ie. making predictions on the test set) all neurons are used (i.e. no dropout is applied).\n",
    "3. Dropout works best when used with MaxNorm\n"
   ]
  },
  {
   "cell_type": "code",
   "execution_count": null,
   "metadata": {},
   "outputs": [],
   "source": [
    "# build out our hyperparameter dictionary \n",
    "hyper_parameters = {\n",
    "    # for the sake of runtime, let's vary maxnorm_wc between 0.5 and 5.0\n",
    "    \"maxnorm_wc\": np.linspace(0.5, 5, num=10),\n",
    "    # take note that l1_reg_penalty values are in powers of 10 \n",
    "    \"dropout_prob\": np.linspace(0.0, 0.6, num=7), \n",
    "    \"epochs\": [1] # default is 1, in order to change it we must provide value here because we can provide a parameter value for model.fit() directly when using gridsearch\n",
    "}\n",
    "\n",
    "hyper_parameters"
   ]
  },
  {
   "cell_type": "code",
   "execution_count": null,
   "metadata": {},
   "outputs": [],
   "source": [
    "start=time()\n",
    "# Create and run Grid Search\n",
    "grid = GridSearchCV(estimator=model, \n",
    "                    param_grid=hyper_parameters, \n",
    "                    n_jobs=-2, \n",
    "                    verbose=1, \n",
    "                    cv=3)\n",
    "\n",
    "grid_result = grid.fit(X_train, y_train)\n",
    "end=time()"
   ]
  },
  {
   "cell_type": "code",
   "execution_count": null,
   "metadata": {},
   "outputs": [],
   "source": [
    "print(\"Gridsearch runtime {0:.3} mins\".format( (end-start)/60 ))"
   ]
  },
  {
   "cell_type": "code",
   "execution_count": null,
   "metadata": {},
   "outputs": [],
   "source": [
    "# use the mean accuracy from the CV splits for determining best model score \n",
    "means = grid.cv_results_['mean_test_score']\n",
    "stds = grid.cv_results_['std_test_score']\n",
    "params = grid.cv_results_['params']\n",
    "\n",
    "# move l2 penalty values outside of dictionary and into a list\n",
    "param_values = [dic[\"dropout_prob\"] for dic in params]"
   ]
  },
  {
   "cell_type": "markdown",
   "metadata": {},
   "source": [
    "Since there are 2 indepdent variables this time around (dropout_prob and maxnorm_wc) which affect the validation accuracy, it's best to use a different plot. A heat map will work. "
   ]
  },
  {
   "cell_type": "code",
   "execution_count": null,
   "metadata": {},
   "outputs": [],
   "source": [
    "dropout_prob_list = [  dic[\"dropout_prob\"]  for dic in params]\n",
    "maxnorm_wc_list = [  dic[\"maxnorm_wc\"]  for dic in params]\n",
    "data = [means, dropout_prob_list, maxnorm_wc_list ]\n",
    "\n",
    "cols = [\"val_acc\", \"dropout_prob\", \"maxnorm_wc\"]\n",
    "df_exp3 =pd.DataFrame(data=data).T\n",
    "df_exp3.columns = cols\n",
    "df_exp3.dropout_prob = df_exp3.dropout_prob.round(2)\n",
    "\n",
    "# pivot dataframe in preperation for heat map\n",
    "df_exp3 = df_exp3.pivot(\"maxnorm_wc\", \"dropout_prob\", \"val_acc\")"
   ]
  },
  {
   "cell_type": "code",
   "execution_count": null,
   "metadata": {},
   "outputs": [],
   "source": [
    "# Draw a heatmap with the val_acc values in each cell\n",
    "f, ax = plt.subplots(figsize=(18, 8))\n",
    "sns.heatmap(df_exp3, annot=True,  linewidths=.5, ax=ax);"
   ]
  },
  {
   "cell_type": "markdown",
   "metadata": {},
   "source": [
    "### Observations \n",
    "\n",
    "We can see the dropout probabilities in the horizontal axis and the maxnorm weight constraint values in the virtical axis. The values in the cells are the validation accuracy that corresponds to a pair of regularization values.\n",
    "\n",
    "Take a look at the heat map and answer the following questions. Note that depending on which model you used (the simple or complex one) your answers might be different from that of others. "
   ]
  },
  {
   "cell_type": "markdown",
   "metadata": {},
   "source": [
    "**What range of dropout probability values tend to produce the highest validation accuracy?**"
   ]
  },
  {
   "cell_type": "markdown",
   "metadata": {
    "deletable": false,
    "nbgrader": {
     "cell_type": "markdown",
     "checksum": "0f0013d4e07104a03b4d51664a308f53",
     "grade": true,
     "grade_id": "cell-4e0cb7a9240b1531",
     "locked": false,
     "points": 0,
     "schema_version": 3,
     "solution": true,
     "task": false
    }
   },
   "source": [
    "YOUR ANSWER HERE"
   ]
  },
  {
   "cell_type": "markdown",
   "metadata": {},
   "source": [
    "**What range of maxnorm weight constraints tend to produce the highest validation accuracy?**"
   ]
  },
  {
   "cell_type": "markdown",
   "metadata": {
    "deletable": false,
    "nbgrader": {
     "cell_type": "markdown",
     "checksum": "9fd88f0bb870a910b925d60b38d17694",
     "grade": true,
     "grade_id": "cell-99539755d7d328f7",
     "locked": false,
     "points": 0,
     "schema_version": 3,
     "solution": true,
     "task": false
    }
   },
   "source": [
    "YOUR ANSWER HERE"
   ]
  },
  {
   "cell_type": "markdown",
   "metadata": {},
   "source": [
    "**When taken together, what pair of dropout probability and maxnorm weight constraints tend to produce the highest validation accuracy?**"
   ]
  },
  {
   "cell_type": "markdown",
   "metadata": {
    "deletable": false,
    "nbgrader": {
     "cell_type": "markdown",
     "checksum": "fee1e09ed8f6d354bd7b6e2986c2b811",
     "grade": true,
     "grade_id": "cell-5e19a56b4a2d975d",
     "locked": false,
     "points": 0,
     "schema_version": 3,
     "solution": true,
     "task": false
    }
   },
   "source": [
    "YOUR ANSWER HERE"
   ]
  },
  {
   "cell_type": "markdown",
   "metadata": {},
   "source": [
    "**Do you think that using dropout was helpful in increasing model performance?**"
   ]
  },
  {
   "cell_type": "markdown",
   "metadata": {
    "deletable": false,
    "nbgrader": {
     "cell_type": "markdown",
     "checksum": "de9c1bcff3c5eb6266cc80632d0956f0",
     "grade": true,
     "grade_id": "cell-d2a2f7b284c801dc",
     "locked": false,
     "points": 0,
     "schema_version": 3,
     "solution": true,
     "task": false
    }
   },
   "source": [
    "YOUR ANSWER HERE"
   ]
  },
  {
   "cell_type": "markdown",
   "metadata": {},
   "source": [
    "-----\n",
    "# Stretch Goals for $L_p$ Space section\n",
    "\n",
    "Here are some ideas that you can explore using the custom distance metric class that you have built. Though if you think of something else, go for it!\n",
    "\n",
    "- Run a similar experiment but instead of comparing L2 between Keras and our custom class, compare L1 (Lasso) \n",
    "- Run a similar experiment but instead of comparing L2 between Keras and our custom class, compare L1_L2 (Elastic Net) \n",
    "- Run a gridsearch across several different Lp distance metrics and strengths and see which Lp distance leads to the best performing model\n",
    "    - Consider selecting a p range between **[1, 1.5, 2, 2.5, 3, 3.5, 4, 4.5, 5, ..., 10]** step size of 0.5\n",
    "    - Consider selecting a p range between **[1, 10, 100, 1000, 10000]** step size in powers of 10"
   ]
  },
  {
   "cell_type": "code",
   "execution_count": null,
   "metadata": {},
   "outputs": [],
   "source": []
  },
  {
   "cell_type": "code",
   "execution_count": null,
   "metadata": {},
   "outputs": [],
   "source": []
  },
  {
   "cell_type": "markdown",
   "metadata": {},
   "source": [
    "_____\n",
    "\n",
    "### Experiment 4: Train, Save, and Load a Keras model\n",
    "\n",
    "Let's get some practice with how to save and load trained Keras models \n",
    "\n",
    "For this experiment, review the section on Saving and Loading models from the guided project in order to help you to: \n",
    "\n",
    "- Build a model of your choosing\n",
    "- Gridsearch the model with a method of your choosing\n",
    "- Save the trained model to file\n",
    "- Load the trained model from file\n",
    "- Just as we did in the Guided Project, evalute the loaded model using a test set and make sure the results of the loaded model match that of the saved model "
   ]
  },
  {
   "cell_type": "code",
   "execution_count": null,
   "metadata": {},
   "outputs": [],
   "source": []
  },
  {
   "cell_type": "code",
   "execution_count": null,
   "metadata": {},
   "outputs": [],
   "source": []
  },
  {
   "cell_type": "code",
   "execution_count": null,
   "metadata": {},
   "outputs": [],
   "source": []
  }
 ],
 "metadata": {
  "colab": {
   "collapsed_sections": [],
   "name": "LS_DS_434_Deploy_Assignment.ipynb",
   "provenance": []
  },
  "kernelspec": {
   "display_name": "U4-S2-NN (Python3)",
   "language": "python",
   "name": "u4-s2-nn"
  },
  "language_info": {
   "codemirror_mode": {
    "name": "ipython",
    "version": 3
   },
   "file_extension": ".py",
   "mimetype": "text/x-python",
   "name": "python",
   "nbconvert_exporter": "python",
   "pygments_lexer": "ipython3",
   "version": "3.7.0"
  },
  "nteract": {
   "version": "0.22.4"
  }
 },
 "nbformat": 4,
 "nbformat_minor": 4
}
