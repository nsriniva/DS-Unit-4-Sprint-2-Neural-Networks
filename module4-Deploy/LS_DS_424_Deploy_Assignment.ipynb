{
 "cells": [
  {
   "cell_type": "markdown",
   "metadata": {
    "colab_type": "text",
    "id": "NGGrt9EYlCqY"
   },
   "source": [
    "\n",
    "\n",
    "\n",
    "# *Data Science Unit 4 Sprint 2 Assignment 4*\n",
    "\n",
    "Continue to use TensorFlow Keras & a sample of the [Quickdraw dataset](https://github.com/googlecreativelab/quickdraw-dataset) to build a sketch classification model. The dataset has been sampled to only 10 classes and 10000 observations per class. Apply regularization techniques to your model. \n",
    "\n",
    "**Don't forgot to switch to GPU on Colab!**\n",
    "\n",
    "## Objective \n",
    "\n",
    "In lecture, you were exposed to weight shrinkage also known as weight decay or Lp space reguarlization, Max Norn weight constraints, and dropout. \n",
    "\n",
    "In this assignment, you will run 3 experiments in order to perform a deep analysis on the effects that various regularization techniques have model performance and on the learned model weights. By the end of this assignment, these regularization techniques should no longer feel like blackboxes to you, i.e. completely mysterious as to how they work. \n"
   ]
  },
  {
   "cell_type": "markdown",
   "metadata": {
    "colab_type": "text",
    "id": "ptJ2b3wk62Ud"
   },
   "source": [
    "#### Import libraries"
   ]
  },
  {
   "cell_type": "code",
   "execution_count": 1,
   "metadata": {
    "colab": {},
    "colab_type": "code",
    "id": "USXjs7Hk71Hy"
   },
   "outputs": [],
   "source": [
    "# native libraries \n",
    "import os\n",
    "from time import time \n",
    "\n",
    "# data analysis libraries \n",
    "import numpy as np\n",
    "import pandas as pd\n",
    "import matplotlib.pyplot as plt\n",
    "import seaborn as sns\n",
    "\n",
    "# deep learning libraries \n",
    "from keras import Sequential\n",
    "from keras.callbacks import EarlyStopping, TensorBoard\n",
    "from keras.layers import Flatten, Dense, Dropout\n",
    "from keras.layers import ReLU\n",
    "from keras.initializers import GlorotUniform\n",
    "\n",
    "import tensorflow as tf\n",
    "from tensorflow.keras.datasets import fashion_mnist\n",
    "\n",
    "# regularizers \n",
    "#from tensorflow.python.keras.regularizers import L2, L1\n",
    "from keras.regularizers import l2, l1\n",
    "from keras.constraints import MaxNorm\n",
    "\n",
    "# required for compatibility between sklearn and keras\n",
    "#from scikeras.wrappers import KerasClassifier\n",
    "from tensorflow.keras.wrappers.scikit_learn import KerasClassifier\n",
    "\n",
    "from sklearn.model_selection import GridSearchCV\n",
    "\n",
    "\n",
    "%matplotlib inline"
   ]
  },
  {
   "cell_type": "markdown",
   "metadata": {},
   "source": [
    "### Load Data"
   ]
  },
  {
   "cell_type": "code",
   "execution_count": 2,
   "metadata": {},
   "outputs": [],
   "source": [
    "def load_data():\n",
    "    \"\"\"\n",
    "    Load in and normalize image data set\n",
    "    \"\"\"\n",
    "    \n",
    "    # load in our dataset \n",
    "    (X_train, y_train), (X_test, y_test) = fashion_mnist.load_data()\n",
    "\n",
    "    # normalize pixel values between 0 and 1 \n",
    "    max_pixel_value = X_train.max()\n",
    "    X_train, X_test = X_train /max_pixel_value , X_test / max_pixel_value\n",
    "    \n",
    "    return X_train, y_train, X_test, y_test"
   ]
  },
  {
   "cell_type": "code",
   "execution_count": 3,
   "metadata": {},
   "outputs": [],
   "source": [
    "X_train, y_train, X_test, y_test = load_data()"
   ]
  },
  {
   "cell_type": "code",
   "execution_count": 4,
   "metadata": {},
   "outputs": [
    {
     "data": {
      "text/plain": [
       "10"
      ]
     },
     "execution_count": 4,
     "metadata": {},
     "output_type": "execute_result"
    }
   ],
   "source": [
    "# this is equal to the number of nodes in the output layer\n",
    "N_labels = len(np.unique(y_train))\n",
    "N_labels"
   ]
  },
  {
   "cell_type": "markdown",
   "metadata": {},
   "source": [
    "-----\n",
    "### Build Model\n",
    "\n",
    "Let's build out the model that we'll be using all throughout our experiments. \n",
    "\n",
    "Remember that **the whole point of regularization is to prevent overfitting.**\n",
    "\n",
    "\n",
    "![](https://hackernoon.com/hn-images/1*vuZxFMi5fODz2OEcpG-S1g.png)\n",
    "\n",
    "Overfitting happens when are model's are too complex, so in order to see a benefit from the use of regularization techniques we need to build a relatively complex model. \n",
    "\n",
    "Having said that, you might not have the computational resource to be able to train a complex model in a reasonable amount of time. So if this describes you, then you might want to consider using `build_simple_model`. Otherwise, I recommend that you use `build_complex_model`. \n",
    "\n",
    "This notebook will be using  `build_complex_model` to run our experiments. \n",
    "\n",
    "**NOTE:** Whichever function you end up using to build a model, take time to read through the code and make sure you understand what is happening. "
   ]
  },
  {
   "cell_type": "code",
   "execution_count": 5,
   "metadata": {},
   "outputs": [],
   "source": [
    "def build_complex_model(Lp_reg=None, reg_penality=None, dropout_prob=0.0, maxnorm_wc=None):\n",
    "    \"\"\"\n",
    "    Build and return a regularized 3 hidden layer FCFF model \n",
    "    \n",
    "    Parameters\n",
    "    ----------\n",
    "    Lp_reg: None or object\n",
    "        If object, Lp_reg is either l1 or l2 regularization \n",
    "        If None, that means that l1 or l2 regularization will not be used.\n",
    "     \n",
    "    reg_penality: None or float\n",
    "        If float, reg_penality is a value typically between 1.0 and 0.0001\n",
    "        This is the regularization strength for l1 or l2 \n",
    "        \n",
    "        \n",
    "    dropout_prob: float\n",
    "        This is the probability that dropout regularization will exclude a node from a training iteration. \n",
    "        If this value is 0.0, that means that dropout will not be used. \n",
    "        \n",
    "    maxnorm_wc: None or float\n",
    "        If float, maxnorm_wc is the weight constraint that is used for Max Norm regularization\n",
    "        If None, that means that Max Norm regularization will not be used.\n",
    "        \n",
    "        \n",
    "    Return\n",
    "    ------\n",
    "    model: complied Keras model\n",
    "    \"\"\"\n",
    "    \n",
    "    # if reg_type is not None, then pass in the penality strength to whatever form of Lp space regularization this is \n",
    "    if Lp_reg is not None:\n",
    "        Lp_regularizer = Lp_reg(reg_penality)\n",
    "    else:\n",
    "        Lp_regularizer = None\n",
    "                \n",
    "    if maxnorm_wc is not None:\n",
    "        print(f'maxnorm_wc = {maxnorm_wc}')\n",
    "        wc = MaxNorm(max_value=maxnorm_wc)\n",
    "    else:\n",
    "        wc = None\n",
    "\n",
    "\n",
    "    # instantiate Sequential class\n",
    "    model = Sequential([\n",
    "\n",
    "    # flatten images \n",
    "    Flatten(input_shape=(28,28)),\n",
    "\n",
    "    # hidden layer 1\n",
    "    Dense(500, kernel_regularizer=Lp_regularizer , kernel_constraint=wc), # remember that Keras refers to weight matrix as a kernel, i.e. weights = kernel\n",
    "    # act func 1\n",
    "    ReLU(negative_slope=0.01),\n",
    "    Dropout(dropout_prob),\n",
    "\n",
    "    # hidden layer 2\n",
    "    Dense(250, kernel_regularizer=Lp_regularizer, kernel_constraint=wc),\n",
    "    # act func 2\n",
    "    ReLU(negative_slope=0.01),\n",
    "    Dropout(dropout_prob),\n",
    "\n",
    "    # hidden layer 3\n",
    "    Dense(64, kernel_regularizer=Lp_regularizer, kernel_constraint=wc),\n",
    "    # act func 3\n",
    "    ReLU(negative_slope=0.01),\n",
    "    Dropout(dropout_prob),\n",
    "\n",
    "    # output layer   \n",
    "    Dense(N_labels, activation=\"softmax\")  \n",
    "\n",
    "    ])\n",
    "    # complie model \n",
    "    model.compile(loss=\"sparse_categorical_crossentropy\", \n",
    "                 optimizer=\"adam\", \n",
    "                 metrics=[\"accuracy\"])\n",
    "    \n",
    "    return model"
   ]
  },
  {
   "cell_type": "markdown",
   "metadata": {},
   "source": [
    "Again, only use `build_simple_model` instead of `build_complex_model` if you're working on a machine with very limited computational resource. "
   ]
  },
  {
   "cell_type": "code",
   "execution_count": 6,
   "metadata": {
    "colab": {},
    "colab_type": "code",
    "id": "USXjs7Hk71Hy"
   },
   "outputs": [],
   "source": [
    "# def build_simple_model(Lp_reg=None, reg_penality=None, dropout_prob=0, maxnorm_wc=None):\n",
    "#     \"\"\"\n",
    "#     Build and return a regularized 1 hidden layer FCFF model \n",
    "    \n",
    "#     Parameters\n",
    "#     ----------\n",
    "#     Lp_reg: None or object\n",
    "#         If object, Lp_reg is either l1 or l2 regularization \n",
    "#         If None, that means that l1 or l2 regularization will not be used.\n",
    "     \n",
    "#     reg_penality: None or float\n",
    "#         If float, reg_penality is a value typically between 1.0 and 0.0001\n",
    "#         This is the regularization strength for l1 or l2 \n",
    "        \n",
    "        \n",
    "#     dropout_prob: float\n",
    "#         This is the probability that dropout regularization will exclude a node from a training iteration. \n",
    "#         If this value is 0.0, that means that dropout will not be used. \n",
    "        \n",
    "#     maxnorm_wc: None or float\n",
    "#         If float, maxnorm_wc is the weight constraint that is used for Max Norm regularization\n",
    "#         If None, that means that Max Norm regularization will not be used.\n",
    "        \n",
    "        \n",
    "#     Return\n",
    "#     ------\n",
    "#     model: complied Keras model\n",
    "#     \"\"\"\n",
    "    \n",
    "#     if Lp_reg is not None:\n",
    "#         Lp_regularizer = Lp_reg(reg_penality)\n",
    "#     else:\n",
    "#         Lp_regularizer = None\n",
    "\n",
    "#     # instantiate Sequential class\n",
    "#     model = Sequential([\n",
    "\n",
    "#     # flatten images \n",
    "#     Flatten(input_shape=(28,28)),\n",
    "\n",
    "#     # hidden layer 1\n",
    "#     Dense(128,  kernel_regularizer=Lp_regularizer, kernel_constraint=maxnorm_wc), # remember that Keras refers to weight matrix as a kernel, i.e. weights = kernel\n",
    "#     # act func 1\n",
    "#     ReLU(negative_slope=0.01),\n",
    "#     Dropout(p_dropout),\n",
    "\n",
    "#     # output layer   \n",
    "#     Dense(N_labels, activation=\"softmax\")  \n",
    "\n",
    "#     ])\n",
    "#     # complie model \n",
    "#     model.compile(loss=\"sparse_categorical_crossentropy\", \n",
    "#                  optimizer=\"adam\", \n",
    "#                  metrics=[\"accuracy\"])\n",
    "    \n",
    "#     return model"
   ]
  },
  {
   "cell_type": "markdown",
   "metadata": {},
   "source": [
    "Since we'll be using Sklearn's GridserchCV class, we need to wrap our Keras models in `KerasClassifier`"
   ]
  },
  {
   "cell_type": "code",
   "execution_count": 7,
   "metadata": {},
   "outputs": [],
   "source": [
    "# remember to wrap KerasClassifier around build_model for sklearn's GridsearchCV compatibility \n",
    "model = KerasClassifier(build_fn = build_complex_model)"
   ]
  },
  {
   "cell_type": "markdown",
   "metadata": {},
   "source": [
    "-------\n",
    "\n",
    "# Experiment 1: Identify the relationship between model performance and L2 penalty strength\n",
    "\n",
    "![](https://www.researchgate.net/publication/334159821/figure/fig1/AS:776025558495234@1562030319993/Ridge-regression-variable-selection.png)\n",
    "\n",
    "We are going to run a gridsearch soley on the l2 regularization penalty value and see the effect this has on model performance. \n",
    "\n",
    "By running a gridseach on only a single hyperparameter (while using the same data and model) we can isolate the effect of that hyperparameter. "
   ]
  },
  {
   "cell_type": "code",
   "execution_count": 8,
   "metadata": {},
   "outputs": [
    {
     "data": {
      "text/plain": [
       "dict_keys(['build_fn'])"
      ]
     },
     "execution_count": 8,
     "metadata": {},
     "output_type": "execute_result"
    }
   ],
   "source": [
    "# build out our hyperparameter dictionary \n",
    "hyper_parameters = {\n",
    "    # take note that Lp_reg penalty/strength values are in powers of 10 \n",
    "    \"reg_penality\": [10.0, 1.0, 0.1, 0.01, 0.001, 0.0001, 0.00001], \n",
    "    # Since we only want to test l2, provide l2 as the sole option \n",
    "    \"Lp_reg\": [l2],\n",
    "    # default is 1, in order to change it we must provide value here because we can't provide a parameter value for model.fit() directly when using gridsearch\n",
    "    # protip: consider chanign epochs to 1 if the gridsearche run-time are too long for you\n",
    "    \"epochs\": [1] \n",
    "}\n",
    "\n",
    "model.get_params().keys()"
   ]
  },
  {
   "cell_type": "code",
   "execution_count": 9,
   "metadata": {
    "colab": {},
    "colab_type": "code",
    "id": "USXjs7Hk71Hy"
   },
   "outputs": [
    {
     "name": "stdout",
     "output_type": "stream",
     "text": [
      "Fitting 3 folds for each of 7 candidates, totalling 21 fits\n",
      "1875/1875 [==============================] - 5s 3ms/step - loss: 0.6920 - accuracy: 0.7820\n"
     ]
    }
   ],
   "source": [
    "start=time()\n",
    "# Create and run Grid Search\n",
    "grid = GridSearchCV(estimator=model, \n",
    "                    param_grid=hyper_parameters, \n",
    "                    n_jobs=-2, \n",
    "                    verbose=1, \n",
    "                    cv=3)\n",
    "\n",
    "grid_result = grid.fit(X_train, y_train)\n",
    "end=time()"
   ]
  },
  {
   "cell_type": "code",
   "execution_count": 10,
   "metadata": {},
   "outputs": [
    {
     "name": "stdout",
     "output_type": "stream",
     "text": [
      "Gridsearch runtime 1.31 mins\n"
     ]
    }
   ],
   "source": [
    "print(\"Gridsearch runtime {0:.3} mins\".format( (end-start)/60 ))"
   ]
  },
  {
   "cell_type": "code",
   "execution_count": 11,
   "metadata": {},
   "outputs": [
    {
     "data": {
      "image/png": "[encoded data removed]",
      "text/plain": [
       "<Figure size 1440x432 with 1 Axes>"
      ]
     },
     "metadata": {
      "needs_background": "light"
     },
     "output_type": "display_data"
    }
   ],
   "source": [
    "# use the mean accuracy from the CV splits for determining best model score \n",
    "means = grid_result.cv_results_['mean_test_score']\n",
    "stds = grid_result.cv_results_['std_test_score']\n",
    "params = grid_result.cv_results_['params']\n",
    "\n",
    "# move l2 penalty values outside of dictionary and into a list\n",
    "param_values = [dic[\"reg_penality\"] for dic in params]\n",
    "\n",
    "# plot accuracy vs l2_reg_penalty\n",
    "plt.figure(figsize=(20,6))\n",
    "plt.grid()\n",
    "\n",
    "# this plot is using the std of the CV splits to plot error bars however those values are so small that they aren't visable\n",
    "plt.errorbar(param_values, means, yerr=stds, ecolor=\"orange\")\n",
    "plt.xscale(\"log\") # use a log scale for ease of reading, recall that l2_reg_penalty were in powers of 10 \n",
    "plt.title(\"L2 Regularization: Model Accuracy vs L2 Penalty Strength\")\n",
    "plt.ylabel(\"Validation Accuracy\", )\n",
    "plt.xlabel(\"L2 Penalty Strength usng a Log Scale\");"
   ]
  },
  {
   "cell_type": "markdown",
   "metadata": {},
   "source": [
    "### Observations\n",
    "\n",
    "Write down some observations. What do you notice from the plot?"
   ]
  },
  {
   "cell_type": "markdown",
   "metadata": {
    "deletable": false,
    "nbgrader": {
     "cell_type": "markdown",
     "checksum": "089b55b5a84d9c96c51fd341d9e6c74f",
     "grade": true,
     "grade_id": "cell-010212fc0915b976",
     "locked": false,
     "points": 0,
     "schema_version": 3,
     "solution": true,
     "task": false
    }
   },
   "source": [
    "The L2 regularization penalty value for the best performing model is 0.0001 \n",
    "The L2 regularization penalty value for the worst performing models are 1 and 10. \n"
   ]
  },
  {
   "cell_type": "markdown",
   "metadata": {},
   "source": [
    "\n",
    "## Compare Weights between Best and Worse Model \n",
    "\n",
    "Next, we are going to compare the hidden layer weights between the best and worse performing model while taking note of the respective l2 penalty strengths."
   ]
  },
  {
   "cell_type": "code",
   "execution_count": 12,
   "metadata": {},
   "outputs": [],
   "source": [
    "# get the best l2 penalty term \n",
    "best_lr_penalty = grid_result.best_params_[\"reg_penality\"]\n",
    "\n",
    "# get the best trained model \n",
    "best_model = grid_result.best_estimator_.model\n",
    "\n",
    "# get the weights from the best trained model \n",
    "best_weights = best_model.get_weights()"
   ]
  },
  {
   "cell_type": "code",
   "execution_count": 13,
   "metadata": {},
   "outputs": [
    {
     "name": "stdout",
     "output_type": "stream",
     "text": [
      "Epoch 1/3\n",
      "1875/1875 [==============================] - 5s 3ms/step - loss: 647.8049 - accuracy: 0.1130\n",
      "Epoch 2/3\n",
      "1875/1875 [==============================] - 5s 3ms/step - loss: 2.3029 - accuracy: 0.0998\n",
      "Epoch 3/3\n",
      "1875/1875 [==============================] - 5s 3ms/step - loss: 2.3031 - accuracy: 0.0997\n"
     ]
    }
   ],
   "source": [
    "# train a model using the l2_reg_penalty value at scored the lowest \n",
    "worse_l2_reg_penalty = 10.0\n",
    "\n",
    "worse_model = build_complex_model(Lp_reg=l2, reg_penality=worse_l2_reg_penalty)\n",
    "\n",
    "# fit model \n",
    "worse_model.fit(X_train, y_train, epochs=3)\n",
    "\n",
    "# get weights from worse performing model \n",
    "worse_weights = worse_model.get_weights()"
   ]
  },
  {
   "cell_type": "markdown",
   "metadata": {},
   "source": [
    "-----\n",
    "## Understanding how Weights and Biases are stored"
   ]
  },
  {
   "cell_type": "markdown",
   "metadata": {},
   "source": [
    "Let's take a minute to understand that`.get_weights()` returns a list with 8 elements (if you're using `build_complex_model`)."
   ]
  },
  {
   "cell_type": "code",
   "execution_count": 14,
   "metadata": {},
   "outputs": [
    {
     "data": {
      "text/plain": [
       "8"
      ]
     },
     "execution_count": 14,
     "metadata": {},
     "output_type": "execute_result"
    }
   ],
   "source": [
    "len(best_weights)"
   ]
  },
  {
   "cell_type": "markdown",
   "metadata": {},
   "source": [
    "There are **weights matrices and bias vectors between each layer** and we have 5 layers. \n",
    "\n",
    "- Input\n",
    "- Hidden 1\n",
    "- Hidden 2\n",
    "- Hidden 3\n",
    "- Output \n",
    "\n",
    "So that means we should have 4 weight matrices, but we see 8. **There are also 4 weight vectors for the biases between each layer.** So that accounts for the 8. \n",
    "\n",
    "\n",
    "#### Index for Weight Matrices \n",
    "If you index for a weight matrix, you can see its shape and that they are indeed matrices. \n",
    "\n",
    "Notice how you can see the dims of the layers that the matrices are sandwiched between?\n",
    "\n",
    "Input layer has 784 dims and hidden layer 1 has 500 nodes/dims. Given this understanding, the numbers you see in the shapes should make sense. "
   ]
  },
  {
   "cell_type": "code",
   "execution_count": 15,
   "metadata": {},
   "outputs": [
    {
     "data": {
      "text/plain": [
       "(784, 500)"
      ]
     },
     "execution_count": 15,
     "metadata": {},
     "output_type": "execute_result"
    }
   ],
   "source": [
    "# bewteen input and 1st hidden layer\n",
    "best_weights[0].shape"
   ]
  },
  {
   "cell_type": "code",
   "execution_count": 16,
   "metadata": {},
   "outputs": [
    {
     "data": {
      "text/plain": [
       "(500, 250)"
      ]
     },
     "execution_count": 16,
     "metadata": {},
     "output_type": "execute_result"
    }
   ],
   "source": [
    "# bewteen 1st and 2nd hidden layer\n",
    "best_weights[2].shape"
   ]
  },
  {
   "cell_type": "code",
   "execution_count": 17,
   "metadata": {},
   "outputs": [
    {
     "data": {
      "text/plain": [
       "(250, 64)"
      ]
     },
     "execution_count": 17,
     "metadata": {},
     "output_type": "execute_result"
    }
   ],
   "source": [
    "# bewteen 2st and 3nd hidden layer\n",
    "best_weights[4].shape"
   ]
  },
  {
   "cell_type": "code",
   "execution_count": 18,
   "metadata": {},
   "outputs": [
    {
     "data": {
      "text/plain": [
       "(64, 10)"
      ]
     },
     "execution_count": 18,
     "metadata": {},
     "output_type": "execute_result"
    }
   ],
   "source": [
    "# bewteen 3rd hidden layer and output layer\n",
    "best_weights[6].shape"
   ]
  },
  {
   "cell_type": "markdown",
   "metadata": {},
   "source": [
    "#### Index for the bias vectors\n",
    "\n",
    "The shapes of the bias vectors should exactly match up the dims/nodes of each layer (excluding the input layer). "
   ]
  },
  {
   "cell_type": "code",
   "execution_count": 19,
   "metadata": {},
   "outputs": [
    {
     "data": {
      "text/plain": [
       "(500,)"
      ]
     },
     "execution_count": 19,
     "metadata": {},
     "output_type": "execute_result"
    }
   ],
   "source": [
    "# for hidden layer 1 \n",
    "best_weights[1].shape"
   ]
  },
  {
   "cell_type": "code",
   "execution_count": 20,
   "metadata": {},
   "outputs": [
    {
     "data": {
      "text/plain": [
       "(250,)"
      ]
     },
     "execution_count": 20,
     "metadata": {},
     "output_type": "execute_result"
    }
   ],
   "source": [
    "# for hidden layer 2 \n",
    "best_weights[3].shape"
   ]
  },
  {
   "cell_type": "code",
   "execution_count": 21,
   "metadata": {},
   "outputs": [
    {
     "data": {
      "text/plain": [
       "(64,)"
      ]
     },
     "execution_count": 21,
     "metadata": {},
     "output_type": "execute_result"
    }
   ],
   "source": [
    "# for hidden layer 3\n",
    "best_weights[5].shape"
   ]
  },
  {
   "cell_type": "code",
   "execution_count": 22,
   "metadata": {},
   "outputs": [
    {
     "data": {
      "text/plain": [
       "(10,)"
      ]
     },
     "execution_count": 22,
     "metadata": {},
     "output_type": "execute_result"
    }
   ],
   "source": [
    "# for output layer\n",
    "best_weights[7].shape"
   ]
  },
  {
   "cell_type": "markdown",
   "metadata": {},
   "source": [
    "-----\n",
    "\n",
    "### Back to our Analysis of L2 space regularization (also known as Ridge)\n",
    "\n",
    "Let's do a comparison of the first weight matrix (between the input and 1st hidden layer) for the best and worse performing model as well as with the initial weight values that are randomly sampled from the GlorotUniform distribution.\n",
    "\n",
    "[**Check out the Keras docs for the Dense layer**](https://keras.io/api/layers/core_layers/dense/), you'll see that GlorotUniform is the default weight initializer. "
   ]
  },
  {
   "cell_type": "code",
   "execution_count": 23,
   "metadata": {
    "deletable": false,
    "nbgrader": {
     "cell_type": "code",
     "checksum": "caa9a1024b11f3eaa91fe681fc12e24d",
     "grade": false,
     "grade_id": "cell-7882876b8973bc7b",
     "locked": false,
     "schema_version": 3,
     "solution": true,
     "task": false
    }
   },
   "outputs": [
    {
     "data": {
      "text/plain": [
       "(array([ 9.42717833e-08,  3.82874750e-05, -4.07750340e-05,  1.41785195e-05,\n",
       "         1.07704531e-04, -8.54432466e-04,  6.09021750e-04,  4.81416378e-03,\n",
       "        -5.53112710e-03,  1.97763629e-02,  6.20531924e-02,  1.01477519e-01,\n",
       "         2.33976971e-02,  5.42945368e-03, -1.19328620e-02, -2.37196754e-03,\n",
       "         7.20395595e-02,  2.14748736e-02,  3.78512479e-02,  1.37353211e-03,\n",
       "        -1.76502857e-03,  6.31164387e-03, -7.22061144e-04, -2.22223951e-03,\n",
       "        -8.13481456e-04, -5.53771606e-05, -5.93422692e-06,  2.33109367e-05,\n",
       "        -2.79353953e-05,  5.88964622e-06, -1.45900249e-05, -2.71830300e-04,\n",
       "        -4.95844870e-04, -1.45513343e-03, -3.61954095e-03, -2.61223577e-02,\n",
       "        -2.43243147e-02, -1.56648643e-02, -1.41710453e-02,  5.53794987e-02,\n",
       "        -3.55953537e-02,  3.79647166e-02, -2.46897247e-02,  3.38871181e-02,\n",
       "         2.13977303e-02,  5.03970962e-03, -4.67724800e-02, -5.52700181e-03,\n",
       "        -4.81356159e-02, -6.50265999e-03, -3.64563719e-04, -2.84381257e-03,\n",
       "        -2.10793238e-04, -7.23790254e-06,  3.77568140e-05,  3.96902669e-06,\n",
       "        -3.55159791e-05, -6.23047454e-05, -2.37833519e-04, -5.34251158e-04,\n",
       "        -1.58355630e-03, -5.91676775e-03, -1.65015832e-02, -3.03388853e-02,\n",
       "        -7.75525300e-03, -4.85111475e-02,  2.16856748e-02,  1.13541149e-02,\n",
       "        -2.30621658e-02, -3.09384763e-02, -4.08532470e-02, -5.13948277e-02,\n",
       "        -3.89329977e-02, -1.93165697e-03,  9.89429769e-04, -1.74281672e-02,\n",
       "        -3.12653817e-02, -3.17082740e-02, -9.55577940e-03, -4.72031021e-03,\n",
       "        -6.89597800e-03,  7.88523874e-04,  1.34097441e-04,  9.70540859e-05,\n",
       "         9.62431841e-08,  6.34460739e-05, -5.18494751e-04, -1.06072600e-03,\n",
       "        -3.01740854e-03, -1.54908020e-02, -1.42338481e-02,  4.09988640e-03,\n",
       "        -2.92097386e-02, -3.46582755e-02, -1.82389971e-02,  4.59919125e-02,\n",
       "         3.53147238e-02, -3.51427495e-02,  4.21952978e-02, -2.67859716e-02,\n",
       "         1.87377278e-02, -4.99517992e-02,  9.43218649e-04, -4.11056075e-03,\n",
       "        -5.50217554e-02, -9.33102332e-03, -3.11915949e-02, -1.11333579e-02,\n",
       "        -7.10415561e-03,  2.38811175e-04,  3.69249523e-04,  1.48362878e-05,\n",
       "         5.07622144e-06,  1.39910306e-04, -3.55309574e-04, -1.71388892e-04,\n",
       "        -8.67550727e-03, -1.02431150e-02,  2.74374825e-03, -3.45211057e-03,\n",
       "        -3.79149802e-02,  1.38536766e-02, -2.82292124e-02,  4.70139645e-02,\n",
       "         4.34766933e-02, -9.28420015e-03,  4.87879701e-02, -2.91060284e-02,\n",
       "         1.97856836e-02, -1.92986615e-02, -4.73496057e-02, -2.28143856e-02,\n",
       "        -3.28381248e-02, -1.94562897e-02, -2.57463381e-02, -4.98819398e-03,\n",
       "        -4.92563052e-03, -4.87255864e-03,  4.67308681e-04,  6.37466583e-05,\n",
       "        -2.06018536e-04, -1.71875785e-04, -3.26226931e-04, -7.83555370e-05,\n",
       "        -1.20846480e-02, -2.08974984e-02, -2.74125766e-02,  2.66103167e-02,\n",
       "         1.94548480e-02,  4.00550254e-02, -2.75674965e-02, -2.95118019e-02,\n",
       "        -1.65192802e-02, -3.06640323e-02,  4.34386171e-02,  8.11820012e-03,\n",
       "         3.65091152e-02,  3.33788581e-02, -6.30521104e-02, -1.83400139e-02,\n",
       "        -3.02399858e-03, -3.86667177e-02, -1.61727797e-02, -1.82075668e-02,\n",
       "        -4.02702857e-03, -6.44843932e-03,  1.45267579e-04,  9.35748685e-05,\n",
       "         1.34324309e-05, -1.96436327e-03, -1.89068145e-03, -1.04338978e-03,\n",
       "        -1.70022212e-02, -1.62151195e-02, -3.11011784e-02, -3.74353267e-02,\n",
       "         1.02418801e-02, -8.94007646e-03,  1.08562678e-03,  5.79102486e-02,\n",
       "         5.07742353e-02,  4.47486565e-02,  4.92747128e-02,  2.29448061e-02,\n",
       "         1.75450742e-02, -3.27471085e-02, -1.47534264e-02, -7.85108842e-03,\n",
       "         1.49602210e-02,  3.65436240e-03, -2.13107150e-02, -2.97319237e-02,\n",
       "        -1.08851660e-02, -4.84263711e-03, -4.41543618e-03,  1.12833739e-04,\n",
       "        -6.45760389e-04, -3.07025039e-03, -3.57690733e-05, -5.01115667e-03,\n",
       "        -1.91177446e-02, -1.76268015e-02, -1.12398136e-02, -1.11297667e-02,\n",
       "        -4.63796370e-02, -2.03431975e-02,  5.07659558e-03,  8.41023307e-03,\n",
       "        -8.67677294e-03, -2.72854157e-02,  6.91731200e-02, -8.63790512e-03,\n",
       "         3.73980440e-02, -3.40472311e-02, -4.31160517e-02, -6.05218746e-02,\n",
       "        -3.36615220e-02, -2.02910732e-02, -2.32334156e-02, -1.72073226e-02,\n",
       "        -1.60046574e-02, -4.35551675e-03, -2.82283919e-03, -1.11305271e-03,\n",
       "        -1.43845100e-03,  9.58160672e-04, -6.76518073e-04, -8.06468632e-03,\n",
       "        -2.88295355e-02, -2.39730235e-02, -1.21151432e-02, -4.72562984e-02,\n",
       "         6.27432717e-04, -3.50684673e-02, -5.34535982e-02,  6.69365516e-03,\n",
       "         7.31023960e-03, -9.94832534e-03, -7.75643485e-03,  3.22436877e-02,\n",
       "        -4.42903899e-02,  4.60278057e-02, -2.10272763e-02, -7.00210705e-02,\n",
       "        -3.61541733e-02, -1.44952144e-02, -2.70742886e-02, -1.75781790e-02,\n",
       "        -1.80117413e-02, -1.38796633e-02, -8.34840350e-04, -2.40088557e-03,\n",
       "         2.66808365e-03, -2.02202750e-03,  2.94417492e-04, -5.77102881e-04,\n",
       "        -1.04038212e-02, -5.13657043e-03, -2.24105790e-02,  9.81069077e-03,\n",
       "        -3.98344845e-02, -9.98612493e-02,  4.91957413e-03,  6.41570659e-03,\n",
       "        -1.58451824e-03,  5.16498312e-02,  1.10297771e-02, -4.15875278e-02,\n",
       "         3.87713476e-03, -4.67534624e-02, -5.18254153e-02, -6.37768582e-02,\n",
       "         2.25012284e-02, -4.23943028e-02, -6.78764842e-03, -2.14592833e-02,\n",
       "        -1.30938673e-02, -2.83853314e-03, -4.41055075e-04, -6.47473789e-04,\n",
       "         3.04284127e-04, -1.96526898e-03,  6.52830699e-04, -3.24275764e-03,\n",
       "        -1.15598338e-02, -1.46716293e-02,  1.06897848e-02, -3.98314781e-02,\n",
       "        -6.00560829e-02, -4.56481799e-02, -4.73383740e-02, -1.40710883e-02,\n",
       "         2.91877072e-02,  1.98308676e-02, -3.32655795e-02,  6.42776256e-03,\n",
       "        -5.21790497e-02,  5.31212278e-02, -1.99357364e-02, -7.71416128e-02,\n",
       "        -4.98086065e-02,  5.69833023e-03, -2.34490745e-02, -2.33176369e-02,\n",
       "        -8.71580373e-03, -1.51267648e-03, -1.29112729e-03,  1.01704686e-03,\n",
       "         3.79118574e-04, -1.10775384e-03,  1.63473876e-03, -6.26393958e-05,\n",
       "        -7.22007500e-03, -1.07007390e-02, -1.16479369e-02, -3.03541403e-02,\n",
       "        -8.02885517e-02, -6.86936080e-02,  1.45422667e-02, -2.71979570e-02,\n",
       "        -3.24133597e-02, -2.69642603e-02, -2.36325078e-02, -1.46175623e-02,\n",
       "         1.16518820e-02, -6.60855509e-03, -5.97213395e-03, -1.69176217e-02,\n",
       "        -5.60916066e-02, -4.74739484e-02,  5.15457577e-06, -2.41357107e-02,\n",
       "        -5.08919684e-03, -2.31335871e-03, -1.43110286e-03, -1.35580963e-03,\n",
       "         4.99764748e-04, -1.10995502e-03,  1.58981327e-03,  6.86245738e-04,\n",
       "        -3.84710194e-03, -5.64463716e-03, -3.45728658e-02, -1.00793233e-02,\n",
       "        -1.50051306e-03, -7.42719993e-02,  3.14369686e-02,  1.99900419e-02,\n",
       "        -3.75134475e-03, -7.66148278e-03, -4.85106446e-02,  3.25549245e-02,\n",
       "         3.65789644e-02, -4.02243808e-02, -2.30059698e-02, -8.50422606e-02,\n",
       "        -1.12549122e-02,  1.36107057e-02, -4.56069689e-03, -1.27177304e-02,\n",
       "        -2.76863645e-03, -2.49527791e-03, -2.84827221e-03, -1.49728195e-03,\n",
       "         9.89448978e-04, -1.26480637e-03,  1.56112865e-03,  1.58240518e-03,\n",
       "        -2.02282472e-03, -2.17099558e-03, -9.31162667e-03, -5.36787845e-02,\n",
       "        -2.53336653e-02, -2.43636426e-02, -5.27267009e-02,  4.58743498e-02,\n",
       "         7.76258409e-02,  2.87472196e-02, -1.73926894e-02,  2.21193377e-02,\n",
       "        -3.91671062e-02,  2.86925528e-02, -4.01148051e-02, -3.05311624e-02,\n",
       "        -4.42826971e-02, -3.39091346e-02, -1.45027196e-04, -1.11909835e-02,\n",
       "        -4.29912796e-03, -2.37619225e-03, -4.13140003e-03, -1.90165185e-03,\n",
       "         1.67523848e-03,  1.12485525e-03,  2.42229900e-03,  1.67055847e-03,\n",
       "        -8.22200149e-04, -1.12317381e-02, -1.87180974e-02, -2.91128308e-02,\n",
       "        -2.02648211e-02, -4.61022854e-02, -4.84338738e-02,  9.98810719e-05,\n",
       "         7.42883757e-02, -2.19606608e-02,  2.58064866e-02, -2.76465137e-02,\n",
       "         5.49303629e-02, -4.40110415e-02, -2.72664521e-02, -4.48155254e-02,\n",
       "         1.81255061e-02, -1.91379264e-02, -6.34368835e-03, -1.32564791e-02,\n",
       "        -4.90977662e-03, -5.01775229e-03, -4.99733677e-03, -1.96428271e-03,\n",
       "         2.33508716e-03,  3.31631256e-03,  3.02961702e-03,  7.24060752e-04,\n",
       "        -1.29801873e-03, -2.99740001e-03,  6.23275805e-03, -1.07526416e-02,\n",
       "        -2.29918305e-02,  2.70921625e-02, -6.26587868e-02, -4.70408201e-02,\n",
       "        -2.31760889e-02, -1.88200269e-02, -4.40915115e-02, -1.20660448e-02,\n",
       "        -1.84237324e-02, -7.83515163e-03, -6.76829740e-02, -5.07161357e-02,\n",
       "         1.08835194e-02, -4.71694171e-02, -3.27682383e-02, -1.65185779e-02,\n",
       "        -6.86723972e-03, -3.78483906e-03, -3.89977987e-03, -1.12516503e-03,\n",
       "         7.99620000e-04,  4.04974958e-03,  3.43926810e-03, -1.74975095e-04,\n",
       "        -1.72608416e-03, -1.43990600e-02, -2.57075075e-02,  6.75935624e-03,\n",
       "         1.06401220e-02, -1.27665675e-03, -3.55861820e-02, -2.14154590e-02,\n",
       "         5.81624992e-02, -2.68285908e-02,  1.82079468e-02,  4.13307548e-02,\n",
       "         1.20623019e-02,  3.74918655e-02, -5.19720726e-02, -1.51393637e-02,\n",
       "        -3.05694286e-02, -1.10311713e-02, -3.77792167e-03, -6.62744557e-03,\n",
       "        -3.06269759e-03, -6.58154441e-03, -3.79975815e-03, -5.14668238e-04,\n",
       "        -1.13774673e-03,  3.03540705e-03,  3.53257079e-03,  1.49159308e-03,\n",
       "        -1.66871794e-03, -1.36150895e-02, -3.06719858e-02, -6.06831536e-03,\n",
       "        -4.67944331e-02, -1.79290362e-02, -1.38656171e-02,  9.98962577e-03,\n",
       "         5.47097847e-02,  4.97193635e-02,  3.20575908e-02, -7.87717011e-03,\n",
       "        -3.60081829e-02, -2.48525962e-02, -2.23171636e-02, -3.89305614e-02,\n",
       "         8.15475476e-04, -2.65098969e-03, -1.74769294e-02, -7.02599715e-03,\n",
       "        -1.37596595e-04, -3.78867239e-03, -4.68100421e-03,  6.97792275e-04,\n",
       "         2.18078401e-03,  1.11121277e-03,  1.02417357e-03,  4.97301284e-04,\n",
       "        -1.88277347e-03, -1.17764138e-02, -2.27149446e-02, -7.82877952e-03,\n",
       "        -5.92293628e-02, -5.96543103e-02, -6.96109906e-02, -4.71192598e-02,\n",
       "         3.87936719e-02, -1.88295351e-04, -1.74572282e-02,  2.36729011e-02,\n",
       "         3.41876596e-02,  3.34740877e-02, -6.45914376e-02, -3.86649482e-02,\n",
       "        -2.75755208e-03, -2.73219030e-02, -1.18131831e-03, -3.39498464e-03,\n",
       "        -3.77364049e-04, -2.82554654e-03, -4.29798476e-03,  1.09331333e-03,\n",
       "         5.20520261e-04,  1.45752472e-03,  5.50903496e-04,  2.00671679e-03,\n",
       "        -1.38263556e-03, -1.10685788e-02, -2.58639697e-02, -4.32223715e-02,\n",
       "        -2.72753723e-02, -5.65435626e-02, -6.94335625e-02,  1.68497376e-02,\n",
       "         4.88411672e-02,  2.65495982e-02, -2.44546477e-02, -1.48893734e-02,\n",
       "         1.62477270e-02,  2.46172715e-02,  2.30340380e-02, -4.95929308e-02,\n",
       "        -1.91469491e-02, -2.45718546e-02, -8.60165153e-03, -3.31375340e-04,\n",
       "         1.15214534e-04, -2.38191220e-03, -4.58234083e-03,  1.03315024e-03,\n",
       "         1.44406600e-04,  1.90456130e-03,  1.48752227e-03,  2.84907175e-03,\n",
       "        -7.42792734e-04, -1.25982026e-02, -3.60956676e-02, -3.86027899e-03,\n",
       "         1.94011293e-02, -3.78906950e-02,  4.77867387e-03, -4.82266136e-02,\n",
       "         7.00988770e-02, -7.97611603e-04,  1.43645043e-02, -1.48216803e-02,\n",
       "         3.38335074e-02,  1.19155692e-02, -3.45059820e-02,  2.67745391e-03,\n",
       "        -3.09021007e-02, -1.15628354e-02, -1.22635877e-02, -3.11066909e-03,\n",
       "        -2.32285543e-04, -2.58145342e-03, -5.41996676e-03,  1.61471439e-03,\n",
       "        -8.95319914e-04,  3.22914711e-05, -9.40928934e-04,  2.58221407e-03,\n",
       "        -5.06393902e-04, -1.19869420e-02, -5.01747290e-03,  7.96638150e-03,\n",
       "        -5.44807054e-02,  7.95586035e-03, -4.07047458e-02, -4.04672846e-02,\n",
       "         2.98368023e-03,  5.13553806e-02, -2.89131384e-02, -4.72189039e-02,\n",
       "         1.24431206e-02,  2.00174414e-02,  2.76389881e-04, -4.69272994e-02,\n",
       "         9.30215511e-03, -2.84390431e-02, -7.06388801e-03, -4.79868148e-03,\n",
       "        -6.13967772e-04, -2.84147495e-03, -6.09694049e-03,  1.66690082e-03,\n",
       "        -8.56244005e-04,  5.98736282e-04, -1.06192008e-03,  1.17856904e-03,\n",
       "        -2.03869026e-03, -1.04980627e-02, -2.79667508e-02, -5.16131632e-02,\n",
       "        -3.62746138e-03, -5.78352390e-03, -3.88020910e-02, -4.49049100e-02,\n",
       "         3.20754834e-02,  4.64405380e-02, -2.80592795e-02,  3.91186029e-02,\n",
       "        -2.74117514e-02,  3.51300910e-02, -1.02516785e-02, -5.69593944e-02,\n",
       "         7.46175880e-03, -4.39395308e-02, -2.22598296e-02, -6.48651971e-03,\n",
       "        -1.51015527e-03, -2.58927047e-03, -5.69074089e-03,  1.72072370e-03,\n",
       "        -2.58777378e-04,  3.29222850e-04, -2.33950312e-04,  9.82749509e-04,\n",
       "        -8.81803629e-04, -7.40011223e-03, -2.23276857e-02, -6.09496515e-03,\n",
       "        -2.44358703e-02,  2.55994555e-02, -1.35782240e-02, -1.05396267e-02,\n",
       "         2.33457033e-02,  2.69698929e-02, -2.76677012e-02,  4.66760583e-02,\n",
       "         2.53701489e-02,  1.52773764e-02,  8.96590017e-03, -4.71727811e-02,\n",
       "         2.26700827e-02,  8.10782053e-03,  5.25853643e-03, -2.66995747e-03,\n",
       "        -7.27728824e-04, -2.81192642e-03, -5.76654077e-03,  1.59602216e-03,\n",
       "        -3.62284278e-04, -7.97213579e-05, -4.12031193e-04, -2.02317984e-04,\n",
       "        -1.17773423e-03, -7.41590513e-03,  2.29917988e-02,  1.69821754e-02,\n",
       "        -3.08454558e-02,  2.49879900e-02, -1.16782608e-02, -3.35183591e-02,\n",
       "         6.75317720e-02,  1.66832656e-02,  3.14551331e-02, -3.47711034e-02,\n",
       "         2.75724311e-03, -5.41208237e-02,  1.49040660e-02,  1.79764219e-02,\n",
       "        -4.82115112e-02, -6.63350848e-03,  1.37663325e-02, -1.98908709e-03,\n",
       "         3.65241693e-04, -1.91116217e-03, -5.43647865e-03,  2.63943523e-03,\n",
       "        -8.18125030e-04, -3.65416752e-04, -7.54295092e-04, -3.95685856e-05,\n",
       "        -4.33531264e-03,  8.92485201e-04,  2.27766912e-02, -1.87818557e-02,\n",
       "         1.78896692e-02, -4.56295498e-02,  1.79220606e-02,  2.53283624e-02,\n",
       "         2.65128911e-02,  1.81340724e-02,  1.42093468e-02, -2.28635892e-02,\n",
       "         3.25574400e-03, -1.64893754e-02, -3.69582362e-02,  3.97121347e-02,\n",
       "         3.98681052e-02, -3.12105427e-03,  6.62918622e-03,  9.18308564e-04,\n",
       "        -5.79804182e-04, -2.57355254e-03, -5.24722133e-03,  4.16852534e-04,\n",
       "        -1.35220855e-03, -3.69869685e-03, -4.89418581e-03, -2.75851833e-03,\n",
       "        -7.01834913e-03, -4.10906971e-03, -8.92049726e-03,  6.33464800e-03,\n",
       "        -3.55945304e-02,  1.61555205e-02, -7.01410398e-02,  1.67134069e-02,\n",
       "         9.49354917e-02,  8.43729526e-02,  6.00199811e-02,  4.61224318e-02,\n",
       "        -5.08861709e-03,  4.99259606e-02, -4.83874753e-02, -7.37417396e-03,\n",
       "        -8.04885197e-03,  8.25013965e-03,  1.75792910e-02, -9.82915401e-04,\n",
       "        -1.69955066e-03, -2.04597460e-03, -5.09851752e-03, -7.71938590e-04,\n",
       "        -9.45232925e-04, -9.58037155e-04, -1.98908825e-03, -3.20033613e-03,\n",
       "        -4.79128724e-03, -8.14292766e-03, -7.38781737e-03, -6.18274184e-03,\n",
       "        -1.19614080e-02,  1.28954509e-02, -6.45259442e-03,  2.63112132e-02,\n",
       "         3.69029306e-02,  4.17254749e-04, -7.38253370e-02,  3.78478914e-02,\n",
       "         7.95344636e-02,  5.82304522e-02,  4.63876463e-02, -2.34340075e-02,\n",
       "        -3.77567159e-03, -4.78052488e-03, -8.93130619e-03, -2.13813339e-03,\n",
       "        -1.45538524e-03, -1.30672462e-03, -8.81208573e-03, -1.70048513e-03],\n",
       "       dtype=float32),\n",
       " (784,),\n",
       " array([ 0.04225676,  0.08248918, -0.05188543,  0.05000354, -0.01401389,\n",
       "        -0.05038945, -0.00550017,  0.08530942,  0.08367802, -0.04946244,\n",
       "        -0.00390391,  0.01237956, -0.03458299,  0.05426465, -0.0144887 ,\n",
       "        -0.04014378,  0.02067915, -0.00902664,  0.05755775,  0.04539782,\n",
       "         0.07509173,  0.05108289,  0.03125129, -0.03421508,  0.07618853,\n",
       "         0.02212521,  0.01809362, -0.05210731,  0.03646112, -0.00515051,\n",
       "         0.06872776,  0.08025235, -0.0175729 ,  0.08241746,  0.00652631,\n",
       "        -0.02771863, -0.06154662,  0.04336341, -0.0255204 , -0.00239493,\n",
       "        -0.07664959, -0.01624235,  0.08614823,  0.00767895,  0.00591909,\n",
       "        -0.07532714, -0.00086845,  0.07434253, -0.003987  ,  0.0136476 ,\n",
       "         0.05740948, -0.03742301,  0.07635556,  0.02686686, -0.0366196 ,\n",
       "         0.06338313,  0.07979017,  0.03797166,  0.05389202, -0.03794813,\n",
       "        -0.00494084, -0.03403559, -0.02199777, -0.04592917, -0.05201837,\n",
       "        -0.04021104, -0.05694082,  0.08317132, -0.07027904, -0.07976422,\n",
       "        -0.04871043, -0.06844635,  0.07622917,  0.01469178,  0.02727044,\n",
       "        -0.01567397, -0.04864268,  0.06451975, -0.03402258,  0.02630645,\n",
       "        -0.06856489,  0.07046822,  0.02516011, -0.077855  , -0.04723025,\n",
       "         0.04698184,  0.07262576,  0.0124003 , -0.03754749,  0.0806836 ,\n",
       "         0.07054941,  0.02668108, -0.02672369, -0.02149905, -0.01659159,\n",
       "         0.06888345, -0.0329111 ,  0.02602414, -0.08530962,  0.02359334,\n",
       "        -0.06088242,  0.00734027,  0.03409683,  0.04526989, -0.0164695 ,\n",
       "        -0.0343209 , -0.02998227, -0.04206359, -0.00601416, -0.01135837,\n",
       "         0.01757903,  0.05045146,  0.00582225, -0.048719  , -0.0608132 ,\n",
       "        -0.03241847,  0.08597533,  0.08025242, -0.04656573, -0.02774268,\n",
       "        -0.08368675, -0.06949918,  0.05860049,  0.00427817,  0.04586038,\n",
       "        -0.00152903, -0.02092664, -0.04496001, -0.02911708,  0.00513594,\n",
       "        -0.07601101, -0.0030112 ,  0.01608543, -0.06808098,  0.07191367,\n",
       "         0.01167899,  0.07717884,  0.02645247, -0.00026634,  0.05836883,\n",
       "        -0.08230875,  0.05774455,  0.07177065,  0.04997635, -0.04609269,\n",
       "        -0.05410454, -0.0025785 ,  0.08515002, -0.03076454,  0.00972316,\n",
       "        -0.06174982,  0.00145824,  0.01209277,  0.06179264,  0.0420415 ,\n",
       "        -0.03204495,  0.03777726,  0.01449864,  0.02102098,  0.06107883,\n",
       "         0.00338529,  0.05257708, -0.06065735,  0.03855979, -0.0425607 ,\n",
       "        -0.07154632, -0.04043311,  0.0173343 ,  0.0440454 ,  0.01721393,\n",
       "        -0.04778016,  0.07885097,  0.00675214, -0.01762441, -0.01867396,\n",
       "        -0.01357599, -0.06867658, -0.04471797, -0.06338043,  0.0520439 ,\n",
       "        -0.01482018, -0.05090707,  0.08575121, -0.07981618,  0.0051294 ,\n",
       "         0.06894642, -0.06315316,  0.04401277,  0.02016285,  0.0182536 ,\n",
       "        -0.0660409 ,  0.08064082, -0.02643745,  0.00669565, -0.04556638,\n",
       "        -0.06973366, -0.00348662,  0.01722962,  0.0025141 ,  0.07175227,\n",
       "         0.05456327, -0.01556152, -0.0749405 ,  0.06645639, -0.01233701,\n",
       "         0.03010514, -0.04629811, -0.083072  , -0.00543013,  0.06141713,\n",
       "        -0.08728848,  0.0104779 ,  0.01669149,  0.04272521,  0.04804194,\n",
       "         0.00043699,  0.03879653, -0.02231795,  0.0535741 , -0.06933681,\n",
       "        -0.02664158,  0.06077124,  0.05935298, -0.08117498, -0.05160022,\n",
       "        -0.01477293, -0.00976543, -0.02666084, -0.02821711,  0.0054239 ,\n",
       "         0.04590651, -0.01234359, -0.00940227,  0.0075785 , -0.00021221,\n",
       "        -0.05218839,  0.0744518 , -0.07393476, -0.01117682, -0.05698362,\n",
       "        -0.00283149, -0.07186551, -0.03541375,  0.04792017,  0.01041897,\n",
       "        -0.02951549,  0.0009553 , -0.00547334,  0.03526536,  0.00817411,\n",
       "         0.08645162,  0.00770273,  0.06034848,  0.02801139,  0.05005738,\n",
       "         0.04488049,  0.01619209, -0.0146541 ,  0.05817375, -0.06536348,\n",
       "        -0.06395821, -0.0785703 , -0.05915204, -0.03184124,  0.0386523 ,\n",
       "        -0.04665652, -0.08316109,  0.0687013 , -0.00724197,  0.04601674,\n",
       "        -0.02839254, -0.02138709,  0.07058866,  0.04317798,  0.00664631,\n",
       "        -0.06885815,  0.0124794 ,  0.08491938, -0.08595401,  0.01385373,\n",
       "        -0.02824648, -0.0840707 , -0.00672769, -0.0649515 ,  0.06034869,\n",
       "         0.00164793, -0.00876473, -0.06077833,  0.05276158, -0.0320231 ,\n",
       "        -0.06503066, -0.04858649, -0.07350986, -0.02205394,  0.07125139,\n",
       "         0.07256965,  0.01691084,  0.04076883, -0.01964971,  0.02003901,\n",
       "         0.08380885,  0.02749687, -0.06621215,  0.02117664,  0.03229493,\n",
       "        -0.03104496, -0.05966659, -0.03475861,  0.02564123,  0.02599754,\n",
       "         0.01735183, -0.07193089, -0.0727507 ,  0.02770477,  0.0188423 ,\n",
       "        -0.01007205,  0.01149588,  0.03544141,  0.07608636, -0.0044341 ,\n",
       "         0.00937169,  0.06430915, -0.03112594, -0.05787714,  0.04380554,\n",
       "        -0.02416801, -0.07302897, -0.00927743, -0.04405236,  0.05135655,\n",
       "        -0.02781195,  0.02759442, -0.05894743, -0.05823119,  0.06592727,\n",
       "         0.07783633,  0.08412506,  0.06775671,  0.03754187, -0.03157561,\n",
       "        -0.00551128,  0.05850175, -0.03473107, -0.0216109 ,  0.02798683,\n",
       "         0.01139345,  0.08634505,  0.03427333, -0.00108966, -0.03411376,\n",
       "        -0.06386711, -0.05737503, -0.00279804,  0.07950446, -0.05458574,\n",
       "        -0.05895867,  0.0445365 ,  0.04412667,  0.06831302, -0.03365619,\n",
       "         0.05648115,  0.08574678, -0.01738472,  0.00093283,  0.05925344,\n",
       "        -0.02013969,  0.00128628,  0.04123771, -0.05781654, -0.02417275,\n",
       "         0.021645  , -0.05857109, -0.02610422, -0.04269321, -0.01440959,\n",
       "        -0.07416295,  0.02681588, -0.02727076, -0.03305034, -0.03628951,\n",
       "        -0.02487378,  0.06026612, -0.04347198, -0.07445453,  0.02394595,\n",
       "         0.02774975, -0.03756262,  0.00960741, -0.02547911, -0.08573513,\n",
       "         0.07042728,  0.04269798, -0.06732184, -0.02520064,  0.02381426,\n",
       "         0.03495056,  0.00047558, -0.01802611,  0.00520231, -0.08314416,\n",
       "         0.01321515,  0.05992496,  0.03435175,  0.04753166,  0.06102911,\n",
       "        -0.01338194,  0.05300714,  0.07318515,  0.04754521, -0.04651639,\n",
       "        -0.07264062,  0.08014974, -0.0144763 , -0.02179769, -0.03209785,\n",
       "        -0.07096241,  0.05246609, -0.04523157,  0.02336555,  0.03109352,\n",
       "        -0.03447767,  0.02591821, -0.04774008, -0.08088294,  0.05983075,\n",
       "        -0.03744479, -0.0409674 , -0.01544557, -0.02080128, -0.00587221,\n",
       "        -0.0216794 ,  0.04839751,  0.07510754,  0.05310069, -0.07368833,\n",
       "        -0.06712633,  0.00706695,  0.00801896, -0.05788693, -0.03252742,\n",
       "         0.0826128 , -0.07382815, -0.02234359,  0.05588064,  0.08715463,\n",
       "         0.01718351, -0.06097461,  0.05277644,  0.01539406,  0.04894969,\n",
       "        -0.07644844,  0.03690356,  0.07488097,  0.04022299, -0.04212191,\n",
       "        -0.07397851,  0.08660035,  0.07507277,  0.08250481, -0.05911275,\n",
       "        -0.00643594,  0.05434704,  0.06479307, -0.07701067, -0.0620954 ,\n",
       "         0.04428203, -0.02113266,  0.06520867,  0.06524007,  0.02719378,\n",
       "         0.00239035,  0.05035402, -0.07282142, -0.05488979,  0.05856369,\n",
       "        -0.01072717,  0.0641813 ,  0.04181607, -0.07865687,  0.00249163,\n",
       "        -0.06631147, -0.04289106, -0.07174383, -0.01304384, -0.07938803,\n",
       "         0.08359174,  0.05785304,  0.03081913,  0.08230495, -0.02348338,\n",
       "        -0.05967113,  0.07159577,  0.02820175, -0.03569179,  0.05979796,\n",
       "        -0.05618377,  0.03527921,  0.03427158,  0.03926168,  0.02508562,\n",
       "         0.04161188, -0.07046361,  0.05775364, -0.08715271,  0.04615943,\n",
       "        -0.03904128,  0.04154733,  0.07628381, -0.03228221,  0.0643979 ,\n",
       "        -0.02103338,  0.00343134, -0.06730346,  0.02016065,  0.08164346,\n",
       "        -0.00603194, -0.03841708, -0.01508121, -0.02464902, -0.04759892,\n",
       "        -0.06387706, -0.01590286, -0.01200674,  0.07084572, -0.00145881,\n",
       "         0.0347407 ,  0.05418393,  0.08136992, -0.05482191,  0.05823611,\n",
       "         0.07302044,  0.08211759,  0.05911586, -0.07481799, -0.07715183,\n",
       "         0.04475404,  0.04139566,  0.02496268, -0.02824886, -0.01238838,\n",
       "        -0.01588549, -0.00098736, -0.05322032,  0.00770772,  0.03709839,\n",
       "        -0.08413967, -0.04420206,  0.01084974, -0.04778054, -0.01175468,\n",
       "         0.03836092, -0.05554878,  0.06825197, -0.02920658, -0.08408748,\n",
       "        -0.01974082,  0.0277258 , -0.03689001, -0.04706671, -0.07815006,\n",
       "        -0.02560695, -0.01219825, -0.05032886,  0.048575  ,  0.06540702,\n",
       "         0.04622538, -0.00261971, -0.07842492,  0.08532394, -0.0354945 ,\n",
       "         0.02367146,  0.01363183, -0.01989119, -0.02189136, -0.05502001,\n",
       "        -0.03361823, -0.07329523, -0.07762951,  0.0712219 ,  0.02844969,\n",
       "         0.01024216, -0.05327336,  0.08549134, -0.06299283,  0.03601187,\n",
       "        -0.08033287, -0.01051671, -0.07837637, -0.08323931,  0.00442974,\n",
       "        -0.06730043,  0.00296085, -0.01789025,  0.05764492,  0.02962565,\n",
       "         0.01007036, -0.07269432,  0.02329995, -0.02806585, -0.05864839,\n",
       "        -0.08113694,  0.06159785,  0.07189222, -0.04480587,  0.04718156,\n",
       "         0.03550512,  0.08269583,  0.02180842,  0.01464853, -0.01573499,\n",
       "         0.00156115, -0.04311915,  0.0169792 , -0.02009381,  0.0405187 ,\n",
       "        -0.08347808,  0.08666694,  0.03144535, -0.05344783, -0.02098905,\n",
       "         0.07232589,  0.03937635,  0.0320798 , -0.07728173, -0.03360335,\n",
       "        -0.02822702, -0.07516183, -0.02902726, -0.08659545,  0.06025612,\n",
       "        -0.03182181, -0.06126633,  0.07610856, -0.03018008,  0.08370787,\n",
       "        -0.03384952, -0.0145525 , -0.00356718,  0.00975147, -0.00962223,\n",
       "        -0.0564898 , -0.00036836, -0.07688994, -0.06279496, -0.02943438,\n",
       "         0.0727966 ,  0.00468142,  0.05819601,  0.04437694,  0.0107688 ,\n",
       "        -0.03436653, -0.08409317, -0.08004309, -0.00563559, -0.08422065,\n",
       "         0.04118326,  0.08401208,  0.05532625, -0.0108424 ,  0.02646914,\n",
       "         0.00484738, -0.00341908, -0.03574052, -0.00766186,  0.03432669,\n",
       "        -0.05104233,  0.0085237 , -0.04434505, -0.08572281,  0.03946762,\n",
       "         0.03867324,  0.02511724,  0.05940436,  0.00622132,  0.05585065,\n",
       "        -0.02029765, -0.03114578,  0.07801905,  0.04838875, -0.08044591,\n",
       "        -0.01337826, -0.08612731, -0.05851206,  0.05119219, -0.02415863,\n",
       "         0.06912485,  0.02589168, -0.04250846,  0.06752047,  0.0233806 ,\n",
       "         0.07225315, -0.08309482, -0.02658009, -0.00080895, -0.05781988,\n",
       "         0.04353063, -0.05486443,  0.07026316, -0.06905971, -0.05416115,\n",
       "        -0.06045756,  0.04969537, -0.00107799,  0.0239106 , -0.0223417 ,\n",
       "        -0.06626421, -0.08673454, -0.00435171, -0.01958808,  0.07896434,\n",
       "        -0.05565235, -0.06744365,  0.02420021, -0.07593893,  0.02912018,\n",
       "        -0.07863364,  0.027216  , -0.02745183,  0.06320731, -0.0002109 ,\n",
       "        -0.07547642,  0.03888613,  0.08322076, -0.03164491, -0.08158686,\n",
       "         0.08177936,  0.08229882,  0.02768026,  0.00649101, -0.00491989,\n",
       "        -0.00082999,  0.075909  , -0.01626384,  0.061419  , -0.07093106,\n",
       "        -0.04197104,  0.03563364,  0.05990089,  0.04604892,  0.03450035,\n",
       "         0.02656711, -0.01401475, -0.03859605, -0.04311746, -0.02423806,\n",
       "         0.0644014 , -0.06408529, -0.01606332,  0.0129782 ,  0.07241423,\n",
       "         0.05102119,  0.012915  ,  0.02169601,  0.06193775,  0.02962321,\n",
       "         0.0622184 , -0.02471662,  0.02916435,  0.00395352, -0.02742375,\n",
       "         0.01584156, -0.03888003, -0.00399683,  0.05902891,  0.05856065,\n",
       "         0.0104419 , -0.0007605 ,  0.05129294,  0.07184184,  0.00934851,\n",
       "        -0.05554144,  0.03371757, -0.01319297, -0.07465309,  0.0793613 ,\n",
       "        -0.048851  ,  0.00275218, -0.08727282,  0.01333626, -0.04797411,\n",
       "         0.02797762, -0.01460897,  0.02306456,  0.01044947], dtype=float32))"
      ]
     },
     "execution_count": 23,
     "metadata": {},
     "output_type": "execute_result"
    }
   ],
   "source": [
    "# index for the 1st hidden layer weights in best_weights and save to best_hidden_weights\n",
    "\n",
    "# index for the 1st hidden layer weights in worse_weights and save to worse_hidden_weights\n",
    "\n",
    "# Keras models randomly samples from the GlorotUniform distribution for the initial values of model weights \n",
    "# instantiate GlorotUniform and sample 128 weights and save to initial_weight_values\n",
    "# hint: use shape=(1, 128)\n",
    "\n",
    "# YOUR CODE HERE\n",
    "\n",
    "best_hidden_weights = best_weights[0].T[0]\n",
    "\n",
    "worse_hidden_weights = worse_weights[0].T[0]\n",
    "\n",
    "\n",
    "# let's take 784 random samples form the GlorotUniform\n",
    "# because they are random samples their exact values might have been a little different for model and norm_model - but we will assume that they were not statistically different \n",
    "# 784 because that's how many weights are in the hidden layer for both of our models\n",
    "initializer = tf.keras.initializers.GlorotUniform(seed=1234)\n",
    "initial_weight_values = initializer(shape=(1, 784))[0].numpy()\n",
    "\n",
    "best_hidden_weights, worse_hidden_weights.shape, initial_weight_values"
   ]
  },
  {
   "cell_type": "code",
   "execution_count": 24,
   "metadata": {},
   "outputs": [],
   "source": [
    "# move all weights to a dataframe for ease of analysis \n",
    "cols = [\"best_hidden_weights\", \"worse_hidden_weights\", \"initial_weight_values\"]\n",
    "data = [best_hidden_weights, worse_hidden_weights, initial_weight_values]\n",
    "df = pd.DataFrame(data=data).T\n",
    "df.columns = cols\n"
   ]
  },
  {
   "cell_type": "code",
   "execution_count": 25,
   "metadata": {},
   "outputs": [
    {
     "data": {
      "text/html": [
       "<div>\n",
       "<style scoped>\n",
       "    .dataframe tbody tr th:only-of-type {\n",
       "        vertical-align: middle;\n",
       "    }\n",
       "\n",
       "    .dataframe tbody tr th {\n",
       "        vertical-align: top;\n",
       "    }\n",
       "\n",
       "    .dataframe thead th {\n",
       "        text-align: right;\n",
       "    }\n",
       "</style>\n",
       "<table border=\"1\" class=\"dataframe\">\n",
       "  <thead>\n",
       "    <tr style=\"text-align: right;\">\n",
       "      <th></th>\n",
       "      <th>best_hidden_weights</th>\n",
       "      <th>worse_hidden_weights</th>\n",
       "      <th>initial_weight_values</th>\n",
       "    </tr>\n",
       "  </thead>\n",
       "  <tbody>\n",
       "    <tr>\n",
       "      <th>count</th>\n",
       "      <td>784.000000</td>\n",
       "      <td>7.840000e+02</td>\n",
       "      <td>784.000000</td>\n",
       "    </tr>\n",
       "    <tr>\n",
       "      <th>mean</th>\n",
       "      <td>-0.005707</td>\n",
       "      <td>1.108495e-07</td>\n",
       "      <td>0.000399</td>\n",
       "    </tr>\n",
       "    <tr>\n",
       "      <th>std</th>\n",
       "      <td>0.025973</td>\n",
       "      <td>8.647196e-06</td>\n",
       "      <td>0.049670</td>\n",
       "    </tr>\n",
       "    <tr>\n",
       "      <th>min</th>\n",
       "      <td>-0.099861</td>\n",
       "      <td>-4.831167e-05</td>\n",
       "      <td>-0.087288</td>\n",
       "    </tr>\n",
       "    <tr>\n",
       "      <th>25%</th>\n",
       "      <td>-0.018734</td>\n",
       "      <td>-6.484926e-17</td>\n",
       "      <td>-0.040161</td>\n",
       "    </tr>\n",
       "    <tr>\n",
       "      <th>50%</th>\n",
       "      <td>-0.002714</td>\n",
       "      <td>1.496528e-16</td>\n",
       "      <td>-0.000564</td>\n",
       "    </tr>\n",
       "    <tr>\n",
       "      <th>75%</th>\n",
       "      <td>0.001566</td>\n",
       "      <td>5.075949e-16</td>\n",
       "      <td>0.043224</td>\n",
       "    </tr>\n",
       "    <tr>\n",
       "      <th>max</th>\n",
       "      <td>0.101478</td>\n",
       "      <td>2.268762e-04</td>\n",
       "      <td>0.087155</td>\n",
       "    </tr>\n",
       "  </tbody>\n",
       "</table>\n",
       "</div>"
      ],
      "text/plain": [
       "       best_hidden_weights  worse_hidden_weights  initial_weight_values\n",
       "count           784.000000          7.840000e+02             784.000000\n",
       "mean             -0.005707          1.108495e-07               0.000399\n",
       "std               0.025973          8.647196e-06               0.049670\n",
       "min              -0.099861         -4.831167e-05              -0.087288\n",
       "25%              -0.018734         -6.484926e-17              -0.040161\n",
       "50%              -0.002714          1.496528e-16              -0.000564\n",
       "75%               0.001566          5.075949e-16               0.043224\n",
       "max               0.101478          2.268762e-04               0.087155"
      ]
     },
     "metadata": {},
     "output_type": "display_data"
    },
    {
     "data": {
      "text/html": [
       "<div>\n",
       "<style scoped>\n",
       "    .dataframe tbody tr th:only-of-type {\n",
       "        vertical-align: middle;\n",
       "    }\n",
       "\n",
       "    .dataframe tbody tr th {\n",
       "        vertical-align: top;\n",
       "    }\n",
       "\n",
       "    .dataframe thead th {\n",
       "        text-align: right;\n",
       "    }\n",
       "</style>\n",
       "<table border=\"1\" class=\"dataframe\">\n",
       "  <thead>\n",
       "    <tr style=\"text-align: right;\">\n",
       "      <th></th>\n",
       "      <th>best_hidden_weights</th>\n",
       "      <th>worse_hidden_weights</th>\n",
       "      <th>initial_weight_values</th>\n",
       "    </tr>\n",
       "  </thead>\n",
       "  <tbody>\n",
       "    <tr>\n",
       "      <th>0</th>\n",
       "      <td>9.427178e-08</td>\n",
       "      <td>2.740948e-18</td>\n",
       "      <td>0.042257</td>\n",
       "    </tr>\n",
       "    <tr>\n",
       "      <th>1</th>\n",
       "      <td>3.828748e-05</td>\n",
       "      <td>2.692000e-18</td>\n",
       "      <td>0.082489</td>\n",
       "    </tr>\n",
       "    <tr>\n",
       "      <th>2</th>\n",
       "      <td>-4.077503e-05</td>\n",
       "      <td>3.831023e-07</td>\n",
       "      <td>-0.051885</td>\n",
       "    </tr>\n",
       "    <tr>\n",
       "      <th>3</th>\n",
       "      <td>1.417852e-05</td>\n",
       "      <td>6.503449e-18</td>\n",
       "      <td>0.050004</td>\n",
       "    </tr>\n",
       "    <tr>\n",
       "      <th>4</th>\n",
       "      <td>1.077045e-04</td>\n",
       "      <td>6.616435e-18</td>\n",
       "      <td>-0.014014</td>\n",
       "    </tr>\n",
       "  </tbody>\n",
       "</table>\n",
       "</div>"
      ],
      "text/plain": [
       "   best_hidden_weights  worse_hidden_weights  initial_weight_values\n",
       "0         9.427178e-08          2.740948e-18               0.042257\n",
       "1         3.828748e-05          2.692000e-18               0.082489\n",
       "2        -4.077503e-05          3.831023e-07              -0.051885\n",
       "3         1.417852e-05          6.503449e-18               0.050004\n",
       "4         1.077045e-04          6.616435e-18              -0.014014"
      ]
     },
     "execution_count": 25,
     "metadata": {},
     "output_type": "execute_result"
    }
   ],
   "source": [
    "# check out the statistics for each weight column \n",
    "display(df.describe())\n",
    "df.head()"
   ]
  },
  {
   "cell_type": "code",
   "execution_count": 26,
   "metadata": {},
   "outputs": [
    {
     "data": {
      "image/png": "[encoded data removed]",
      "text/plain": [
       "<Figure size 1440x864 with 4 Axes>"
      ]
     },
     "metadata": {
      "needs_background": "light"
     },
     "output_type": "display_data"
    }
   ],
   "source": [
    "# plot the distributions for each weight column \n",
    "df.hist(figsize=(20,12));"
   ]
  },
  {
   "cell_type": "markdown",
   "metadata": {},
   "source": [
    "## Observations \n",
    "\n",
    "Take a look at the statistical table and the plots. Then answer the following questions. \n",
    "\n",
    "**How do the hidden layer weights from the best performing model compare to the initial weight values?**"
   ]
  },
  {
   "cell_type": "markdown",
   "metadata": {
    "deletable": false,
    "nbgrader": {
     "cell_type": "markdown",
     "checksum": "5eacb66f89b216ae3b4bb3c4b7bd6d38",
     "grade": true,
     "grade_id": "cell-6add7cc400c4c716",
     "locked": false,
     "points": 0,
     "schema_version": 3,
     "solution": true,
     "task": false
    }
   },
   "source": [
    "The hidden layer weights from the best performing model have more of a normal distribution as compared to the relatively uniform distribution of the initial weightThe hidden layer weights from the best performing model have more of a normal distribution as compared to the relatively uniform distribution of the initial weigh values. values."
   ]
  },
  {
   "cell_type": "markdown",
   "metadata": {},
   "source": [
    "**What was the effect of using a small l2 penalty value?**"
   ]
  },
  {
   "cell_type": "markdown",
   "metadata": {
    "deletable": false,
    "nbgrader": {
     "cell_type": "markdown",
     "checksum": "92ac1689b72d727ab7f4d261c5e76daa",
     "grade": true,
     "grade_id": "cell-5b4f11bba2d49639",
     "locked": false,
     "points": 0,
     "schema_version": 3,
     "solution": true,
     "task": false
    }
   },
   "source": [
    "A small L2 penalty value tends to spread the weights into a normal distribution centred around zero."
   ]
  },
  {
   "cell_type": "markdown",
   "metadata": {},
   "source": [
    "**What was the effect of using a large l2 penalty value?**"
   ]
  },
  {
   "cell_type": "markdown",
   "metadata": {
    "deletable": false,
    "nbgrader": {
     "cell_type": "markdown",
     "checksum": "3048a6d2805f61d6fb58372c42c3ac54",
     "grade": true,
     "grade_id": "cell-0a30b62e5e119555",
     "locked": false,
     "points": 0,
     "schema_version": 3,
     "solution": true,
     "task": false
    }
   },
   "source": [
    "A large L2 penalty value tends to squeeze the weights into a narrow band around zero."
   ]
  },
  {
   "cell_type": "markdown",
   "metadata": {},
   "source": [
    "**Given what you know about L2 regularization, are you surprised by these results?**"
   ]
  },
  {
   "cell_type": "markdown",
   "metadata": {
    "deletable": false,
    "nbgrader": {
     "cell_type": "markdown",
     "checksum": "d8a2034f67badfe53f601873f7026dc0",
     "grade": true,
     "grade_id": "cell-c04d067161064011",
     "locked": false,
     "points": 0,
     "schema_version": 3,
     "solution": true,
     "task": false
    }
   },
   "source": [
    "Since L2 regularization involves modifying the cost gradient by subtracting $\\lambda*2*w$(where $\\lambda$ is the L2 penalty value), the larger L2 penalty values will tend to push the weights closer to zero.\n",
    "So, the results are not surprising."
   ]
  },
  {
   "cell_type": "markdown",
   "metadata": {},
   "source": [
    "----\n",
    "\n",
    "# Experiment 2: Identify the relationship between model performance and Max Norm Weight Constraint\n",
    "\n",
    "![](https://qph.fs.quoracdn.net/main-qimg-9d0dbf8074761b541ba80543ddfc9f73.webp)\n",
    "\n",
    "Recall from lecture that the **Norm** of a vector is just another word for the **length** of a vector.\n",
    "\n",
    "MaxNorm weight constraint puts a limit on the length of a weight vector.\n",
    "\n",
    "$$ \\text{Max_value_of_norm} >= {\\displaystyle \\left\\|x\\right\\|_{p}=\\left(|x_{1}|^{p}+|x_{2}|^{p}+\\dotsb +|x_{n}|^{p}\\right)^{1/p}.}$$  \n",
    "\n",
    "The effect that Lp regularization and Max Norm Weight Constraint have on the weights should be the same, but they go about it in different ways. \n",
    "\n",
    "Lp regularization (l1/Lasso and l2/Ridge) shrink the value of the weights. Where as Max Norm Weight Constraint puts a limit on how big the weight vector can be which, in effect, keeps the individual weight values small enough to keep the norm below that limit. \n",
    "\n",
    "In this experiment, we are going to run another gridseach but instead of using Lp space regularization as we did in the previous experiment, we are going to use MaxNorm and see what kind of effect that this type of regularization has on model performance and the learned weights. "
   ]
  },
  {
   "cell_type": "markdown",
   "metadata": {},
   "source": [
    "Since we already built our model, we just need to update the `hyper_parameters` dictionary. "
   ]
  },
  {
   "cell_type": "code",
   "execution_count": 27,
   "metadata": {},
   "outputs": [
    {
     "data": {
      "text/plain": [
       "{'maxnorm_wc': [0.5,\n",
       "  1.0,\n",
       "  1.5,\n",
       "  2.0,\n",
       "  2.5,\n",
       "  3.0,\n",
       "  3.5,\n",
       "  4.0,\n",
       "  4.5,\n",
       "  5.0,\n",
       "  5.5,\n",
       "  6.0,\n",
       "  6.5,\n",
       "  7.0,\n",
       "  7.5,\n",
       "  8.0,\n",
       "  8.5,\n",
       "  9.0,\n",
       "  9.5,\n",
       "  10.0],\n",
       " 'epochs': [1]}"
      ]
     },
     "execution_count": 27,
     "metadata": {},
     "output_type": "execute_result"
    }
   ],
   "source": [
    "# remember to wrap KerasClassifier around build_model for sklearn's GridsearchCV compatibility \n",
    "#model = KerasClassifier(build_fn = build_complex_model)\n",
    "\n",
    "# build out our hyperparameter dictionary \n",
    "hyper_parameters = {\n",
    "    \n",
    "    \"maxnorm_wc\": np.linspace(0.5, 10.0, num=20).tolist(), \n",
    "    # default is 1, in order to change it we must provide value here because we can't provide a parameter value for model.fit() directly when using gridsearch\n",
    "    # protip: consider changing epochs to 1 if the gridsearche run-time are too long for you    \n",
    "    \"epochs\": [1] \n",
    "}\n",
    "\n",
    "hyper_parameters"
   ]
  },
  {
   "cell_type": "code",
   "execution_count": 28,
   "metadata": {},
   "outputs": [
    {
     "name": "stdout",
     "output_type": "stream",
     "text": [
      "Fitting 3 folds for each of 20 candidates, totalling 60 fits\n"
     ]
    },
    {
     "name": "stderr",
     "output_type": "stream",
     "text": [
      "/opt/anaconda3/envs/U4-S2-NN/lib/python3.7/site-packages/joblib/externals/loky/process_executor.py:691: UserWarning: A worker stopped while some jobs were given to the executor. This can be caused by a too short worker timeout or by a memory leak.\n",
      "  \"timeout or by a memory leak.\", UserWarning\n"
     ]
    },
    {
     "name": "stdout",
     "output_type": "stream",
     "text": [
      "maxnorm_wc = 3.0\n",
      "1875/1875 [==============================] - 6s 3ms/step - loss: 0.5912 - accuracy: 0.7875\n"
     ]
    }
   ],
   "source": [
    "start=time()\n",
    "# Create and run Grid Search\n",
    "grid = GridSearchCV(estimator=model, \n",
    "                    param_grid=hyper_parameters, \n",
    "                    n_jobs=-2, \n",
    "                    verbose=1, \n",
    "                    cv=3)\n",
    "\n",
    "grid_result = grid.fit(X_train, y_train)\n",
    "end=time()"
   ]
  },
  {
   "cell_type": "code",
   "execution_count": 29,
   "metadata": {},
   "outputs": [
    {
     "name": "stdout",
     "output_type": "stream",
     "text": [
      "Gridsearch runtime 2.91 mins\n"
     ]
    },
    {
     "data": {
      "text/plain": [
       "{'epochs': 1, 'maxnorm_wc': 3.0}"
      ]
     },
     "execution_count": 29,
     "metadata": {},
     "output_type": "execute_result"
    }
   ],
   "source": [
    "print(\"Gridsearch runtime {0:.3} mins\".format( (end-start)/60 ))\n",
    "grid.best_params_"
   ]
  },
  {
   "cell_type": "code",
   "execution_count": 30,
   "metadata": {},
   "outputs": [
    {
     "data": {
      "image/png": "[encoded data removed]",
      "text/plain": [
       "<Figure size 1440x432 with 1 Axes>"
      ]
     },
     "metadata": {
      "needs_background": "light"
     },
     "output_type": "display_data"
    }
   ],
   "source": [
    "# use the mean accuracy from the CV splits for determining best model score \n",
    "means = grid.cv_results_['mean_test_score']\n",
    "stds = grid.cv_results_['std_test_score']\n",
    "params = grid.cv_results_['params']\n",
    "\n",
    "# move l2 penalty values outside of dictionary and into a list\n",
    "param_values = [dic[\"maxnorm_wc\"] for dic in params]\n",
    "\n",
    "# plot accuracy vs l2_reg_penalty\n",
    "plt.figure(figsize=(20,6))\n",
    "plt.grid()\n",
    "plt.errorbar(param_values, means, yerr=stds, ecolor=\"orange\")\n",
    "plt.title(\"L1 Regularization: Model Accuracy vs L1 Penalty Strength\")\n",
    "plt.ylabel(\"Validation Accuracy\", )\n",
    "plt.xlabel(\"Max Norm for Weight Vector \");"
   ]
  },
  {
   "cell_type": "code",
   "execution_count": 31,
   "metadata": {
    "deletable": false,
    "nbgrader": {
     "cell_type": "code",
     "checksum": "cfe7bd54a7a14ba7ee63c88d6d1828b4",
     "grade": false,
     "grade_id": "cell-f67372e0b9b30614",
     "locked": false,
     "schema_version": 3,
     "solution": true,
     "task": false
    }
   },
   "outputs": [],
   "source": [
    "# get the best l2 penalty term from grid and save to best_max_norm_val\n",
    "\n",
    "# get the best trained model from grid and save to best_model\n",
    "\n",
    "# get the weights from the best trained model and save to best_weights\n",
    "\n",
    "# YOUR CODE HERE\n",
    "\n",
    "best_max_norm_val = grid.best_params_['maxnorm_wc']\n",
    "\n",
    "best_model = grid.best_estimator_.model\n",
    "\n",
    "best_weights = best_model.get_weights()\n",
    "\n",
    "best_hidden_weights = best_weights[0].T[0]"
   ]
  },
  {
   "cell_type": "code",
   "execution_count": 32,
   "metadata": {},
   "outputs": [
    {
     "data": {
      "text/plain": [
       "3.0"
      ]
     },
     "execution_count": 32,
     "metadata": {},
     "output_type": "execute_result"
    }
   ],
   "source": [
    "best_max_norm_val"
   ]
  },
  {
   "cell_type": "code",
   "execution_count": 33,
   "metadata": {},
   "outputs": [
    {
     "data": {
      "text/plain": [
       "1.3010439"
      ]
     },
     "execution_count": 33,
     "metadata": {},
     "output_type": "execute_result"
    }
   ],
   "source": [
    "# we see that the norm of our weights are indeed below the maximum allowed value \n",
    "np.linalg.norm(best_hidden_weights)"
   ]
  },
  {
   "cell_type": "code",
   "execution_count": 34,
   "metadata": {
    "deletable": false,
    "nbgrader": {
     "cell_type": "code",
     "checksum": "67f65bd636e3b3b3bc7d20c02ba6b666",
     "grade": false,
     "grade_id": "cell-e752c1a8c853985d",
     "locked": false,
     "schema_version": 3,
     "solution": true,
     "task": false
    }
   },
   "outputs": [
    {
     "name": "stdout",
     "output_type": "stream",
     "text": [
      "maxnorm_wc = 0.5\n",
      "Epoch 1/3\n",
      "1875/1875 [==============================] - 6s 3ms/step - loss: 0.7296 - accuracy: 0.7295\n",
      "Epoch 2/3\n",
      "1875/1875 [==============================] - 6s 3ms/step - loss: 0.4902 - accuracy: 0.8199\n",
      "Epoch 3/3\n",
      "1875/1875 [==============================] - 6s 3ms/step - loss: 0.4850 - accuracy: 0.8210\n"
     ]
    }
   ],
   "source": [
    "# train a model using the max_norm_val value that scored the lowest \n",
    "\n",
    "# build a model using build_complex_model and worse_max_norm_val and save it to worse_model\n",
    "\n",
    "# fit model \n",
    "\n",
    "# get weights from worse performing model \n",
    "\n",
    "\n",
    "# YOUR CODE HERE\n",
    "\n",
    "worse_max_norm_val = 0.5\n",
    "\n",
    "worse_model = build_complex_model(maxnorm_wc=worse_max_norm_val)\n",
    "\n",
    "worse_model.fit(X_train, y_train, epochs=3)\n",
    "\n",
    "worse_weights = worse_model.get_weights()"
   ]
  },
  {
   "cell_type": "code",
   "execution_count": 35,
   "metadata": {
    "deletable": false,
    "nbgrader": {
     "cell_type": "code",
     "checksum": "a38d5d4db707124b31a662fb4743b049",
     "grade": false,
     "grade_id": "cell-5c1aa4543e68487d",
     "locked": false,
     "schema_version": 3,
     "solution": true,
     "task": false
    }
   },
   "outputs": [],
   "source": [
    "# YOUR CODE HERE\n",
    "worse_hidden_weights= worse_weights[0].T[0]"
   ]
  },
  {
   "cell_type": "code",
   "execution_count": 36,
   "metadata": {},
   "outputs": [],
   "source": [
    "# move all weights to a dataframe for ease of analysis \n",
    "cols = [\"best_hidden_weights\", \"worse_hidden_weights\", \"initial_weight_values\"]\n",
    "data = [best_hidden_weights, worse_hidden_weights, initial_weight_values]\n",
    "df_maxnorm= pd.DataFrame(data=data).T\n",
    "df_maxnorm.columns = cols"
   ]
  },
  {
   "cell_type": "code",
   "execution_count": 37,
   "metadata": {},
   "outputs": [
    {
     "data": {
      "text/html": [
       "<div>\n",
       "<style scoped>\n",
       "    .dataframe tbody tr th:only-of-type {\n",
       "        vertical-align: middle;\n",
       "    }\n",
       "\n",
       "    .dataframe tbody tr th {\n",
       "        vertical-align: top;\n",
       "    }\n",
       "\n",
       "    .dataframe thead th {\n",
       "        text-align: right;\n",
       "    }\n",
       "</style>\n",
       "<table border=\"1\" class=\"dataframe\">\n",
       "  <thead>\n",
       "    <tr style=\"text-align: right;\">\n",
       "      <th></th>\n",
       "      <th>best_hidden_weights</th>\n",
       "      <th>worse_hidden_weights</th>\n",
       "      <th>initial_weight_values</th>\n",
       "    </tr>\n",
       "  </thead>\n",
       "  <tbody>\n",
       "    <tr>\n",
       "      <th>count</th>\n",
       "      <td>784.000000</td>\n",
       "      <td>784.000000</td>\n",
       "      <td>784.000000</td>\n",
       "    </tr>\n",
       "    <tr>\n",
       "      <th>mean</th>\n",
       "      <td>-0.008066</td>\n",
       "      <td>-0.004701</td>\n",
       "      <td>0.000399</td>\n",
       "    </tr>\n",
       "    <tr>\n",
       "      <th>std</th>\n",
       "      <td>0.045790</td>\n",
       "      <td>0.017238</td>\n",
       "      <td>0.049670</td>\n",
       "    </tr>\n",
       "    <tr>\n",
       "      <th>min</th>\n",
       "      <td>-0.107514</td>\n",
       "      <td>-0.092275</td>\n",
       "      <td>-0.087288</td>\n",
       "    </tr>\n",
       "    <tr>\n",
       "      <th>25%</th>\n",
       "      <td>-0.046743</td>\n",
       "      <td>-0.011986</td>\n",
       "      <td>-0.040161</td>\n",
       "    </tr>\n",
       "    <tr>\n",
       "      <th>50%</th>\n",
       "      <td>-0.010100</td>\n",
       "      <td>-0.004317</td>\n",
       "      <td>-0.000564</td>\n",
       "    </tr>\n",
       "    <tr>\n",
       "      <th>75%</th>\n",
       "      <td>0.026907</td>\n",
       "      <td>0.004676</td>\n",
       "      <td>0.043224</td>\n",
       "    </tr>\n",
       "    <tr>\n",
       "      <th>max</th>\n",
       "      <td>0.118377</td>\n",
       "      <td>0.051690</td>\n",
       "      <td>0.087155</td>\n",
       "    </tr>\n",
       "  </tbody>\n",
       "</table>\n",
       "</div>"
      ],
      "text/plain": [
       "       best_hidden_weights  worse_hidden_weights  initial_weight_values\n",
       "count           784.000000            784.000000             784.000000\n",
       "mean             -0.008066             -0.004701               0.000399\n",
       "std               0.045790              0.017238               0.049670\n",
       "min              -0.107514             -0.092275              -0.087288\n",
       "25%              -0.046743             -0.011986              -0.040161\n",
       "50%              -0.010100             -0.004317              -0.000564\n",
       "75%               0.026907              0.004676               0.043224\n",
       "max               0.118377              0.051690               0.087155"
      ]
     },
     "execution_count": 37,
     "metadata": {},
     "output_type": "execute_result"
    }
   ],
   "source": [
    "df_maxnorm.describe()"
   ]
  },
  {
   "cell_type": "code",
   "execution_count": 38,
   "metadata": {},
   "outputs": [
    {
     "data": {
      "image/png": "[encoded data removed]",
      "text/plain": [
       "<Figure size 1440x864 with 4 Axes>"
      ]
     },
     "metadata": {
      "needs_background": "light"
     },
     "output_type": "display_data"
    }
   ],
   "source": [
    "# plot the distributions for each weight column \n",
    "df_maxnorm.hist(figsize=(20,12));"
   ]
  },
  {
   "cell_type": "markdown",
   "metadata": {},
   "source": [
    "## Observations \n",
    "\n",
    "Take a look at the statistical table and the plots. Then answer the following questions. \n",
    "\n",
    "**How do the hidden layer weights from the best performing model compare to the initial weight values?**"
   ]
  },
  {
   "cell_type": "markdown",
   "metadata": {
    "deletable": false,
    "nbgrader": {
     "cell_type": "markdown",
     "checksum": "f43fe1110cdcea8d1e4b432fe78d4e49",
     "grade": true,
     "grade_id": "cell-40a44d19694941b8",
     "locked": false,
     "points": 0,
     "schema_version": 3,
     "solution": true,
     "task": false
    }
   },
   "source": [
    "The hidden layer weights from the best performing model have more of a bimodal distribution as compared to the relatively uniform distribution of the initial weigh values."
   ]
  },
  {
   "cell_type": "markdown",
   "metadata": {},
   "source": [
    "**What was the effect of using the weight constraint value in MaxNorm in the best performing model?**"
   ]
  },
  {
   "cell_type": "markdown",
   "metadata": {
    "deletable": false,
    "nbgrader": {
     "cell_type": "markdown",
     "checksum": "b1c59c58a5abdbc0b509983821198dba",
     "grade": true,
     "grade_id": "cell-4f9e1e134124e512",
     "locked": false,
     "points": 0,
     "schema_version": 3,
     "solution": true,
     "task": false
    }
   },
   "source": [
    "The larger weight constraint value for the best performing model pushed the weights into a bimodal distribution with modal values on either size of zero."
   ]
  },
  {
   "cell_type": "markdown",
   "metadata": {},
   "source": [
    "**What was the effect of using the weight constraint value in MaxNorm in the worse performing model?**"
   ]
  },
  {
   "cell_type": "markdown",
   "metadata": {
    "deletable": false,
    "nbgrader": {
     "cell_type": "markdown",
     "checksum": "0062b4ddfad487c39633c37f4710b752",
     "grade": true,
     "grade_id": "cell-4c289ce70c34048a",
     "locked": false,
     "points": 0,
     "schema_version": 3,
     "solution": true,
     "task": false
    }
   },
   "source": [
    "The smaller weight constraint value for the worst performing model pushed the weights into a narrow normal distribution centred at zero."
   ]
  },
  {
   "cell_type": "markdown",
   "metadata": {},
   "source": [
    "**Given what you know about MaxNorm regularization, are you surprised by these results?**"
   ]
  },
  {
   "cell_type": "markdown",
   "metadata": {
    "deletable": false,
    "nbgrader": {
     "cell_type": "markdown",
     "checksum": "3c36931d3532a8cbcb4ea0c956378728",
     "grade": true,
     "grade_id": "cell-77366a912217da5d",
     "locked": false,
     "points": 0,
     "schema_version": 3,
     "solution": true,
     "task": false
    }
   },
   "source": [
    "Since the MaxNorm regularization limits the norm(length) of the weight vector, the results are not suprising."
   ]
  },
  {
   "cell_type": "markdown",
   "metadata": {},
   "source": [
    "-----\n",
    "# Experiment 3: Identify the relationship between model performance and Dropout\n",
    "\n",
    "\n",
    "![](https://miro.medium.com/max/981/1*EinUlWw1n8vbcLyT0zx4gw.png)\n",
    "\n",
    "In the 3rd and final experiment, we will use gridsearch to see how model performance is affect by varying the value of the the dropout probability. \n",
    "\n",
    "Recall from lecture that dropout tends to perform best when used with weight constraint. Since this is the case, we will gridsearch both dropout probability and the weight constraint for MaxNorm. \n",
    "\n",
    "If interested, feel free to read through the original publication on [**Drop Out**](https://jmlr.org/papers/volume15/srivastava14a.old/srivastava14a.pdf). \n",
    "\n",
    "**Key Take aways:** \n",
    "\n",
    "1. During training, dropout will probabilistically \"turn off\" some neurons in the layer that dropout is implemented in. \n",
    "2. During inference (ie. making predictions on the test set) all neurons are used (i.e. no dropout is applied).\n",
    "3. Dropout works best when used with MaxNorm\n"
   ]
  },
  {
   "cell_type": "code",
   "execution_count": 39,
   "metadata": {},
   "outputs": [
    {
     "data": {
      "text/plain": [
       "{'maxnorm_wc': [0.5, 1.0, 1.5, 2.0, 2.5, 3.0, 3.5, 4.0, 4.5, 5.0],\n",
       " 'dropout_prob': [0.0,\n",
       "  0.09999999999999999,\n",
       "  0.19999999999999998,\n",
       "  0.3,\n",
       "  0.39999999999999997,\n",
       "  0.49999999999999994,\n",
       "  0.6],\n",
       " 'epochs': [1]}"
      ]
     },
     "execution_count": 39,
     "metadata": {},
     "output_type": "execute_result"
    }
   ],
   "source": [
    "# build out our hyperparameter dictionary \n",
    "hyper_parameters = {\n",
    "    # for the sake of runtime, let's vary maxnorm_wc between 0.5 and 5.0\n",
    "    \"maxnorm_wc\": np.linspace(0.5, 5, num=10).tolist(),\n",
    "    # take note that l1_reg_penalty values are in powers of 10 \n",
    "    \"dropout_prob\": np.linspace(0.0, 0.6, num=7).tolist(), \n",
    "    \"epochs\": [1] # default is 1, in order to change it we must provide value here because we can provide a parameter value for model.fit() directly when using gridsearch\n",
    "}\n",
    "\n",
    "hyper_parameters"
   ]
  },
  {
   "cell_type": "code",
   "execution_count": 40,
   "metadata": {},
   "outputs": [
    {
     "name": "stdout",
     "output_type": "stream",
     "text": [
      "Fitting 3 folds for each of 70 candidates, totalling 210 fits\n"
     ]
    },
    {
     "name": "stderr",
     "output_type": "stream",
     "text": [
      "/opt/anaconda3/envs/U4-S2-NN/lib/python3.7/site-packages/joblib/externals/loky/process_executor.py:691: UserWarning: A worker stopped while some jobs were given to the executor. This can be caused by a too short worker timeout or by a memory leak.\n",
      "  \"timeout or by a memory leak.\", UserWarning\n"
     ]
    },
    {
     "name": "stdout",
     "output_type": "stream",
     "text": [
      "maxnorm_wc = 4.5\n",
      "1875/1875 [==============================] - 6s 3ms/step - loss: 0.5874 - accuracy: 0.7907\n"
     ]
    }
   ],
   "source": [
    "start=time()\n",
    "# Create and run Grid Search\n",
    "grid = GridSearchCV(estimator=model, \n",
    "                    param_grid=hyper_parameters, \n",
    "                    n_jobs=-2, \n",
    "                    verbose=1, \n",
    "                    cv=3)\n",
    "\n",
    "grid_result = grid.fit(X_train, y_train)\n",
    "end=time()"
   ]
  },
  {
   "cell_type": "code",
   "execution_count": 41,
   "metadata": {},
   "outputs": [
    {
     "name": "stdout",
     "output_type": "stream",
     "text": [
      "Gridsearch runtime 9.55 mins\n"
     ]
    }
   ],
   "source": [
    "print(\"Gridsearch runtime {0:.3} mins\".format( (end-start)/60 ))"
   ]
  },
  {
   "cell_type": "code",
   "execution_count": 42,
   "metadata": {},
   "outputs": [
    {
     "data": {
      "text/plain": [
       "({'dropout_prob': 0.0, 'epochs': 1, 'maxnorm_wc': 4.5}, 0.8551833232243856)"
      ]
     },
     "execution_count": 42,
     "metadata": {},
     "output_type": "execute_result"
    }
   ],
   "source": [
    "grid_result.best_params_, grid_result.best_score_"
   ]
  },
  {
   "cell_type": "code",
   "execution_count": 43,
   "metadata": {},
   "outputs": [],
   "source": [
    "# use the mean accuracy from the CV splits for determining best model score \n",
    "means = grid.cv_results_['mean_test_score']\n",
    "stds = grid.cv_results_['std_test_score']\n",
    "params = grid.cv_results_['params']\n",
    "\n",
    "# move l2 penalty values outside of dictionary and into a list\n",
    "param_values = [dic[\"dropout_prob\"] for dic in params]"
   ]
  },
  {
   "cell_type": "markdown",
   "metadata": {},
   "source": [
    "Since there are 2 indepdent variables this time around (dropout_prob and maxnorm_wc) which affect the validation accuracy, it's best to use a different plot. A heat map will work. "
   ]
  },
  {
   "cell_type": "code",
   "execution_count": 44,
   "metadata": {},
   "outputs": [],
   "source": [
    "dropout_prob_list = [  dic[\"dropout_prob\"]  for dic in params]\n",
    "maxnorm_wc_list = [  dic[\"maxnorm_wc\"]  for dic in params]\n",
    "data = [means, dropout_prob_list, maxnorm_wc_list ]\n",
    "\n",
    "cols = [\"val_acc\", \"dropout_prob\", \"maxnorm_wc\"]\n",
    "df_exp3 =pd.DataFrame(data=data).T\n",
    "df_exp3.columns = cols\n",
    "df_exp3.dropout_prob = df_exp3.dropout_prob.round(2)\n",
    "\n",
    "# pivot dataframe in preperation for heat map\n",
    "df_exp3 = df_exp3.pivot(\"maxnorm_wc\", \"dropout_prob\", \"val_acc\")"
   ]
  },
  {
   "cell_type": "code",
   "execution_count": 45,
   "metadata": {},
   "outputs": [
    {
     "data": {
      "image/png": "[encoded data removed]",
      "text/plain": [
       "<Figure size 1296x576 with 2 Axes>"
      ]
     },
     "metadata": {
      "needs_background": "light"
     },
     "output_type": "display_data"
    }
   ],
   "source": [
    "# Draw a heatmap with the val_acc values in each cell\n",
    "f, ax = plt.subplots(figsize=(18, 8))\n",
    "sns.heatmap(df_exp3, annot=True,  linewidths=.5, ax=ax);"
   ]
  },
  {
   "cell_type": "markdown",
   "metadata": {},
   "source": [
    "### Observations \n",
    "\n",
    "We can see the dropout probabilities in the horizontal axis and the maxnorm weight constraint values in the virtical axis. The values in the cells are the validation accuracy that corresponds to a pair of regularization values.\n",
    "\n",
    "Take a look at the heat map and answer the following questions. Note that depending on which model you used (the simple or complex one) your answers might be different from that of others. "
   ]
  },
  {
   "cell_type": "markdown",
   "metadata": {},
   "source": [
    "**What range of dropout probability values tend to produce the highest validation accuracy?**"
   ]
  },
  {
   "cell_type": "markdown",
   "metadata": {
    "deletable": false,
    "nbgrader": {
     "cell_type": "markdown",
     "checksum": "0f0013d4e07104a03b4d51664a308f53",
     "grade": true,
     "grade_id": "cell-4e0cb7a9240b1531",
     "locked": false,
     "points": 0,
     "schema_version": 3,
     "solution": true,
     "task": false
    }
   },
   "source": [
    "A dropout probability range of 0.0-0.1 tends to produce the highest validation accuracy."
   ]
  },
  {
   "cell_type": "markdown",
   "metadata": {},
   "source": [
    "**What range of maxnorm weight constraints tend to produce the highest validation accuracy?**"
   ]
  },
  {
   "cell_type": "markdown",
   "metadata": {
    "deletable": false,
    "nbgrader": {
     "cell_type": "markdown",
     "checksum": "9fd88f0bb870a910b925d60b38d17694",
     "grade": true,
     "grade_id": "cell-99539755d7d328f7",
     "locked": false,
     "points": 0,
     "schema_version": 3,
     "solution": true,
     "task": false
    }
   },
   "source": [
    "A maxnorm weight constraint range of 4.0-5.0 tends to produce the highest validation accuracy"
   ]
  },
  {
   "cell_type": "markdown",
   "metadata": {},
   "source": [
    "**When taken together, what pair of dropout probability and maxnorm weight constraints tend to produce the highest validation accuracy?**"
   ]
  },
  {
   "cell_type": "markdown",
   "metadata": {
    "deletable": false,
    "nbgrader": {
     "cell_type": "markdown",
     "checksum": "fee1e09ed8f6d354bd7b6e2986c2b811",
     "grade": true,
     "grade_id": "cell-5e19a56b4a2d975d",
     "locked": false,
     "points": 0,
     "schema_version": 3,
     "solution": true,
     "task": false
    }
   },
   "source": [
    "A dropout probability of 0.0 and maxnorm weight constraint of 4.5 produced the highest validation accuracy"
   ]
  },
  {
   "cell_type": "markdown",
   "metadata": {},
   "source": [
    "**Do you think that using dropout was helpful in increasing model performance?**"
   ]
  },
  {
   "cell_type": "markdown",
   "metadata": {
    "deletable": false,
    "nbgrader": {
     "cell_type": "markdown",
     "checksum": "de9c1bcff3c5eb6266cc80632d0956f0",
     "grade": true,
     "grade_id": "cell-d2a2f7b284c801dc",
     "locked": false,
     "points": 0,
     "schema_version": 3,
     "solution": true,
     "task": false
    }
   },
   "source": [
    "No - a dropout probability of 0.0(i.e. no dropouts) produced the best performing models."
   ]
  },
  {
   "cell_type": "markdown",
   "metadata": {},
   "source": [
    "_____\n",
    "\n",
    "### Experiment 4: Train, Save, and Load a Keras model\n",
    "\n",
    "Let's get some practice with how to save and load trained Keras models \n",
    "\n",
    "For this experiment, review the section on Saving and Loading models from the guided project in order to help you to: \n",
    "\n",
    "- Build a model of your choosing\n",
    "- Gridsearch the model with a method of your choosing\n",
    "- Save the trained model to file\n",
    "- Load the trained model from file\n",
    "- Just as we did in the Guided Project, evalute the loaded model using a test set and make sure the results of the loaded model match that of the saved model "
   ]
  },
  {
   "cell_type": "code",
   "execution_count": 46,
   "metadata": {},
   "outputs": [
    {
     "name": "stdout",
     "output_type": "stream",
     "text": [
      "313/313 [==============================] - 0s 848us/step - loss: 0.4142 - accuracy: 0.8520\n"
     ]
    },
    {
     "data": {
      "text/plain": [
       "[0.41418251395225525, 0.8519999980926514]"
      ]
     },
     "execution_count": 46,
     "metadata": {},
     "output_type": "execute_result"
    }
   ],
   "source": [
    "model = grid_result.best_estimator_.model\n",
    "\n",
    "model.evaluate(X_test, y_test)"
   ]
  },
  {
   "cell_type": "code",
   "execution_count": 47,
   "metadata": {},
   "outputs": [
    {
     "name": "stdout",
     "output_type": "stream",
     "text": [
      "INFO:tensorflow:Assets written to: saved_model/my_model/assets\n"
     ]
    }
   ],
   "source": [
    "# Save the entire model as a SavedModel.\n",
    "!mkdir -p saved_model\n",
    "model.save('saved_model/my_model') "
   ]
  },
  {
   "cell_type": "code",
   "execution_count": 48,
   "metadata": {},
   "outputs": [
    {
     "name": "stdout",
     "output_type": "stream",
     "text": [
      "313/313 [==============================] - 0s 780us/step - loss: 0.4142 - accuracy: 0.8520\n"
     ]
    },
    {
     "data": {
      "text/plain": [
       "[0.41418251395225525, 0.8519999980926514]"
      ]
     },
     "execution_count": 48,
     "metadata": {},
     "output_type": "execute_result"
    }
   ],
   "source": [
    "smodel = tf.keras.models.load_model('saved_model/my_model')\n",
    "\n",
    "# Check its architecture\n",
    "smodel.evaluate(X_test, y_test)"
   ]
  }
 ],
 "metadata": {
  "colab": {
   "collapsed_sections": [],
   "name": "LS_DS_434_Deploy_Assignment.ipynb",
   "provenance": []
  },
  "kernelspec": {
   "display_name": "U4-S2-NN (Python3)",
   "language": "python",
   "name": "u4-s2-nn"
  },
  "language_info": {
   "codemirror_mode": {
    "name": "ipython",
    "version": 3
   },
   "file_extension": ".py",
   "mimetype": "text/x-python",
   "name": "python",
   "nbconvert_exporter": "python",
   "pygments_lexer": "ipython3",
   "version": "3.7.0"
  },
  "nteract": {
   "version": "0.22.4"
  }
 },
 "nbformat": 4,
 "nbformat_minor": 4
}
